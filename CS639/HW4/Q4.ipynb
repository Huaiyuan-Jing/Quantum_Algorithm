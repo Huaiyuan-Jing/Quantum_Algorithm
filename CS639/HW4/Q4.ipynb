{
 "cells": [
  {
   "cell_type": "markdown",
   "id": "fc1b1b18",
   "metadata": {},
   "source": [
    "# Q4: Gridsynth [2 Points]\n",
    "Gridsynth is the state-of-the-art (ancilla-free, deterministic) synthesis algorithm to approximate Rz gates with Clifford + T. Gridsynth leverages insights from number theory to achieve optimal or near-optimal approximations for any desired error threshold $\\epsilon$. By optimal, we mean the saturation of the T count lower bound given an $\\epsilon$, which you will explore in Part A."
   ]
  },
  {
   "cell_type": "code",
   "execution_count": 1,
   "id": "196aea62",
   "metadata": {},
   "outputs": [
    {
     "name": "stdout",
     "output_type": "stream",
     "text": [
      "Defaulting to user installation because normal site-packages is not writeable\n",
      "Collecting pygridsynth\n",
      "  Downloading pygridsynth-1.1.0-py3-none-any.whl (47 kB)\n",
      "\u001b[2K     \u001b[90m━━━━━━━━━━━━━━━━━━━━━━━━━━━━━━━━━━━━━━━\u001b[0m \u001b[32m47.7/47.7 KB\u001b[0m \u001b[31m161.1 kB/s\u001b[0m eta \u001b[36m0:00:00\u001b[0ma \u001b[36m0:00:01\u001b[0m\n",
      "\u001b[?25hRequirement already satisfied: numpy in /home/hyjing/.local/lib/python3.10/site-packages (2.2.4)\n",
      "Requirement already satisfied: scipy in /home/hyjing/.local/lib/python3.10/site-packages (1.14.1)\n",
      "Requirement already satisfied: matplotlib in /home/hyjing/.local/lib/python3.10/site-packages (3.10.0)\n",
      "Requirement already satisfied: mpmath in /home/hyjing/.local/lib/python3.10/site-packages (from pygridsynth) (1.3.0)\n",
      "Requirement already satisfied: contourpy>=1.0.1 in /home/hyjing/.local/lib/python3.10/site-packages (from matplotlib) (1.3.1)\n",
      "Requirement already satisfied: kiwisolver>=1.3.1 in /home/hyjing/.local/lib/python3.10/site-packages (from matplotlib) (1.4.8)\n",
      "Requirement already satisfied: pyparsing>=2.3.1 in /home/hyjing/.local/lib/python3.10/site-packages (from matplotlib) (3.2.0)\n",
      "Requirement already satisfied: fonttools>=4.22.0 in /home/hyjing/.local/lib/python3.10/site-packages (from matplotlib) (4.55.3)\n",
      "Requirement already satisfied: cycler>=0.10 in /home/hyjing/.local/lib/python3.10/site-packages (from matplotlib) (0.12.1)\n",
      "Requirement already satisfied: pillow>=8 in /home/hyjing/.local/lib/python3.10/site-packages (from matplotlib) (9.5.0)\n",
      "Requirement already satisfied: packaging>=20.0 in /home/hyjing/.local/lib/python3.10/site-packages (from matplotlib) (24.2)\n",
      "Requirement already satisfied: python-dateutil>=2.7 in /home/hyjing/.local/lib/python3.10/site-packages (from matplotlib) (2.9.0.post0)\n",
      "Requirement already satisfied: six>=1.5 in /usr/lib/python3/dist-packages (from python-dateutil>=2.7->matplotlib) (1.16.0)\n",
      "Installing collected packages: pygridsynth\n",
      "Successfully installed pygridsynth-1.1.0\n"
     ]
    }
   ],
   "source": [
    "!pip install pygridsynth numpy scipy matplotlib"
   ]
  },
  {
   "cell_type": "markdown",
   "id": "c07906c9",
   "metadata": {},
   "source": [
    "## Part A\n",
    "To approximate an Rz to error $\\epsilon$ (gridsynth uses the operator norm as the error metric, which is very close to the distance metric we used in Q3), we need at least $a\\log_2 \\frac{1}{\\epsilon}+b$ T gates in the typical case, where $a$ and $b$ are two real numbers. In this part, you will use a Python implementation of gridsynth to synthesize random Rz gates at different $\\epsilon$ to fit $a$ and $b$."
   ]
  },
  {
   "cell_type": "code",
   "execution_count": 2,
   "id": "eee234a9",
   "metadata": {},
   "outputs": [],
   "source": [
    "from pygridsynth import gridsynth_gates\n",
    "import numpy as np\n",
    "\n",
    "epsilons = [10**(-i) for i in range(2, 8)]\n",
    "num_angles = 100\n",
    "angles = np.random.default_rng(42).uniform(0, 2 * np.pi, size=num_angles)\n",
    "t_counts = ... # should be of shape num_epsilons * num_angles\n",
    "# todo: fill in the T counts for all epsilon and angle pairs"
   ]
  },
  {
   "cell_type": "code",
   "execution_count": null,
   "id": "2ef366ec",
   "metadata": {},
   "outputs": [],
   "source": [
    "import matplotlib.pyplot as plt\n",
    "from scipy.optimize import curve_fit\n",
    "\n",
    "def fitting_func(x, a, b):\n",
    "    # todo\n",
    "\n",
    "# here we fit all data points (instead of the worst points / \"lower bound\") for a more accurate estimation in Part B\n",
    "popt, pcov = curve_fit(fitting_func, np.repeat(epsilons, num_angles), np.array(t_counts).reshape(-1), p0=(1, 0))\n",
    "print(f\"a = {popt[0]}  b = {popt[1]}\")\n",
    "plt.scatter(..., s=1, label=\"data\", c=\"tab:blue\") # todo: scatter plot of T count data points\n",
    "plt.semilogx(..., label=\"fit\", color=\"tab:orange\") # todo: plot the fitted function\n",
    "plt.xlabel(\"Epsilon\")\n",
    "plt.ylabel(\"T Count\")\n",
    "plt.legend()"
   ]
  },
  {
   "cell_type": "markdown",
   "id": "269f87fa",
   "metadata": {},
   "source": [
    "## Part B Overhead of FTQC\n",
    "Now let's estimate the number of T gates needed for executing a QAOA circuit fault-tolerantly. Since the only source of non-Cliffordness in QAOA is the axial rotations, we first count the number of $R_z$ ($R_x = HR_zH$) gates we need to synthesize in a 10-layer QAOA solving a MaxCut problem with a 100-node 3-regular graph. Then we multiply the number of $R_z$ gates by the rough number of $T$ gates we estimated in Part A for a given $\\epsilon$.\n",
    "\n",
    "> Hint: In a 3-regular graph, each node has 3 edges. How many edges are in the graph? How many Pauli ZZ terms are in the Hamiltonian? How many $R_z$ gates are needed for each ZZ term?\n",
    "\n",
    "This is a hand-derivation math problem, but feel free to get inspirations or verify your findings by coding."
   ]
  },
  {
   "cell_type": "markdown",
   "id": "ca2f33ad",
   "metadata": {},
   "source": [
    "#### (1) What is the number of $R_z$ gates we need to synthesize in a 10-layer QAOA solving a MaxCut problem with a 100-node 3-regular graph? Remember the $R_x$ gates also need to be transpiled to $R_z$ gates to synthesize."
   ]
  },
  {
   "cell_type": "markdown",
   "id": "decd3137",
   "metadata": {},
   "source": [
    "**Solution:**\n",
    "\n",
    "Todo"
   ]
  },
  {
   "cell_type": "markdown",
   "id": "9dec8820",
   "metadata": {},
   "source": [
    "#### (2) To set the synthesis error threshold $\\epsilon$, we use a very naive approach here that simply divides the circuit-level error threshold by the number of gates to be synthesized. For a circuit-level error threshold of 0.01, what is the $\\epsilon$ for each individual $R_z$ gate? What is the corresponding T gate count needed in total?\n",
    "\n",
    "> Remark: In error correction codes, (logical) T gates are typically hundreds of times more costly to implement compared to physical gates. This should give you an idea of the overhead of FTQC."
   ]
  },
  {
   "cell_type": "markdown",
   "id": "9ac1aeda",
   "metadata": {},
   "source": [
    "**Solution:**\n",
    "\n",
    "Todo"
   ]
  }
 ],
 "metadata": {
  "kernelspec": {
   "display_name": "Python 3",
   "language": "python",
   "name": "python3"
  },
  "language_info": {
   "codemirror_mode": {
    "name": "ipython",
    "version": 3
   },
   "file_extension": ".py",
   "mimetype": "text/x-python",
   "name": "python",
   "nbconvert_exporter": "python",
   "pygments_lexer": "ipython3",
   "version": "3.10.12"
  }
 },
 "nbformat": 4,
 "nbformat_minor": 5
}

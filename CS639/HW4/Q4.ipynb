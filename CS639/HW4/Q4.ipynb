{
 "cells": [
  {
   "cell_type": "markdown",
   "id": "fc1b1b18",
   "metadata": {},
   "source": [
    "# Q4: Gridsynth [2 Points]\n",
    "Gridsynth is the state-of-the-art (ancilla-free, deterministic) synthesis algorithm to approximate Rz gates with Clifford + T. Gridsynth leverages insights from number theory to achieve optimal or near-optimal approximations for any desired error threshold $\\epsilon$. By optimal, we mean the saturation of the T count lower bound given an $\\epsilon$, which you will explore in Part A."
   ]
  },
  {
   "cell_type": "code",
   "execution_count": null,
   "id": "196aea62",
   "metadata": {},
   "outputs": [],
   "source": [
    "!pip install pygridsynth numpy scipy matplotlib"
   ]
  },
  {
   "cell_type": "markdown",
   "id": "c07906c9",
   "metadata": {},
   "source": [
    "## Part A\n",
    "To approximate an Rz to error $\\epsilon$ (gridsynth uses the operator norm as the error metric, which is very close to the distance metric we used in Q3), we need at least $a\\log_2 \\frac{1}{\\epsilon}+b$ T gates in the typical case, where $a$ and $b$ are two real numbers. In this part, you will use a Python implementation of gridsynth to synthesize random Rz gates at different $\\epsilon$ to fit $a$ and $b$."
   ]
  },
  {
   "cell_type": "code",
   "execution_count": null,
   "id": "eee234a9",
   "metadata": {},
   "outputs": [],
   "source": [
    "from pygridsynth import gridsynth_gates\n",
    "import numpy as np\n",
    "\n",
    "epsilons = [10**(-i) for i in range(2, 8)]\n",
    "num_angles = 100\n",
    "angles = np.random.default_rng(42).uniform(0, 2 * np.pi, size=num_angles)\n",
    "t_counts = ... # should be of shape num_epsilons * num_angles\n",
    "# todo: fill in the T counts for all epsilon and angle pairs"
   ]
  },
  {
   "cell_type": "code",
   "execution_count": null,
   "id": "2ef366ec",
   "metadata": {},
   "outputs": [],
   "source": [
    "import matplotlib.pyplot as plt\n",
    "from scipy.optimize import curve_fit\n",
    "\n",
    "def fitting_func(x, a, b):\n",
    "    # todo\n",
    "\n",
    "# here we fit all data points (instead of the worst points / \"lower bound\") for a more accurate estimation in Part B\n",
    "popt, pcov = curve_fit(fitting_func, np.repeat(epsilons, num_angles), np.array(t_counts).reshape(-1), p0=(1, 0))\n",
    "print(f\"a = {popt[0]}  b = {popt[1]}\")\n",
    "plt.scatter(..., s=1, label=\"data\", c=\"tab:blue\") # todo: scatter plot of T count data points\n",
    "plt.semilogx(..., label=\"fit\", color=\"tab:orange\") # todo: plot the fitted function\n",
    "plt.xlabel(\"Epsilon\")\n",
    "plt.ylabel(\"T Count\")\n",
    "plt.legend()"
   ]
  },
  {
   "cell_type": "markdown",
   "id": "269f87fa",
   "metadata": {},
   "source": [
    "## Part B Overhead of FTQC\n",
    "Now let's estimate the number of T gates needed for executing a QAOA circuit fault-tolerantly. Since the only source of non-Cliffordness in QAOA is the axial rotations, we first count the number of $R_z$ ($R_x = HR_zH$) gates we need to synthesize in a 10-layer QAOA solving a MaxCut problem with a 100-node 3-regular graph. Then we multiply the number of $R_z$ gates by the rough number of $T$ gates we estimated in Part A for a given $\\epsilon$.\n",
    "\n",
    "> Hint: In a 3-regular graph, each node has 3 edges. How many edges are in the graph? How many Pauli ZZ terms are in the Hamiltonian? How many $R_z$ gates are needed for each ZZ term?\n",
    "\n",
    "This is a hand-derivation math problem, but feel free to get inspirations or verify your findings by coding."
   ]
  },
  {
   "cell_type": "markdown",
   "id": "ca2f33ad",
   "metadata": {},
   "source": [
    "#### (1) What is the number of $R_z$ gates we need to synthesize in a 10-layer QAOA solving a MaxCut problem with a 100-node 3-regular graph? Remember the $R_x$ gates also need to be transpiled to $R_z$ gates to synthesize."
   ]
  },
  {
   "cell_type": "markdown",
   "id": "decd3137",
   "metadata": {},
   "source": [
    "**Solution:**\n",
    "\n",
    "Todo"
   ]
  },
  {
   "cell_type": "markdown",
   "id": "9dec8820",
   "metadata": {},
   "source": [
    "#### (2) To set the synthesis error threshold $\\epsilon$, we use a very naive approach here that simply divides the circuit-level error threshold by the number of gates to be synthesized. For a circuit-level error threshold of 0.01, what is the $\\epsilon$ for each individual $R_z$ gate? What is the corresponding T gate count needed in total?\n",
    "\n",
    "> Remark: In error correction codes, (logical) T gates are typically hundreds of times more costly to implement compared to physical gates. This should give you an idea of the overhead of FTQC."
   ]
  },
  {
   "cell_type": "markdown",
   "id": "9ac1aeda",
   "metadata": {},
   "source": [
    "**Solution:**\n",
    "\n",
    "Todo"
   ]
  }
 ],
 "metadata": {
  "language_info": {
   "name": "python"
  }
 },
 "nbformat": 4,
 "nbformat_minor": 5
}

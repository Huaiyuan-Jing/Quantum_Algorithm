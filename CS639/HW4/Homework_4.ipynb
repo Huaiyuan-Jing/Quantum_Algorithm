{
  "cells": [
    {
      "cell_type": "code",
      "execution_count": null,
      "metadata": {
        "colab": {
          "base_uri": "https://localhost:8080/"
        },
        "collapsed": true,
        "id": "n7tvCX341AxH",
        "outputId": "2880a512-e187-40aa-f53e-ebd7f9be05c7"
      },
      "outputs": [
        {
          "name": "stdout",
          "output_type": "stream",
          "text": [
            "Collecting git+https://github.com/jpmorganchase/QOKit.git\n",
            "  Cloning https://github.com/jpmorganchase/QOKit.git to /tmp/pip-req-build-c7cglvs9\n",
            "  Running command git clone --filter=blob:none --quiet https://github.com/jpmorganchase/QOKit.git /tmp/pip-req-build-c7cglvs9\n",
            "  Resolved https://github.com/jpmorganchase/QOKit.git to commit c0847d291d7a9fd5ffa4b979f0418d215037a8f8\n",
            "  Installing build dependencies ... \u001b[?25ldone\n",
            "\u001b[?25h  Getting requirements to build wheel ... \u001b[?25ldone\n",
            "\u001b[?25h  Preparing metadata (pyproject.toml) ... \u001b[?25ldone\n",
            "\u001b[?25hRequirement already satisfied: networkx==3.0.0 in /home/hyjing/ajz7t-ucwpu/Quantum_Algorithm/.venv/lib/python3.10/site-packages (from qokit==0.1.4) (3.0)\n",
            "Requirement already satisfied: importlib-resources>=5.2.2 in /home/hyjing/ajz7t-ucwpu/Quantum_Algorithm/.venv/lib/python3.10/site-packages (from qokit==0.1.4) (6.5.2)\n",
            "Requirement already satisfied: numpy==1.26.4 in /home/hyjing/ajz7t-ucwpu/Quantum_Algorithm/.venv/lib/python3.10/site-packages (from qokit==0.1.4) (1.26.4)\n",
            "Requirement already satisfied: numba<1,>=0.56.4 in /home/hyjing/ajz7t-ucwpu/Quantum_Algorithm/.venv/lib/python3.10/site-packages (from qokit==0.1.4) (0.61.0)\n",
            "Requirement already satisfied: pandas>=2.0.1 in /home/hyjing/ajz7t-ucwpu/Quantum_Algorithm/.venv/lib/python3.10/site-packages (from qokit==0.1.4) (2.2.3)\n",
            "Requirement already satisfied: pathos>=0.3.0 in /home/hyjing/ajz7t-ucwpu/Quantum_Algorithm/.venv/lib/python3.10/site-packages (from qokit==0.1.4) (0.3.3)\n",
            "Requirement already satisfied: pytest>=7.3.1 in /home/hyjing/ajz7t-ucwpu/Quantum_Algorithm/.venv/lib/python3.10/site-packages (from qokit==0.1.4) (8.3.5)\n",
            "Requirement already satisfied: pytket==1.37.0 in /home/hyjing/ajz7t-ucwpu/Quantum_Algorithm/.venv/lib/python3.10/site-packages (from qokit==0.1.4) (1.37.0)\n",
            "Requirement already satisfied: docplex==2.28.240 in /home/hyjing/ajz7t-ucwpu/Quantum_Algorithm/.venv/lib/python3.10/site-packages (from qokit==0.1.4) (2.28.240)\n",
            "Requirement already satisfied: yfinance==0.2.54 in /home/hyjing/ajz7t-ucwpu/Quantum_Algorithm/.venv/lib/python3.10/site-packages (from qokit==0.1.4) (0.2.54)\n",
            "Requirement already satisfied: pytket-qiskit==0.62 in /home/hyjing/ajz7t-ucwpu/Quantum_Algorithm/.venv/lib/python3.10/site-packages (from qokit==0.1.4) (0.62.0)\n",
            "Requirement already satisfied: pytket-quantinuum==0.42.0 in /home/hyjing/ajz7t-ucwpu/Quantum_Algorithm/.venv/lib/python3.10/site-packages (from qokit==0.1.4) (0.42.0)\n",
            "Requirement already satisfied: qiskit==1.3.1 in /home/hyjing/ajz7t-ucwpu/Quantum_Algorithm/.venv/lib/python3.10/site-packages (from qokit==0.1.4) (1.3.1)\n",
            "Requirement already satisfied: scipy>=1.10.1 in /home/hyjing/ajz7t-ucwpu/Quantum_Algorithm/.venv/lib/python3.10/site-packages (from qokit==0.1.4) (1.15.2)\n",
            "Requirement already satisfied: seaborn>=0.12.2 in /home/hyjing/ajz7t-ucwpu/Quantum_Algorithm/.venv/lib/python3.10/site-packages (from qokit==0.1.4) (0.13.2)\n",
            "Requirement already satisfied: sympy>=1.12 in /home/hyjing/ajz7t-ucwpu/Quantum_Algorithm/.venv/lib/python3.10/site-packages (from qokit==0.1.4) (1.13.3)\n",
            "Requirement already satisfied: tqdm>=4.65.0 in /home/hyjing/ajz7t-ucwpu/Quantum_Algorithm/.venv/lib/python3.10/site-packages (from qokit==0.1.4) (4.67.1)\n",
            "Requirement already satisfied: six in /home/hyjing/ajz7t-ucwpu/Quantum_Algorithm/.venv/lib/python3.10/site-packages (from docplex==2.28.240->qokit==0.1.4) (1.17.0)\n",
            "Requirement already satisfied: lark>=1.1.9 in /home/hyjing/ajz7t-ucwpu/Quantum_Algorithm/.venv/lib/python3.10/site-packages (from pytket==1.37.0->qokit==0.1.4) (1.2.2)\n",
            "Requirement already satisfied: graphviz>=0.20.3 in /home/hyjing/ajz7t-ucwpu/Quantum_Algorithm/.venv/lib/python3.10/site-packages (from pytket==1.37.0->qokit==0.1.4) (0.20.3)\n",
            "Requirement already satisfied: jinja2>=3.1.4 in /home/hyjing/ajz7t-ucwpu/Quantum_Algorithm/.venv/lib/python3.10/site-packages (from pytket==1.37.0->qokit==0.1.4) (3.1.6)\n",
            "Requirement already satisfied: typing-extensions>=4.12.2 in /home/hyjing/ajz7t-ucwpu/Quantum_Algorithm/.venv/lib/python3.10/site-packages (from pytket==1.37.0->qokit==0.1.4) (4.13.1)\n",
            "Requirement already satisfied: qwasm>=1.0.1 in /home/hyjing/ajz7t-ucwpu/Quantum_Algorithm/.venv/lib/python3.10/site-packages (from pytket==1.37.0->qokit==0.1.4) (1.0.1)\n",
            "Requirement already satisfied: qiskit-ibm-runtime>=0.30.0 in /home/hyjing/ajz7t-ucwpu/Quantum_Algorithm/.venv/lib/python3.10/site-packages (from pytket-qiskit==0.62->qokit==0.1.4) (0.35.0)\n",
            "Requirement already satisfied: qiskit-aer>=0.15.1 in /home/hyjing/ajz7t-ucwpu/Quantum_Algorithm/.venv/lib/python3.10/site-packages (from pytket-qiskit==0.62->qokit==0.1.4) (0.17.0)\n",
            "Requirement already satisfied: pytket-qir<0.18,>=0.17 in /home/hyjing/ajz7t-ucwpu/Quantum_Algorithm/.venv/lib/python3.10/site-packages (from pytket-quantinuum==0.42.0->qokit==0.1.4) (0.17.0)\n",
            "Requirement already satisfied: requests>=2.32.2 in /home/hyjing/ajz7t-ucwpu/Quantum_Algorithm/.venv/lib/python3.10/site-packages (from pytket-quantinuum==0.42.0->qokit==0.1.4) (2.32.3)\n",
            "Requirement already satisfied: types-requests in /home/hyjing/ajz7t-ucwpu/Quantum_Algorithm/.venv/lib/python3.10/site-packages (from pytket-quantinuum==0.42.0->qokit==0.1.4) (2.32.0.20250328)\n",
            "Requirement already satisfied: websockets>=13.1 in /home/hyjing/ajz7t-ucwpu/Quantum_Algorithm/.venv/lib/python3.10/site-packages (from pytket-quantinuum==0.42.0->qokit==0.1.4) (15.0.1)\n",
            "Requirement already satisfied: nest_asyncio>=1.2 in /home/hyjing/ajz7t-ucwpu/Quantum_Algorithm/.venv/lib/python3.10/site-packages (from pytket-quantinuum==0.42.0->qokit==0.1.4) (1.6.0)\n",
            "Requirement already satisfied: pyjwt~=2.4 in /home/hyjing/ajz7t-ucwpu/Quantum_Algorithm/.venv/lib/python3.10/site-packages (from pytket-quantinuum==0.42.0->qokit==0.1.4) (2.10.1)\n",
            "Requirement already satisfied: msal~=1.18 in /home/hyjing/ajz7t-ucwpu/Quantum_Algorithm/.venv/lib/python3.10/site-packages (from pytket-quantinuum==0.42.0->qokit==0.1.4) (1.32.0)\n",
            "Requirement already satisfied: rustworkx>=0.15.0 in /home/hyjing/ajz7t-ucwpu/Quantum_Algorithm/.venv/lib/python3.10/site-packages (from qiskit==1.3.1->qokit==0.1.4) (0.16.0)\n",
            "Requirement already satisfied: dill>=0.3 in /home/hyjing/ajz7t-ucwpu/Quantum_Algorithm/.venv/lib/python3.10/site-packages (from qiskit==1.3.1->qokit==0.1.4) (0.3.9)\n",
            "Requirement already satisfied: python-dateutil>=2.8.0 in /home/hyjing/ajz7t-ucwpu/Quantum_Algorithm/.venv/lib/python3.10/site-packages (from qiskit==1.3.1->qokit==0.1.4) (2.9.0.post0)\n",
            "Requirement already satisfied: stevedore>=3.0.0 in /home/hyjing/ajz7t-ucwpu/Quantum_Algorithm/.venv/lib/python3.10/site-packages (from qiskit==1.3.1->qokit==0.1.4) (5.4.1)\n",
            "Requirement already satisfied: symengine<0.14,>=0.11 in /home/hyjing/ajz7t-ucwpu/Quantum_Algorithm/.venv/lib/python3.10/site-packages (from qiskit==1.3.1->qokit==0.1.4) (0.13.0)\n",
            "Requirement already satisfied: multitasking>=0.0.7 in /home/hyjing/ajz7t-ucwpu/Quantum_Algorithm/.venv/lib/python3.10/site-packages (from yfinance==0.2.54->qokit==0.1.4) (0.0.11)\n",
            "Requirement already satisfied: platformdirs>=2.0.0 in /home/hyjing/ajz7t-ucwpu/Quantum_Algorithm/.venv/lib/python3.10/site-packages (from yfinance==0.2.54->qokit==0.1.4) (4.3.6)\n",
            "Requirement already satisfied: pytz>=2022.5 in /home/hyjing/ajz7t-ucwpu/Quantum_Algorithm/.venv/lib/python3.10/site-packages (from yfinance==0.2.54->qokit==0.1.4) (2025.2)\n",
            "Requirement already satisfied: frozendict>=2.3.4 in /home/hyjing/ajz7t-ucwpu/Quantum_Algorithm/.venv/lib/python3.10/site-packages (from yfinance==0.2.54->qokit==0.1.4) (2.4.6)\n",
            "Requirement already satisfied: peewee>=3.16.2 in /home/hyjing/ajz7t-ucwpu/Quantum_Algorithm/.venv/lib/python3.10/site-packages (from yfinance==0.2.54->qokit==0.1.4) (3.17.9)\n",
            "Requirement already satisfied: beautifulsoup4>=4.11.1 in /home/hyjing/ajz7t-ucwpu/Quantum_Algorithm/.venv/lib/python3.10/site-packages (from yfinance==0.2.54->qokit==0.1.4) (4.12.3)\n",
            "Requirement already satisfied: llvmlite<0.45,>=0.44.0dev0 in /home/hyjing/ajz7t-ucwpu/Quantum_Algorithm/.venv/lib/python3.10/site-packages (from numba<1,>=0.56.4->qokit==0.1.4) (0.44.0)\n",
            "Requirement already satisfied: tzdata>=2022.7 in /home/hyjing/ajz7t-ucwpu/Quantum_Algorithm/.venv/lib/python3.10/site-packages (from pandas>=2.0.1->qokit==0.1.4) (2025.2)\n",
            "Requirement already satisfied: ppft>=1.7.6.9 in /home/hyjing/ajz7t-ucwpu/Quantum_Algorithm/.venv/lib/python3.10/site-packages (from pathos>=0.3.0->qokit==0.1.4) (1.7.6.9)\n",
            "Requirement already satisfied: pox>=0.3.5 in /home/hyjing/ajz7t-ucwpu/Quantum_Algorithm/.venv/lib/python3.10/site-packages (from pathos>=0.3.0->qokit==0.1.4) (0.3.5)\n",
            "Requirement already satisfied: multiprocess>=0.70.17 in /home/hyjing/ajz7t-ucwpu/Quantum_Algorithm/.venv/lib/python3.10/site-packages (from pathos>=0.3.0->qokit==0.1.4) (0.70.17)\n",
            "Requirement already satisfied: exceptiongroup>=1.0.0rc8 in /home/hyjing/ajz7t-ucwpu/Quantum_Algorithm/.venv/lib/python3.10/site-packages (from pytest>=7.3.1->qokit==0.1.4) (1.2.2)\n",
            "Requirement already satisfied: iniconfig in /home/hyjing/ajz7t-ucwpu/Quantum_Algorithm/.venv/lib/python3.10/site-packages (from pytest>=7.3.1->qokit==0.1.4) (2.0.0)\n",
            "Requirement already satisfied: packaging in /home/hyjing/ajz7t-ucwpu/Quantum_Algorithm/.venv/lib/python3.10/site-packages (from pytest>=7.3.1->qokit==0.1.4) (24.2)\n",
            "Requirement already satisfied: pluggy<2,>=1.5 in /home/hyjing/ajz7t-ucwpu/Quantum_Algorithm/.venv/lib/python3.10/site-packages (from pytest>=7.3.1->qokit==0.1.4) (1.5.0)\n",
            "Requirement already satisfied: tomli>=1 in /home/hyjing/ajz7t-ucwpu/Quantum_Algorithm/.venv/lib/python3.10/site-packages (from pytest>=7.3.1->qokit==0.1.4) (2.2.1)\n",
            "Requirement already satisfied: matplotlib!=3.6.1,>=3.4 in /home/hyjing/ajz7t-ucwpu/Quantum_Algorithm/.venv/lib/python3.10/site-packages (from seaborn>=0.12.2->qokit==0.1.4) (3.10.1)\n",
            "Requirement already satisfied: mpmath<1.4,>=1.1.0 in /home/hyjing/ajz7t-ucwpu/Quantum_Algorithm/.venv/lib/python3.10/site-packages (from sympy>=1.12->qokit==0.1.4) (1.3.0)\n",
            "\u001b[31mERROR: Could not install packages due to an OSError: [Errno 2] No such file or directory: '/home/hyjing/ajz7t-ucwpu/Quantum_Algorithm/.venv/lib/python3.10/site-packages/beautifulsoup4-4.12.3.dist-info/METADATA'\n",
            "\u001b[0m\u001b[31m\n",
            "\u001b[0mzsh:1: no matches found: qiskit[visualization]\n",
            "Collecting mqt.bench\n",
            "  Using cached mqt.bench-1.1.9-py3-none-any.whl.metadata (9.6 kB)\n",
            "Requirement already satisfied: pytket-qiskit>=0.53.0 in /home/hyjing/ajz7t-ucwpu/Quantum_Algorithm/.venv/lib/python3.10/site-packages (from mqt.bench) (0.62.0)\n",
            "Requirement already satisfied: pytket>=1.29.0 in /home/hyjing/ajz7t-ucwpu/Quantum_Algorithm/.venv/lib/python3.10/site-packages (from mqt.bench) (1.37.0)\n",
            "Requirement already satisfied: qiskit!=1.2.0 in /home/hyjing/ajz7t-ucwpu/Quantum_Algorithm/.venv/lib/python3.10/site-packages (from mqt.bench) (1.3.1)\n",
            "Collecting qiskit_optimization>=0.6 (from mqt.bench)\n",
            "  Using cached qiskit_optimization-0.6.1-py3-none-any.whl.metadata (8.6 kB)\n",
            "Collecting qiskit_nature>=0.7 (from qiskit_nature[pyscf]>=0.7->mqt.bench)\n",
            "  Using cached qiskit_nature-0.7.2-py3-none-any.whl.metadata (8.0 kB)\n",
            "Collecting qiskit_finance>=0.4.1 (from mqt.bench)\n",
            "  Using cached qiskit_finance-0.4.1-py3-none-any.whl.metadata (6.0 kB)\n",
            "Requirement already satisfied: networkx>=2.8.8 in /home/hyjing/ajz7t-ucwpu/Quantum_Algorithm/.venv/lib/python3.10/site-packages (from mqt.bench) (3.0)\n",
            "Collecting joblib>=1.3.0 (from mqt.bench)\n",
            "  Using cached joblib-1.4.2-py3-none-any.whl.metadata (5.4 kB)\n",
            "Requirement already satisfied: numpy>=1.22 in /home/hyjing/ajz7t-ucwpu/Quantum_Algorithm/.venv/lib/python3.10/site-packages (from mqt.bench) (1.26.4)\n",
            "Requirement already satisfied: sympy>=1.12.1 in /home/hyjing/ajz7t-ucwpu/Quantum_Algorithm/.venv/lib/python3.10/site-packages (from pytket>=1.29.0->mqt.bench) (1.13.3)\n",
            "Requirement already satisfied: lark>=1.1.9 in /home/hyjing/ajz7t-ucwpu/Quantum_Algorithm/.venv/lib/python3.10/site-packages (from pytket>=1.29.0->mqt.bench) (1.2.2)\n",
            "Requirement already satisfied: scipy>=1.13.1 in /home/hyjing/ajz7t-ucwpu/Quantum_Algorithm/.venv/lib/python3.10/site-packages (from pytket>=1.29.0->mqt.bench) (1.15.2)\n",
            "Requirement already satisfied: graphviz>=0.20.3 in /home/hyjing/ajz7t-ucwpu/Quantum_Algorithm/.venv/lib/python3.10/site-packages (from pytket>=1.29.0->mqt.bench) (0.20.3)\n",
            "Requirement already satisfied: jinja2>=3.1.4 in /home/hyjing/ajz7t-ucwpu/Quantum_Algorithm/.venv/lib/python3.10/site-packages (from pytket>=1.29.0->mqt.bench) (3.1.6)\n",
            "Requirement already satisfied: typing-extensions>=4.12.2 in /home/hyjing/ajz7t-ucwpu/Quantum_Algorithm/.venv/lib/python3.10/site-packages (from pytket>=1.29.0->mqt.bench) (4.13.1)\n",
            "Requirement already satisfied: qwasm>=1.0.1 in /home/hyjing/ajz7t-ucwpu/Quantum_Algorithm/.venv/lib/python3.10/site-packages (from pytket>=1.29.0->mqt.bench) (1.0.1)\n",
            "Requirement already satisfied: qiskit-ibm-runtime>=0.30.0 in /home/hyjing/ajz7t-ucwpu/Quantum_Algorithm/.venv/lib/python3.10/site-packages (from pytket-qiskit>=0.53.0->mqt.bench) (0.35.0)\n",
            "Requirement already satisfied: qiskit-aer>=0.15.1 in /home/hyjing/ajz7t-ucwpu/Quantum_Algorithm/.venv/lib/python3.10/site-packages (from pytket-qiskit>=0.53.0->mqt.bench) (0.17.0)\n",
            "Requirement already satisfied: rustworkx>=0.15.0 in /home/hyjing/ajz7t-ucwpu/Quantum_Algorithm/.venv/lib/python3.10/site-packages (from qiskit!=1.2.0->mqt.bench) (0.16.0)\n",
            "Requirement already satisfied: dill>=0.3 in /home/hyjing/ajz7t-ucwpu/Quantum_Algorithm/.venv/lib/python3.10/site-packages (from qiskit!=1.2.0->mqt.bench) (0.3.9)\n",
            "Requirement already satisfied: python-dateutil>=2.8.0 in /home/hyjing/ajz7t-ucwpu/Quantum_Algorithm/.venv/lib/python3.10/site-packages (from qiskit!=1.2.0->mqt.bench) (2.9.0.post0)\n",
            "Requirement already satisfied: stevedore>=3.0.0 in /home/hyjing/ajz7t-ucwpu/Quantum_Algorithm/.venv/lib/python3.10/site-packages (from qiskit!=1.2.0->mqt.bench) (5.4.1)\n",
            "Requirement already satisfied: symengine<0.14,>=0.11 in /home/hyjing/ajz7t-ucwpu/Quantum_Algorithm/.venv/lib/python3.10/site-packages (from qiskit!=1.2.0->mqt.bench) (0.13.0)\n",
            "Collecting qiskit-algorithms>=0.2.0 (from qiskit_finance>=0.4.1->mqt.bench)\n",
            "  Using cached qiskit_algorithms-0.3.1-py3-none-any.whl.metadata (4.2 kB)\n",
            "Requirement already satisfied: psutil>=5 in /home/hyjing/ajz7t-ucwpu/Quantum_Algorithm/.venv/lib/python3.10/site-packages (from qiskit_finance>=0.4.1->mqt.bench) (7.0.0)\n",
            "Collecting fastdtw (from qiskit_finance>=0.4.1->mqt.bench)\n",
            "  Using cached fastdtw-0.3.4-py3-none-any.whl\n",
            "Requirement already satisfied: setuptools>=40.1.0 in /home/hyjing/ajz7t-ucwpu/Quantum_Algorithm/.venv/lib/python3.10/site-packages (from qiskit_finance>=0.4.1->mqt.bench) (59.6.0)\n",
            "Requirement already satisfied: pandas in /home/hyjing/ajz7t-ucwpu/Quantum_Algorithm/.venv/lib/python3.10/site-packages (from qiskit_finance>=0.4.1->mqt.bench) (2.2.3)\n",
            "Collecting nasdaq-data-link (from qiskit_finance>=0.4.1->mqt.bench)\n",
            "  Using cached Nasdaq_Data_Link-1.0.4-py2.py3-none-any.whl.metadata (1.3 kB)\n",
            "Requirement already satisfied: yfinance>=0.1.70 in /home/hyjing/ajz7t-ucwpu/Quantum_Algorithm/.venv/lib/python3.10/site-packages (from qiskit_finance>=0.4.1->mqt.bench) (0.2.54)\n",
            "Requirement already satisfied: certifi in /home/hyjing/ajz7t-ucwpu/Quantum_Algorithm/.venv/lib/python3.10/site-packages (from qiskit_finance>=0.4.1->mqt.bench) (2025.1.31)\n",
            "Requirement already satisfied: urllib3 in /home/hyjing/ajz7t-ucwpu/Quantum_Algorithm/.venv/lib/python3.10/site-packages (from qiskit_finance>=0.4.1->mqt.bench) (2.3.0)\n",
            "Collecting h5py (from qiskit_nature>=0.7->qiskit_nature[pyscf]>=0.7->mqt.bench)\n",
            "  Using cached h5py-3.13.0-cp310-cp310-manylinux_2_17_x86_64.manylinux2014_x86_64.whl.metadata (2.5 kB)\n",
            "Collecting pyscf (from qiskit_nature[pyscf]>=0.7->mqt.bench)\n",
            "  Using cached pyscf-2.8.0-py3-none-manylinux_2_17_x86_64.manylinux2014_x86_64.whl.metadata (6.4 kB)\n",
            "Requirement already satisfied: docplex!=2.24.231,>=2.21.207 in /home/hyjing/ajz7t-ucwpu/Quantum_Algorithm/.venv/lib/python3.10/site-packages (from qiskit_optimization>=0.6->mqt.bench) (2.28.240)\n",
            "Requirement already satisfied: six in /home/hyjing/ajz7t-ucwpu/Quantum_Algorithm/.venv/lib/python3.10/site-packages (from docplex!=2.24.231,>=2.21.207->qiskit_optimization>=0.6->mqt.bench) (1.17.0)\n",
            "Requirement already satisfied: MarkupSafe>=2.0 in /home/hyjing/ajz7t-ucwpu/Quantum_Algorithm/.venv/lib/python3.10/site-packages (from jinja2>=3.1.4->pytket>=1.29.0->mqt.bench) (3.0.2)\n",
            "Requirement already satisfied: requests>=2.19 in /home/hyjing/ajz7t-ucwpu/Quantum_Algorithm/.venv/lib/python3.10/site-packages (from qiskit-ibm-runtime>=0.30.0->pytket-qiskit>=0.53.0->mqt.bench) (2.32.3)\n",
            "Requirement already satisfied: requests-ntlm>=1.1.0 in /home/hyjing/ajz7t-ucwpu/Quantum_Algorithm/.venv/lib/python3.10/site-packages (from qiskit-ibm-runtime>=0.30.0->pytket-qiskit>=0.53.0->mqt.bench) (1.3.0)\n",
            "Requirement already satisfied: websocket-client>=1.5.1 in /home/hyjing/ajz7t-ucwpu/Quantum_Algorithm/.venv/lib/python3.10/site-packages (from qiskit-ibm-runtime>=0.30.0->pytket-qiskit>=0.53.0->mqt.bench) (1.8.0)\n",
            "Requirement already satisfied: ibm-platform-services>=0.22.6 in /home/hyjing/ajz7t-ucwpu/Quantum_Algorithm/.venv/lib/python3.10/site-packages (from qiskit-ibm-runtime>=0.30.0->pytket-qiskit>=0.53.0->mqt.bench) (0.63.0)\n",
            "Requirement already satisfied: pydantic<2.10,>=2.5.0 in /home/hyjing/ajz7t-ucwpu/Quantum_Algorithm/.venv/lib/python3.10/site-packages (from qiskit-ibm-runtime>=0.30.0->pytket-qiskit>=0.53.0->mqt.bench) (2.9.2)\n",
            "Requirement already satisfied: pbr>=2.0.0 in /home/hyjing/ajz7t-ucwpu/Quantum_Algorithm/.venv/lib/python3.10/site-packages (from stevedore>=3.0.0->qiskit!=1.2.0->mqt.bench) (6.1.1)\n",
            "Requirement already satisfied: mpmath<1.4,>=1.1.0 in /home/hyjing/ajz7t-ucwpu/Quantum_Algorithm/.venv/lib/python3.10/site-packages (from sympy>=1.12.1->pytket>=1.29.0->mqt.bench) (1.3.0)\n",
            "Requirement already satisfied: multitasking>=0.0.7 in /home/hyjing/ajz7t-ucwpu/Quantum_Algorithm/.venv/lib/python3.10/site-packages (from yfinance>=0.1.70->qiskit_finance>=0.4.1->mqt.bench) (0.0.11)\n",
            "Requirement already satisfied: platformdirs>=2.0.0 in /home/hyjing/ajz7t-ucwpu/Quantum_Algorithm/.venv/lib/python3.10/site-packages (from yfinance>=0.1.70->qiskit_finance>=0.4.1->mqt.bench) (4.3.6)\n",
            "Requirement already satisfied: pytz>=2022.5 in /home/hyjing/ajz7t-ucwpu/Quantum_Algorithm/.venv/lib/python3.10/site-packages (from yfinance>=0.1.70->qiskit_finance>=0.4.1->mqt.bench) (2025.2)\n",
            "Requirement already satisfied: frozendict>=2.3.4 in /home/hyjing/ajz7t-ucwpu/Quantum_Algorithm/.venv/lib/python3.10/site-packages (from yfinance>=0.1.70->qiskit_finance>=0.4.1->mqt.bench) (2.4.6)\n",
            "Requirement already satisfied: peewee>=3.16.2 in /home/hyjing/ajz7t-ucwpu/Quantum_Algorithm/.venv/lib/python3.10/site-packages (from yfinance>=0.1.70->qiskit_finance>=0.4.1->mqt.bench) (3.17.9)\n",
            "Requirement already satisfied: beautifulsoup4>=4.11.1 in /home/hyjing/ajz7t-ucwpu/Quantum_Algorithm/.venv/lib/python3.10/site-packages (from yfinance>=0.1.70->qiskit_finance>=0.4.1->mqt.bench) (4.12.3)\n",
            "Requirement already satisfied: tzdata>=2022.7 in /home/hyjing/ajz7t-ucwpu/Quantum_Algorithm/.venv/lib/python3.10/site-packages (from pandas->qiskit_finance>=0.4.1->mqt.bench) (2025.2)\n",
            "Collecting inflection>=0.3.1 (from nasdaq-data-link->qiskit_finance>=0.4.1->mqt.bench)\n",
            "  Using cached inflection-0.5.1-py2.py3-none-any.whl.metadata (1.7 kB)\n",
            "Collecting more-itertools (from nasdaq-data-link->qiskit_finance>=0.4.1->mqt.bench)\n",
            "  Using cached more_itertools-10.6.0-py3-none-any.whl.metadata (37 kB)\n",
            "\u001b[31mERROR: Could not install packages due to an OSError: [Errno 2] No such file or directory: '/home/hyjing/ajz7t-ucwpu/Quantum_Algorithm/.venv/lib/python3.10/site-packages/beautifulsoup4-4.12.3.dist-info/METADATA'\n",
            "\u001b[0m\u001b[31m\n",
            "\u001b[0m"
          ]
        }
      ],
      "source": [
        "!pip install git+https://github.com/jpmorganchase/QOKit.git\n",
        "!pip install qiskit[visualization] qiskit-optimization qiskit-aer\n",
        "!pip install mqt.bench\n"
      ]
    },
    {
      "cell_type": "markdown",
      "metadata": {
        "id": "12ieK7nJw2O9"
      },
      "source": [
        "\n",
        "### **Q1: Evaluating the Effectiveness of Native Gate Sets Across Quantum Hardware Platforms  [6 points]**\n",
        "\n",
        "\n",
        "---\n",
        "\n",
        "\n",
        "Consider the following four quantum hardware platforms, each with its own native gate set:\n",
        "\n",
        "1. IBM (Superconducting)\n",
        "2. IonQ (Trapped Ions)\n",
        "3. Quantinuum (Trapped Ions)\n",
        "\n",
        "**(a)** Using a **technology-agnostic benchmarking approach**, identify which platform’s native gate set is **most effective** in minimizing **circuit depth** and **gate count** across a range of quantum algorithms and problem sizes. Please follow, the following steps\n",
        "\n",
        "1. **Generate and compile circuits** for the above benchmarks using the MQT Bench tool:  \n",
        "* https://github.com/cda-tum/mqt-bench\n",
        "   \n",
        "\n",
        "2. **Compile each benchmark circuit** to the native gate set of each platform using MQT bench, use benchmarks with qubits 5,10,15,25, 35, 45.\n",
        "* https://mqt.readthedocs.io/projects/bench/en/latest/Parameter.html\n",
        "\n",
        "\n",
        "\n",
        "\n",
        "**(b)** Estimate the SWAP overhead for each benchmark for IonQ Aria 1 (25 Qubits),\n",
        "Quantinuum H2 (32 Qubits), and  IBM Montreal (27 Qubits). Use the connectivity map in the code window below for the machines.\n",
        "\n",
        "\n",
        "\n",
        "and use the following table to estimate the execution time for benchmarks with qubits 5,10,15,25, 35. Use qiskit's mapping and routing pass. Note use the connectivity specified below, we have altered for pedagogical purposes.\n",
        "\n",
        "| Platform           | Native Gates                   | Connectivity       | 1Q Gate Time | 2Q Gate Time | Coherence Time (T₁/T₂)     | Readout Latency |\n",
        "|--------------------|--------------------------------|--------------------|--------------|--------------|-----------------------------|------------------|\n",
        "| **IonQ Aria 1**    | Arbitrary 1Q, **XX(θ)**         | Somewhat Fully connected    | 10 µs        | 100 µs       | 1,000 ms / 1,000 ms         | 1 ms             |\n",
        "| **Quantinuum H2**  | Arbitrary 1Q, **ZZ(θ)**         | Somewhat Fully connected    | 10 µs        | 150 µs       | 500 ms / 500 ms             | 1 ms             |\n",
        "| **IBM Montreal**   | Rx(π/2), Rz(θ), **CX**          | Heavy-hex (sparse) | 20 ns        | 200 ns       | 100 µs / 100 µs             | 200 µs           |\n",
        "           |"
      ]
    },
    {
      "cell_type": "code",
      "execution_count": 2,
      "metadata": {
        "id": "BGDu3kcM9X4b"
      },
      "outputs": [],
      "source": [
        "\n",
        "Quantinuum_H2_32=[\n",
        " (0, 1), (0, 2), (0, 3), (0, 4), (0, 5), (0, 6), (0, 7),\n",
        " (1, 2), (1, 3), (1, 4), (1, 5), (1, 6), (1, 7),\n",
        " (2, 3), (2, 4), (2, 5), (2, 6), (2, 7),\n",
        " (3, 4), (3, 5), (3, 6), (3, 7),\n",
        " (4, 5), (4, 6), (4, 7),\n",
        " (5, 6), (5, 7),\n",
        " (6, 7),\n",
        " (7, 8),  # inter-group connection\n",
        "\n",
        " (8, 9), (8, 10), (8, 11), (8, 12), (8, 13), (8, 14), (8, 15),\n",
        " (9, 10), (9, 11), (9, 12), (9, 13), (9, 14), (9, 15),\n",
        " (10, 11), (10, 12), (10, 13), (10, 14), (10, 15),\n",
        " (11, 12), (11, 13), (11, 14), (11, 15),\n",
        " (12, 13), (12, 14), (12, 15),\n",
        " (13, 14), (13, 15),\n",
        " (14, 15),\n",
        " (15, 16),  # inter-group connection\n",
        "\n",
        " (16, 17), (16, 18), (16, 19), (16, 20), (16, 21), (16, 22), (16, 23),\n",
        " (17, 18), (17, 19), (17, 20), (17, 21), (17, 22), (17, 23),\n",
        " (18, 19), (18, 20), (18, 21), (18, 22), (18, 23),\n",
        " (19, 20), (19, 21), (19, 22), (19, 23),\n",
        " (20, 21), (20, 22), (20, 23),\n",
        " (21, 22), (21, 23),\n",
        " (22, 23),\n",
        " (23, 24),  # inter-group connection\n",
        "\n",
        " (24, 25), (24, 26), (24, 27), (24, 28), (24, 29), (24, 30), (24, 31),\n",
        " (25, 26), (25, 27), (25, 28), (25, 29), (25, 30), (25, 31),\n",
        " (26, 27), (26, 28), (26, 29), (26, 30), (26, 31),\n",
        " (27, 28), (27, 29), (27, 30), (27, 31),\n",
        " (28, 29), (28, 30), (28, 31),\n",
        " (29, 30), (29, 31),\n",
        " (30, 31)\n",
        "]\n",
        "\n",
        "\n",
        "IonQ_25=[\n",
        " (0, 1), (0, 2), (0, 3), (0, 4),\n",
        " (1, 2), (1, 3), (1, 4),\n",
        " (2, 3), (2, 4),\n",
        " (3, 4),\n",
        " (4, 5),\n",
        "\n",
        " (5, 6), (5, 7), (5, 8), (5, 9),\n",
        " (6, 7), (6, 8), (6, 9),\n",
        " (7, 8), (7, 9),\n",
        " (8, 9),\n",
        " (9, 10),\n",
        "\n",
        " (10, 11), (10, 12), (10, 13), (10, 14),\n",
        " (11, 12), (11, 13), (11, 14),\n",
        " (12, 13), (12, 14),\n",
        " (13, 14),\n",
        " (14, 15),\n",
        "\n",
        " (15, 16), (15, 17), (15, 18), (15, 19),\n",
        " (16, 17), (16, 18), (16, 19),\n",
        " (17, 18), (17, 19),\n",
        " (18, 19),\n",
        " (19, 20),\n",
        "\n",
        " (20, 21), (20, 22), (20, 23), (20, 24),\n",
        " (21, 22), (21, 23), (21, 24),\n",
        " (22, 23), (22, 24),\n",
        " (23, 24)\n",
        "]\n",
        "\n",
        "\n",
        "edges_IBM_27 = [\n",
        "    (0, 1), (1, 2), (2, 3),\n",
        "    (3, 4), (4, 5), (5, 6),\n",
        "    (6, 7), (7, 8), (8, 9),\n",
        "    (1, 10), (3, 11), (5, 12), (7, 13), (9, 14),\n",
        "    (10, 11), (11, 12), (12, 13), (13, 14),\n",
        "    (10, 15), (11, 16), (12, 17), (13, 18), (14, 19),\n",
        "    (15, 16), (16, 17), (17, 18), (18, 19),\n",
        "    (15, 20), (16, 21), (17, 22), (18, 23), (19, 24),\n",
        "    (20, 21), (21, 22), (22, 23), (23, 24),\n",
        "    (21, 25), (23, 26)\n",
        "]\n",
        "\n",
        "\n",
        "\n"
      ]
    },
    {
      "cell_type": "markdown",
      "metadata": {
        "id": "JmQb2aF8w2fz"
      },
      "source": [
        "(c) Estimate the fidelity using noisy simulation for the listed benchmarks for 5- and 10-qubit instances per platform. When estimating the fidelity model idling errors. Use equation (9) and (10) from https://arxiv.org/abs/1404.3747 , assume when gates have no operational dependence we can perform them in parallel and there is no crosstalk. Clearly state **Your conclusion:** Which hardware platform is most effective overall, and why?\n",
        "\n",
        "\n",
        "\n",
        "| Platform           | 1Q Gate Fidelity       | 2Q Gate Fidelity       | Readout Fidelity                                  |\n",
        "|--------------------|------------------------|-------------------------|----------------------------------------|\n",
        "| **IonQ Aria 1**    | 99.9%                | 99%                 |  99.99% |\n",
        "| **Quantinuum H2**  |  99.97%               | 98%                 |    99.99%        |\n",
        "| **IBM Montreal**   |  99.9%                | 98.5%               | 97%\n",
        "\n",
        "\n",
        "---\n",
        "\n",
        "**Benchmarks:**  \n",
        "Use the following **representative quantum applications** for your evaluations:\n",
        "\n",
        "1. Amplitude Estimation (AE)  \n",
        "2. Graph State Preparation (GSP)\n",
        "3. Portfolio Optimization with QAOA (PoQAOA)  \n",
        "4. Portfolio Optimization with VQE  (PoVQE)\n",
        "5. Quantum Approximate Optimization Algorithm (QAOA)  \n",
        "6. Quantum Fourier Transform (QFT)  \n",
        "7. Quantum Neural Network (QNN)  \n",
        "8. Variational Quantum Eigensolver (VQE)  \n",
        "9. W-State Preparation (W-state)\n",
        "\n",
        "---"
      ]
    },
    {
      "cell_type": "code",
      "execution_count": 3,
      "metadata": {
        "colab": {
          "base_uri": "https://localhost:8080/"
        },
        "collapsed": true,
        "id": "x8uzT1JMIPcu",
        "outputId": "2e6c94c7-63e4-46a6-c506-2e6990c64ae1"
      },
      "outputs": [
        {
          "ename": "ModuleNotFoundError",
          "evalue": "No module named 'mqt'",
          "output_type": "error",
          "traceback": [
            "\u001b[0;31m---------------------------------------------------------------------------\u001b[0m",
            "\u001b[0;31mModuleNotFoundError\u001b[0m                       Traceback (most recent call last)",
            "Cell \u001b[0;32mIn[3], line 2\u001b[0m\n\u001b[1;32m      1\u001b[0m \u001b[38;5;66;03m# check if mqt bench is working\u001b[39;00m\n\u001b[0;32m----> 2\u001b[0m \u001b[38;5;28;01mfrom\u001b[39;00m\u001b[38;5;250m \u001b[39m\u001b[38;5;21;01mmqt\u001b[39;00m\u001b[38;5;21;01m.\u001b[39;00m\u001b[38;5;21;01mbench\u001b[39;00m\u001b[38;5;250m \u001b[39m\u001b[38;5;28;01mimport\u001b[39;00m get_benchmark\n\u001b[1;32m      4\u001b[0m \u001b[38;5;66;03m# get a benchmark circuit on algorithmic level representing the GHZ state with 5 qubits\u001b[39;00m\n\u001b[1;32m      5\u001b[0m qc_algorithmic_level \u001b[38;5;241m=\u001b[39m get_benchmark(benchmark_name\u001b[38;5;241m=\u001b[39m\u001b[38;5;124m\"\u001b[39m\u001b[38;5;124mghz\u001b[39m\u001b[38;5;124m\"\u001b[39m, level\u001b[38;5;241m=\u001b[39m\u001b[38;5;124m\"\u001b[39m\u001b[38;5;124malg\u001b[39m\u001b[38;5;124m\"\u001b[39m, circuit_size\u001b[38;5;241m=\u001b[39m\u001b[38;5;241m5\u001b[39m)\n",
            "\u001b[0;31mModuleNotFoundError\u001b[0m: No module named 'mqt'"
          ]
        }
      ],
      "source": [
        "# check if mqt bench is working\n",
        "from mqt.bench import get_benchmark\n",
        "\n",
        "# get a benchmark circuit on algorithmic level representing the GHZ state with 5 qubits\n",
        "qc_algorithmic_level = get_benchmark(benchmark_name=\"ghz\", level=\"alg\", circuit_size=5)\n",
        "\n",
        "# draw the circuit\n",
        "print(qc_algorithmic_level.draw())"
      ]
    },
    {
      "cell_type": "code",
      "execution_count": null,
      "metadata": {
        "id": "4ux36TO-IwZF"
      },
      "outputs": [],
      "source": [
        "# Add your code Q1a"
      ]
    },
    {
      "cell_type": "markdown",
      "metadata": {
        "id": "nFBeoPVRaqkQ"
      },
      "source": [
        "ToDO: Analysis"
      ]
    },
    {
      "cell_type": "markdown",
      "metadata": {
        "id": "f6nE4VIXjP7c"
      },
      "source": [
        "# Q2: Zero Noise Extrapolation [4 points + 1 point]\n",
        "\n",
        "\n",
        "(a) Use 8-node QAOA with P=2 example from HW-3 Q2 and show that ZNE can significantly improve expected cost estimate. Use the idetical noise configuration as superconducting hardware described in Q1 and connectivity map to compile your circuit and perform ZNE using folded CX gates (local folding) to modulate noise levels. Make sure the additional \"CX\" gates are introduced after the mapping and routing pass. Use three noise levels -- (1) No gate folding (2) gate folding only on second layer of QAOA (3) gate folding on both layers of QAOA.  \n",
        "\n",
        "\n",
        "\n",
        "(b) You have three options -- (1) use ZNE on fast but noisy IBM machine (2) use slower but more reliable H2 machine without ZNE or (3) Aria IonQ hardware without ZNE, which is the best option? Backup your claim with numerical simulations.    \n",
        "\n",
        "\n",
        "\n",
        "(c) Can you do better than (a) without increasing the total execution time ? [Extra Credit]"
      ]
    },
    {
      "cell_type": "code",
      "execution_count": null,
      "metadata": {
        "id": "gQaVeuoUayMk"
      },
      "outputs": [],
      "source": [
        "# Code for Q2"
      ]
    },
    {
      "cell_type": "markdown",
      "metadata": {
        "id": "EWXQx_SsjQJi"
      },
      "source": [
        "TODO Q2"
      ]
    },
    {
      "cell_type": "markdown",
      "metadata": {
        "id": "6sDA3PNwBvCl"
      },
      "source": [
        "# Q3: Unitary Synthesis [3 points]\n",
        "\n",
        "In this problem, you'll implement a brute force, approximate, single-qubit unitary synthesis algorithm using the Clifford + T gate set. It has been broken down into small parts, so don't be intimidated by the number of subquestions."
      ]
    },
    {
      "cell_type": "markdown",
      "metadata": {
        "id": "DP09adUmThgU"
      },
      "source": [
        "## Part A: Hilbert-Schmidt distance\n",
        "\n",
        "Our algorithm should guarantee the output circuit is close to the target unitary. This distance can be quantified using something called the Hilbert-Schmidt distance, where $n$ is the number of qubits:\n",
        "$$HS(U_1, U_2) := \\sqrt{1-\\frac{| Tr(U_1^\\dagger U_2)| ^2}{2^{2n}}}$$\n",
        "\n",
        "This outputs a value between 0 and 1 (inclusive) that indicates how close the two untaries are. 0 means they are equal up to global phase and 1 means they are very not equal.\n",
        "\n",
        "Is this distance function symmetric? i.e. is $HS(U_1, U_2)$ equal to $HS(U_2, U_1)$? Either prove it is symmetric or provide a counterexample."
      ]
    },
    {
      "cell_type": "markdown",
      "metadata": {
        "id": "QEcnmSOoYolX"
      },
      "source": [
        "Type your answer below:\n",
        "\n",
        "TODO"
      ]
    },
    {
      "cell_type": "markdown",
      "metadata": {
        "id": "udkWefsIBwxZ"
      },
      "source": [
        "## Part B: Implement the Hilbert-Schmidt distance function\n",
        "\n",
        "Fill in the function below to compute the Hilbert-Schmidt (HS) distance."
      ]
    },
    {
      "cell_type": "code",
      "execution_count": null,
      "metadata": {
        "id": "g7IAW4lvRleM"
      },
      "outputs": [],
      "source": [
        "import numpy as np\n",
        "from numpy.typing import NDArray\n",
        "from qiskit import QuantumCircuit\n",
        "from qiskit.quantum_info import Operator\n",
        "\n",
        "def get_unitary_from_circuit(circuit: QuantumCircuit):\n",
        "  return Operator(circuit).data\n",
        "\n",
        "def hilbert_schmidt(unitary1: NDArray, unitary2: NDArray) -> float:\n",
        "  pass # TODO: write your code here. You may find some numpy methods to be particularly helpful.\n",
        "\n",
        "# A test. Do not delete anything below this and make sure the output is included in your submission.\n",
        "target_unitary = np.matrix([[-0.63093663-0.52401339j,  0.2720076 +0.50332971j],\n",
        "       [ 0.42561408+0.38233701j,  0.36164925+0.73612559j]])\n",
        "circuit = QuantumCircuit(1)\n",
        "circuit.h(0)\n",
        "circuit.s(0)\n",
        "circuit.t(0)\n",
        "\n",
        "print(hilbert_schmidt(target_unitary, get_unitary_from_circuit(circuit)))"
      ]
    },
    {
      "cell_type": "markdown",
      "metadata": {
        "id": "3tITML5_jV_y"
      },
      "source": [
        "Is the unitary this circuit implements close to the target unitary?"
      ]
    },
    {
      "cell_type": "markdown",
      "metadata": {
        "id": "PgjKi2c9jcF2"
      },
      "source": [
        "Type your answer below:\n",
        "\n",
        "TODO"
      ]
    },
    {
      "cell_type": "markdown",
      "metadata": {
        "id": "iUNGMP2HSpT3"
      },
      "source": [
        "## Part C: Implement unitary synthesis\n",
        "\n",
        "Implement a function to synthesize a quantum circuit that is within epsilon of the target unitary, as measured by the HS distance.\n",
        "\n",
        "Fill in the function below."
      ]
    },
    {
      "cell_type": "code",
      "execution_count": null,
      "metadata": {
        "id": "toBw5cDtSpvp"
      },
      "outputs": [],
      "source": [
        "# Your function should return a circuit with only these gates\n",
        "cliffordt_gate_set_1q = [\"h\", \"s\", \"t\"]\n",
        "\n",
        "\"\"\"\n",
        "target_unitary: the unitary to implement\n",
        "epsilon: a float between 0 and 1 (inclusive)\n",
        "\n",
        "Returns a qiskit.QuantumCircuit object such that hilbert_schmidt(target_unitary, get_unitary_from_circuit(synthesize(target_unitary, epsilon))) <= epsilon is True.\n",
        "\"\"\"\n",
        "def synthesize(target_unitary: np.NDArray, epsilon: float) -> QuantumCircuit:\n",
        "  # Hint: brute force search by enumerating circuits starting from the empty circuit, then all circuits with 1 gate, and so on.\n",
        "  pass\n",
        "\n",
        "# A test. Do not delete anything below this and make sure the output is included in your submission.\n",
        "target_unitary = np.matrix([[-0.63093663-0.52401339j,  0.2720076 +0.50332971j],\n",
        "       [ 0.42561408+0.38233701j,  0.36164925+0.73612559j]])\n",
        "synthesized_circuit = synthesize(target_unitary, 0.5)\n",
        "print(synthesized_circuit)\n",
        "print(hilbert_schmidt(target_unitary, get_unitary_from_circuit(synthesized_circuit)) <= 0.5)"
      ]
    },
    {
      "cell_type": "markdown",
      "metadata": {
        "id": "a8ARJb7dV2pB"
      },
      "source": [
        "## Part D: Scalability\n",
        "\n",
        "Sweep the following epsilon values and plot the time in seconds it takes to find a solution."
      ]
    },
    {
      "cell_type": "code",
      "execution_count": null,
      "metadata": {
        "id": "Bm9VMioeWcCT"
      },
      "outputs": [],
      "source": [
        "target_unitary = np.matrix([[-0.63093663-0.52401339j,  0.2720076 +0.50332971j],\n",
        "       [ 0.42561408+0.38233701j,  0.36164925+0.73612559j]])\n",
        "epsilons = [1, 0.9, 0.8, 0.7, 0.6, 0.5, 0.4, 0.3, 0.2]\n",
        "\n",
        "# TODO: write your code here and make sure the plot is included in the ouput"
      ]
    },
    {
      "cell_type": "markdown",
      "metadata": {
        "id": "k6P_YeCJY03t"
      },
      "source": [
        "What does the plot tell you about how this algorithm scales?"
      ]
    },
    {
      "cell_type": "markdown",
      "metadata": {
        "id": "juHaHOcKY3uv"
      },
      "source": [
        "Type your answer below:\n",
        "\n",
        "TODO"
      ]
    },
    {
      "cell_type": "markdown",
      "metadata": {
        "id": "UHXwX45iZDvc"
      },
      "source": [
        "## Part E: Why is unitary synthesis important?\n",
        "\n",
        "Why do we even need to solve this problem? What is the significance of the Clifford + T gate set and what type of gate does it fail to support natively?"
      ]
    },
    {
      "cell_type": "markdown",
      "metadata": {
        "id": "a0kiMPRbZWSM"
      },
      "source": [
        "Type your answer below:\n",
        "\n",
        "TODO"
      ]
    },
    {
      "cell_type": "code",
      "execution_count": null,
      "metadata": {
        "id": "_IrH2ChbpP5t"
      },
      "outputs": [],
      "source": []
    },
    {
      "cell_type": "markdown",
      "metadata": {
        "id": "cbweMj1sFrVU"
      },
      "source": [
        "# Q4: Gridsynth [2 Points]\n",
        "Gridsynth is the state-of-the-art (ancilla-free, deterministic) synthesis algorithm to approximate Rz gates with Clifford + T. Gridsynth leverages insights from number theory to achieve optimal or near-optimal approximations for any desired error threshold $\\epsilon$. By optimal, we mean the saturation of the T count lower bound given an $\\epsilon$, which you will explore in Part A."
      ]
    },
    {
      "cell_type": "code",
      "execution_count": null,
      "metadata": {
        "colab": {
          "base_uri": "https://localhost:8080/"
        },
        "id": "otYTB-vuFvnl",
        "outputId": "c9bf5d08-20c4-42ba-d01b-829bf7c95329"
      },
      "outputs": [
        {
          "name": "stdout",
          "output_type": "stream",
          "text": [
            "Collecting pygridsynth\n",
            "  Downloading pygridsynth-1.1.0-py3-none-any.whl.metadata (45 kB)\n",
            "\u001b[?25l     \u001b[90m━━━━━━━━━━━━━━━━━━━━━━━━━━━━━━━━━━━━━━━━\u001b[0m \u001b[32m0.0/45.6 kB\u001b[0m \u001b[31m?\u001b[0m eta \u001b[36m-:--:--\u001b[0m\r\u001b[2K     \u001b[90m━━━━━━━━━━━━━━━━━━━━━━━━━━━━━━━━━━━━━━━━\u001b[0m \u001b[32m45.6/45.6 kB\u001b[0m \u001b[31m1.8 MB/s\u001b[0m eta \u001b[36m0:00:00\u001b[0m\n",
            "\u001b[?25hRequirement already satisfied: numpy in /usr/local/lib/python3.11/dist-packages (2.0.2)\n",
            "Requirement already satisfied: scipy in /usr/local/lib/python3.11/dist-packages (1.14.1)\n",
            "Requirement already satisfied: matplotlib in /usr/local/lib/python3.11/dist-packages (3.10.0)\n",
            "Requirement already satisfied: mpmath in /usr/local/lib/python3.11/dist-packages (from pygridsynth) (1.3.0)\n",
            "Requirement already satisfied: contourpy>=1.0.1 in /usr/local/lib/python3.11/dist-packages (from matplotlib) (1.3.1)\n",
            "Requirement already satisfied: cycler>=0.10 in /usr/local/lib/python3.11/dist-packages (from matplotlib) (0.12.1)\n",
            "Requirement already satisfied: fonttools>=4.22.0 in /usr/local/lib/python3.11/dist-packages (from matplotlib) (4.56.0)\n",
            "Requirement already satisfied: kiwisolver>=1.3.1 in /usr/local/lib/python3.11/dist-packages (from matplotlib) (1.4.8)\n",
            "Requirement already satisfied: packaging>=20.0 in /usr/local/lib/python3.11/dist-packages (from matplotlib) (24.2)\n",
            "Requirement already satisfied: pillow>=8 in /usr/local/lib/python3.11/dist-packages (from matplotlib) (11.1.0)\n",
            "Requirement already satisfied: pyparsing>=2.3.1 in /usr/local/lib/python3.11/dist-packages (from matplotlib) (3.2.3)\n",
            "Requirement already satisfied: python-dateutil>=2.7 in /usr/local/lib/python3.11/dist-packages (from matplotlib) (2.8.2)\n",
            "Requirement already satisfied: six>=1.5 in /usr/local/lib/python3.11/dist-packages (from python-dateutil>=2.7->matplotlib) (1.17.0)\n",
            "Downloading pygridsynth-1.1.0-py3-none-any.whl (47 kB)\n",
            "\u001b[2K   \u001b[90m━━━━━━━━━━━━━━━━━━━━━━━━━━━━━━━━━━━━━━━━\u001b[0m \u001b[32m47.7/47.7 kB\u001b[0m \u001b[31m3.2 MB/s\u001b[0m eta \u001b[36m0:00:00\u001b[0m\n",
            "\u001b[?25hInstalling collected packages: pygridsynth\n",
            "Successfully installed pygridsynth-1.1.0\n"
          ]
        }
      ],
      "source": [
        "!pip install pygridsynth numpy scipy matplotlib"
      ]
    },
    {
      "cell_type": "markdown",
      "metadata": {
        "id": "X6h89KT7S4G-"
      },
      "source": [
        "## Part A\n",
        "To approximate an Rz to error $\\epsilon$ (gridsynth uses the operator norm as the error metric, which is very close to the distance metric we used in Q3), we need at least $a\\log_2 \\frac{1}{\\epsilon}+b$ T gates in the typical case, where $a$ and $b$ are two real numbers. In this part, you will use a Python implementation of gridsynth to synthesize random Rz gates at different $\\epsilon$ to fit $a$ and $b$."
      ]
    },
    {
      "cell_type": "code",
      "execution_count": null,
      "metadata": {
        "id": "PDspEs7beXMR"
      },
      "outputs": [],
      "source": [
        "from pygridsynth import gridsynth_gates\n",
        "import numpy as np\n",
        "\n",
        "epsilons = [10**(-i) for i in range(2, 8)]\n",
        "num_angles = 100\n",
        "angles = np.random.default_rng(42).uniform(0, 2 * np.pi, size=num_angles)\n",
        "t_counts = ... # should be of shape num_epsilons * num_angles\n",
        "# todo: fill in the T counts for all epsilon and angle pairs"
      ]
    },
    {
      "cell_type": "code",
      "execution_count": null,
      "metadata": {
        "id": "FmETElaot-yH"
      },
      "outputs": [],
      "source": [
        "import matplotlib.pyplot as plt\n",
        "from scipy.optimize import curve_fit\n",
        "\n",
        "def fitting_func(x, a, b):\n",
        "    # todo\n",
        "\n",
        "# here we fit all data points (instead of the worst points / \"lower bound\") for a more accurate estimation in Part B\n",
        "popt, pcov = curve_fit(fitting_func, np.repeat(epsilons, num_angles), np.array(t_counts).reshape(-1), p0=(1, 0))\n",
        "print(f\"a = {popt[0]}  b = {popt[1]}\")\n",
        "plt.scatter(..., s=1, label=\"data\", c=\"tab:blue\") # todo: scatter plot of T count data points\n",
        "plt.semilogx(..., label=\"fit\", color=\"tab:orange\") # todo: plot the fitted function\n",
        "plt.xlabel(\"Epsilon\")\n",
        "plt.ylabel(\"T Count\")\n",
        "plt.legend()"
      ]
    },
    {
      "cell_type": "markdown",
      "metadata": {
        "id": "xLEEXLtYcqMa"
      },
      "source": [
        "## Part B Overhead of FTQC\n",
        "Now let's estimate the number of T gates needed for executing a QAOA circuit fault-tolerantly. Since the only source of non-Cliffordness in QAOA is the axial rotations, we first count the number of $R_z$ ($R_x = HR_zH$) gates we need to synthesize in a 10-layer QAOA solving a MaxCut problem with a 100-node 3-regular graph. Then we multiply the number of $R_z$ gates by the rough number of $T$ gates we estimated in Part A for a given $\\epsilon$.\n",
        "\n",
        "> Hint: In a 3-regular graph, each node has 3 edges. How many edges are in the graph? How many Pauli ZZ terms are in the Hamiltonian? How many $R_z$ gates are needed for each ZZ term?\n",
        "\n",
        "This is a hand-derivation math problem, but feel free to get inspirations or verify your findings by coding."
      ]
    },
    {
      "cell_type": "markdown",
      "metadata": {
        "id": "WBOhm2n6ZPVf"
      },
      "source": [
        "#### (1) What is the number of $R_z$ gates we need to synthesize in a 10-layer QAOA solving a MaxCut problem with a 100-node 3-regular graph? Remember the $R_x$ gates also need to be transpiled to $R_z$ gates to synthesize."
      ]
    },
    {
      "cell_type": "markdown",
      "metadata": {
        "id": "LPvraQ8TdDcQ"
      },
      "source": [
        "**Solution:**\n",
        "\n",
        "Todo"
      ]
    },
    {
      "cell_type": "markdown",
      "metadata": {
        "id": "w-tZCyMqZoLX"
      },
      "source": [
        "#### (2) To set the synthesis error threshold $\\epsilon$, we use a very naive approach here that simply divides the circuit-level error threshold by the number of gates to be synthesized. For a circuit-level error threshold of 0.01, what is the $\\epsilon$ for each individual $R_z$ gate? What is the corresponding T gate count needed in total?\n",
        "\n",
        "> Remark: In error correction codes, (logical) T gates are typically hundreds of times more costly to implement compared to physical gates. This should give you an idea of the overhead of FTQC."
      ]
    },
    {
      "cell_type": "markdown",
      "metadata": {
        "id": "wafHffsMeAFz"
      },
      "source": [
        "**Solution:**\n",
        "\n",
        "Todo"
      ]
    },
    {
      "cell_type": "code",
      "execution_count": null,
      "metadata": {
        "id": "6LO_bSxseSlC"
      },
      "outputs": [],
      "source": []
    }
  ],
  "metadata": {
    "colab": {
      "provenance": []
    },
    "kernelspec": {
      "display_name": "Python 3",
      "language": "python",
      "name": "python3"
    },
    "language_info": {
      "codemirror_mode": {
        "name": "ipython",
        "version": 3
      },
      "file_extension": ".py",
      "mimetype": "text/x-python",
      "name": "python",
      "nbconvert_exporter": "python",
      "pygments_lexer": "ipython3",
      "version": "3.10.12"
    }
  },
  "nbformat": 4,
  "nbformat_minor": 0
}

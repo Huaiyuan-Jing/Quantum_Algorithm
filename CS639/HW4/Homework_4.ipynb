{
  "cells": [
    {
      "cell_type": "code",
      "execution_count": 1,
      "metadata": {
        "colab": {
          "base_uri": "https://localhost:8080/"
        },
        "collapsed": true,
        "id": "n7tvCX341AxH",
        "outputId": "2880a512-e187-40aa-f53e-ebd7f9be05c7"
      },
      "outputs": [
        {
          "name": "stdout",
          "output_type": "stream",
          "text": [
            "zsh:1: /home/hyjing/ajz7t-ucwpu/Quantum_Algorithm/.venv/bin/pip: bad interpreter: /home/hyjing/Code/Quantum_Algorithm/.venv/bin/python3: no such file or directory\n",
            "Defaulting to user installation because normal site-packages is not writeable\n",
            "Collecting git+https://github.com/jpmorganchase/QOKit.git\n",
            "  Cloning https://github.com/jpmorganchase/QOKit.git to /tmp/pip-req-build-ht8o03w6\n",
            "  Running command git clone --filter=blob:none --quiet https://github.com/jpmorganchase/QOKit.git /tmp/pip-req-build-ht8o03w6\n",
            "  Resolved https://github.com/jpmorganchase/QOKit.git to commit c0847d291d7a9fd5ffa4b979f0418d215037a8f8\n",
            "  Installing build dependencies ... \u001b[?25ldone\n",
            "\u001b[?25h  Getting requirements to build wheel ... \u001b[?25ldone\n",
            "\u001b[?25h  Preparing metadata (pyproject.toml) ... \u001b[?25ldone\n",
            "\u001b[?25hBuilding wheels for collected packages: UNKNOWN\n",
            "  Building wheel for UNKNOWN (pyproject.toml) ... \u001b[?25ldone\n",
            "\u001b[?25h  Created wheel for UNKNOWN: filename=UNKNOWN-0.0.0-cp310-cp310-linux_x86_64.whl size=5136 sha256=0700423e3e367e7acfe2cb7e6d4ad011714bdaa4c7725c7be0381ecd6d9912c7\n",
            "  Stored in directory: /tmp/pip-ephem-wheel-cache-8csnn4ix/wheels/de/ff/d4/3fb03a864afc482a5f6d56899272f3de77c3d89c4b7987d131\n",
            "Successfully built UNKNOWN\n",
            "Installing collected packages: UNKNOWN\n",
            "Successfully installed UNKNOWN-0.0.0\n",
            "zsh:1: no matches found: qiskit[visualization]\n",
            "zsh:1: /home/hyjing/ajz7t-ucwpu/Quantum_Algorithm/.venv/bin/pip: bad interpreter: /home/hyjing/Code/Quantum_Algorithm/.venv/bin/python3: no such file or directory\n",
            "Defaulting to user installation because normal site-packages is not writeable\n",
            "Collecting mqt.bench\n",
            "  Downloading mqt.bench-1.1.9-py3-none-any.whl (95 kB)\n",
            "\u001b[2K     \u001b[90m━━━━━━━━━━━━━━━━━━━━━━━━━━━━━━━━━━━━━━━━\u001b[0m \u001b[32m95.9/95.9 KB\u001b[0m \u001b[31m1.3 MB/s\u001b[0m eta \u001b[36m0:00:00\u001b[0ma \u001b[36m0:00:01\u001b[0m\n",
            "\u001b[?25hCollecting pytket-qiskit>=0.53.0\n",
            "  Downloading pytket_qiskit-0.66.0-py3-none-any.whl (56 kB)\n",
            "\u001b[2K     \u001b[90m━━━━━━━━━━━━━━━━━━━━━━━━━━━━━━━━━━━━━━━━\u001b[0m \u001b[32m56.2/56.2 KB\u001b[0m \u001b[31m5.4 MB/s\u001b[0m eta \u001b[36m0:00:00\u001b[0m\n",
            "\u001b[?25hCollecting qiskit_finance>=0.4.1\n",
            "  Downloading qiskit_finance-0.4.1-py3-none-any.whl (51 kB)\n",
            "\u001b[2K     \u001b[90m━━━━━━━━━━━━━━━━━━━━━━━━━━━━━━━━━━━━━━━━\u001b[0m \u001b[32m51.2/51.2 KB\u001b[0m \u001b[31m7.8 MB/s\u001b[0m eta \u001b[36m0:00:00\u001b[0m\n",
            "\u001b[?25hCollecting numpy>=1.22\n",
            "  Downloading numpy-2.2.4-cp310-cp310-manylinux_2_17_x86_64.manylinux2014_x86_64.whl (16.4 MB)\n",
            "\u001b[2K     \u001b[90m━━━━━━━━━━━━━━━━━━━━━━━━━━━━━━━━━━━━━━━━\u001b[0m \u001b[32m16.4/16.4 MB\u001b[0m \u001b[31m13.5 MB/s\u001b[0m eta \u001b[36m0:00:00\u001b[0m00:01\u001b[0m00:01\u001b[0m\n",
            "\u001b[?25hCollecting qiskit_optimization>=0.6\n",
            "  Downloading qiskit_optimization-0.6.1-py3-none-any.whl (167 kB)\n",
            "\u001b[2K     \u001b[90m━━━━━━━━━━━━━━━━━━━━━━━━━━━━━━━━━━━━━━━\u001b[0m \u001b[32m167.6/167.6 KB\u001b[0m \u001b[31m1.8 MB/s\u001b[0m eta \u001b[36m0:00:00\u001b[0m00:01\u001b[0m\n",
            "\u001b[?25hCollecting joblib>=1.3.0\n",
            "  Downloading joblib-1.4.2-py3-none-any.whl (301 kB)\n",
            "\u001b[2K     \u001b[90m━━━━━━━━━━━━━━━━━━━━━━━━━━━━━━━━━━━━━━\u001b[0m \u001b[32m301.8/301.8 KB\u001b[0m \u001b[31m17.6 MB/s\u001b[0m eta \u001b[36m0:00:00\u001b[0m\n",
            "\u001b[?25hCollecting qiskit_nature[pyscf]>=0.7\n",
            "  Downloading qiskit_nature-0.7.2-py3-none-any.whl (2.2 MB)\n",
            "\u001b[2K     \u001b[90m━━━━━━━━━━━━━━━━━━━━━━━━━━━━━━━━━━━━━━━━\u001b[0m \u001b[32m2.2/2.2 MB\u001b[0m \u001b[31m14.3 MB/s\u001b[0m eta \u001b[36m0:00:00\u001b[0m00:01\u001b[0m00:01\u001b[0m\n",
            "\u001b[?25hCollecting qiskit!=1.2.0\n",
            "  Downloading qiskit-2.0.0-cp39-abi3-manylinux_2_17_x86_64.manylinux2014_x86_64.whl (6.5 MB)\n",
            "\u001b[2K     \u001b[90m━━━━━━━━━━━━━━━━━━━━━━━━━━━━━━━━━━━━━━━━\u001b[0m \u001b[32m6.5/6.5 MB\u001b[0m \u001b[31m15.2 MB/s\u001b[0m eta \u001b[36m0:00:00\u001b[0m00:01\u001b[0m00:01\u001b[0m\n",
            "\u001b[?25hCollecting networkx>=2.8.8\n",
            "  Downloading networkx-3.4.2-py3-none-any.whl (1.7 MB)\n",
            "\u001b[2K     \u001b[90m━━━━━━━━━━━━━━━━━━━━━━━━━━━━━━━━━━━━━━━━\u001b[0m \u001b[32m1.7/1.7 MB\u001b[0m \u001b[31m24.2 MB/s\u001b[0m eta \u001b[36m0:00:00\u001b[0ma \u001b[36m0:00:01\u001b[0m\n",
            "\u001b[?25hCollecting pytket>=1.29.0\n",
            "  Downloading pytket-2.1.0-cp310-cp310-manylinux_2_27_x86_64.manylinux_2_28_x86_64.whl (8.4 MB)\n",
            "\u001b[2K     \u001b[90m━━━━━━━━━━━━━━━━━━━━━━━━━━━━━━━━━━━━━━━━\u001b[0m \u001b[32m8.4/8.4 MB\u001b[0m \u001b[31m17.6 MB/s\u001b[0m eta \u001b[36m0:00:00\u001b[0m00:01\u001b[0m00:01\u001b[0m\n",
            "\u001b[?25hCollecting jinja2>=3.1.4\n",
            "  Downloading jinja2-3.1.6-py3-none-any.whl (134 kB)\n",
            "\u001b[2K     \u001b[90m━━━━━━━━━━━━━━━━━━━━━━━━━━━━━━━━━━━━━━\u001b[0m \u001b[32m134.9/134.9 KB\u001b[0m \u001b[31m15.8 MB/s\u001b[0m eta \u001b[36m0:00:00\u001b[0m\n",
            "\u001b[?25hCollecting typing-extensions>=4.12.2\n",
            "  Downloading typing_extensions-4.13.1-py3-none-any.whl (45 kB)\n",
            "\u001b[2K     \u001b[90m━━━━━━━━━━━━━━━━━━━━━━━━━━━━━━━━━━━━━━━\u001b[0m \u001b[32m45.7/45.7 KB\u001b[0m \u001b[31m465.7 kB/s\u001b[0m eta \u001b[36m0:00:00\u001b[0ma \u001b[36m0:00:01\u001b[0m\n",
            "\u001b[?25hCollecting lark>=1.1.9\n",
            "  Downloading lark-1.2.2-py3-none-any.whl (111 kB)\n",
            "\u001b[2K     \u001b[90m━━━━━━━━━━━━━━━━━━━━━━━━━━━━━━━━━━━━━━━\u001b[0m \u001b[32m111.0/111.0 KB\u001b[0m \u001b[31m1.3 MB/s\u001b[0m eta \u001b[36m0:00:00\u001b[0ma \u001b[36m0:00:01\u001b[0m\n",
            "\u001b[?25hCollecting scipy>=1.13.1\n",
            "  Downloading scipy-1.15.2-cp310-cp310-manylinux_2_17_x86_64.manylinux2014_x86_64.whl (37.6 MB)\n",
            "\u001b[2K     \u001b[90m━━━━━━━━━━━━━━━━━━━━━━━━━━━━━━━━━━━━━━━━\u001b[0m \u001b[32m37.6/37.6 MB\u001b[0m \u001b[31m9.4 MB/s\u001b[0m eta \u001b[36m0:00:00\u001b[0m:00:01\u001b[0m00:01\u001b[0m\n",
            "\u001b[?25hCollecting qwasm>=1.0.1\n",
            "  Downloading qwasm-1.0.1-py3-none-any.whl (15 kB)\n",
            "Collecting graphviz>=0.20.3\n",
            "  Downloading graphviz-0.20.3-py3-none-any.whl (47 kB)\n",
            "\u001b[2K     \u001b[90m━━━━━━━━━━━━━━━━━━━━━━━━━━━━━━━━━━━━━━━━\u001b[0m \u001b[32m47.1/47.1 KB\u001b[0m \u001b[31m4.3 MB/s\u001b[0m eta \u001b[36m0:00:00\u001b[0m\n",
            "\u001b[?25hCollecting sympy>=1.12.1\n",
            "  Downloading sympy-1.13.3-py3-none-any.whl (6.2 MB)\n",
            "\u001b[2K     \u001b[90m━━━━━━━━━━━━━━━━━━━━━━━━━━━━━━━━━━━━━━━━\u001b[0m \u001b[32m6.2/6.2 MB\u001b[0m \u001b[31m17.4 MB/s\u001b[0m eta \u001b[36m0:00:00\u001b[0m00:01\u001b[0m00:01\u001b[0m\n",
            "\u001b[?25hCollecting qiskit-aer>=0.15.1\n",
            "  Downloading qiskit_aer-0.17.0-cp310-cp310-manylinux_2_17_x86_64.manylinux2014_x86_64.whl (12.3 MB)\n",
            "\u001b[2K     \u001b[90m━━━━━━━━━━━━━━━━━━━━━━━━━━━━━━━━━━━━━━━━\u001b[0m \u001b[32m12.3/12.3 MB\u001b[0m \u001b[31m20.5 MB/s\u001b[0m eta \u001b[36m0:00:00\u001b[0m00:01\u001b[0m00:01\u001b[0m\n",
            "\u001b[?25hCollecting qiskit!=1.2.0\n",
            "  Downloading qiskit-1.4.2-cp39-abi3-manylinux_2_17_x86_64.manylinux2014_x86_64.whl (6.8 MB)\n",
            "\u001b[2K     \u001b[90m━━━━━━━━━━━━━━━━━━━━━━━━━━━━━━━━━━━━━━━━\u001b[0m \u001b[32m6.8/6.8 MB\u001b[0m \u001b[31m18.5 MB/s\u001b[0m eta \u001b[36m0:00:00\u001b[0m00:01\u001b[0m00:01\u001b[0m\n",
            "\u001b[?25hCollecting qiskit-ibm-runtime>=0.37.0\n",
            "  Downloading qiskit_ibm_runtime-0.37.0-py3-none-any.whl (3.1 MB)\n",
            "\u001b[2K     \u001b[90m━━━━━━━━━━━━━━━━━━━━━━━━━━━━━━━━━━━━━━━━\u001b[0m \u001b[32m3.1/3.1 MB\u001b[0m \u001b[31m18.4 MB/s\u001b[0m eta \u001b[36m0:00:00\u001b[0m00:01\u001b[0m00:01\u001b[0m\n",
            "\u001b[?25hCollecting dill>=0.3\n",
            "  Downloading dill-0.3.9-py3-none-any.whl (119 kB)\n",
            "\u001b[2K     \u001b[90m━━━━━━━━━━━━━━━━━━━━━━━━━━━━━━━━━━━━━━\u001b[0m \u001b[32m119.4/119.4 KB\u001b[0m \u001b[31m15.6 MB/s\u001b[0m eta \u001b[36m0:00:00\u001b[0m\n",
            "\u001b[?25hCollecting stevedore>=3.0.0\n",
            "  Downloading stevedore-5.4.1-py3-none-any.whl (49 kB)\n",
            "\u001b[2K     \u001b[90m━━━━━━━━━━━━━━━━━━━━━━━━━━━━━━━━━━━━━━━━\u001b[0m \u001b[32m49.5/49.5 KB\u001b[0m \u001b[31m7.7 MB/s\u001b[0m eta \u001b[36m0:00:00\u001b[0m\n",
            "\u001b[?25hCollecting symengine<0.14,>=0.11\n",
            "  Downloading symengine-0.13.0-cp310-cp310-manylinux_2_17_x86_64.manylinux2014_x86_64.whl (49.7 MB)\n",
            "\u001b[2K     \u001b[90m━━━━━━━━━━━━━━━━━━━━━━━━━━━━━━━━━━━━━━━━\u001b[0m \u001b[32m49.7/49.7 MB\u001b[0m \u001b[31m10.5 MB/s\u001b[0m eta \u001b[36m0:00:00\u001b[0m00:01\u001b[0m00:01\u001b[0m\n",
            "\u001b[?25hCollecting rustworkx>=0.15.0\n",
            "  Downloading rustworkx-0.16.0-cp39-abi3-manylinux_2_17_x86_64.manylinux2014_x86_64.whl (2.1 MB)\n",
            "\u001b[2K     \u001b[90m━━━━━━━━━━━━━━━━━━━━━━━━━━━━━━━━━━━━━━━━\u001b[0m \u001b[32m2.1/2.1 MB\u001b[0m \u001b[31m16.3 MB/s\u001b[0m eta \u001b[36m0:00:00\u001b[0m00:01\u001b[0m00:01\u001b[0m\n",
            "\u001b[?25hCollecting python-dateutil>=2.8.0\n",
            "  Downloading python_dateutil-2.9.0.post0-py2.py3-none-any.whl (229 kB)\n",
            "\u001b[2K     \u001b[90m━━━━━━━━━━━━━━━━━━━━━━━━━━━━━━━━━━━━━━\u001b[0m \u001b[32m229.9/229.9 KB\u001b[0m \u001b[31m15.0 MB/s\u001b[0m eta \u001b[36m0:00:00\u001b[0m\n",
            "\u001b[?25hRequirement already satisfied: certifi in /usr/lib/python3/dist-packages (from qiskit_finance>=0.4.1->mqt.bench) (2020.6.20)\n",
            "Collecting nasdaq-data-link\n",
            "  Downloading Nasdaq_Data_Link-1.0.4-py2.py3-none-any.whl (28 kB)\n",
            "Collecting fastdtw\n",
            "  Downloading fastdtw-0.3.4.tar.gz (133 kB)\n",
            "\u001b[2K     \u001b[90m━━━━━━━━━━━━━━━━━━━━━━━━━━━━━━━━━━━━━━\u001b[0m \u001b[32m133.4/133.4 KB\u001b[0m \u001b[31m20.3 MB/s\u001b[0m eta \u001b[36m0:00:00\u001b[0m\n",
            "\u001b[?25h  Preparing metadata (setup.py) ... \u001b[?25ldone\n",
            "\u001b[?25hRequirement already satisfied: psutil>=5 in /home/hyjing/.local/lib/python3.10/site-packages (from qiskit_finance>=0.4.1->mqt.bench) (6.1.1)\n",
            "Requirement already satisfied: setuptools>=40.1.0 in /usr/lib/python3/dist-packages (from qiskit_finance>=0.4.1->mqt.bench) (59.6.0)\n",
            "Requirement already satisfied: urllib3 in /usr/local/lib/python3.10/dist-packages (from qiskit_finance>=0.4.1->mqt.bench) (1.25.11)\n",
            "Collecting pandas\n",
            "  Downloading pandas-2.2.3-cp310-cp310-manylinux_2_17_x86_64.manylinux2014_x86_64.whl (13.1 MB)\n",
            "\u001b[2K     \u001b[90m━━━━━━━━━━━━━━━━━━━━━━━━━━━━━━━━━━━━━━━━\u001b[0m \u001b[32m13.1/13.1 MB\u001b[0m \u001b[31m19.7 MB/s\u001b[0m eta \u001b[36m0:00:00\u001b[0m00:01\u001b[0m00:01\u001b[0m\n",
            "\u001b[?25hCollecting yfinance>=0.1.70\n",
            "  Downloading yfinance-0.2.55-py2.py3-none-any.whl (109 kB)\n",
            "\u001b[2K     \u001b[90m━━━━━━━━━━━━━━━━━━━━━━━━━━━━━━━━━━━━━━━\u001b[0m \u001b[32m109.8/109.8 KB\u001b[0m \u001b[31m9.5 MB/s\u001b[0m eta \u001b[36m0:00:00\u001b[0m\n",
            "\u001b[?25hCollecting qiskit-algorithms>=0.2.0\n",
            "  Downloading qiskit_algorithms-0.3.1-py3-none-any.whl (310 kB)\n",
            "\u001b[2K     \u001b[90m━━━━━━━━━━━━━━━━━━━━━━━━━━━━━━━━━━━━━━\u001b[0m \u001b[32m310.5/310.5 KB\u001b[0m \u001b[31m20.6 MB/s\u001b[0m eta \u001b[36m0:00:00\u001b[0m\n",
            "\u001b[?25hCollecting h5py\n",
            "  Downloading h5py-3.13.0-cp310-cp310-manylinux_2_17_x86_64.manylinux2014_x86_64.whl (4.5 MB)\n",
            "\u001b[2K     \u001b[90m━━━━━━━━━━━━━━━━━━━━━━━━━━━━━━━━━━━━━━━━\u001b[0m \u001b[32m4.5/4.5 MB\u001b[0m \u001b[31m19.0 MB/s\u001b[0m eta \u001b[36m0:00:00\u001b[0m00:01\u001b[0m00:01\u001b[0m\n",
            "\u001b[?25hCollecting pyscf\n",
            "  Downloading pyscf-2.8.0-py3-none-manylinux_2_17_x86_64.manylinux2014_x86_64.whl (50.9 MB)\n",
            "\u001b[2K     \u001b[90m━━━━━━━━━━━━━━━━━━━━━━━━━━━━━━━━━━━━━━━━\u001b[0m \u001b[32m50.9/50.9 MB\u001b[0m \u001b[31m13.4 MB/s\u001b[0m eta \u001b[36m0:00:00\u001b[0m00:01\u001b[0m00:01\u001b[0m\n",
            "\u001b[?25hCollecting docplex!=2.24.231,>=2.21.207\n",
            "  Downloading docplex-2.29.241.tar.gz (645 kB)\n",
            "\u001b[2K     \u001b[90m━━━━━━━━━━━━━━━━━━━━━━━━━━━━━━━━━━━━━━\u001b[0m \u001b[32m645.5/645.5 KB\u001b[0m \u001b[31m13.4 MB/s\u001b[0m eta \u001b[36m0:00:00\u001b[0m00:01\u001b[0m\n",
            "\u001b[?25h  Installing build dependencies ... \u001b[?25ldone\n",
            "\u001b[?25h  Getting requirements to build wheel ... \u001b[?25ldone\n",
            "\u001b[?25h  Installing backend dependencies ... \u001b[?25ldone\n",
            "\u001b[?25h  Preparing metadata (pyproject.toml) ... \u001b[?25ldone\n",
            "\u001b[?25hRequirement already satisfied: six in /usr/lib/python3/dist-packages (from docplex!=2.24.231,>=2.21.207->qiskit_optimization>=0.6->mqt.bench) (1.16.0)\n",
            "Collecting MarkupSafe>=2.0\n",
            "  Downloading MarkupSafe-3.0.2-cp310-cp310-manylinux_2_17_x86_64.manylinux2014_x86_64.whl (20 kB)\n",
            "Collecting requests-ntlm>=1.1.0\n",
            "  Downloading requests_ntlm-1.3.0-py3-none-any.whl (6.6 kB)\n",
            "Collecting websocket-client>=1.5.1\n",
            "  Downloading websocket_client-1.8.0-py3-none-any.whl (58 kB)\n",
            "\u001b[2K     \u001b[90m━━━━━━━━━━━━━━━━━━━━━━━━━━━━━━━━━━━━━━━━\u001b[0m \u001b[32m58.8/58.8 KB\u001b[0m \u001b[31m10.8 MB/s\u001b[0m eta \u001b[36m0:00:00\u001b[0m\n",
            "\u001b[?25hRequirement already satisfied: requests>=2.19 in /usr/local/lib/python3.10/dist-packages (from qiskit-ibm-runtime>=0.37.0->pytket-qiskit>=0.53.0->mqt.bench) (2.23.0)\n",
            "Collecting pydantic<2.10,>=2.5.0\n",
            "  Downloading pydantic-2.9.2-py3-none-any.whl (434 kB)\n",
            "\u001b[2K     \u001b[90m━━━━━━━━━━━━━━━━━━━━━━━━━━━━━━━━━━━━━━\u001b[0m \u001b[32m434.9/434.9 KB\u001b[0m \u001b[31m22.8 MB/s\u001b[0m eta \u001b[36m0:00:00\u001b[0m\n",
            "\u001b[?25hCollecting packaging\n",
            "  Downloading packaging-24.2-py3-none-any.whl (65 kB)\n",
            "\u001b[2K     \u001b[90m━━━━━━━━━━━━━━━━━━━━━━━━━━━━━━━━━━━━━━━━\u001b[0m \u001b[32m65.5/65.5 KB\u001b[0m \u001b[31m5.4 MB/s\u001b[0m eta \u001b[36m0:00:00\u001b[0m\n",
            "\u001b[?25hCollecting ibm-platform-services>=0.22.6\n",
            "  Downloading ibm_platform_services-0.63.0-py3-none-any.whl (352 kB)\n",
            "\u001b[2K     \u001b[90m━━━━━━━━━━━━━━━━━━━━━━━━━━━━━━━━━━━━━━\u001b[0m \u001b[32m353.0/353.0 KB\u001b[0m \u001b[31m21.3 MB/s\u001b[0m eta \u001b[36m0:00:00\u001b[0m\n",
            "\u001b[?25hCollecting pbr>=2.0.0\n",
            "  Downloading pbr-6.1.1-py2.py3-none-any.whl (108 kB)\n",
            "\u001b[2K     \u001b[90m━━━━━━━━━━━━━━━━━━━━━━━━━━━━━━━━━━━━━━\u001b[0m \u001b[32m109.0/109.0 KB\u001b[0m \u001b[31m11.0 MB/s\u001b[0m eta \u001b[36m0:00:00\u001b[0m\n",
            "\u001b[?25hCollecting mpmath<1.4,>=1.1.0\n",
            "  Downloading mpmath-1.3.0-py3-none-any.whl (536 kB)\n",
            "\u001b[2K     \u001b[90m━━━━━━━━━━━━━━━━━━━━━━━━━━━━━━━━━━━━━━\u001b[0m \u001b[32m536.2/536.2 KB\u001b[0m \u001b[31m13.7 MB/s\u001b[0m eta \u001b[36m0:00:00\u001b[0m00:01\u001b[0m\n",
            "\u001b[?25hCollecting requests>=2.19\n",
            "  Downloading requests-2.32.3-py3-none-any.whl (64 kB)\n",
            "\u001b[2K     \u001b[90m━━━━━━━━━━━━━━━━━━━━━━━━━━━━━━━━━━━━━━━━\u001b[0m \u001b[32m64.9/64.9 KB\u001b[0m \u001b[31m5.1 MB/s\u001b[0m eta \u001b[36m0:00:00\u001b[0m\n",
            "\u001b[?25hCollecting pytz>=2022.5\n",
            "  Downloading pytz-2025.2-py2.py3-none-any.whl (509 kB)\n",
            "\u001b[2K     \u001b[90m━━━━━━━━━━━━━━━━━━━━━━━━━━━━━━━━━━━━━━━\u001b[0m \u001b[32m509.2/509.2 KB\u001b[0m \u001b[31m8.5 MB/s\u001b[0m eta \u001b[36m0:00:00\u001b[0ma \u001b[36m0:00:01\u001b[0m\n",
            "\u001b[?25hCollecting multitasking>=0.0.7\n",
            "  Downloading multitasking-0.0.11-py3-none-any.whl (8.5 kB)\n",
            "Collecting peewee>=3.16.2\n",
            "  Using cached peewee-3.17.9-py3-none-any.whl\n",
            "Collecting beautifulsoup4>=4.11.1\n",
            "  Downloading beautifulsoup4-4.13.3-py3-none-any.whl (186 kB)\n",
            "\u001b[2K     \u001b[90m━━━━━━━━━━━━━━━━━━━━━━━━━━━━━━━━━━━━━━\u001b[0m \u001b[32m186.0/186.0 KB\u001b[0m \u001b[31m13.4 MB/s\u001b[0m eta \u001b[36m0:00:00\u001b[0m\n",
            "\u001b[?25hCollecting frozendict>=2.3.4\n",
            "  Downloading frozendict-2.4.6-cp310-cp310-manylinux_2_17_x86_64.manylinux2014_x86_64.whl (117 kB)\n",
            "\u001b[2K     \u001b[90m━━━━━━━━━━━━━━━━━━━━━━━━━━━━━━━━━━━━━━\u001b[0m \u001b[32m117.4/117.4 KB\u001b[0m \u001b[31m17.4 MB/s\u001b[0m eta \u001b[36m0:00:00\u001b[0m\n",
            "\u001b[?25hCollecting platformdirs>=2.0.0\n",
            "  Downloading platformdirs-4.3.7-py3-none-any.whl (18 kB)\n",
            "Collecting tzdata>=2022.7\n",
            "  Downloading tzdata-2025.2-py2.py3-none-any.whl (347 kB)\n",
            "\u001b[2K     \u001b[90m━━━━━━━━━━━━━━━━━━━━━━━━━━━━━━━━━━━━━━\u001b[0m \u001b[32m347.8/347.8 KB\u001b[0m \u001b[31m21.6 MB/s\u001b[0m eta \u001b[36m0:00:00\u001b[0m\n",
            "\u001b[?25hRequirement already satisfied: more-itertools in /usr/lib/python3/dist-packages (from nasdaq-data-link->qiskit_finance>=0.4.1->mqt.bench) (8.10.0)\n",
            "Collecting inflection>=0.3.1\n",
            "  Downloading inflection-0.5.1-py2.py3-none-any.whl (9.5 kB)\n",
            "Requirement already satisfied: soupsieve>1.2 in /usr/lib/python3/dist-packages (from beautifulsoup4>=4.11.1->yfinance>=0.1.70->qiskit_finance>=0.4.1->mqt.bench) (2.3.1)\n",
            "Collecting ibm_cloud_sdk_core<4.0.0,>=3.22.1\n",
            "  Downloading ibm_cloud_sdk_core-3.23.0-py3-none-any.whl (69 kB)\n",
            "\u001b[2K     \u001b[90m━━━━━━━━━━━━━━━━━━━━━━━━━━━━━━━━━━━━━━━━\u001b[0m \u001b[32m69.5/69.5 KB\u001b[0m \u001b[31m15.8 MB/s\u001b[0m eta \u001b[36m0:00:00\u001b[0m\n",
            "\u001b[?25hCollecting annotated-types>=0.6.0\n",
            "  Downloading annotated_types-0.7.0-py3-none-any.whl (13 kB)\n",
            "Collecting pydantic-core==2.23.4\n",
            "  Downloading pydantic_core-2.23.4-cp310-cp310-manylinux_2_17_x86_64.manylinux2014_x86_64.whl (2.1 MB)\n",
            "\u001b[2K     \u001b[90m━━━━━━━━━━━━━━━━━━━━━━━━━━━━━━━━━━━━━━━━\u001b[0m \u001b[32m2.1/2.1 MB\u001b[0m \u001b[31m15.2 MB/s\u001b[0m eta \u001b[36m0:00:00\u001b[0ma \u001b[36m0:00:01\u001b[0m\n",
            "\u001b[?25hRequirement already satisfied: idna<4,>=2.5 in /usr/local/lib/python3.10/dist-packages (from requests>=2.19->qiskit-ibm-runtime>=0.37.0->pytket-qiskit>=0.53.0->mqt.bench) (2.10)\n",
            "Collecting charset-normalizer<4,>=2\n",
            "  Downloading charset_normalizer-3.4.1-cp310-cp310-manylinux_2_17_x86_64.manylinux2014_x86_64.whl (146 kB)\n",
            "\u001b[2K     \u001b[90m━━━━━━━━━━━━━━━━━━━━━━━━━━━━━━━━━━━━━━━\u001b[0m \u001b[32m146.1/146.1 KB\u001b[0m \u001b[31m9.9 MB/s\u001b[0m eta \u001b[36m0:00:00\u001b[0m\n",
            "\u001b[?25hRequirement already satisfied: cryptography>=1.3 in /usr/lib/python3/dist-packages (from requests-ntlm>=1.1.0->qiskit-ibm-runtime>=0.37.0->pytket-qiskit>=0.53.0->mqt.bench) (3.4.8)\n",
            "Collecting pyspnego>=0.4.0\n",
            "  Downloading pyspnego-0.11.2-py3-none-any.whl (130 kB)\n",
            "\u001b[2K     \u001b[90m━━━━━━━━━━━━━━━━━━━━━━━━━━━━━━━━━━━━━━━\u001b[0m \u001b[32m130.5/130.5 KB\u001b[0m \u001b[31m9.4 MB/s\u001b[0m eta \u001b[36m0:00:00\u001b[0m\n",
            "\u001b[?25hCollecting urllib3\n",
            "  Downloading urllib3-2.3.0-py3-none-any.whl (128 kB)\n",
            "\u001b[2K     \u001b[90m━━━━━━━━━━━━━━━━━━━━━━━━━━━━━━━━━━━━━━\u001b[0m \u001b[32m128.4/128.4 KB\u001b[0m \u001b[31m11.8 MB/s\u001b[0m eta \u001b[36m0:00:00\u001b[0m\n",
            "\u001b[?25hCollecting PyJWT<3.0.0,>=2.8.0\n",
            "  Downloading PyJWT-2.10.1-py3-none-any.whl (22 kB)\n",
            "Building wheels for collected packages: docplex, fastdtw\n",
            "  Building wheel for docplex (pyproject.toml) ... \u001b[?25ldone\n",
            "\u001b[?25h  Created wheel for docplex: filename=docplex-2.29.241-py3-none-any.whl size=685445 sha256=a863bfbd27ecb1b9f276208feb88dcf4b785aad21616a6cc87c68502f8e6b2c1\n",
            "  Stored in directory: /home/hyjing/.cache/pip/wheels/2b/15/6e/eba2382ab6bc3f35194a62d3b007916ececf6f07139cac6795\n",
            "  Building wheel for fastdtw (setup.py) ... \u001b[?25ldone\n",
            "\u001b[?25h  Created wheel for fastdtw: filename=fastdtw-0.3.4-py3-none-any.whl size=3582 sha256=bf891e6311ad2eda682b2721bed342280f6f592354fcc9fae6b95f714cd2c846\n",
            "  Stored in directory: /home/hyjing/.cache/pip/wheels/73/c8/f7/c25448dab74c3acf4848bc25d513c736bb93910277e1528ef4\n",
            "Successfully built docplex fastdtw\n",
            "Installing collected packages: pytz, peewee, multitasking, mpmath, websocket-client, urllib3, tzdata, typing-extensions, sympy, symengine, qwasm, python-dateutil, pyspnego, PyJWT, platformdirs, pbr, packaging, numpy, networkx, MarkupSafe, lark, joblib, inflection, graphviz, frozendict, docplex, dill, charset-normalizer, annotated-types, stevedore, scipy, rustworkx, requests, pydantic-core, pandas, jinja2, h5py, fastdtw, beautifulsoup4, yfinance, requests-ntlm, qiskit, pytket, pyscf, pydantic, nasdaq-data-link, ibm_cloud_sdk_core, qiskit-algorithms, qiskit-aer, ibm-platform-services, qiskit_optimization, qiskit_nature, qiskit-ibm-runtime, qiskit_finance, pytket-qiskit, mqt.bench\n",
            "Successfully installed MarkupSafe-3.0.2 PyJWT-2.10.1 annotated-types-0.7.0 beautifulsoup4-4.13.3 charset-normalizer-3.4.1 dill-0.3.9 docplex-2.29.241 fastdtw-0.3.4 frozendict-2.4.6 graphviz-0.20.3 h5py-3.13.0 ibm-platform-services-0.63.0 ibm_cloud_sdk_core-3.23.0 inflection-0.5.1 jinja2-3.1.6 joblib-1.4.2 lark-1.2.2 mpmath-1.3.0 mqt.bench-1.1.9 multitasking-0.0.11 nasdaq-data-link-1.0.4 networkx-3.4.2 numpy-2.2.4 packaging-24.2 pandas-2.2.3 pbr-6.1.1 peewee-3.17.9 platformdirs-4.3.7 pydantic-2.9.2 pydantic-core-2.23.4 pyscf-2.8.0 pyspnego-0.11.2 python-dateutil-2.9.0.post0 pytket-2.1.0 pytket-qiskit-0.66.0 pytz-2025.2 qiskit-1.4.2 qiskit-aer-0.17.0 qiskit-algorithms-0.3.1 qiskit-ibm-runtime-0.37.0 qiskit_finance-0.4.1 qiskit_nature-0.7.2 qiskit_optimization-0.6.1 qwasm-1.0.1 requests-2.32.3 requests-ntlm-1.3.0 rustworkx-0.16.0 scipy-1.15.2 stevedore-5.4.1 symengine-0.13.0 sympy-1.13.3 typing-extensions-4.13.1 tzdata-2025.2 urllib3-2.3.0 websocket-client-1.8.0 yfinance-0.2.55\n"
          ]
        }
      ],
      "source": [
        "!pip install git+https://github.com/jpmorganchase/QOKit.git\n",
        "!pip install qiskit[visualization] qiskit-optimization qiskit-aer\n",
        "!pip install mqt.bench\n"
      ]
    },
    {
      "cell_type": "markdown",
      "metadata": {
        "id": "12ieK7nJw2O9"
      },
      "source": [
        "\n",
        "### **Q1: Evaluating the Effectiveness of Native Gate Sets Across Quantum Hardware Platforms  [6 points]**\n",
        "\n",
        "\n",
        "---\n",
        "\n",
        "\n",
        "Consider the following four quantum hardware platforms, each with its own native gate set:\n",
        "\n",
        "1. IBM (Superconducting)\n",
        "2. IonQ (Trapped Ions)\n",
        "3. Quantinuum (Trapped Ions)\n",
        "\n",
        "**(a)** Using a **technology-agnostic benchmarking approach**, identify which platform’s native gate set is **most effective** in minimizing **circuit depth** and **gate count** across a range of quantum algorithms and problem sizes. Please follow, the following steps\n",
        "\n",
        "1. **Generate and compile circuits** for the above benchmarks using the MQT Bench tool:  \n",
        "* https://github.com/cda-tum/mqt-bench\n",
        "   \n",
        "\n",
        "2. **Compile each benchmark circuit** to the native gate set of each platform using MQT bench, use benchmarks with qubits 5,10,15,25, 35, 45.\n",
        "* https://mqt.readthedocs.io/projects/bench/en/latest/Parameter.html\n",
        "\n",
        "\n",
        "\n",
        "\n",
        "**(b)** Estimate the SWAP overhead for each benchmark for IonQ Aria 1 (25 Qubits),\n",
        "Quantinuum H2 (32 Qubits), and  IBM Montreal (27 Qubits). Use the connectivity map in the code window below for the machines.\n",
        "\n",
        "\n",
        "\n",
        "and use the following table to estimate the execution time for benchmarks with qubits 5,10,15,25, 35. Use qiskit's mapping and routing pass. Note use the connectivity specified below, we have altered for pedagogical purposes.\n",
        "\n",
        "| Platform           | Native Gates                   | Connectivity       | 1Q Gate Time | 2Q Gate Time | Coherence Time (T₁/T₂)     | Readout Latency |\n",
        "|--------------------|--------------------------------|--------------------|--------------|--------------|-----------------------------|------------------|\n",
        "| **IonQ Aria 1**    | Arbitrary 1Q, **XX(θ)**         | Somewhat Fully connected    | 10 µs        | 100 µs       | 1,000 ms / 1,000 ms         | 1 ms             |\n",
        "| **Quantinuum H2**  | Arbitrary 1Q, **ZZ(θ)**         | Somewhat Fully connected    | 10 µs        | 150 µs       | 500 ms / 500 ms             | 1 ms             |\n",
        "| **IBM Montreal**   | Rx(π/2), Rz(θ), **CX**          | Heavy-hex (sparse) | 20 ns        | 200 ns       | 100 µs / 100 µs             | 200 µs           |\n",
        "           |"
      ]
    },
    {
      "cell_type": "code",
      "execution_count": null,
      "metadata": {
        "id": "BGDu3kcM9X4b"
      },
      "outputs": [],
      "source": [
        "\n",
        "Quantinuum_H2_32=[\n",
        " (0, 1), (0, 2), (0, 3), (0, 4), (0, 5), (0, 6), (0, 7),\n",
        " (1, 2), (1, 3), (1, 4), (1, 5), (1, 6), (1, 7),\n",
        " (2, 3), (2, 4), (2, 5), (2, 6), (2, 7),\n",
        " (3, 4), (3, 5), (3, 6), (3, 7),\n",
        " (4, 5), (4, 6), (4, 7),\n",
        " (5, 6), (5, 7),\n",
        " (6, 7),\n",
        " (7, 8),  # inter-group connection\n",
        "\n",
        " (8, 9), (8, 10), (8, 11), (8, 12), (8, 13), (8, 14), (8, 15),\n",
        " (9, 10), (9, 11), (9, 12), (9, 13), (9, 14), (9, 15),\n",
        " (10, 11), (10, 12), (10, 13), (10, 14), (10, 15),\n",
        " (11, 12), (11, 13), (11, 14), (11, 15),\n",
        " (12, 13), (12, 14), (12, 15),\n",
        " (13, 14), (13, 15),\n",
        " (14, 15),\n",
        " (15, 16),  # inter-group connection\n",
        "\n",
        " (16, 17), (16, 18), (16, 19), (16, 20), (16, 21), (16, 22), (16, 23),\n",
        " (17, 18), (17, 19), (17, 20), (17, 21), (17, 22), (17, 23),\n",
        " (18, 19), (18, 20), (18, 21), (18, 22), (18, 23),\n",
        " (19, 20), (19, 21), (19, 22), (19, 23),\n",
        " (20, 21), (20, 22), (20, 23),\n",
        " (21, 22), (21, 23),\n",
        " (22, 23),\n",
        " (23, 24),  # inter-group connection\n",
        "\n",
        " (24, 25), (24, 26), (24, 27), (24, 28), (24, 29), (24, 30), (24, 31),\n",
        " (25, 26), (25, 27), (25, 28), (25, 29), (25, 30), (25, 31),\n",
        " (26, 27), (26, 28), (26, 29), (26, 30), (26, 31),\n",
        " (27, 28), (27, 29), (27, 30), (27, 31),\n",
        " (28, 29), (28, 30), (28, 31),\n",
        " (29, 30), (29, 31),\n",
        " (30, 31)\n",
        "]\n",
        "\n",
        "\n",
        "IonQ_25=[\n",
        " (0, 1), (0, 2), (0, 3), (0, 4),\n",
        " (1, 2), (1, 3), (1, 4),\n",
        " (2, 3), (2, 4),\n",
        " (3, 4),\n",
        " (4, 5),\n",
        "\n",
        " (5, 6), (5, 7), (5, 8), (5, 9),\n",
        " (6, 7), (6, 8), (6, 9),\n",
        " (7, 8), (7, 9),\n",
        " (8, 9),\n",
        " (9, 10),\n",
        "\n",
        " (10, 11), (10, 12), (10, 13), (10, 14),\n",
        " (11, 12), (11, 13), (11, 14),\n",
        " (12, 13), (12, 14),\n",
        " (13, 14),\n",
        " (14, 15),\n",
        "\n",
        " (15, 16), (15, 17), (15, 18), (15, 19),\n",
        " (16, 17), (16, 18), (16, 19),\n",
        " (17, 18), (17, 19),\n",
        " (18, 19),\n",
        " (19, 20),\n",
        "\n",
        " (20, 21), (20, 22), (20, 23), (20, 24),\n",
        " (21, 22), (21, 23), (21, 24),\n",
        " (22, 23), (22, 24),\n",
        " (23, 24)\n",
        "]\n",
        "\n",
        "\n",
        "edges_IBM_27 = [\n",
        "    (0, 1), (1, 2), (2, 3),\n",
        "    (3, 4), (4, 5), (5, 6),\n",
        "    (6, 7), (7, 8), (8, 9),\n",
        "    (1, 10), (3, 11), (5, 12), (7, 13), (9, 14),\n",
        "    (10, 11), (11, 12), (12, 13), (13, 14),\n",
        "    (10, 15), (11, 16), (12, 17), (13, 18), (14, 19),\n",
        "    (15, 16), (16, 17), (17, 18), (18, 19),\n",
        "    (15, 20), (16, 21), (17, 22), (18, 23), (19, 24),\n",
        "    (20, 21), (21, 22), (22, 23), (23, 24),\n",
        "    (21, 25), (23, 26)\n",
        "]\n",
        "\n",
        "\n",
        "\n"
      ]
    },
    {
      "cell_type": "markdown",
      "metadata": {
        "id": "JmQb2aF8w2fz"
      },
      "source": [
        "(c) Estimate the fidelity using noisy simulation for the listed benchmarks for 5- and 10-qubit instances per platform. When estimating the fidelity model idling errors. Use equation (9) and (10) from https://arxiv.org/abs/1404.3747 , assume when gates have no operational dependence we can perform them in parallel and there is no crosstalk. Clearly state **Your conclusion:** Which hardware platform is most effective overall, and why?\n",
        "\n",
        "\n",
        "\n",
        "| Platform           | 1Q Gate Fidelity       | 2Q Gate Fidelity       | Readout Fidelity                                  |\n",
        "|--------------------|------------------------|-------------------------|----------------------------------------|\n",
        "| **IonQ Aria 1**    | 99.9%                | 99%                 |  99.99% |\n",
        "| **Quantinuum H2**  |  99.97%               | 98%                 |    99.99%        |\n",
        "| **IBM Montreal**   |  99.9%                | 98.5%               | 97%\n",
        "\n",
        "\n",
        "---\n",
        "\n",
        "**Benchmarks:**  \n",
        "Use the following **representative quantum applications** for your evaluations:\n",
        "\n",
        "1. Amplitude Estimation (AE)  \n",
        "2. Graph State Preparation (GSP)\n",
        "3. Portfolio Optimization with QAOA (PoQAOA)  \n",
        "4. Portfolio Optimization with VQE  (PoVQE)\n",
        "5. Quantum Approximate Optimization Algorithm (QAOA)  \n",
        "6. Quantum Fourier Transform (QFT)  \n",
        "7. Quantum Neural Network (QNN)  \n",
        "8. Variational Quantum Eigensolver (VQE)  \n",
        "9. W-State Preparation (W-state)\n",
        "\n",
        "---"
      ]
    },
    {
      "cell_type": "code",
      "execution_count": null,
      "metadata": {
        "colab": {
          "base_uri": "https://localhost:8080/"
        },
        "collapsed": true,
        "id": "x8uzT1JMIPcu",
        "outputId": "2e6c94c7-63e4-46a6-c506-2e6990c64ae1"
      },
      "outputs": [
        {
          "name": "stdout",
          "output_type": "stream",
          "text": [
            "                            ┌───┐ ░ ┌─┐            \n",
            "   q_0: ────────────────────┤ X ├─░─┤M├────────────\n",
            "                       ┌───┐└─┬─┘ ░ └╥┘┌─┐         \n",
            "   q_1: ───────────────┤ X ├──■───░──╫─┤M├─────────\n",
            "                  ┌───┐└─┬─┘      ░  ║ └╥┘┌─┐      \n",
            "   q_2: ──────────┤ X ├──■────────░──╫──╫─┤M├──────\n",
            "             ┌───┐└─┬─┘           ░  ║  ║ └╥┘┌─┐   \n",
            "   q_3: ─────┤ X ├──■─────────────░──╫──╫──╫─┤M├───\n",
            "        ┌───┐└─┬─┘                ░  ║  ║  ║ └╥┘┌─┐\n",
            "   q_4: ┤ H ├──■──────────────────░──╫──╫──╫──╫─┤M├\n",
            "        └───┘                     ░  ║  ║  ║  ║ └╥┘\n",
            "meas: 5/═════════════════════════════╩══╩══╩══╩══╩═\n",
            "                                     0  1  2  3  4 \n"
          ]
        }
      ],
      "source": [
        "# check if mqt bench is working\n",
        "from mqt.bench import get_benchmark\n",
        "\n",
        "# get a benchmark circuit on algorithmic level representing the GHZ state with 5 qubits\n",
        "qc_algorithmic_level = get_benchmark(benchmark_name=\"ghz\", level=\"alg\", circuit_size=5)\n",
        "\n",
        "# draw the circuit\n",
        "print(qc_algorithmic_level.draw())"
      ]
    },
    {
      "cell_type": "code",
      "execution_count": null,
      "metadata": {
        "id": "4ux36TO-IwZF"
      },
      "outputs": [],
      "source": [
        "# Add your code Q1a"
      ]
    },
    {
      "cell_type": "markdown",
      "metadata": {
        "id": "nFBeoPVRaqkQ"
      },
      "source": [
        "ToDO: Analysis"
      ]
    },
    {
      "cell_type": "markdown",
      "metadata": {
        "id": "f6nE4VIXjP7c"
      },
      "source": [
        "# Q2: Zero Noise Extrapolation [4 points + 1 point]\n",
        "\n",
        "\n",
        "(a) Use 8-node QAOA with P=2 example from HW-3 Q2 and show that ZNE can significantly improve expected cost estimate. Use the idetical noise configuration as superconducting hardware described in Q1 and connectivity map to compile your circuit and perform ZNE using folded CX gates (local folding) to modulate noise levels. Make sure the additional \"CX\" gates are introduced after the mapping and routing pass. Use three noise levels -- (1) No gate folding (2) gate folding only on second layer of QAOA (3) gate folding on both layers of QAOA.  \n",
        "\n",
        "\n",
        "\n",
        "(b) You have three options -- (1) use ZNE on fast but noisy IBM machine (2) use slower but more reliable H2 machine without ZNE or (3) Aria IonQ hardware without ZNE, which is the best option? Backup your claim with numerical simulations.    \n",
        "\n",
        "\n",
        "\n",
        "(c) Can you do better than (a) without increasing the total execution time ? [Extra Credit]"
      ]
    },
    {
      "cell_type": "code",
      "execution_count": null,
      "metadata": {
        "id": "gQaVeuoUayMk"
      },
      "outputs": [],
      "source": [
        "# Code for Q2"
      ]
    },
    {
      "cell_type": "markdown",
      "metadata": {
        "id": "EWXQx_SsjQJi"
      },
      "source": [
        "TODO Q2"
      ]
    },
    {
      "cell_type": "markdown",
      "metadata": {
        "id": "6sDA3PNwBvCl"
      },
      "source": [
        "# Q3: Unitary Synthesis [3 points]\n",
        "\n",
        "In this problem, you'll implement a brute force, approximate, single-qubit unitary synthesis algorithm using the Clifford + T gate set. It has been broken down into small parts, so don't be intimidated by the number of subquestions."
      ]
    },
    {
      "cell_type": "markdown",
      "metadata": {
        "id": "DP09adUmThgU"
      },
      "source": [
        "## Part A: Hilbert-Schmidt distance\n",
        "\n",
        "Our algorithm should guarantee the output circuit is close to the target unitary. This distance can be quantified using something called the Hilbert-Schmidt distance, where $n$ is the number of qubits:\n",
        "$$HS(U_1, U_2) := \\sqrt{1-\\frac{| Tr(U_1^\\dagger U_2)| ^2}{2^{2n}}}$$\n",
        "\n",
        "This outputs a value between 0 and 1 (inclusive) that indicates how close the two untaries are. 0 means they are equal up to global phase and 1 means they are very not equal.\n",
        "\n",
        "Is this distance function symmetric? i.e. is $HS(U_1, U_2)$ equal to $HS(U_2, U_1)$? Either prove it is symmetric or provide a counterexample."
      ]
    },
    {
      "cell_type": "markdown",
      "metadata": {
        "id": "QEcnmSOoYolX"
      },
      "source": [
        "Type your answer below:\n",
        "\n",
        "TODO"
      ]
    },
    {
      "cell_type": "markdown",
      "metadata": {
        "id": "udkWefsIBwxZ"
      },
      "source": [
        "## Part B: Implement the Hilbert-Schmidt distance function\n",
        "\n",
        "Fill in the function below to compute the Hilbert-Schmidt (HS) distance."
      ]
    },
    {
      "cell_type": "code",
      "execution_count": null,
      "metadata": {
        "id": "g7IAW4lvRleM"
      },
      "outputs": [],
      "source": [
        "import numpy as np\n",
        "from numpy.typing import NDArray\n",
        "from qiskit import QuantumCircuit\n",
        "from qiskit.quantum_info import Operator\n",
        "\n",
        "def get_unitary_from_circuit(circuit: QuantumCircuit):\n",
        "  return Operator(circuit).data\n",
        "\n",
        "def hilbert_schmidt(unitary1: NDArray, unitary2: NDArray) -> float:\n",
        "  pass # TODO: write your code here. You may find some numpy methods to be particularly helpful.\n",
        "\n",
        "# A test. Do not delete anything below this and make sure the output is included in your submission.\n",
        "target_unitary = np.matrix([[-0.63093663-0.52401339j,  0.2720076 +0.50332971j],\n",
        "       [ 0.42561408+0.38233701j,  0.36164925+0.73612559j]])\n",
        "circuit = QuantumCircuit(1)\n",
        "circuit.h(0)\n",
        "circuit.s(0)\n",
        "circuit.t(0)\n",
        "\n",
        "print(hilbert_schmidt(target_unitary, get_unitary_from_circuit(circuit)))"
      ]
    },
    {
      "cell_type": "markdown",
      "metadata": {
        "id": "3tITML5_jV_y"
      },
      "source": [
        "Is the unitary this circuit implements close to the target unitary?"
      ]
    },
    {
      "cell_type": "markdown",
      "metadata": {
        "id": "PgjKi2c9jcF2"
      },
      "source": [
        "Type your answer below:\n",
        "\n",
        "TODO"
      ]
    },
    {
      "cell_type": "markdown",
      "metadata": {
        "id": "iUNGMP2HSpT3"
      },
      "source": [
        "## Part C: Implement unitary synthesis\n",
        "\n",
        "Implement a function to synthesize a quantum circuit that is within epsilon of the target unitary, as measured by the HS distance.\n",
        "\n",
        "Fill in the function below."
      ]
    },
    {
      "cell_type": "code",
      "execution_count": null,
      "metadata": {
        "id": "toBw5cDtSpvp"
      },
      "outputs": [],
      "source": [
        "# Your function should return a circuit with only these gates\n",
        "cliffordt_gate_set_1q = [\"h\", \"s\", \"t\"]\n",
        "\n",
        "\"\"\"\n",
        "target_unitary: the unitary to implement\n",
        "epsilon: a float between 0 and 1 (inclusive)\n",
        "\n",
        "Returns a qiskit.QuantumCircuit object such that hilbert_schmidt(target_unitary, get_unitary_from_circuit(synthesize(target_unitary, epsilon))) <= epsilon is True.\n",
        "\"\"\"\n",
        "def synthesize(target_unitary: np.NDArray, epsilon: float) -> QuantumCircuit:\n",
        "  # Hint: brute force search by enumerating circuits starting from the empty circuit, then all circuits with 1 gate, and so on.\n",
        "  pass\n",
        "\n",
        "# A test. Do not delete anything below this and make sure the output is included in your submission.\n",
        "target_unitary = np.matrix([[-0.63093663-0.52401339j,  0.2720076 +0.50332971j],\n",
        "       [ 0.42561408+0.38233701j,  0.36164925+0.73612559j]])\n",
        "synthesized_circuit = synthesize(target_unitary, 0.5)\n",
        "print(synthesized_circuit)\n",
        "print(hilbert_schmidt(target_unitary, get_unitary_from_circuit(synthesized_circuit)) <= 0.5)"
      ]
    },
    {
      "cell_type": "markdown",
      "metadata": {
        "id": "a8ARJb7dV2pB"
      },
      "source": [
        "## Part D: Scalability\n",
        "\n",
        "Sweep the following epsilon values and plot the time in seconds it takes to find a solution."
      ]
    },
    {
      "cell_type": "code",
      "execution_count": null,
      "metadata": {
        "id": "Bm9VMioeWcCT"
      },
      "outputs": [],
      "source": [
        "target_unitary = np.matrix([[-0.63093663-0.52401339j,  0.2720076 +0.50332971j],\n",
        "       [ 0.42561408+0.38233701j,  0.36164925+0.73612559j]])\n",
        "epsilons = [1, 0.9, 0.8, 0.7, 0.6, 0.5, 0.4, 0.3, 0.2]\n",
        "\n",
        "# TODO: write your code here and make sure the plot is included in the ouput"
      ]
    },
    {
      "cell_type": "markdown",
      "metadata": {
        "id": "k6P_YeCJY03t"
      },
      "source": [
        "What does the plot tell you about how this algorithm scales?"
      ]
    },
    {
      "cell_type": "markdown",
      "metadata": {
        "id": "juHaHOcKY3uv"
      },
      "source": [
        "Type your answer below:\n",
        "\n",
        "TODO"
      ]
    },
    {
      "cell_type": "markdown",
      "metadata": {
        "id": "UHXwX45iZDvc"
      },
      "source": [
        "## Part E: Why is unitary synthesis important?\n",
        "\n",
        "Why do we even need to solve this problem? What is the significance of the Clifford + T gate set and what type of gate does it fail to support natively?"
      ]
    },
    {
      "cell_type": "markdown",
      "metadata": {
        "id": "a0kiMPRbZWSM"
      },
      "source": [
        "Type your answer below:\n",
        "\n",
        "TODO"
      ]
    },
    {
      "cell_type": "code",
      "execution_count": null,
      "metadata": {
        "id": "_IrH2ChbpP5t"
      },
      "outputs": [],
      "source": []
    },
    {
      "cell_type": "markdown",
      "metadata": {
        "id": "cbweMj1sFrVU"
      },
      "source": [
        "# Q4: Gridsynth [2 Points]\n",
        "Gridsynth is the state-of-the-art (ancilla-free, deterministic) synthesis algorithm to approximate Rz gates with Clifford + T. Gridsynth leverages insights from number theory to achieve optimal or near-optimal approximations for any desired error threshold $\\epsilon$. By optimal, we mean the saturation of the T count lower bound given an $\\epsilon$, which you will explore in Part A."
      ]
    },
    {
      "cell_type": "code",
      "execution_count": null,
      "metadata": {
        "colab": {
          "base_uri": "https://localhost:8080/"
        },
        "id": "otYTB-vuFvnl",
        "outputId": "c9bf5d08-20c4-42ba-d01b-829bf7c95329"
      },
      "outputs": [
        {
          "name": "stdout",
          "output_type": "stream",
          "text": [
            "Collecting pygridsynth\n",
            "  Downloading pygridsynth-1.1.0-py3-none-any.whl.metadata (45 kB)\n",
            "\u001b[?25l     \u001b[90m━━━━━━━━━━━━━━━━━━━━━━━━━━━━━━━━━━━━━━━━\u001b[0m \u001b[32m0.0/45.6 kB\u001b[0m \u001b[31m?\u001b[0m eta \u001b[36m-:--:--\u001b[0m\r\u001b[2K     \u001b[90m━━━━━━━━━━━━━━━━━━━━━━━━━━━━━━━━━━━━━━━━\u001b[0m \u001b[32m45.6/45.6 kB\u001b[0m \u001b[31m1.8 MB/s\u001b[0m eta \u001b[36m0:00:00\u001b[0m\n",
            "\u001b[?25hRequirement already satisfied: numpy in /usr/local/lib/python3.11/dist-packages (2.0.2)\n",
            "Requirement already satisfied: scipy in /usr/local/lib/python3.11/dist-packages (1.14.1)\n",
            "Requirement already satisfied: matplotlib in /usr/local/lib/python3.11/dist-packages (3.10.0)\n",
            "Requirement already satisfied: mpmath in /usr/local/lib/python3.11/dist-packages (from pygridsynth) (1.3.0)\n",
            "Requirement already satisfied: contourpy>=1.0.1 in /usr/local/lib/python3.11/dist-packages (from matplotlib) (1.3.1)\n",
            "Requirement already satisfied: cycler>=0.10 in /usr/local/lib/python3.11/dist-packages (from matplotlib) (0.12.1)\n",
            "Requirement already satisfied: fonttools>=4.22.0 in /usr/local/lib/python3.11/dist-packages (from matplotlib) (4.56.0)\n",
            "Requirement already satisfied: kiwisolver>=1.3.1 in /usr/local/lib/python3.11/dist-packages (from matplotlib) (1.4.8)\n",
            "Requirement already satisfied: packaging>=20.0 in /usr/local/lib/python3.11/dist-packages (from matplotlib) (24.2)\n",
            "Requirement already satisfied: pillow>=8 in /usr/local/lib/python3.11/dist-packages (from matplotlib) (11.1.0)\n",
            "Requirement already satisfied: pyparsing>=2.3.1 in /usr/local/lib/python3.11/dist-packages (from matplotlib) (3.2.3)\n",
            "Requirement already satisfied: python-dateutil>=2.7 in /usr/local/lib/python3.11/dist-packages (from matplotlib) (2.8.2)\n",
            "Requirement already satisfied: six>=1.5 in /usr/local/lib/python3.11/dist-packages (from python-dateutil>=2.7->matplotlib) (1.17.0)\n",
            "Downloading pygridsynth-1.1.0-py3-none-any.whl (47 kB)\n",
            "\u001b[2K   \u001b[90m━━━━━━━━━━━━━━━━━━━━━━━━━━━━━━━━━━━━━━━━\u001b[0m \u001b[32m47.7/47.7 kB\u001b[0m \u001b[31m3.2 MB/s\u001b[0m eta \u001b[36m0:00:00\u001b[0m\n",
            "\u001b[?25hInstalling collected packages: pygridsynth\n",
            "Successfully installed pygridsynth-1.1.0\n"
          ]
        }
      ],
      "source": [
        "!pip install pygridsynth numpy scipy matplotlib"
      ]
    },
    {
      "cell_type": "markdown",
      "metadata": {
        "id": "X6h89KT7S4G-"
      },
      "source": [
        "## Part A\n",
        "To approximate an Rz to error $\\epsilon$ (gridsynth uses the operator norm as the error metric, which is very close to the distance metric we used in Q3), we need at least $a\\log_2 \\frac{1}{\\epsilon}+b$ T gates in the typical case, where $a$ and $b$ are two real numbers. In this part, you will use a Python implementation of gridsynth to synthesize random Rz gates at different $\\epsilon$ to fit $a$ and $b$."
      ]
    },
    {
      "cell_type": "code",
      "execution_count": null,
      "metadata": {
        "id": "PDspEs7beXMR"
      },
      "outputs": [],
      "source": [
        "from pygridsynth import gridsynth_gates\n",
        "import numpy as np\n",
        "\n",
        "epsilons = [10**(-i) for i in range(2, 8)]\n",
        "num_angles = 100\n",
        "angles = np.random.default_rng(42).uniform(0, 2 * np.pi, size=num_angles)\n",
        "t_counts = ... # should be of shape num_epsilons * num_angles\n",
        "# todo: fill in the T counts for all epsilon and angle pairs"
      ]
    },
    {
      "cell_type": "code",
      "execution_count": null,
      "metadata": {
        "id": "FmETElaot-yH"
      },
      "outputs": [],
      "source": [
        "import matplotlib.pyplot as plt\n",
        "from scipy.optimize import curve_fit\n",
        "\n",
        "def fitting_func(x, a, b):\n",
        "    # todo\n",
        "\n",
        "# here we fit all data points (instead of the worst points / \"lower bound\") for a more accurate estimation in Part B\n",
        "popt, pcov = curve_fit(fitting_func, np.repeat(epsilons, num_angles), np.array(t_counts).reshape(-1), p0=(1, 0))\n",
        "print(f\"a = {popt[0]}  b = {popt[1]}\")\n",
        "plt.scatter(..., s=1, label=\"data\", c=\"tab:blue\") # todo: scatter plot of T count data points\n",
        "plt.semilogx(..., label=\"fit\", color=\"tab:orange\") # todo: plot the fitted function\n",
        "plt.xlabel(\"Epsilon\")\n",
        "plt.ylabel(\"T Count\")\n",
        "plt.legend()"
      ]
    },
    {
      "cell_type": "markdown",
      "metadata": {
        "id": "xLEEXLtYcqMa"
      },
      "source": [
        "## Part B Overhead of FTQC\n",
        "Now let's estimate the number of T gates needed for executing a QAOA circuit fault-tolerantly. Since the only source of non-Cliffordness in QAOA is the axial rotations, we first count the number of $R_z$ ($R_x = HR_zH$) gates we need to synthesize in a 10-layer QAOA solving a MaxCut problem with a 100-node 3-regular graph. Then we multiply the number of $R_z$ gates by the rough number of $T$ gates we estimated in Part A for a given $\\epsilon$.\n",
        "\n",
        "> Hint: In a 3-regular graph, each node has 3 edges. How many edges are in the graph? How many Pauli ZZ terms are in the Hamiltonian? How many $R_z$ gates are needed for each ZZ term?\n",
        "\n",
        "This is a hand-derivation math problem, but feel free to get inspirations or verify your findings by coding."
      ]
    },
    {
      "cell_type": "markdown",
      "metadata": {
        "id": "WBOhm2n6ZPVf"
      },
      "source": [
        "#### (1) What is the number of $R_z$ gates we need to synthesize in a 10-layer QAOA solving a MaxCut problem with a 100-node 3-regular graph? Remember the $R_x$ gates also need to be transpiled to $R_z$ gates to synthesize."
      ]
    },
    {
      "cell_type": "markdown",
      "metadata": {
        "id": "LPvraQ8TdDcQ"
      },
      "source": [
        "**Solution:**\n",
        "\n",
        "Todo"
      ]
    },
    {
      "cell_type": "markdown",
      "metadata": {
        "id": "w-tZCyMqZoLX"
      },
      "source": [
        "#### (2) To set the synthesis error threshold $\\epsilon$, we use a very naive approach here that simply divides the circuit-level error threshold by the number of gates to be synthesized. For a circuit-level error threshold of 0.01, what is the $\\epsilon$ for each individual $R_z$ gate? What is the corresponding T gate count needed in total?\n",
        "\n",
        "> Remark: In error correction codes, (logical) T gates are typically hundreds of times more costly to implement compared to physical gates. This should give you an idea of the overhead of FTQC."
      ]
    },
    {
      "cell_type": "markdown",
      "metadata": {
        "id": "wafHffsMeAFz"
      },
      "source": [
        "**Solution:**\n",
        "\n",
        "Todo"
      ]
    },
    {
      "cell_type": "code",
      "execution_count": null,
      "metadata": {
        "id": "6LO_bSxseSlC"
      },
      "outputs": [],
      "source": []
    }
  ],
  "metadata": {
    "colab": {
      "provenance": []
    },
    "kernelspec": {
      "display_name": ".venv",
      "language": "python",
      "name": "python3"
    },
    "language_info": {
      "codemirror_mode": {
        "name": "ipython",
        "version": 3
      },
      "file_extension": ".py",
      "mimetype": "text/x-python",
      "name": "python",
      "nbconvert_exporter": "python",
      "pygments_lexer": "ipython3",
      "version": "3.10.12"
    }
  },
  "nbformat": 4,
  "nbformat_minor": 0
}

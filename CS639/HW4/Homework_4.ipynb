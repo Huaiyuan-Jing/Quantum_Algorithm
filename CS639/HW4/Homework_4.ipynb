{
  "cells": [
    {
      "cell_type": "code",
      "execution_count": 1,
      "metadata": {
        "colab": {
          "base_uri": "https://localhost:8080/"
        },
        "collapsed": true,
        "id": "n7tvCX341AxH",
        "outputId": "2880a512-e187-40aa-f53e-ebd7f9be05c7"
      },
      "outputs": [],
      "source": [
        "# !pip install git+https://github.com/jpmorganchase/QOKit.git\n",
        "# !pip install qiskit[visualization] qiskit-optimization qiskit-aer\n",
        "# !pip install mqt.bench\n",
        "# !pip install matplotlib"
      ]
    },
    {
      "cell_type": "markdown",
      "metadata": {
        "id": "12ieK7nJw2O9"
      },
      "source": [
        "\n",
        "### **Q1: Evaluating the Effectiveness of Native Gate Sets Across Quantum Hardware Platforms  [6 points]**\n",
        "\n",
        "\n",
        "---\n",
        "\n",
        "\n",
        "Consider the following four quantum hardware platforms, each with its own native gate set:\n",
        "\n",
        "1. IBM (Superconducting)\n",
        "2. IonQ (Trapped Ions)\n",
        "3. Quantinuum (Trapped Ions)\n",
        "\n",
        "**(a)** Using a **technology-agnostic benchmarking approach**, identify which platform’s native gate set is **most effective** in minimizing **circuit depth** and **gate count** across a range of quantum algorithms and problem sizes. Please follow, the following steps\n",
        "\n",
        "1. **Generate and compile circuits** for the above benchmarks using the MQT Bench tool:  \n",
        "* https://github.com/cda-tum/mqt-bench\n",
        "   \n",
        "\n",
        "2. **Compile each benchmark circuit** to the native gate set of each platform using MQT bench, use benchmarks with qubits 5,10,15,25, 35, 45.\n",
        "* https://mqt.readthedocs.io/projects/bench/en/latest/Parameter.html\n",
        "\n",
        "\n",
        "\n",
        "\n",
        "**(b)** Estimate the SWAP overhead for each benchmark for IonQ Aria 1 (25 Qubits),\n",
        "Quantinuum H2 (32 Qubits), and  IBM Montreal (27 Qubits). Use the connectivity map in the code window below for the machines.\n",
        "\n",
        "\n",
        "\n",
        "and use the following table to estimate the execution time for benchmarks with qubits 5,10,15,25, 35. Use qiskit's mapping and routing pass. Note use the connectivity specified below, we have altered for pedagogical purposes.\n",
        "\n",
        "| Platform           | Native Gates                   | Connectivity       | 1Q Gate Time | 2Q Gate Time | Coherence Time (T₁/T₂)     | Readout Latency |\n",
        "|--------------------|--------------------------------|--------------------|--------------|--------------|-----------------------------|------------------|\n",
        "| **IonQ Aria 1**    | Arbitrary 1Q, **XX(θ)**         | Somewhat Fully connected    | 10 µs        | 100 µs       | 1,000 ms / 1,000 ms         | 1 ms             |\n",
        "| **Quantinuum H2**  | Arbitrary 1Q, **ZZ(θ)**         | Somewhat Fully connected    | 10 µs        | 150 µs       | 500 ms / 500 ms             | 1 ms             |\n",
        "| **IBM Montreal**   | Rx(π/2), Rz(θ), **CX**          | Heavy-hex (sparse) | 20 ns        | 200 ns       | 100 µs / 100 µs             | 200 µs           |\n",
        "           |"
      ]
    },
    {
      "cell_type": "code",
      "execution_count": 2,
      "metadata": {
        "id": "BGDu3kcM9X4b"
      },
      "outputs": [],
      "source": [
        "\n",
        "Quantinuum_H2_32=[\n",
        " (0, 1), (0, 2), (0, 3), (0, 4), (0, 5), (0, 6), (0, 7),\n",
        " (1, 2), (1, 3), (1, 4), (1, 5), (1, 6), (1, 7),\n",
        " (2, 3), (2, 4), (2, 5), (2, 6), (2, 7),\n",
        " (3, 4), (3, 5), (3, 6), (3, 7),\n",
        " (4, 5), (4, 6), (4, 7),\n",
        " (5, 6), (5, 7),\n",
        " (6, 7),\n",
        " (7, 8),  # inter-group connection\n",
        "\n",
        " (8, 9), (8, 10), (8, 11), (8, 12), (8, 13), (8, 14), (8, 15),\n",
        " (9, 10), (9, 11), (9, 12), (9, 13), (9, 14), (9, 15),\n",
        " (10, 11), (10, 12), (10, 13), (10, 14), (10, 15),\n",
        " (11, 12), (11, 13), (11, 14), (11, 15),\n",
        " (12, 13), (12, 14), (12, 15),\n",
        " (13, 14), (13, 15),\n",
        " (14, 15),\n",
        " (15, 16),  # inter-group connection\n",
        "\n",
        " (16, 17), (16, 18), (16, 19), (16, 20), (16, 21), (16, 22), (16, 23),\n",
        " (17, 18), (17, 19), (17, 20), (17, 21), (17, 22), (17, 23),\n",
        " (18, 19), (18, 20), (18, 21), (18, 22), (18, 23),\n",
        " (19, 20), (19, 21), (19, 22), (19, 23),\n",
        " (20, 21), (20, 22), (20, 23),\n",
        " (21, 22), (21, 23),\n",
        " (22, 23),\n",
        " (23, 24),  # inter-group connection\n",
        "\n",
        " (24, 25), (24, 26), (24, 27), (24, 28), (24, 29), (24, 30), (24, 31),\n",
        " (25, 26), (25, 27), (25, 28), (25, 29), (25, 30), (25, 31),\n",
        " (26, 27), (26, 28), (26, 29), (26, 30), (26, 31),\n",
        " (27, 28), (27, 29), (27, 30), (27, 31),\n",
        " (28, 29), (28, 30), (28, 31),\n",
        " (29, 30), (29, 31),\n",
        " (30, 31)\n",
        "]\n",
        "\n",
        "\n",
        "IonQ_25=[\n",
        " (0, 1), (0, 2), (0, 3), (0, 4),\n",
        " (1, 2), (1, 3), (1, 4),\n",
        " (2, 3), (2, 4),\n",
        " (3, 4),\n",
        " (4, 5),\n",
        "\n",
        " (5, 6), (5, 7), (5, 8), (5, 9),\n",
        " (6, 7), (6, 8), (6, 9),\n",
        " (7, 8), (7, 9),\n",
        " (8, 9),\n",
        " (9, 10),\n",
        "\n",
        " (10, 11), (10, 12), (10, 13), (10, 14),\n",
        " (11, 12), (11, 13), (11, 14),\n",
        " (12, 13), (12, 14),\n",
        " (13, 14),\n",
        " (14, 15),\n",
        "\n",
        " (15, 16), (15, 17), (15, 18), (15, 19),\n",
        " (16, 17), (16, 18), (16, 19),\n",
        " (17, 18), (17, 19),\n",
        " (18, 19),\n",
        " (19, 20),\n",
        "\n",
        " (20, 21), (20, 22), (20, 23), (20, 24),\n",
        " (21, 22), (21, 23), (21, 24),\n",
        " (22, 23), (22, 24),\n",
        " (23, 24)\n",
        "]\n",
        "\n",
        "\n",
        "edges_IBM_27 = [\n",
        "    (0, 1), (1, 2), (2, 3),\n",
        "    (3, 4), (4, 5), (5, 6),\n",
        "    (6, 7), (7, 8), (8, 9),\n",
        "    (1, 10), (3, 11), (5, 12), (7, 13), (9, 14),\n",
        "    (10, 11), (11, 12), (12, 13), (13, 14),\n",
        "    (10, 15), (11, 16), (12, 17), (13, 18), (14, 19),\n",
        "    (15, 16), (16, 17), (17, 18), (18, 19),\n",
        "    (15, 20), (16, 21), (17, 22), (18, 23), (19, 24),\n",
        "    (20, 21), (21, 22), (22, 23), (23, 24),\n",
        "    (21, 25), (23, 26)\n",
        "]\n",
        "\n",
        "\n",
        "\n"
      ]
    },
    {
      "cell_type": "markdown",
      "metadata": {
        "id": "JmQb2aF8w2fz"
      },
      "source": [
        "(c) Estimate the fidelity using noisy simulation for the listed benchmarks for 5- and 10-qubit instances per platform. When estimating the fidelity model idling errors. Use equation (9) and (10) from https://arxiv.org/abs/1404.3747 , assume when gates have no operational dependence we can perform them in parallel and there is no crosstalk. Clearly state **Your conclusion:** Which hardware platform is most effective overall, and why?\n",
        "\n",
        "\n",
        "\n",
        "| Platform           | 1Q Gate Fidelity       | 2Q Gate Fidelity       | Readout Fidelity                                  |\n",
        "|--------------------|------------------------|-------------------------|----------------------------------------|\n",
        "| **IonQ Aria 1**    | 99.9%                | 99%                 |  99.99% |\n",
        "| **Quantinuum H2**  |  99.97%               | 98%                 |    99.99%        |\n",
        "| **IBM Montreal**   |  99.9%                | 98.5%               | 97%\n",
        "\n",
        "\n",
        "---\n",
        "\n",
        "**Benchmarks:**  \n",
        "Use the following **representative quantum applications** for your evaluations:\n",
        "\n",
        "1. Amplitude Estimation (AE)  \n",
        "2. Graph State Preparation (GSP)\n",
        "3. Portfolio Optimization with QAOA (PoQAOA)  \n",
        "4. Portfolio Optimization with VQE  (PoVQE)\n",
        "5. Quantum Approximate Optimization Algorithm (QAOA)  \n",
        "6. Quantum Fourier Transform (QFT)  \n",
        "7. Quantum Neural Network (QNN)  \n",
        "8. Variational Quantum Eigensolver (VQE)  \n",
        "9. W-State Preparation (W-state)\n",
        "\n",
        "---"
      ]
    },
    {
      "cell_type": "code",
      "execution_count": 3,
      "metadata": {},
      "outputs": [],
      "source": [
        "# !pip install pylatexenc"
      ]
    },
    {
      "cell_type": "code",
      "execution_count": 16,
      "metadata": {
        "colab": {
          "base_uri": "https://localhost:8080/"
        },
        "collapsed": true,
        "id": "x8uzT1JMIPcu",
        "outputId": "2e6c94c7-63e4-46a6-c506-2e6990c64ae1"
      },
      "outputs": [
        {
          "data": {
            "image/png": "[encoded data removed]",
            "text/plain": [
              "<Figure size 747.609x535.111 with 1 Axes>"
            ]
          },
          "execution_count": 16,
          "metadata": {},
          "output_type": "execute_result"
        }
      ],
      "source": [
        "# check if mqt bench is working\n",
        "from mqt.bench import CompilerSettings, QiskitSettings, TKETSettings, get_benchmark\n",
        "\n",
        "# get a benchmark circuit on algorithmic level representing the GHZ state with 5 qubits\n",
        "qc_algorithmic_level = get_benchmark(benchmark_name=\"qft\", level=\"alg\", circuit_size=5)\n",
        "\n",
        "# draw the circuit\n",
        "qc_algorithmic_level.draw('mpl')"
      ]
    },
    {
      "cell_type": "code",
      "execution_count": null,
      "metadata": {},
      "outputs": [],
      "source": []
    },
    {
      "cell_type": "code",
      "execution_count": 6,
      "metadata": {},
      "outputs": [
        {
          "name": "stdout",
          "output_type": "stream",
          "text": [
            "Requirement already satisfied: qiskit in /home/hyjing/ajz7t-ucwpu/Quantum_Algorithm/.venv/lib/python3.10/site-packages (1.3.1)\n",
            "Requirement already satisfied: sympy>=1.3 in /home/hyjing/ajz7t-ucwpu/Quantum_Algorithm/.venv/lib/python3.10/site-packages (from qiskit) (1.13.3)\n",
            "Requirement already satisfied: dill>=0.3 in /home/hyjing/ajz7t-ucwpu/Quantum_Algorithm/.venv/lib/python3.10/site-packages (from qiskit) (0.3.9)\n",
            "Requirement already satisfied: stevedore>=3.0.0 in /home/hyjing/ajz7t-ucwpu/Quantum_Algorithm/.venv/lib/python3.10/site-packages (from qiskit) (5.4.1)\n",
            "Requirement already satisfied: rustworkx>=0.15.0 in /home/hyjing/ajz7t-ucwpu/Quantum_Algorithm/.venv/lib/python3.10/site-packages (from qiskit) (0.16.0)\n",
            "Requirement already satisfied: python-dateutil>=2.8.0 in /home/hyjing/ajz7t-ucwpu/Quantum_Algorithm/.venv/lib/python3.10/site-packages (from qiskit) (2.9.0.post0)\n",
            "Requirement already satisfied: numpy<3,>=1.17 in /home/hyjing/ajz7t-ucwpu/Quantum_Algorithm/.venv/lib/python3.10/site-packages (from qiskit) (1.26.4)\n",
            "Requirement already satisfied: scipy>=1.5 in /home/hyjing/ajz7t-ucwpu/Quantum_Algorithm/.venv/lib/python3.10/site-packages (from qiskit) (1.15.2)\n",
            "Requirement already satisfied: typing-extensions in /home/hyjing/ajz7t-ucwpu/Quantum_Algorithm/.venv/lib/python3.10/site-packages (from qiskit) (4.13.1)\n",
            "Requirement already satisfied: symengine<0.14,>=0.11 in /home/hyjing/ajz7t-ucwpu/Quantum_Algorithm/.venv/lib/python3.10/site-packages (from qiskit) (0.13.0)\n",
            "Requirement already satisfied: six>=1.5 in /home/hyjing/ajz7t-ucwpu/Quantum_Algorithm/.venv/lib/python3.10/site-packages (from python-dateutil>=2.8.0->qiskit) (1.17.0)\n",
            "Requirement already satisfied: pbr>=2.0.0 in /home/hyjing/ajz7t-ucwpu/Quantum_Algorithm/.venv/lib/python3.10/site-packages (from stevedore>=3.0.0->qiskit) (6.1.1)\n",
            "Requirement already satisfied: mpmath<1.4,>=1.1.0 in /home/hyjing/ajz7t-ucwpu/Quantum_Algorithm/.venv/lib/python3.10/site-packages (from sympy>=1.3->qiskit) (1.3.0)\n",
            "Requirement already satisfied: setuptools in /home/hyjing/ajz7t-ucwpu/Quantum_Algorithm/.venv/lib/python3.10/site-packages (from pbr>=2.0.0->stevedore>=3.0.0->qiskit) (59.6.0)\n",
            "Requirement already satisfied: qiskit-ibm-runtime in /home/hyjing/ajz7t-ucwpu/Quantum_Algorithm/.venv/lib/python3.10/site-packages (0.35.0)\n",
            "Requirement already satisfied: numpy>=1.13 in /home/hyjing/ajz7t-ucwpu/Quantum_Algorithm/.venv/lib/python3.10/site-packages (from qiskit-ibm-runtime) (1.26.4)\n",
            "Requirement already satisfied: requests-ntlm>=1.1.0 in /home/hyjing/ajz7t-ucwpu/Quantum_Algorithm/.venv/lib/python3.10/site-packages (from qiskit-ibm-runtime) (1.3.0)\n",
            "Requirement already satisfied: requests>=2.19 in /home/hyjing/ajz7t-ucwpu/Quantum_Algorithm/.venv/lib/python3.10/site-packages (from qiskit-ibm-runtime) (2.32.3)\n",
            "Requirement already satisfied: python-dateutil>=2.8.0 in /home/hyjing/ajz7t-ucwpu/Quantum_Algorithm/.venv/lib/python3.10/site-packages (from qiskit-ibm-runtime) (2.9.0.post0)\n",
            "Requirement already satisfied: urllib3>=1.21.1 in /home/hyjing/ajz7t-ucwpu/Quantum_Algorithm/.venv/lib/python3.10/site-packages (from qiskit-ibm-runtime) (2.3.0)\n",
            "Requirement already satisfied: qiskit>=1.1.0 in /home/hyjing/ajz7t-ucwpu/Quantum_Algorithm/.venv/lib/python3.10/site-packages (from qiskit-ibm-runtime) (1.3.1)\n",
            "Requirement already satisfied: pydantic<2.10,>=2.5.0 in /home/hyjing/ajz7t-ucwpu/Quantum_Algorithm/.venv/lib/python3.10/site-packages (from qiskit-ibm-runtime) (2.9.2)\n",
            "Requirement already satisfied: ibm-platform-services>=0.22.6 in /home/hyjing/ajz7t-ucwpu/Quantum_Algorithm/.venv/lib/python3.10/site-packages (from qiskit-ibm-runtime) (0.63.0)\n",
            "Requirement already satisfied: websocket-client>=1.5.1 in /home/hyjing/ajz7t-ucwpu/Quantum_Algorithm/.venv/lib/python3.10/site-packages (from qiskit-ibm-runtime) (1.8.0)\n",
            "Requirement already satisfied: ibm_cloud_sdk_core<4.0.0,>=3.22.1 in /home/hyjing/ajz7t-ucwpu/Quantum_Algorithm/.venv/lib/python3.10/site-packages (from ibm-platform-services>=0.22.6->qiskit-ibm-runtime) (3.23.0)\n",
            "Requirement already satisfied: annotated-types>=0.6.0 in /home/hyjing/ajz7t-ucwpu/Quantum_Algorithm/.venv/lib/python3.10/site-packages (from pydantic<2.10,>=2.5.0->qiskit-ibm-runtime) (0.7.0)\n",
            "Requirement already satisfied: typing-extensions>=4.6.1 in /home/hyjing/ajz7t-ucwpu/Quantum_Algorithm/.venv/lib/python3.10/site-packages (from pydantic<2.10,>=2.5.0->qiskit-ibm-runtime) (4.13.1)\n",
            "Requirement already satisfied: pydantic-core==2.23.4 in /home/hyjing/ajz7t-ucwpu/Quantum_Algorithm/.venv/lib/python3.10/site-packages (from pydantic<2.10,>=2.5.0->qiskit-ibm-runtime) (2.23.4)\n",
            "Requirement already satisfied: six>=1.5 in /home/hyjing/ajz7t-ucwpu/Quantum_Algorithm/.venv/lib/python3.10/site-packages (from python-dateutil>=2.8.0->qiskit-ibm-runtime) (1.17.0)\n",
            "Requirement already satisfied: rustworkx>=0.15.0 in /home/hyjing/ajz7t-ucwpu/Quantum_Algorithm/.venv/lib/python3.10/site-packages (from qiskit>=1.1.0->qiskit-ibm-runtime) (0.16.0)\n",
            "Requirement already satisfied: stevedore>=3.0.0 in /home/hyjing/ajz7t-ucwpu/Quantum_Algorithm/.venv/lib/python3.10/site-packages (from qiskit>=1.1.0->qiskit-ibm-runtime) (5.4.1)\n",
            "Requirement already satisfied: sympy>=1.3 in /home/hyjing/ajz7t-ucwpu/Quantum_Algorithm/.venv/lib/python3.10/site-packages (from qiskit>=1.1.0->qiskit-ibm-runtime) (1.13.3)\n",
            "Requirement already satisfied: scipy>=1.5 in /home/hyjing/ajz7t-ucwpu/Quantum_Algorithm/.venv/lib/python3.10/site-packages (from qiskit>=1.1.0->qiskit-ibm-runtime) (1.15.2)\n",
            "Requirement already satisfied: symengine<0.14,>=0.11 in /home/hyjing/ajz7t-ucwpu/Quantum_Algorithm/.venv/lib/python3.10/site-packages (from qiskit>=1.1.0->qiskit-ibm-runtime) (0.13.0)\n",
            "Requirement already satisfied: dill>=0.3 in /home/hyjing/ajz7t-ucwpu/Quantum_Algorithm/.venv/lib/python3.10/site-packages (from qiskit>=1.1.0->qiskit-ibm-runtime) (0.3.9)\n",
            "Requirement already satisfied: idna<4,>=2.5 in /home/hyjing/ajz7t-ucwpu/Quantum_Algorithm/.venv/lib/python3.10/site-packages (from requests>=2.19->qiskit-ibm-runtime) (3.10)\n",
            "Requirement already satisfied: certifi>=2017.4.17 in /home/hyjing/ajz7t-ucwpu/Quantum_Algorithm/.venv/lib/python3.10/site-packages (from requests>=2.19->qiskit-ibm-runtime) (2025.1.31)\n",
            "Requirement already satisfied: charset-normalizer<4,>=2 in /home/hyjing/ajz7t-ucwpu/Quantum_Algorithm/.venv/lib/python3.10/site-packages (from requests>=2.19->qiskit-ibm-runtime) (3.4.1)\n",
            "Requirement already satisfied: pyspnego>=0.4.0 in /home/hyjing/ajz7t-ucwpu/Quantum_Algorithm/.venv/lib/python3.10/site-packages (from requests-ntlm>=1.1.0->qiskit-ibm-runtime) (0.11.2)\n",
            "Requirement already satisfied: cryptography>=1.3 in /home/hyjing/ajz7t-ucwpu/Quantum_Algorithm/.venv/lib/python3.10/site-packages (from requests-ntlm>=1.1.0->qiskit-ibm-runtime) (44.0.2)\n",
            "Requirement already satisfied: cffi>=1.12 in /home/hyjing/ajz7t-ucwpu/Quantum_Algorithm/.venv/lib/python3.10/site-packages (from cryptography>=1.3->requests-ntlm>=1.1.0->qiskit-ibm-runtime) (1.17.1)\n",
            "Requirement already satisfied: PyJWT<3.0.0,>=2.8.0 in /home/hyjing/ajz7t-ucwpu/Quantum_Algorithm/.venv/lib/python3.10/site-packages (from ibm_cloud_sdk_core<4.0.0,>=3.22.1->ibm-platform-services>=0.22.6->qiskit-ibm-runtime) (2.10.1)\n",
            "Requirement already satisfied: pbr>=2.0.0 in /home/hyjing/ajz7t-ucwpu/Quantum_Algorithm/.venv/lib/python3.10/site-packages (from stevedore>=3.0.0->qiskit>=1.1.0->qiskit-ibm-runtime) (6.1.1)\n",
            "Requirement already satisfied: mpmath<1.4,>=1.1.0 in /home/hyjing/ajz7t-ucwpu/Quantum_Algorithm/.venv/lib/python3.10/site-packages (from sympy>=1.3->qiskit>=1.1.0->qiskit-ibm-runtime) (1.3.0)\n",
            "Requirement already satisfied: pycparser in /home/hyjing/ajz7t-ucwpu/Quantum_Algorithm/.venv/lib/python3.10/site-packages (from cffi>=1.12->cryptography>=1.3->requests-ntlm>=1.1.0->qiskit-ibm-runtime) (2.22)\n",
            "Requirement already satisfied: setuptools in /home/hyjing/ajz7t-ucwpu/Quantum_Algorithm/.venv/lib/python3.10/site-packages (from pbr>=2.0.0->stevedore>=3.0.0->qiskit>=1.1.0->qiskit-ibm-runtime) (59.6.0)\n",
            "zsh:1: no matches found: qiskit[visualization]\n",
            "Requirement already satisfied: jupyter in /home/hyjing/ajz7t-ucwpu/Quantum_Algorithm/.venv/lib/python3.10/site-packages (1.1.1)\n",
            "Requirement already satisfied: jupyter-console in /home/hyjing/ajz7t-ucwpu/Quantum_Algorithm/.venv/lib/python3.10/site-packages (from jupyter) (6.6.3)\n",
            "Requirement already satisfied: notebook in /home/hyjing/ajz7t-ucwpu/Quantum_Algorithm/.venv/lib/python3.10/site-packages (from jupyter) (7.3.3)\n",
            "Requirement already satisfied: ipykernel in /home/hyjing/ajz7t-ucwpu/Quantum_Algorithm/.venv/lib/python3.10/site-packages (from jupyter) (6.29.5)\n",
            "Requirement already satisfied: ipywidgets in /home/hyjing/ajz7t-ucwpu/Quantum_Algorithm/.venv/lib/python3.10/site-packages (from jupyter) (8.1.5)\n",
            "Requirement already satisfied: jupyterlab in /home/hyjing/ajz7t-ucwpu/Quantum_Algorithm/.venv/lib/python3.10/site-packages (from jupyter) (4.3.6)\n",
            "Requirement already satisfied: nbconvert in /home/hyjing/ajz7t-ucwpu/Quantum_Algorithm/.venv/lib/python3.10/site-packages (from jupyter) (7.16.6)\n",
            "Requirement already satisfied: matplotlib-inline>=0.1 in /home/hyjing/ajz7t-ucwpu/Quantum_Algorithm/.venv/lib/python3.10/site-packages (from ipykernel->jupyter) (0.1.7)\n",
            "Requirement already satisfied: psutil in /home/hyjing/ajz7t-ucwpu/Quantum_Algorithm/.venv/lib/python3.10/site-packages (from ipykernel->jupyter) (7.0.0)\n",
            "Requirement already satisfied: traitlets>=5.4.0 in /home/hyjing/ajz7t-ucwpu/Quantum_Algorithm/.venv/lib/python3.10/site-packages (from ipykernel->jupyter) (5.14.3)\n",
            "Requirement already satisfied: nest-asyncio in /home/hyjing/ajz7t-ucwpu/Quantum_Algorithm/.venv/lib/python3.10/site-packages (from ipykernel->jupyter) (1.6.0)\n",
            "Requirement already satisfied: comm>=0.1.1 in /home/hyjing/ajz7t-ucwpu/Quantum_Algorithm/.venv/lib/python3.10/site-packages (from ipykernel->jupyter) (0.2.2)\n",
            "Requirement already satisfied: debugpy>=1.6.5 in /home/hyjing/ajz7t-ucwpu/Quantum_Algorithm/.venv/lib/python3.10/site-packages (from ipykernel->jupyter) (1.8.13)\n",
            "Requirement already satisfied: jupyter-core!=5.0.*,>=4.12 in /home/hyjing/ajz7t-ucwpu/Quantum_Algorithm/.venv/lib/python3.10/site-packages (from ipykernel->jupyter) (5.7.2)\n",
            "Requirement already satisfied: pyzmq>=24 in /home/hyjing/ajz7t-ucwpu/Quantum_Algorithm/.venv/lib/python3.10/site-packages (from ipykernel->jupyter) (26.4.0)\n",
            "Requirement already satisfied: ipython>=7.23.1 in /home/hyjing/ajz7t-ucwpu/Quantum_Algorithm/.venv/lib/python3.10/site-packages (from ipykernel->jupyter) (8.35.0)\n",
            "Requirement already satisfied: packaging in /home/hyjing/ajz7t-ucwpu/Quantum_Algorithm/.venv/lib/python3.10/site-packages (from ipykernel->jupyter) (24.2)\n",
            "Requirement already satisfied: jupyter-client>=6.1.12 in /home/hyjing/ajz7t-ucwpu/Quantum_Algorithm/.venv/lib/python3.10/site-packages (from ipykernel->jupyter) (8.6.3)\n",
            "Requirement already satisfied: tornado>=6.1 in /home/hyjing/ajz7t-ucwpu/Quantum_Algorithm/.venv/lib/python3.10/site-packages (from ipykernel->jupyter) (6.4.2)\n",
            "Requirement already satisfied: jupyterlab-widgets~=3.0.12 in /home/hyjing/ajz7t-ucwpu/Quantum_Algorithm/.venv/lib/python3.10/site-packages (from ipywidgets->jupyter) (3.0.13)\n",
            "Requirement already satisfied: widgetsnbextension~=4.0.12 in /home/hyjing/ajz7t-ucwpu/Quantum_Algorithm/.venv/lib/python3.10/site-packages (from ipywidgets->jupyter) (4.0.13)\n",
            "Requirement already satisfied: pygments in /home/hyjing/ajz7t-ucwpu/Quantum_Algorithm/.venv/lib/python3.10/site-packages (from jupyter-console->jupyter) (2.19.1)\n",
            "Requirement already satisfied: prompt-toolkit>=3.0.30 in /home/hyjing/ajz7t-ucwpu/Quantum_Algorithm/.venv/lib/python3.10/site-packages (from jupyter-console->jupyter) (3.0.50)\n",
            "Requirement already satisfied: jinja2>=3.0.3 in /home/hyjing/ajz7t-ucwpu/Quantum_Algorithm/.venv/lib/python3.10/site-packages (from jupyterlab->jupyter) (3.1.6)\n",
            "Requirement already satisfied: tomli>=1.2.2 in /home/hyjing/ajz7t-ucwpu/Quantum_Algorithm/.venv/lib/python3.10/site-packages (from jupyterlab->jupyter) (2.2.1)\n",
            "Requirement already satisfied: setuptools>=40.8.0 in /home/hyjing/ajz7t-ucwpu/Quantum_Algorithm/.venv/lib/python3.10/site-packages (from jupyterlab->jupyter) (59.6.0)\n",
            "Requirement already satisfied: httpx>=0.25.0 in /home/hyjing/ajz7t-ucwpu/Quantum_Algorithm/.venv/lib/python3.10/site-packages (from jupyterlab->jupyter) (0.28.1)\n",
            "Requirement already satisfied: async-lru>=1.0.0 in /home/hyjing/ajz7t-ucwpu/Quantum_Algorithm/.venv/lib/python3.10/site-packages (from jupyterlab->jupyter) (2.0.5)\n",
            "Requirement already satisfied: jupyter-lsp>=2.0.0 in /home/hyjing/ajz7t-ucwpu/Quantum_Algorithm/.venv/lib/python3.10/site-packages (from jupyterlab->jupyter) (2.2.5)\n",
            "Requirement already satisfied: jupyterlab-server<3,>=2.27.1 in /home/hyjing/ajz7t-ucwpu/Quantum_Algorithm/.venv/lib/python3.10/site-packages (from jupyterlab->jupyter) (2.27.3)\n",
            "Requirement already satisfied: notebook-shim>=0.2 in /home/hyjing/ajz7t-ucwpu/Quantum_Algorithm/.venv/lib/python3.10/site-packages (from jupyterlab->jupyter) (0.2.4)\n",
            "Requirement already satisfied: jupyter-server<3,>=2.4.0 in /home/hyjing/ajz7t-ucwpu/Quantum_Algorithm/.venv/lib/python3.10/site-packages (from jupyterlab->jupyter) (2.15.0)\n",
            "Requirement already satisfied: markupsafe>=2.0 in /home/hyjing/ajz7t-ucwpu/Quantum_Algorithm/.venv/lib/python3.10/site-packages (from nbconvert->jupyter) (3.0.2)\n",
            "Requirement already satisfied: defusedxml in /home/hyjing/ajz7t-ucwpu/Quantum_Algorithm/.venv/lib/python3.10/site-packages (from nbconvert->jupyter) (0.7.1)\n",
            "Requirement already satisfied: beautifulsoup4 in /home/hyjing/ajz7t-ucwpu/Quantum_Algorithm/.venv/lib/python3.10/site-packages (from nbconvert->jupyter) (4.13.3)\n",
            "Requirement already satisfied: nbformat>=5.7 in /home/hyjing/ajz7t-ucwpu/Quantum_Algorithm/.venv/lib/python3.10/site-packages (from nbconvert->jupyter) (5.10.4)\n",
            "Requirement already satisfied: bleach[css]!=5.0.0 in /home/hyjing/ajz7t-ucwpu/Quantum_Algorithm/.venv/lib/python3.10/site-packages (from nbconvert->jupyter) (6.2.0)\n",
            "Requirement already satisfied: jupyterlab-pygments in /home/hyjing/ajz7t-ucwpu/Quantum_Algorithm/.venv/lib/python3.10/site-packages (from nbconvert->jupyter) (0.3.0)\n",
            "Requirement already satisfied: nbclient>=0.5.0 in /home/hyjing/ajz7t-ucwpu/Quantum_Algorithm/.venv/lib/python3.10/site-packages (from nbconvert->jupyter) (0.10.2)\n",
            "Requirement already satisfied: mistune<4,>=2.0.3 in /home/hyjing/ajz7t-ucwpu/Quantum_Algorithm/.venv/lib/python3.10/site-packages (from nbconvert->jupyter) (3.1.3)\n",
            "Requirement already satisfied: pandocfilters>=1.4.1 in /home/hyjing/ajz7t-ucwpu/Quantum_Algorithm/.venv/lib/python3.10/site-packages (from nbconvert->jupyter) (1.5.1)\n",
            "Requirement already satisfied: typing_extensions>=4.0.0 in /home/hyjing/ajz7t-ucwpu/Quantum_Algorithm/.venv/lib/python3.10/site-packages (from async-lru>=1.0.0->jupyterlab->jupyter) (4.13.1)\n",
            "Requirement already satisfied: webencodings in /home/hyjing/ajz7t-ucwpu/Quantum_Algorithm/.venv/lib/python3.10/site-packages (from bleach[css]!=5.0.0->nbconvert->jupyter) (0.5.1)\n",
            "Requirement already satisfied: tinycss2<1.5,>=1.1.0 in /home/hyjing/ajz7t-ucwpu/Quantum_Algorithm/.venv/lib/python3.10/site-packages (from bleach[css]!=5.0.0->nbconvert->jupyter) (1.4.0)\n",
            "Requirement already satisfied: httpcore==1.* in /home/hyjing/ajz7t-ucwpu/Quantum_Algorithm/.venv/lib/python3.10/site-packages (from httpx>=0.25.0->jupyterlab->jupyter) (1.0.7)\n",
            "Requirement already satisfied: idna in /home/hyjing/ajz7t-ucwpu/Quantum_Algorithm/.venv/lib/python3.10/site-packages (from httpx>=0.25.0->jupyterlab->jupyter) (3.10)\n",
            "Requirement already satisfied: anyio in /home/hyjing/ajz7t-ucwpu/Quantum_Algorithm/.venv/lib/python3.10/site-packages (from httpx>=0.25.0->jupyterlab->jupyter) (4.9.0)\n",
            "Requirement already satisfied: certifi in /home/hyjing/ajz7t-ucwpu/Quantum_Algorithm/.venv/lib/python3.10/site-packages (from httpx>=0.25.0->jupyterlab->jupyter) (2025.1.31)\n",
            "Requirement already satisfied: h11<0.15,>=0.13 in /home/hyjing/ajz7t-ucwpu/Quantum_Algorithm/.venv/lib/python3.10/site-packages (from httpcore==1.*->httpx>=0.25.0->jupyterlab->jupyter) (0.14.0)\n",
            "Requirement already satisfied: pexpect>4.3 in /home/hyjing/ajz7t-ucwpu/Quantum_Algorithm/.venv/lib/python3.10/site-packages (from ipython>=7.23.1->ipykernel->jupyter) (4.9.0)\n",
            "Requirement already satisfied: jedi>=0.16 in /home/hyjing/ajz7t-ucwpu/Quantum_Algorithm/.venv/lib/python3.10/site-packages (from ipython>=7.23.1->ipykernel->jupyter) (0.19.2)\n",
            "Requirement already satisfied: stack_data in /home/hyjing/ajz7t-ucwpu/Quantum_Algorithm/.venv/lib/python3.10/site-packages (from ipython>=7.23.1->ipykernel->jupyter) (0.6.3)\n",
            "Requirement already satisfied: exceptiongroup in /home/hyjing/ajz7t-ucwpu/Quantum_Algorithm/.venv/lib/python3.10/site-packages (from ipython>=7.23.1->ipykernel->jupyter) (1.2.2)\n",
            "Requirement already satisfied: decorator in /home/hyjing/ajz7t-ucwpu/Quantum_Algorithm/.venv/lib/python3.10/site-packages (from ipython>=7.23.1->ipykernel->jupyter) (5.2.1)\n",
            "Requirement already satisfied: python-dateutil>=2.8.2 in /home/hyjing/ajz7t-ucwpu/Quantum_Algorithm/.venv/lib/python3.10/site-packages (from jupyter-client>=6.1.12->ipykernel->jupyter) (2.9.0.post0)\n",
            "Requirement already satisfied: platformdirs>=2.5 in /home/hyjing/ajz7t-ucwpu/Quantum_Algorithm/.venv/lib/python3.10/site-packages (from jupyter-core!=5.0.*,>=4.12->ipykernel->jupyter) (4.3.7)\n",
            "Requirement already satisfied: websocket-client>=1.7 in /home/hyjing/ajz7t-ucwpu/Quantum_Algorithm/.venv/lib/python3.10/site-packages (from jupyter-server<3,>=2.4.0->jupyterlab->jupyter) (1.8.0)\n",
            "Requirement already satisfied: argon2-cffi>=21.1 in /home/hyjing/ajz7t-ucwpu/Quantum_Algorithm/.venv/lib/python3.10/site-packages (from jupyter-server<3,>=2.4.0->jupyterlab->jupyter) (23.1.0)\n",
            "Requirement already satisfied: overrides>=5.0 in /home/hyjing/ajz7t-ucwpu/Quantum_Algorithm/.venv/lib/python3.10/site-packages (from jupyter-server<3,>=2.4.0->jupyterlab->jupyter) (7.7.0)\n",
            "Requirement already satisfied: send2trash>=1.8.2 in /home/hyjing/ajz7t-ucwpu/Quantum_Algorithm/.venv/lib/python3.10/site-packages (from jupyter-server<3,>=2.4.0->jupyterlab->jupyter) (1.8.3)\n",
            "Requirement already satisfied: jupyter-server-terminals>=0.4.4 in /home/hyjing/ajz7t-ucwpu/Quantum_Algorithm/.venv/lib/python3.10/site-packages (from jupyter-server<3,>=2.4.0->jupyterlab->jupyter) (0.5.3)\n",
            "Requirement already satisfied: prometheus-client>=0.9 in /home/hyjing/ajz7t-ucwpu/Quantum_Algorithm/.venv/lib/python3.10/site-packages (from jupyter-server<3,>=2.4.0->jupyterlab->jupyter) (0.21.1)\n",
            "Requirement already satisfied: terminado>=0.8.3 in /home/hyjing/ajz7t-ucwpu/Quantum_Algorithm/.venv/lib/python3.10/site-packages (from jupyter-server<3,>=2.4.0->jupyterlab->jupyter) (0.18.1)\n",
            "Requirement already satisfied: jupyter-events>=0.11.0 in /home/hyjing/ajz7t-ucwpu/Quantum_Algorithm/.venv/lib/python3.10/site-packages (from jupyter-server<3,>=2.4.0->jupyterlab->jupyter) (0.12.0)\n",
            "Requirement already satisfied: json5>=0.9.0 in /home/hyjing/ajz7t-ucwpu/Quantum_Algorithm/.venv/lib/python3.10/site-packages (from jupyterlab-server<3,>=2.27.1->jupyterlab->jupyter) (0.12.0)\n",
            "Requirement already satisfied: jsonschema>=4.18.0 in /home/hyjing/ajz7t-ucwpu/Quantum_Algorithm/.venv/lib/python3.10/site-packages (from jupyterlab-server<3,>=2.27.1->jupyterlab->jupyter) (4.23.0)\n",
            "Requirement already satisfied: requests>=2.31 in /home/hyjing/ajz7t-ucwpu/Quantum_Algorithm/.venv/lib/python3.10/site-packages (from jupyterlab-server<3,>=2.27.1->jupyterlab->jupyter) (2.32.3)\n",
            "Requirement already satisfied: babel>=2.10 in /home/hyjing/ajz7t-ucwpu/Quantum_Algorithm/.venv/lib/python3.10/site-packages (from jupyterlab-server<3,>=2.27.1->jupyterlab->jupyter) (2.17.0)\n",
            "Requirement already satisfied: fastjsonschema>=2.15 in /home/hyjing/ajz7t-ucwpu/Quantum_Algorithm/.venv/lib/python3.10/site-packages (from nbformat>=5.7->nbconvert->jupyter) (2.21.1)\n",
            "Requirement already satisfied: wcwidth in /home/hyjing/ajz7t-ucwpu/Quantum_Algorithm/.venv/lib/python3.10/site-packages (from prompt-toolkit>=3.0.30->jupyter-console->jupyter) (0.2.13)\n",
            "Requirement already satisfied: soupsieve>1.2 in /home/hyjing/ajz7t-ucwpu/Quantum_Algorithm/.venv/lib/python3.10/site-packages (from beautifulsoup4->nbconvert->jupyter) (2.6)\n",
            "Requirement already satisfied: sniffio>=1.1 in /home/hyjing/ajz7t-ucwpu/Quantum_Algorithm/.venv/lib/python3.10/site-packages (from anyio->httpx>=0.25.0->jupyterlab->jupyter) (1.3.1)\n",
            "Requirement already satisfied: argon2-cffi-bindings in /home/hyjing/ajz7t-ucwpu/Quantum_Algorithm/.venv/lib/python3.10/site-packages (from argon2-cffi>=21.1->jupyter-server<3,>=2.4.0->jupyterlab->jupyter) (21.2.0)\n",
            "Requirement already satisfied: parso<0.9.0,>=0.8.4 in /home/hyjing/ajz7t-ucwpu/Quantum_Algorithm/.venv/lib/python3.10/site-packages (from jedi>=0.16->ipython>=7.23.1->ipykernel->jupyter) (0.8.4)\n",
            "Requirement already satisfied: attrs>=22.2.0 in /home/hyjing/ajz7t-ucwpu/Quantum_Algorithm/.venv/lib/python3.10/site-packages (from jsonschema>=4.18.0->jupyterlab-server<3,>=2.27.1->jupyterlab->jupyter) (25.3.0)\n",
            "Requirement already satisfied: rpds-py>=0.7.1 in /home/hyjing/ajz7t-ucwpu/Quantum_Algorithm/.venv/lib/python3.10/site-packages (from jsonschema>=4.18.0->jupyterlab-server<3,>=2.27.1->jupyterlab->jupyter) (0.24.0)\n",
            "Requirement already satisfied: referencing>=0.28.4 in /home/hyjing/ajz7t-ucwpu/Quantum_Algorithm/.venv/lib/python3.10/site-packages (from jsonschema>=4.18.0->jupyterlab-server<3,>=2.27.1->jupyterlab->jupyter) (0.36.2)\n",
            "Requirement already satisfied: jsonschema-specifications>=2023.03.6 in /home/hyjing/ajz7t-ucwpu/Quantum_Algorithm/.venv/lib/python3.10/site-packages (from jsonschema>=4.18.0->jupyterlab-server<3,>=2.27.1->jupyterlab->jupyter) (2024.10.1)\n",
            "Requirement already satisfied: rfc3339-validator in /home/hyjing/ajz7t-ucwpu/Quantum_Algorithm/.venv/lib/python3.10/site-packages (from jupyter-events>=0.11.0->jupyter-server<3,>=2.4.0->jupyterlab->jupyter) (0.1.4)\n",
            "Requirement already satisfied: pyyaml>=5.3 in /home/hyjing/ajz7t-ucwpu/Quantum_Algorithm/.venv/lib/python3.10/site-packages (from jupyter-events>=0.11.0->jupyter-server<3,>=2.4.0->jupyterlab->jupyter) (6.0.2)\n",
            "Requirement already satisfied: python-json-logger>=2.0.4 in /home/hyjing/ajz7t-ucwpu/Quantum_Algorithm/.venv/lib/python3.10/site-packages (from jupyter-events>=0.11.0->jupyter-server<3,>=2.4.0->jupyterlab->jupyter) (3.3.0)\n",
            "Requirement already satisfied: rfc3986-validator>=0.1.1 in /home/hyjing/ajz7t-ucwpu/Quantum_Algorithm/.venv/lib/python3.10/site-packages (from jupyter-events>=0.11.0->jupyter-server<3,>=2.4.0->jupyterlab->jupyter) (0.1.1)\n",
            "Requirement already satisfied: ptyprocess>=0.5 in /home/hyjing/ajz7t-ucwpu/Quantum_Algorithm/.venv/lib/python3.10/site-packages (from pexpect>4.3->ipython>=7.23.1->ipykernel->jupyter) (0.7.0)\n",
            "Requirement already satisfied: six>=1.5 in /home/hyjing/ajz7t-ucwpu/Quantum_Algorithm/.venv/lib/python3.10/site-packages (from python-dateutil>=2.8.2->jupyter-client>=6.1.12->ipykernel->jupyter) (1.17.0)\n",
            "Requirement already satisfied: charset-normalizer<4,>=2 in /home/hyjing/ajz7t-ucwpu/Quantum_Algorithm/.venv/lib/python3.10/site-packages (from requests>=2.31->jupyterlab-server<3,>=2.27.1->jupyterlab->jupyter) (3.4.1)\n",
            "Requirement already satisfied: urllib3<3,>=1.21.1 in /home/hyjing/ajz7t-ucwpu/Quantum_Algorithm/.venv/lib/python3.10/site-packages (from requests>=2.31->jupyterlab-server<3,>=2.27.1->jupyterlab->jupyter) (2.3.0)\n",
            "Requirement already satisfied: asttokens>=2.1.0 in /home/hyjing/ajz7t-ucwpu/Quantum_Algorithm/.venv/lib/python3.10/site-packages (from stack_data->ipython>=7.23.1->ipykernel->jupyter) (3.0.0)\n",
            "Requirement already satisfied: pure-eval in /home/hyjing/ajz7t-ucwpu/Quantum_Algorithm/.venv/lib/python3.10/site-packages (from stack_data->ipython>=7.23.1->ipykernel->jupyter) (0.2.3)\n",
            "Requirement already satisfied: executing>=1.2.0 in /home/hyjing/ajz7t-ucwpu/Quantum_Algorithm/.venv/lib/python3.10/site-packages (from stack_data->ipython>=7.23.1->ipykernel->jupyter) (2.2.0)\n",
            "Requirement already satisfied: isoduration in /home/hyjing/ajz7t-ucwpu/Quantum_Algorithm/.venv/lib/python3.10/site-packages (from jsonschema>=4.18.0->jupyterlab-server<3,>=2.27.1->jupyterlab->jupyter) (20.11.0)\n",
            "Requirement already satisfied: fqdn in /home/hyjing/ajz7t-ucwpu/Quantum_Algorithm/.venv/lib/python3.10/site-packages (from jsonschema>=4.18.0->jupyterlab-server<3,>=2.27.1->jupyterlab->jupyter) (1.5.1)\n",
            "Requirement already satisfied: jsonpointer>1.13 in /home/hyjing/ajz7t-ucwpu/Quantum_Algorithm/.venv/lib/python3.10/site-packages (from jsonschema>=4.18.0->jupyterlab-server<3,>=2.27.1->jupyterlab->jupyter) (3.0.0)\n",
            "Requirement already satisfied: webcolors>=24.6.0 in /home/hyjing/ajz7t-ucwpu/Quantum_Algorithm/.venv/lib/python3.10/site-packages (from jsonschema>=4.18.0->jupyterlab-server<3,>=2.27.1->jupyterlab->jupyter) (24.11.1)\n",
            "Requirement already satisfied: uri-template in /home/hyjing/ajz7t-ucwpu/Quantum_Algorithm/.venv/lib/python3.10/site-packages (from jsonschema>=4.18.0->jupyterlab-server<3,>=2.27.1->jupyterlab->jupyter) (1.3.0)\n",
            "Requirement already satisfied: cffi>=1.0.1 in /home/hyjing/ajz7t-ucwpu/Quantum_Algorithm/.venv/lib/python3.10/site-packages (from argon2-cffi-bindings->argon2-cffi>=21.1->jupyter-server<3,>=2.4.0->jupyterlab->jupyter) (1.17.1)\n",
            "Requirement already satisfied: pycparser in /home/hyjing/ajz7t-ucwpu/Quantum_Algorithm/.venv/lib/python3.10/site-packages (from cffi>=1.0.1->argon2-cffi-bindings->argon2-cffi>=21.1->jupyter-server<3,>=2.4.0->jupyterlab->jupyter) (2.22)\n",
            "Requirement already satisfied: arrow>=0.15.0 in /home/hyjing/ajz7t-ucwpu/Quantum_Algorithm/.venv/lib/python3.10/site-packages (from isoduration->jsonschema>=4.18.0->jupyterlab-server<3,>=2.27.1->jupyterlab->jupyter) (1.3.0)\n",
            "Requirement already satisfied: types-python-dateutil>=2.8.10 in /home/hyjing/ajz7t-ucwpu/Quantum_Algorithm/.venv/lib/python3.10/site-packages (from arrow>=0.15.0->isoduration->jsonschema>=4.18.0->jupyterlab-server<3,>=2.27.1->jupyterlab->jupyter) (2.9.0.20241206)\n"
          ]
        }
      ],
      "source": [
        "\n",
        "# !pip install qiskit\n",
        "# !pip install qiskit-ibm-runtime\n",
        "# !pip install qiskit[visualization]\n",
        "# !pip install jupyter"
      ]
    },
    {
      "cell_type": "code",
      "execution_count": 7,
      "metadata": {},
      "outputs": [
        {
          "name": "stdout",
          "output_type": "stream",
          "text": [
            "Available routing plugins: ['basic', 'lookahead', 'none', 'sabre', 'stochastic']\n"
          ]
        }
      ],
      "source": [
        "from qiskit.transpiler.preset_passmanagers.plugin import PassManagerStagePluginManager\n",
        "\n",
        "plugins = PassManagerStagePluginManager().routing_plugins.names()\n",
        "print(\"Available routing plugins:\", plugins)"
      ]
    },
    {
      "cell_type": "code",
      "execution_count": 20,
      "metadata": {
        "id": "4ux36TO-IwZF"
      },
      "outputs": [
        {
          "name": "stdout",
          "output_type": "stream",
          "text": [
            "Finished ibm's 5 qubits ae benchmark: 0.6%\n",
            "Finished ibm's 5 qubits graphstate benchmark: 1.2%\n",
            "Finished ibm's 5 qubits portfolioqaoa benchmark: 1.7999999999999998%\n",
            "Finished ibm's 5 qubits portfoliovqe benchmark: 2.4%\n",
            "Finished ibm's 5 qubits qaoa benchmark: 3.0%\n",
            "Finished ibm's 5 qubits qft benchmark: 3.6%\n",
            "Finished ibm's 5 qubits qnn benchmark: 4.2%\n",
            "Finished ibm's 5 qubits vqe benchmark: 4.8%\n",
            "Finished ibm's 5 qubits wstate benchmark: 5.3999999999999995%\n",
            "Finished ionq's 5 qubits ae benchmark: 5.999999999999999%\n",
            "Finished ionq's 5 qubits graphstate benchmark: 6.599999999999999%\n",
            "Finished ionq's 5 qubits portfolioqaoa benchmark: 7.199999999999998%\n",
            "Finished ionq's 5 qubits portfoliovqe benchmark: 7.799999999999998%\n",
            "Finished ionq's 5 qubits qaoa benchmark: 8.399999999999999%\n",
            "Finished ionq's 5 qubits qft benchmark: 8.999999999999998%\n",
            "Finished ionq's 5 qubits qnn benchmark: 9.599999999999998%\n",
            "Finished ionq's 5 qubits vqe benchmark: 10.199999999999998%\n",
            "Finished ionq's 5 qubits wstate benchmark: 10.799999999999997%\n",
            "Finished quantinuum's 5 qubits ae benchmark: 11.399999999999997%\n",
            "Finished quantinuum's 5 qubits graphstate benchmark: 11.999999999999996%\n",
            "Finished quantinuum's 5 qubits portfolioqaoa benchmark: 12.599999999999996%\n",
            "Finished quantinuum's 5 qubits portfoliovqe benchmark: 13.199999999999996%\n",
            "Finished quantinuum's 5 qubits qaoa benchmark: 13.799999999999995%\n",
            "Finished quantinuum's 5 qubits qft benchmark: 14.399999999999995%\n",
            "Finished quantinuum's 5 qubits qnn benchmark: 14.999999999999995%\n",
            "Finished quantinuum's 5 qubits vqe benchmark: 15.599999999999994%\n",
            "Finished quantinuum's 5 qubits wstate benchmark: 16.199999999999996%\n",
            "Finished ibm's 10 qubits ae benchmark: 16.799999999999997%\n",
            "Finished ibm's 10 qubits graphstate benchmark: 17.4%\n",
            "Finished ibm's 10 qubits portfolioqaoa benchmark: 18.0%\n",
            "Finished ibm's 10 qubits portfoliovqe benchmark: 18.6%\n",
            "Finished ibm's 10 qubits qaoa benchmark: 19.200000000000003%\n",
            "Finished ibm's 10 qubits qft benchmark: 19.800000000000004%\n",
            "Finished ibm's 10 qubits qnn benchmark: 20.400000000000006%\n",
            "Finished ibm's 10 qubits vqe benchmark: 21.000000000000007%\n",
            "Finished ibm's 10 qubits wstate benchmark: 21.60000000000001%\n",
            "Finished ionq's 10 qubits ae benchmark: 22.20000000000001%\n",
            "Finished ionq's 10 qubits graphstate benchmark: 22.80000000000001%\n",
            "Finished ionq's 10 qubits portfolioqaoa benchmark: 23.400000000000013%\n",
            "Finished ionq's 10 qubits portfoliovqe benchmark: 24.000000000000014%\n",
            "Finished ionq's 10 qubits qaoa benchmark: 24.600000000000016%\n",
            "Finished ionq's 10 qubits qft benchmark: 25.200000000000017%\n",
            "Finished ionq's 10 qubits qnn benchmark: 25.80000000000002%\n"
          ]
        },
        {
          "ename": "KeyboardInterrupt",
          "evalue": "",
          "output_type": "error",
          "traceback": [
            "\u001b[0;31m---------------------------------------------------------------------------\u001b[0m",
            "\u001b[0;31mKeyboardInterrupt\u001b[0m                         Traceback (most recent call last)",
            "Cell \u001b[0;32mIn[20], line 15\u001b[0m\n\u001b[1;32m     13\u001b[0m gate_count \u001b[38;5;241m=\u001b[39m \u001b[38;5;241m0\u001b[39m\n\u001b[1;32m     14\u001b[0m \u001b[38;5;28;01mfor\u001b[39;00m benchmark \u001b[38;5;129;01min\u001b[39;00m [\u001b[38;5;124m'\u001b[39m\u001b[38;5;124mae\u001b[39m\u001b[38;5;124m'\u001b[39m, \u001b[38;5;124m'\u001b[39m\u001b[38;5;124mgraphstate\u001b[39m\u001b[38;5;124m'\u001b[39m, \u001b[38;5;124m'\u001b[39m\u001b[38;5;124mportfolioqaoa\u001b[39m\u001b[38;5;124m'\u001b[39m, \u001b[38;5;124m'\u001b[39m\u001b[38;5;124mportfoliovqe\u001b[39m\u001b[38;5;124m'\u001b[39m, \u001b[38;5;124m'\u001b[39m\u001b[38;5;124mqaoa\u001b[39m\u001b[38;5;124m'\u001b[39m, \u001b[38;5;124m'\u001b[39m\u001b[38;5;124mqft\u001b[39m\u001b[38;5;124m'\u001b[39m, \u001b[38;5;124m'\u001b[39m\u001b[38;5;124mqnn\u001b[39m\u001b[38;5;124m'\u001b[39m, \u001b[38;5;124m'\u001b[39m\u001b[38;5;124mvqe\u001b[39m\u001b[38;5;124m'\u001b[39m, \u001b[38;5;124m'\u001b[39m\u001b[38;5;124mwstate\u001b[39m\u001b[38;5;124m'\u001b[39m]:\n\u001b[0;32m---> 15\u001b[0m     qc_native_gates_level \u001b[38;5;241m=\u001b[39m \u001b[43mget_benchmark\u001b[49m\u001b[43m(\u001b[49m\n\u001b[1;32m     16\u001b[0m \u001b[43m        \u001b[49m\u001b[43mbenchmark_name\u001b[49m\u001b[38;5;241;43m=\u001b[39;49m\u001b[43mbenchmark\u001b[49m\u001b[43m,\u001b[49m\n\u001b[1;32m     17\u001b[0m \u001b[43m        \u001b[49m\u001b[43mlevel\u001b[49m\u001b[38;5;241;43m=\u001b[39;49m\u001b[38;5;124;43m\"\u001b[39;49m\u001b[38;5;124;43mnativegates\u001b[39;49m\u001b[38;5;124;43m\"\u001b[39;49m\u001b[43m,\u001b[49m\n\u001b[1;32m     18\u001b[0m \u001b[43m        \u001b[49m\u001b[43mcircuit_size\u001b[49m\u001b[38;5;241;43m=\u001b[39;49m\u001b[43msize\u001b[49m\u001b[43m,\u001b[49m\n\u001b[1;32m     19\u001b[0m \u001b[43m        \u001b[49m\u001b[43mcompiler\u001b[49m\u001b[38;5;241;43m=\u001b[39;49m\u001b[38;5;124;43m\"\u001b[39;49m\u001b[38;5;124;43mqiskit\u001b[39;49m\u001b[38;5;124;43m\"\u001b[39;49m\u001b[43m,\u001b[49m\n\u001b[1;32m     20\u001b[0m \u001b[43m        \u001b[49m\u001b[43mcompiler_settings\u001b[49m\u001b[38;5;241;43m=\u001b[39;49m\u001b[43mcompiler_settings\u001b[49m\u001b[43m,\u001b[49m\n\u001b[1;32m     21\u001b[0m \u001b[43m        \u001b[49m\u001b[43mprovider_name\u001b[49m\u001b[38;5;241;43m=\u001b[39;49m\u001b[43mprovider\u001b[49m\u001b[43m,\u001b[49m\n\u001b[1;32m     22\u001b[0m \u001b[43m    \u001b[49m\u001b[43m)\u001b[49m\n\u001b[1;32m     23\u001b[0m     depth \u001b[38;5;241m+\u001b[39m\u001b[38;5;241m=\u001b[39m qc_native_gates_level\u001b[38;5;241m.\u001b[39mdepth()\n\u001b[1;32m     24\u001b[0m     gate_count \u001b[38;5;241m+\u001b[39m\u001b[38;5;241m=\u001b[39m \u001b[38;5;28msum\u001b[39m(value \u001b[38;5;28;01mfor\u001b[39;00m key, value \u001b[38;5;129;01min\u001b[39;00m qc_native_gates_level\u001b[38;5;241m.\u001b[39mcount_ops()\u001b[38;5;241m.\u001b[39mitems())\n",
            "File \u001b[0;32m~/ajz7t-ucwpu/Quantum_Algorithm/.venv/lib/python3.10/site-packages/mqt/bench/benchmark_generator.py:405\u001b[0m, in \u001b[0;36mget_benchmark\u001b[0;34m(benchmark_name, level, circuit_size, benchmark_instance_name, compiler, compiler_settings, provider_name, device_name, **kwargs)\u001b[0m\n\u001b[1;32m    402\u001b[0m     qc \u001b[38;5;241m=\u001b[39m lib\u001b[38;5;241m.\u001b[39mcreate_circuit(benchmark_instance_name)\n\u001b[1;32m    404\u001b[0m \u001b[38;5;28;01melse\u001b[39;00m:\n\u001b[0;32m--> 405\u001b[0m     qc \u001b[38;5;241m=\u001b[39m \u001b[43mlib\u001b[49m\u001b[38;5;241;43m.\u001b[39;49m\u001b[43mcreate_circuit\u001b[49m\u001b[43m(\u001b[49m\u001b[43mcircuit_size\u001b[49m\u001b[43m)\u001b[49m\n\u001b[1;32m    407\u001b[0m \u001b[38;5;28;01mif\u001b[39;00m level \u001b[38;5;129;01min\u001b[39;00m (\u001b[38;5;124m\"\u001b[39m\u001b[38;5;124malg\u001b[39m\u001b[38;5;124m\"\u001b[39m, \u001b[38;5;241m0\u001b[39m):\n\u001b[1;32m    408\u001b[0m     \u001b[38;5;28;01mreturn\u001b[39;00m qc\n",
            "File \u001b[0;32m~/ajz7t-ucwpu/Quantum_Algorithm/.venv/lib/python3.10/site-packages/mqt/bench/benchmarks/vqe.py:33\u001b[0m, in \u001b[0;36mcreate_circuit\u001b[0;34m(num_qubits)\u001b[0m\n\u001b[1;32m     31\u001b[0m ansatz \u001b[38;5;241m=\u001b[39m RealAmplitudes(num_qubits, reps\u001b[38;5;241m=\u001b[39m\u001b[38;5;241m2\u001b[39m)\n\u001b[1;32m     32\u001b[0m vqe \u001b[38;5;241m=\u001b[39m VQE(ansatz\u001b[38;5;241m=\u001b[39mansatz, optimizer\u001b[38;5;241m=\u001b[39mSLSQP(maxiter\u001b[38;5;241m=\u001b[39m\u001b[38;5;241m25\u001b[39m), estimator\u001b[38;5;241m=\u001b[39mEstimator())\n\u001b[0;32m---> 33\u001b[0m vqe_result \u001b[38;5;241m=\u001b[39m \u001b[43mvqe\u001b[49m\u001b[38;5;241;43m.\u001b[39;49m\u001b[43mcompute_minimum_eigenvalue\u001b[49m\u001b[43m(\u001b[49m\u001b[43mqp\u001b[49m\u001b[38;5;241;43m.\u001b[39;49m\u001b[43mto_ising\u001b[49m\u001b[43m(\u001b[49m\u001b[43m)\u001b[49m\u001b[43m[\u001b[49m\u001b[38;5;241;43m0\u001b[39;49m\u001b[43m]\u001b[49m\u001b[43m)\u001b[49m\n\u001b[1;32m     34\u001b[0m qc \u001b[38;5;241m=\u001b[39m vqe\u001b[38;5;241m.\u001b[39mansatz\u001b[38;5;241m.\u001b[39massign_parameters(vqe_result\u001b[38;5;241m.\u001b[39moptimal_point)\n\u001b[1;32m     36\u001b[0m qc\u001b[38;5;241m.\u001b[39mmeasure_all()\n",
            "File \u001b[0;32m~/ajz7t-ucwpu/Quantum_Algorithm/.venv/lib/python3.10/site-packages/qiskit_algorithms/minimum_eigensolvers/vqe.py:194\u001b[0m, in \u001b[0;36mVQE.compute_minimum_eigenvalue\u001b[0;34m(self, operator, aux_operators)\u001b[0m\n\u001b[1;32m    189\u001b[0m \u001b[38;5;28;01melse\u001b[39;00m:\n\u001b[1;32m    190\u001b[0m     \u001b[38;5;66;03m# we always want to submit as many estimations per job as possible for minimal\u001b[39;00m\n\u001b[1;32m    191\u001b[0m     \u001b[38;5;66;03m# overhead on the hardware\u001b[39;00m\n\u001b[1;32m    192\u001b[0m     was_updated \u001b[38;5;241m=\u001b[39m _set_default_batchsize(\u001b[38;5;28mself\u001b[39m\u001b[38;5;241m.\u001b[39moptimizer)\n\u001b[0;32m--> 194\u001b[0m     optimizer_result \u001b[38;5;241m=\u001b[39m \u001b[38;5;28;43mself\u001b[39;49m\u001b[38;5;241;43m.\u001b[39;49m\u001b[43moptimizer\u001b[49m\u001b[38;5;241;43m.\u001b[39;49m\u001b[43mminimize\u001b[49m\u001b[43m(\u001b[49m\n\u001b[1;32m    195\u001b[0m \u001b[43m        \u001b[49m\u001b[43mfun\u001b[49m\u001b[38;5;241;43m=\u001b[39;49m\u001b[43mevaluate_energy\u001b[49m\u001b[43m,\u001b[49m\u001b[43m  \u001b[49m\u001b[38;5;66;43;03m# type: ignore[arg-type]\u001b[39;49;00m\n\u001b[1;32m    196\u001b[0m \u001b[43m        \u001b[49m\u001b[43mx0\u001b[49m\u001b[38;5;241;43m=\u001b[39;49m\u001b[43minitial_point\u001b[49m\u001b[43m,\u001b[49m\n\u001b[1;32m    197\u001b[0m \u001b[43m        \u001b[49m\u001b[43mjac\u001b[49m\u001b[38;5;241;43m=\u001b[39;49m\u001b[43mevaluate_gradient\u001b[49m\u001b[43m,\u001b[49m\u001b[43m  \u001b[49m\u001b[38;5;66;43;03m# type: ignore[arg-type]\u001b[39;49;00m\n\u001b[1;32m    198\u001b[0m \u001b[43m        \u001b[49m\u001b[43mbounds\u001b[49m\u001b[38;5;241;43m=\u001b[39;49m\u001b[43mbounds\u001b[49m\u001b[43m,\u001b[49m\n\u001b[1;32m    199\u001b[0m \u001b[43m    \u001b[49m\u001b[43m)\u001b[49m\n\u001b[1;32m    201\u001b[0m     \u001b[38;5;66;03m# reset to original value\u001b[39;00m\n\u001b[1;32m    202\u001b[0m     \u001b[38;5;28;01mif\u001b[39;00m was_updated:\n",
            "File \u001b[0;32m~/ajz7t-ucwpu/Quantum_Algorithm/.venv/lib/python3.10/site-packages/qiskit_algorithms/optimizers/scipy_optimizer.py:148\u001b[0m, in \u001b[0;36mSciPyOptimizer.minimize\u001b[0;34m(self, fun, x0, jac, bounds)\u001b[0m\n\u001b[1;32m    145\u001b[0m     swapped_deprecated_args \u001b[38;5;241m=\u001b[39m \u001b[38;5;28;01mTrue\u001b[39;00m\n\u001b[1;32m    146\u001b[0m     \u001b[38;5;28mself\u001b[39m\u001b[38;5;241m.\u001b[39m_options[\u001b[38;5;124m\"\u001b[39m\u001b[38;5;124mmaxfun\u001b[39m\u001b[38;5;124m\"\u001b[39m] \u001b[38;5;241m=\u001b[39m \u001b[38;5;28mself\u001b[39m\u001b[38;5;241m.\u001b[39m_options\u001b[38;5;241m.\u001b[39mpop(\u001b[38;5;124m\"\u001b[39m\u001b[38;5;124mmaxiter\u001b[39m\u001b[38;5;124m\"\u001b[39m)\n\u001b[0;32m--> 148\u001b[0m raw_result \u001b[38;5;241m=\u001b[39m \u001b[43mminimize\u001b[49m\u001b[43m(\u001b[49m\n\u001b[1;32m    149\u001b[0m \u001b[43m    \u001b[49m\u001b[43mfun\u001b[49m\u001b[38;5;241;43m=\u001b[39;49m\u001b[43mfun\u001b[49m\u001b[43m,\u001b[49m\n\u001b[1;32m    150\u001b[0m \u001b[43m    \u001b[49m\u001b[43mx0\u001b[49m\u001b[38;5;241;43m=\u001b[39;49m\u001b[43mx0\u001b[49m\u001b[43m,\u001b[49m\n\u001b[1;32m    151\u001b[0m \u001b[43m    \u001b[49m\u001b[43mmethod\u001b[49m\u001b[38;5;241;43m=\u001b[39;49m\u001b[38;5;28;43mself\u001b[39;49m\u001b[38;5;241;43m.\u001b[39;49m\u001b[43m_method\u001b[49m\u001b[43m,\u001b[49m\n\u001b[1;32m    152\u001b[0m \u001b[43m    \u001b[49m\u001b[43mjac\u001b[49m\u001b[38;5;241;43m=\u001b[39;49m\u001b[43mjac\u001b[49m\u001b[43m,\u001b[49m\n\u001b[1;32m    153\u001b[0m \u001b[43m    \u001b[49m\u001b[43mbounds\u001b[49m\u001b[38;5;241;43m=\u001b[39;49m\u001b[43mbounds\u001b[49m\u001b[43m,\u001b[49m\n\u001b[1;32m    154\u001b[0m \u001b[43m    \u001b[49m\u001b[43moptions\u001b[49m\u001b[38;5;241;43m=\u001b[39;49m\u001b[38;5;28;43mself\u001b[39;49m\u001b[38;5;241;43m.\u001b[39;49m\u001b[43m_options\u001b[49m\u001b[43m,\u001b[49m\n\u001b[1;32m    155\u001b[0m \u001b[43m    \u001b[49m\u001b[38;5;241;43m*\u001b[39;49m\u001b[38;5;241;43m*\u001b[39;49m\u001b[38;5;28;43mself\u001b[39;49m\u001b[38;5;241;43m.\u001b[39;49m\u001b[43m_kwargs\u001b[49m\u001b[43m,\u001b[49m\n\u001b[1;32m    156\u001b[0m \u001b[43m\u001b[49m\u001b[43m)\u001b[49m\n\u001b[1;32m    157\u001b[0m \u001b[38;5;28;01mif\u001b[39;00m swapped_deprecated_args:\n\u001b[1;32m    158\u001b[0m     \u001b[38;5;28mself\u001b[39m\u001b[38;5;241m.\u001b[39m_options[\u001b[38;5;124m\"\u001b[39m\u001b[38;5;124mmaxiter\u001b[39m\u001b[38;5;124m\"\u001b[39m] \u001b[38;5;241m=\u001b[39m \u001b[38;5;28mself\u001b[39m\u001b[38;5;241m.\u001b[39m_options\u001b[38;5;241m.\u001b[39mpop(\u001b[38;5;124m\"\u001b[39m\u001b[38;5;124mmaxfun\u001b[39m\u001b[38;5;124m\"\u001b[39m)\n",
            "File \u001b[0;32m~/ajz7t-ucwpu/Quantum_Algorithm/.venv/lib/python3.10/site-packages/scipy/optimize/_minimize.py:750\u001b[0m, in \u001b[0;36mminimize\u001b[0;34m(fun, x0, args, method, jac, hess, hessp, bounds, constraints, tol, callback, options)\u001b[0m\n\u001b[1;32m    747\u001b[0m     res \u001b[38;5;241m=\u001b[39m _minimize_cobyqa(fun, x0, args, bounds, constraints, callback,\n\u001b[1;32m    748\u001b[0m                            \u001b[38;5;241m*\u001b[39m\u001b[38;5;241m*\u001b[39moptions)\n\u001b[1;32m    749\u001b[0m \u001b[38;5;28;01melif\u001b[39;00m meth \u001b[38;5;241m==\u001b[39m \u001b[38;5;124m'\u001b[39m\u001b[38;5;124mslsqp\u001b[39m\u001b[38;5;124m'\u001b[39m:\n\u001b[0;32m--> 750\u001b[0m     res \u001b[38;5;241m=\u001b[39m \u001b[43m_minimize_slsqp\u001b[49m\u001b[43m(\u001b[49m\u001b[43mfun\u001b[49m\u001b[43m,\u001b[49m\u001b[43m \u001b[49m\u001b[43mx0\u001b[49m\u001b[43m,\u001b[49m\u001b[43m \u001b[49m\u001b[43margs\u001b[49m\u001b[43m,\u001b[49m\u001b[43m \u001b[49m\u001b[43mjac\u001b[49m\u001b[43m,\u001b[49m\u001b[43m \u001b[49m\u001b[43mbounds\u001b[49m\u001b[43m,\u001b[49m\n\u001b[1;32m    751\u001b[0m \u001b[43m                          \u001b[49m\u001b[43mconstraints\u001b[49m\u001b[43m,\u001b[49m\u001b[43m \u001b[49m\u001b[43mcallback\u001b[49m\u001b[38;5;241;43m=\u001b[39;49m\u001b[43mcallback\u001b[49m\u001b[43m,\u001b[49m\u001b[43m \u001b[49m\u001b[38;5;241;43m*\u001b[39;49m\u001b[38;5;241;43m*\u001b[39;49m\u001b[43moptions\u001b[49m\u001b[43m)\u001b[49m\n\u001b[1;32m    752\u001b[0m \u001b[38;5;28;01melif\u001b[39;00m meth \u001b[38;5;241m==\u001b[39m \u001b[38;5;124m'\u001b[39m\u001b[38;5;124mtrust-constr\u001b[39m\u001b[38;5;124m'\u001b[39m:\n\u001b[1;32m    753\u001b[0m     res \u001b[38;5;241m=\u001b[39m _minimize_trustregion_constr(fun, x0, args, jac, hess, hessp,\n\u001b[1;32m    754\u001b[0m                                        bounds, constraints,\n\u001b[1;32m    755\u001b[0m                                        callback\u001b[38;5;241m=\u001b[39mcallback, \u001b[38;5;241m*\u001b[39m\u001b[38;5;241m*\u001b[39moptions)\n",
            "File \u001b[0;32m~/ajz7t-ucwpu/Quantum_Algorithm/.venv/lib/python3.10/site-packages/scipy/optimize/_slsqp_py.py:439\u001b[0m, in \u001b[0;36m_minimize_slsqp\u001b[0;34m(func, x0, args, jac, bounds, constraints, maxiter, ftol, iprint, disp, eps, callback, finite_diff_rel_step, **unknown_options)\u001b[0m\n\u001b[1;32m    436\u001b[0m     c \u001b[38;5;241m=\u001b[39m _eval_constraint(x, cons)\n\u001b[1;32m    438\u001b[0m \u001b[38;5;28;01mif\u001b[39;00m mode \u001b[38;5;241m==\u001b[39m \u001b[38;5;241m-\u001b[39m\u001b[38;5;241m1\u001b[39m:  \u001b[38;5;66;03m# gradient evaluation required\u001b[39;00m\n\u001b[0;32m--> 439\u001b[0m     g \u001b[38;5;241m=\u001b[39m append(\u001b[43mwrapped_grad\u001b[49m\u001b[43m(\u001b[49m\u001b[43mx\u001b[49m\u001b[43m)\u001b[49m, \u001b[38;5;241m0.0\u001b[39m)\n\u001b[1;32m    440\u001b[0m     a \u001b[38;5;241m=\u001b[39m _eval_con_normals(x, cons, la, n, m, meq, mieq)\n\u001b[1;32m    442\u001b[0m \u001b[38;5;28;01mif\u001b[39;00m majiter \u001b[38;5;241m>\u001b[39m majiter_prev:\n\u001b[1;32m    443\u001b[0m     \u001b[38;5;66;03m# call callback if major iteration has incremented\u001b[39;00m\n",
            "File \u001b[0;32m~/ajz7t-ucwpu/Quantum_Algorithm/.venv/lib/python3.10/site-packages/scipy/optimize/_optimize.py:305\u001b[0m, in \u001b[0;36m_clip_x_for_func.<locals>.eval\u001b[0;34m(x)\u001b[0m\n\u001b[1;32m    303\u001b[0m \u001b[38;5;28;01mdef\u001b[39;00m\u001b[38;5;250m \u001b[39m\u001b[38;5;21meval\u001b[39m(x):\n\u001b[1;32m    304\u001b[0m     x \u001b[38;5;241m=\u001b[39m _check_clip_x(x, bounds)\n\u001b[0;32m--> 305\u001b[0m     \u001b[38;5;28;01mreturn\u001b[39;00m \u001b[43mfunc\u001b[49m\u001b[43m(\u001b[49m\u001b[43mx\u001b[49m\u001b[43m)\u001b[49m\n",
            "File \u001b[0;32m~/ajz7t-ucwpu/Quantum_Algorithm/.venv/lib/python3.10/site-packages/scipy/optimize/_differentiable_functions.py:332\u001b[0m, in \u001b[0;36mScalarFunction.grad\u001b[0;34m(self, x)\u001b[0m\n\u001b[1;32m    330\u001b[0m \u001b[38;5;28;01mif\u001b[39;00m \u001b[38;5;129;01mnot\u001b[39;00m np\u001b[38;5;241m.\u001b[39marray_equal(x, \u001b[38;5;28mself\u001b[39m\u001b[38;5;241m.\u001b[39mx):\n\u001b[1;32m    331\u001b[0m     \u001b[38;5;28mself\u001b[39m\u001b[38;5;241m.\u001b[39m_update_x(x)\n\u001b[0;32m--> 332\u001b[0m \u001b[38;5;28;43mself\u001b[39;49m\u001b[38;5;241;43m.\u001b[39;49m\u001b[43m_update_grad\u001b[49m\u001b[43m(\u001b[49m\u001b[43m)\u001b[49m\n\u001b[1;32m    333\u001b[0m \u001b[38;5;28;01mreturn\u001b[39;00m \u001b[38;5;28mself\u001b[39m\u001b[38;5;241m.\u001b[39mg\n",
            "File \u001b[0;32m~/ajz7t-ucwpu/Quantum_Algorithm/.venv/lib/python3.10/site-packages/scipy/optimize/_differentiable_functions.py:307\u001b[0m, in \u001b[0;36mScalarFunction._update_grad\u001b[0;34m(self)\u001b[0m\n\u001b[1;32m    305\u001b[0m \u001b[38;5;28;01mif\u001b[39;00m \u001b[38;5;28mself\u001b[39m\u001b[38;5;241m.\u001b[39m_orig_grad \u001b[38;5;129;01min\u001b[39;00m FD_METHODS:\n\u001b[1;32m    306\u001b[0m     \u001b[38;5;28mself\u001b[39m\u001b[38;5;241m.\u001b[39m_update_fun()\n\u001b[0;32m--> 307\u001b[0m \u001b[38;5;28mself\u001b[39m\u001b[38;5;241m.\u001b[39mg \u001b[38;5;241m=\u001b[39m \u001b[38;5;28;43mself\u001b[39;49m\u001b[38;5;241;43m.\u001b[39;49m\u001b[43m_wrapped_grad\u001b[49m\u001b[43m(\u001b[49m\u001b[38;5;28;43mself\u001b[39;49m\u001b[38;5;241;43m.\u001b[39;49m\u001b[43mx\u001b[49m\u001b[43m,\u001b[49m\u001b[43m \u001b[49m\u001b[43mf0\u001b[49m\u001b[38;5;241;43m=\u001b[39;49m\u001b[38;5;28;43mself\u001b[39;49m\u001b[38;5;241;43m.\u001b[39;49m\u001b[43mf\u001b[49m\u001b[43m)\u001b[49m\n\u001b[1;32m    308\u001b[0m \u001b[38;5;28mself\u001b[39m\u001b[38;5;241m.\u001b[39mg_updated \u001b[38;5;241m=\u001b[39m \u001b[38;5;28;01mTrue\u001b[39;00m\n",
            "File \u001b[0;32m~/ajz7t-ucwpu/Quantum_Algorithm/.venv/lib/python3.10/site-packages/scipy/optimize/_differentiable_functions.py:48\u001b[0m, in \u001b[0;36m_wrapper_grad.<locals>.wrapped1\u001b[0;34m(x, f0)\u001b[0m\n\u001b[1;32m     46\u001b[0m \u001b[38;5;28;01mdef\u001b[39;00m\u001b[38;5;250m \u001b[39m\u001b[38;5;21mwrapped1\u001b[39m(x, f0\u001b[38;5;241m=\u001b[39m\u001b[38;5;28;01mNone\u001b[39;00m):\n\u001b[1;32m     47\u001b[0m     ncalls[\u001b[38;5;241m0\u001b[39m] \u001b[38;5;241m+\u001b[39m\u001b[38;5;241m=\u001b[39m \u001b[38;5;241m1\u001b[39m\n\u001b[0;32m---> 48\u001b[0m     \u001b[38;5;28;01mreturn\u001b[39;00m \u001b[43mapprox_derivative\u001b[49m\u001b[43m(\u001b[49m\n\u001b[1;32m     49\u001b[0m \u001b[43m        \u001b[49m\u001b[43mfun\u001b[49m\u001b[43m,\u001b[49m\u001b[43m \u001b[49m\u001b[43mx\u001b[49m\u001b[43m,\u001b[49m\u001b[43m \u001b[49m\u001b[43mf0\u001b[49m\u001b[38;5;241;43m=\u001b[39;49m\u001b[43mf0\u001b[49m\u001b[43m,\u001b[49m\u001b[43m \u001b[49m\u001b[38;5;241;43m*\u001b[39;49m\u001b[38;5;241;43m*\u001b[39;49m\u001b[43mfinite_diff_options\u001b[49m\n\u001b[1;32m     50\u001b[0m \u001b[43m    \u001b[49m\u001b[43m)\u001b[49m\n",
            "File \u001b[0;32m~/ajz7t-ucwpu/Quantum_Algorithm/.venv/lib/python3.10/site-packages/scipy/optimize/_numdiff.py:523\u001b[0m, in \u001b[0;36mapprox_derivative\u001b[0;34m(fun, x0, method, rel_step, abs_step, f0, bounds, sparsity, as_linear_operator, args, kwargs)\u001b[0m\n\u001b[1;32m    520\u001b[0m     use_one_sided \u001b[38;5;241m=\u001b[39m \u001b[38;5;28;01mFalse\u001b[39;00m\n\u001b[1;32m    522\u001b[0m \u001b[38;5;28;01mif\u001b[39;00m sparsity \u001b[38;5;129;01mis\u001b[39;00m \u001b[38;5;28;01mNone\u001b[39;00m:\n\u001b[0;32m--> 523\u001b[0m     \u001b[38;5;28;01mreturn\u001b[39;00m \u001b[43m_dense_difference\u001b[49m\u001b[43m(\u001b[49m\u001b[43mfun_wrapped\u001b[49m\u001b[43m,\u001b[49m\u001b[43m \u001b[49m\u001b[43mx0\u001b[49m\u001b[43m,\u001b[49m\u001b[43m \u001b[49m\u001b[43mf0\u001b[49m\u001b[43m,\u001b[49m\u001b[43m \u001b[49m\u001b[43mh\u001b[49m\u001b[43m,\u001b[49m\n\u001b[1;32m    524\u001b[0m \u001b[43m                             \u001b[49m\u001b[43muse_one_sided\u001b[49m\u001b[43m,\u001b[49m\u001b[43m \u001b[49m\u001b[43mmethod\u001b[49m\u001b[43m)\u001b[49m\n\u001b[1;32m    525\u001b[0m \u001b[38;5;28;01melse\u001b[39;00m:\n\u001b[1;32m    526\u001b[0m     \u001b[38;5;28;01mif\u001b[39;00m \u001b[38;5;129;01mnot\u001b[39;00m issparse(sparsity) \u001b[38;5;129;01mand\u001b[39;00m \u001b[38;5;28mlen\u001b[39m(sparsity) \u001b[38;5;241m==\u001b[39m \u001b[38;5;241m2\u001b[39m:\n",
            "File \u001b[0;32m~/ajz7t-ucwpu/Quantum_Algorithm/.venv/lib/python3.10/site-packages/scipy/optimize/_numdiff.py:596\u001b[0m, in \u001b[0;36m_dense_difference\u001b[0;34m(fun, x0, f0, h, use_one_sided, method)\u001b[0m\n\u001b[1;32m    594\u001b[0m     x1[i] \u001b[38;5;241m+\u001b[39m\u001b[38;5;241m=\u001b[39m h[i]\n\u001b[1;32m    595\u001b[0m     dx \u001b[38;5;241m=\u001b[39m x1[i] \u001b[38;5;241m-\u001b[39m x0[i]  \u001b[38;5;66;03m# Recompute dx as exactly representable number.\u001b[39;00m\n\u001b[0;32m--> 596\u001b[0m     df \u001b[38;5;241m=\u001b[39m \u001b[43mfun\u001b[49m\u001b[43m(\u001b[49m\u001b[43mx1\u001b[49m\u001b[43m)\u001b[49m \u001b[38;5;241m-\u001b[39m f0\n\u001b[1;32m    597\u001b[0m \u001b[38;5;28;01melif\u001b[39;00m method \u001b[38;5;241m==\u001b[39m \u001b[38;5;124m'\u001b[39m\u001b[38;5;124m3-point\u001b[39m\u001b[38;5;124m'\u001b[39m \u001b[38;5;129;01mand\u001b[39;00m use_one_sided[i]:\n\u001b[1;32m    598\u001b[0m     x1[i] \u001b[38;5;241m+\u001b[39m\u001b[38;5;241m=\u001b[39m h[i]\n",
            "File \u001b[0;32m~/ajz7t-ucwpu/Quantum_Algorithm/.venv/lib/python3.10/site-packages/scipy/optimize/_numdiff.py:474\u001b[0m, in \u001b[0;36mapprox_derivative.<locals>.fun_wrapped\u001b[0;34m(x)\u001b[0m\n\u001b[1;32m    471\u001b[0m \u001b[38;5;28;01mif\u001b[39;00m xp\u001b[38;5;241m.\u001b[39misdtype(x\u001b[38;5;241m.\u001b[39mdtype, \u001b[38;5;124m\"\u001b[39m\u001b[38;5;124mreal floating\u001b[39m\u001b[38;5;124m\"\u001b[39m):\n\u001b[1;32m    472\u001b[0m     x \u001b[38;5;241m=\u001b[39m xp\u001b[38;5;241m.\u001b[39mastype(x, x0\u001b[38;5;241m.\u001b[39mdtype)\n\u001b[0;32m--> 474\u001b[0m f \u001b[38;5;241m=\u001b[39m np\u001b[38;5;241m.\u001b[39matleast_1d(\u001b[43mfun\u001b[49m\u001b[43m(\u001b[49m\u001b[43mx\u001b[49m\u001b[43m,\u001b[49m\u001b[43m \u001b[49m\u001b[38;5;241;43m*\u001b[39;49m\u001b[43margs\u001b[49m\u001b[43m,\u001b[49m\u001b[43m \u001b[49m\u001b[38;5;241;43m*\u001b[39;49m\u001b[38;5;241;43m*\u001b[39;49m\u001b[43mkwargs\u001b[49m\u001b[43m)\u001b[49m)\n\u001b[1;32m    475\u001b[0m \u001b[38;5;28;01mif\u001b[39;00m f\u001b[38;5;241m.\u001b[39mndim \u001b[38;5;241m>\u001b[39m \u001b[38;5;241m1\u001b[39m:\n\u001b[1;32m    476\u001b[0m     \u001b[38;5;28;01mraise\u001b[39;00m \u001b[38;5;167;01mRuntimeError\u001b[39;00m(\u001b[38;5;124m\"\u001b[39m\u001b[38;5;124m`fun` return value has \u001b[39m\u001b[38;5;124m\"\u001b[39m\n\u001b[1;32m    477\u001b[0m                        \u001b[38;5;124m\"\u001b[39m\u001b[38;5;124mmore than 1 dimension.\u001b[39m\u001b[38;5;124m\"\u001b[39m)\n",
            "File \u001b[0;32m~/ajz7t-ucwpu/Quantum_Algorithm/.venv/lib/python3.10/site-packages/scipy/optimize/_differentiable_functions.py:21\u001b[0m, in \u001b[0;36m_wrapper_fun.<locals>.wrapped\u001b[0;34m(x)\u001b[0m\n\u001b[1;32m     17\u001b[0m ncalls[\u001b[38;5;241m0\u001b[39m] \u001b[38;5;241m+\u001b[39m\u001b[38;5;241m=\u001b[39m \u001b[38;5;241m1\u001b[39m\n\u001b[1;32m     18\u001b[0m \u001b[38;5;66;03m# Send a copy because the user may overwrite it.\u001b[39;00m\n\u001b[1;32m     19\u001b[0m \u001b[38;5;66;03m# Overwriting results in undefined behaviour because\u001b[39;00m\n\u001b[1;32m     20\u001b[0m \u001b[38;5;66;03m# fun(self.x) will change self.x, with the two no longer linked.\u001b[39;00m\n\u001b[0;32m---> 21\u001b[0m fx \u001b[38;5;241m=\u001b[39m \u001b[43mfun\u001b[49m\u001b[43m(\u001b[49m\u001b[43mnp\u001b[49m\u001b[38;5;241;43m.\u001b[39;49m\u001b[43mcopy\u001b[49m\u001b[43m(\u001b[49m\u001b[43mx\u001b[49m\u001b[43m)\u001b[49m\u001b[43m,\u001b[49m\u001b[43m \u001b[49m\u001b[38;5;241;43m*\u001b[39;49m\u001b[43margs\u001b[49m\u001b[43m)\u001b[49m\n\u001b[1;32m     22\u001b[0m \u001b[38;5;66;03m# Make sure the function returns a true scalar\u001b[39;00m\n\u001b[1;32m     23\u001b[0m \u001b[38;5;28;01mif\u001b[39;00m \u001b[38;5;129;01mnot\u001b[39;00m np\u001b[38;5;241m.\u001b[39misscalar(fx):\n",
            "File \u001b[0;32m~/ajz7t-ucwpu/Quantum_Algorithm/.venv/lib/python3.10/site-packages/qiskit_algorithms/minimum_eigensolvers/vqe.py:266\u001b[0m, in \u001b[0;36mVQE._get_evaluate_energy.<locals>.evaluate_energy\u001b[0;34m(parameters)\u001b[0m\n\u001b[1;32m    264\u001b[0m \u001b[38;5;28;01mtry\u001b[39;00m:\n\u001b[1;32m    265\u001b[0m     job \u001b[38;5;241m=\u001b[39m \u001b[38;5;28mself\u001b[39m\u001b[38;5;241m.\u001b[39mestimator\u001b[38;5;241m.\u001b[39mrun(batch_size \u001b[38;5;241m*\u001b[39m [ansatz], batch_size \u001b[38;5;241m*\u001b[39m [operator], parameters)\n\u001b[0;32m--> 266\u001b[0m     estimator_result \u001b[38;5;241m=\u001b[39m \u001b[43mjob\u001b[49m\u001b[38;5;241;43m.\u001b[39;49m\u001b[43mresult\u001b[49m\u001b[43m(\u001b[49m\u001b[43m)\u001b[49m\n\u001b[1;32m    267\u001b[0m \u001b[38;5;28;01mexcept\u001b[39;00m \u001b[38;5;167;01mException\u001b[39;00m \u001b[38;5;28;01mas\u001b[39;00m exc:\n\u001b[1;32m    268\u001b[0m     \u001b[38;5;28;01mraise\u001b[39;00m AlgorithmError(\u001b[38;5;124m\"\u001b[39m\u001b[38;5;124mThe primitive job to evaluate the energy failed!\u001b[39m\u001b[38;5;124m\"\u001b[39m) \u001b[38;5;28;01mfrom\u001b[39;00m\u001b[38;5;250m \u001b[39m\u001b[38;5;21;01mexc\u001b[39;00m\n",
            "File \u001b[0;32m~/ajz7t-ucwpu/Quantum_Algorithm/.venv/lib/python3.10/site-packages/qiskit/primitives/primitive_job.py:51\u001b[0m, in \u001b[0;36mPrimitiveJob.result\u001b[0;34m(self)\u001b[0m\n\u001b[1;32m     49\u001b[0m \u001b[38;5;28;01mdef\u001b[39;00m\u001b[38;5;250m \u001b[39m\u001b[38;5;21mresult\u001b[39m(\u001b[38;5;28mself\u001b[39m) \u001b[38;5;241m-\u001b[39m\u001b[38;5;241m>\u001b[39m ResultT:\n\u001b[1;32m     50\u001b[0m     \u001b[38;5;28mself\u001b[39m\u001b[38;5;241m.\u001b[39m_check_submitted()\n\u001b[0;32m---> 51\u001b[0m     \u001b[38;5;28;01mreturn\u001b[39;00m \u001b[38;5;28;43mself\u001b[39;49m\u001b[38;5;241;43m.\u001b[39;49m\u001b[43m_future\u001b[49m\u001b[38;5;241;43m.\u001b[39;49m\u001b[43mresult\u001b[49m\u001b[43m(\u001b[49m\u001b[43m)\u001b[49m\n",
            "File \u001b[0;32m/usr/lib/python3.10/concurrent/futures/_base.py:453\u001b[0m, in \u001b[0;36mFuture.result\u001b[0;34m(self, timeout)\u001b[0m\n\u001b[1;32m    450\u001b[0m \u001b[38;5;28;01melif\u001b[39;00m \u001b[38;5;28mself\u001b[39m\u001b[38;5;241m.\u001b[39m_state \u001b[38;5;241m==\u001b[39m FINISHED:\n\u001b[1;32m    451\u001b[0m     \u001b[38;5;28;01mreturn\u001b[39;00m \u001b[38;5;28mself\u001b[39m\u001b[38;5;241m.\u001b[39m__get_result()\n\u001b[0;32m--> 453\u001b[0m \u001b[38;5;28;43mself\u001b[39;49m\u001b[38;5;241;43m.\u001b[39;49m\u001b[43m_condition\u001b[49m\u001b[38;5;241;43m.\u001b[39;49m\u001b[43mwait\u001b[49m\u001b[43m(\u001b[49m\u001b[43mtimeout\u001b[49m\u001b[43m)\u001b[49m\n\u001b[1;32m    455\u001b[0m \u001b[38;5;28;01mif\u001b[39;00m \u001b[38;5;28mself\u001b[39m\u001b[38;5;241m.\u001b[39m_state \u001b[38;5;129;01min\u001b[39;00m [CANCELLED, CANCELLED_AND_NOTIFIED]:\n\u001b[1;32m    456\u001b[0m     \u001b[38;5;28;01mraise\u001b[39;00m CancelledError()\n",
            "File \u001b[0;32m/usr/lib/python3.10/threading.py:320\u001b[0m, in \u001b[0;36mCondition.wait\u001b[0;34m(self, timeout)\u001b[0m\n\u001b[1;32m    318\u001b[0m \u001b[38;5;28;01mtry\u001b[39;00m:    \u001b[38;5;66;03m# restore state no matter what (e.g., KeyboardInterrupt)\u001b[39;00m\n\u001b[1;32m    319\u001b[0m     \u001b[38;5;28;01mif\u001b[39;00m timeout \u001b[38;5;129;01mis\u001b[39;00m \u001b[38;5;28;01mNone\u001b[39;00m:\n\u001b[0;32m--> 320\u001b[0m         \u001b[43mwaiter\u001b[49m\u001b[38;5;241;43m.\u001b[39;49m\u001b[43macquire\u001b[49m\u001b[43m(\u001b[49m\u001b[43m)\u001b[49m\n\u001b[1;32m    321\u001b[0m         gotit \u001b[38;5;241m=\u001b[39m \u001b[38;5;28;01mTrue\u001b[39;00m\n\u001b[1;32m    322\u001b[0m     \u001b[38;5;28;01melse\u001b[39;00m:\n",
            "\u001b[0;31mKeyboardInterrupt\u001b[0m: "
          ]
        }
      ],
      "source": [
        "# Add your code Q1a\n",
        "import qiskit\n",
        "from mqt.bench import CompilerSettings, QiskitSettings, TKETSettings\n",
        "compiler_settings = CompilerSettings(\n",
        "    qiskit=QiskitSettings(optimization_level=1),\n",
        "    tket=TKETSettings(placement=\"lineplacement\"),\n",
        ")\n",
        "result = {'ibm': [], 'ionq':[], 'quantinuum': []}\n",
        "process = 0\n",
        "for size in [5, 10, 15, 25, 35, 45]:\n",
        "    for provider in ['ibm', 'ionq', 'quantinuum']:\n",
        "        depth = 0\n",
        "        gate_count = 0\n",
        "        for benchmark in ['ae', 'graphstate', 'portfolioqaoa', 'portfoliovqe', 'qaoa', 'qft', 'qnn', 'vqe', 'wstate']:\n",
        "            qc_native_gates_level = get_benchmark(\n",
        "                benchmark_name=benchmark,\n",
        "                level=\"nativegates\",\n",
        "                circuit_size=size,\n",
        "                compiler=\"qiskit\",\n",
        "                compiler_settings=compiler_settings,\n",
        "                provider_name=provider,\n",
        "            )\n",
        "            depth += qc_native_gates_level.depth()\n",
        "            gate_count += sum(value for key, value in qc_native_gates_level.count_ops().items())\n",
        "            process += 0.6\n",
        "            print(f\"Finished {provider}\\'s {size} qubits {benchmark} benchmark: {process}%\")\n",
        "        result[provider] = (depth, gate_count)\n",
        "print(result)\n",
        "            \n"
      ]
    },
    {
      "cell_type": "code",
      "execution_count": null,
      "metadata": {},
      "outputs": [],
      "source": [
        "plt.figure(figsize=(12, 6))\n",
        "\n",
        "# Plot 1: Circuit Depth\n",
        "plt.subplot(1, 2, 1)\n",
        "for provider in providers:\n",
        "    depths = [entry[0] for entry in result[provider]]\n",
        "    plt.plot(sizes, depths, marker='o', label=provider)\n",
        "plt.xlabel('Number of Qubits')\n",
        "plt.ylabel('Circuit Depth')\n",
        "plt.title('Circuit Depth vs Qubit Count')\n",
        "plt.grid(True)\n",
        "plt.legend()\n",
        "\n",
        "# Plot 2: Gate Count\n",
        "plt.subplot(1, 2, 2)\n",
        "for provider in providers:\n",
        "    gate_counts = [entry[1] for entry in result[provider]]\n",
        "    plt.plot(sizes, gate_counts, marker='o', label=provider)\n",
        "plt.xlabel('Number of Qubits')\n",
        "plt.ylabel('Gate Count')\n",
        "plt.title('Gate Count vs Qubit Count')\n",
        "plt.grid(True)\n",
        "plt.legend()\n",
        "\n",
        "plt.tight_layout()\n",
        "plt.show()"
      ]
    },
    {
      "cell_type": "markdown",
      "metadata": {
        "id": "nFBeoPVRaqkQ"
      },
      "source": [
        "ToDO: Analysis"
      ]
    },
    {
      "cell_type": "markdown",
      "metadata": {
        "id": "f6nE4VIXjP7c"
      },
      "source": [
        "# Q2: Zero Noise Extrapolation [4 points + 1 point]\n",
        "\n",
        "\n",
        "(a) Use 8-node QAOA with P=2 example from HW-3 Q2 and show that ZNE can significantly improve expected cost estimate. Use the idetical noise configuration as superconducting hardware described in Q1 and connectivity map to compile your circuit and perform ZNE using folded CX gates (local folding) to modulate noise levels. Make sure the additional \"CX\" gates are introduced after the mapping and routing pass. Use three noise levels -- (1) No gate folding (2) gate folding only on second layer of QAOA (3) gate folding on both layers of QAOA.  \n",
        "\n",
        "\n",
        "\n",
        "(b) You have three options -- (1) use ZNE on fast but noisy IBM machine (2) use slower but more reliable H2 machine without ZNE or (3) Aria IonQ hardware without ZNE, which is the best option? Backup your claim with numerical simulations.    \n",
        "\n",
        "\n",
        "\n",
        "(c) Can you do better than (a) without increasing the total execution time ? [Extra Credit]"
      ]
    },
    {
      "cell_type": "code",
      "execution_count": null,
      "metadata": {
        "id": "gQaVeuoUayMk"
      },
      "outputs": [],
      "source": [
        "# Code for Q2"
      ]
    },
    {
      "cell_type": "markdown",
      "metadata": {
        "id": "EWXQx_SsjQJi"
      },
      "source": [
        "TODO Q2"
      ]
    },
    {
      "cell_type": "markdown",
      "metadata": {
        "id": "6sDA3PNwBvCl"
      },
      "source": [
        "# Q3: Unitary Synthesis [3 points]\n",
        "\n",
        "In this problem, you'll implement a brute force, approximate, single-qubit unitary synthesis algorithm using the Clifford + T gate set. It has been broken down into small parts, so don't be intimidated by the number of subquestions."
      ]
    },
    {
      "cell_type": "markdown",
      "metadata": {
        "id": "DP09adUmThgU"
      },
      "source": [
        "## Part A: Hilbert-Schmidt distance\n",
        "\n",
        "Our algorithm should guarantee the output circuit is close to the target unitary. This distance can be quantified using something called the Hilbert-Schmidt distance, where $n$ is the number of qubits:\n",
        "$$HS(U_1, U_2) := \\sqrt{1-\\frac{| Tr(U_1^\\dagger U_2)| ^2}{2^{2n}}}$$\n",
        "\n",
        "This outputs a value between 0 and 1 (inclusive) that indicates how close the two untaries are. 0 means they are equal up to global phase and 1 means they are very not equal.\n",
        "\n",
        "Is this distance function symmetric? i.e. is $HS(U_1, U_2)$ equal to $HS(U_2, U_1)$? Either prove it is symmetric or provide a counterexample."
      ]
    },
    {
      "cell_type": "markdown",
      "metadata": {
        "id": "QEcnmSOoYolX"
      },
      "source": [
        "Type your answer below:\n",
        "\n",
        "TODO"
      ]
    },
    {
      "cell_type": "markdown",
      "metadata": {
        "id": "udkWefsIBwxZ"
      },
      "source": [
        "## Part B: Implement the Hilbert-Schmidt distance function\n",
        "\n",
        "Fill in the function below to compute the Hilbert-Schmidt (HS) distance."
      ]
    },
    {
      "cell_type": "code",
      "execution_count": null,
      "metadata": {
        "id": "g7IAW4lvRleM"
      },
      "outputs": [
        {
          "name": "stdout",
          "output_type": "stream",
          "text": [
            "None\n"
          ]
        }
      ],
      "source": [
        "import numpy as np\n",
        "from numpy.typing import NDArray\n",
        "from qiskit import QuantumCircuit\n",
        "from qiskit.quantum_info import Operator\n",
        "\n",
        "def get_unitary_from_circuit(circuit: QuantumCircuit):\n",
        "  return Operator(circuit).data\n",
        "\n",
        "def hilbert_schmidt(unitary1: NDArray, unitary2: NDArray) -> float:\n",
        "  pass # TODO: write your code here. You may find some numpy methods to be particularly helpful.\n",
        "\n",
        "# A test. Do not delete anything below this and make sure the output is included in your submission.\n",
        "target_unitary = np.matrix([[-0.63093663-0.52401339j,  0.2720076 +0.50332971j],\n",
        "       [ 0.42561408+0.38233701j,  0.36164925+0.73612559j]])\n",
        "circuit = QuantumCircuit(1)\n",
        "circuit.h(0)\n",
        "circuit.s(0)\n",
        "circuit.t(0)\n",
        "\n",
        "print(hilbert_schmidt(target_unitary, get_unitary_from_circuit(circuit)))"
      ]
    },
    {
      "cell_type": "markdown",
      "metadata": {
        "id": "3tITML5_jV_y"
      },
      "source": [
        "Is the unitary this circuit implements close to the target unitary?"
      ]
    },
    {
      "cell_type": "markdown",
      "metadata": {
        "id": "PgjKi2c9jcF2"
      },
      "source": [
        "Type your answer below:\n",
        "\n",
        "TODO"
      ]
    },
    {
      "cell_type": "markdown",
      "metadata": {
        "id": "iUNGMP2HSpT3"
      },
      "source": [
        "## Part C: Implement unitary synthesis\n",
        "\n",
        "Implement a function to synthesize a quantum circuit that is within epsilon of the target unitary, as measured by the HS distance.\n",
        "\n",
        "Fill in the function below."
      ]
    },
    {
      "cell_type": "code",
      "execution_count": null,
      "metadata": {
        "id": "toBw5cDtSpvp"
      },
      "outputs": [
        {
          "ename": "AttributeError",
          "evalue": "module 'numpy' has no attribute 'NDArray'",
          "output_type": "error",
          "traceback": [
            "\u001b[0;31m---------------------------------------------------------------------------\u001b[0m",
            "\u001b[0;31mAttributeError\u001b[0m                            Traceback (most recent call last)",
            "Cell \u001b[0;32mIn[8], line 10\u001b[0m\n\u001b[1;32m      2\u001b[0m cliffordt_gate_set_1q \u001b[38;5;241m=\u001b[39m [\u001b[38;5;124m\"\u001b[39m\u001b[38;5;124mh\u001b[39m\u001b[38;5;124m\"\u001b[39m, \u001b[38;5;124m\"\u001b[39m\u001b[38;5;124ms\u001b[39m\u001b[38;5;124m\"\u001b[39m, \u001b[38;5;124m\"\u001b[39m\u001b[38;5;124mt\u001b[39m\u001b[38;5;124m\"\u001b[39m]\n\u001b[1;32m      4\u001b[0m \u001b[38;5;124;03m\"\"\"\u001b[39;00m\n\u001b[1;32m      5\u001b[0m \u001b[38;5;124;03mtarget_unitary: the unitary to implement\u001b[39;00m\n\u001b[1;32m      6\u001b[0m \u001b[38;5;124;03mepsilon: a float between 0 and 1 (inclusive)\u001b[39;00m\n\u001b[1;32m      7\u001b[0m \n\u001b[1;32m      8\u001b[0m \u001b[38;5;124;03mReturns a qiskit.QuantumCircuit object such that hilbert_schmidt(target_unitary, get_unitary_from_circuit(synthesize(target_unitary, epsilon))) <= epsilon is True.\u001b[39;00m\n\u001b[1;32m      9\u001b[0m \u001b[38;5;124;03m\"\"\"\u001b[39;00m\n\u001b[0;32m---> 10\u001b[0m \u001b[38;5;28;01mdef\u001b[39;00m\u001b[38;5;250m \u001b[39m\u001b[38;5;21msynthesize\u001b[39m(target_unitary: \u001b[43mnp\u001b[49m\u001b[38;5;241;43m.\u001b[39;49m\u001b[43mNDArray\u001b[49m, epsilon: \u001b[38;5;28mfloat\u001b[39m) \u001b[38;5;241m-\u001b[39m\u001b[38;5;241m>\u001b[39m QuantumCircuit:\n\u001b[1;32m     11\u001b[0m   \u001b[38;5;66;03m# Hint: brute force search by enumerating circuits starting from the empty circuit, then all circuits with 1 gate, and so on.\u001b[39;00m\n\u001b[1;32m     12\u001b[0m   \u001b[38;5;28;01mpass\u001b[39;00m\n\u001b[1;32m     14\u001b[0m \u001b[38;5;66;03m# A test. Do not delete anything below this and make sure the output is included in your submission.\u001b[39;00m\n",
            "File \u001b[0;32m~/ajz7t-ucwpu/Quantum_Algorithm/.venv/lib/python3.10/site-packages/numpy/__init__.py:333\u001b[0m, in \u001b[0;36m__getattr__\u001b[0;34m(attr)\u001b[0m\n\u001b[1;32m    330\u001b[0m     \u001b[38;5;124m\"\u001b[39m\u001b[38;5;124mRemoved in NumPy 1.25.0\u001b[39m\u001b[38;5;124m\"\u001b[39m\n\u001b[1;32m    331\u001b[0m     \u001b[38;5;28;01mraise\u001b[39;00m \u001b[38;5;167;01mRuntimeError\u001b[39;00m(\u001b[38;5;124m\"\u001b[39m\u001b[38;5;124mTester was removed in NumPy 1.25.\u001b[39m\u001b[38;5;124m\"\u001b[39m)\n\u001b[0;32m--> 333\u001b[0m \u001b[38;5;28;01mraise\u001b[39;00m \u001b[38;5;167;01mAttributeError\u001b[39;00m(\u001b[38;5;124m\"\u001b[39m\u001b[38;5;124mmodule \u001b[39m\u001b[38;5;132;01m{!r}\u001b[39;00m\u001b[38;5;124m has no attribute \u001b[39m\u001b[38;5;124m\"\u001b[39m\n\u001b[1;32m    334\u001b[0m                      \u001b[38;5;124m\"\u001b[39m\u001b[38;5;132;01m{!r}\u001b[39;00m\u001b[38;5;124m\"\u001b[39m\u001b[38;5;241m.\u001b[39mformat(\u001b[38;5;18m__name__\u001b[39m, attr))\n",
            "\u001b[0;31mAttributeError\u001b[0m: module 'numpy' has no attribute 'NDArray'"
          ]
        }
      ],
      "source": [
        "# Your function should return a circuit with only these gates\n",
        "cliffordt_gate_set_1q = [\"h\", \"s\", \"t\"]\n",
        "\n",
        "\"\"\"\n",
        "target_unitary: the unitary to implement\n",
        "epsilon: a float between 0 and 1 (inclusive)\n",
        "\n",
        "Returns a qiskit.QuantumCircuit object such that hilbert_schmidt(target_unitary, get_unitary_from_circuit(synthesize(target_unitary, epsilon))) <= epsilon is True.\n",
        "\"\"\"\n",
        "def synthesize(target_unitary: np.NDArray, epsilon: float) -> QuantumCircuit:\n",
        "  # Hint: brute force search by enumerating circuits starting from the empty circuit, then all circuits with 1 gate, and so on.\n",
        "  pass\n",
        "\n",
        "# A test. Do not delete anything below this and make sure the output is included in your submission.\n",
        "target_unitary = np.matrix([[-0.63093663-0.52401339j,  0.2720076 +0.50332971j],\n",
        "       [ 0.42561408+0.38233701j,  0.36164925+0.73612559j]])\n",
        "synthesized_circuit = synthesize(target_unitary, 0.5)\n",
        "print(synthesized_circuit)\n",
        "print(hilbert_schmidt(target_unitary, get_unitary_from_circuit(synthesized_circuit)) <= 0.5)"
      ]
    },
    {
      "cell_type": "markdown",
      "metadata": {
        "id": "a8ARJb7dV2pB"
      },
      "source": [
        "## Part D: Scalability\n",
        "\n",
        "Sweep the following epsilon values and plot the time in seconds it takes to find a solution."
      ]
    },
    {
      "cell_type": "code",
      "execution_count": null,
      "metadata": {
        "id": "Bm9VMioeWcCT"
      },
      "outputs": [],
      "source": [
        "target_unitary = np.matrix([[-0.63093663-0.52401339j,  0.2720076 +0.50332971j],\n",
        "       [ 0.42561408+0.38233701j,  0.36164925+0.73612559j]])\n",
        "epsilons = [1, 0.9, 0.8, 0.7, 0.6, 0.5, 0.4, 0.3, 0.2]\n",
        "\n",
        "# TODO: write your code here and make sure the plot is included in the ouput"
      ]
    },
    {
      "cell_type": "markdown",
      "metadata": {
        "id": "k6P_YeCJY03t"
      },
      "source": [
        "What does the plot tell you about how this algorithm scales?"
      ]
    },
    {
      "cell_type": "markdown",
      "metadata": {
        "id": "juHaHOcKY3uv"
      },
      "source": [
        "Type your answer below:\n",
        "\n",
        "TODO"
      ]
    },
    {
      "cell_type": "markdown",
      "metadata": {
        "id": "UHXwX45iZDvc"
      },
      "source": [
        "## Part E: Why is unitary synthesis important?\n",
        "\n",
        "Why do we even need to solve this problem? What is the significance of the Clifford + T gate set and what type of gate does it fail to support natively?"
      ]
    },
    {
      "cell_type": "markdown",
      "metadata": {
        "id": "a0kiMPRbZWSM"
      },
      "source": [
        "Type your answer below:\n",
        "\n",
        "TODO"
      ]
    },
    {
      "cell_type": "code",
      "execution_count": null,
      "metadata": {
        "id": "_IrH2ChbpP5t"
      },
      "outputs": [],
      "source": []
    },
    {
      "cell_type": "markdown",
      "metadata": {
        "id": "cbweMj1sFrVU"
      },
      "source": [
        "# Q4: Gridsynth [2 Points]\n",
        "Gridsynth is the state-of-the-art (ancilla-free, deterministic) synthesis algorithm to approximate Rz gates with Clifford + T. Gridsynth leverages insights from number theory to achieve optimal or near-optimal approximations for any desired error threshold $\\epsilon$. By optimal, we mean the saturation of the T count lower bound given an $\\epsilon$, which you will explore in Part A."
      ]
    },
    {
      "cell_type": "code",
      "execution_count": null,
      "metadata": {
        "colab": {
          "base_uri": "https://localhost:8080/"
        },
        "id": "otYTB-vuFvnl",
        "outputId": "c9bf5d08-20c4-42ba-d01b-829bf7c95329"
      },
      "outputs": [
        {
          "name": "stdout",
          "output_type": "stream",
          "text": [
            "Collecting pygridsynth\n",
            "  Downloading pygridsynth-1.1.0-py3-none-any.whl.metadata (45 kB)\n",
            "\u001b[?25l     \u001b[90m━━━━━━━━━━━━━━━━━━━━━━━━━━━━━━━━━━━━━━━━\u001b[0m \u001b[32m0.0/45.6 kB\u001b[0m \u001b[31m?\u001b[0m eta \u001b[36m-:--:--\u001b[0m\r\u001b[2K     \u001b[90m━━━━━━━━━━━━━━━━━━━━━━━━━━━━━━━━━━━━━━━━\u001b[0m \u001b[32m45.6/45.6 kB\u001b[0m \u001b[31m1.8 MB/s\u001b[0m eta \u001b[36m0:00:00\u001b[0m\n",
            "\u001b[?25hRequirement already satisfied: numpy in /usr/local/lib/python3.11/dist-packages (2.0.2)\n",
            "Requirement already satisfied: scipy in /usr/local/lib/python3.11/dist-packages (1.14.1)\n",
            "Requirement already satisfied: matplotlib in /usr/local/lib/python3.11/dist-packages (3.10.0)\n",
            "Requirement already satisfied: mpmath in /usr/local/lib/python3.11/dist-packages (from pygridsynth) (1.3.0)\n",
            "Requirement already satisfied: contourpy>=1.0.1 in /usr/local/lib/python3.11/dist-packages (from matplotlib) (1.3.1)\n",
            "Requirement already satisfied: cycler>=0.10 in /usr/local/lib/python3.11/dist-packages (from matplotlib) (0.12.1)\n",
            "Requirement already satisfied: fonttools>=4.22.0 in /usr/local/lib/python3.11/dist-packages (from matplotlib) (4.56.0)\n",
            "Requirement already satisfied: kiwisolver>=1.3.1 in /usr/local/lib/python3.11/dist-packages (from matplotlib) (1.4.8)\n",
            "Requirement already satisfied: packaging>=20.0 in /usr/local/lib/python3.11/dist-packages (from matplotlib) (24.2)\n",
            "Requirement already satisfied: pillow>=8 in /usr/local/lib/python3.11/dist-packages (from matplotlib) (11.1.0)\n",
            "Requirement already satisfied: pyparsing>=2.3.1 in /usr/local/lib/python3.11/dist-packages (from matplotlib) (3.2.3)\n",
            "Requirement already satisfied: python-dateutil>=2.7 in /usr/local/lib/python3.11/dist-packages (from matplotlib) (2.8.2)\n",
            "Requirement already satisfied: six>=1.5 in /usr/local/lib/python3.11/dist-packages (from python-dateutil>=2.7->matplotlib) (1.17.0)\n",
            "Downloading pygridsynth-1.1.0-py3-none-any.whl (47 kB)\n",
            "\u001b[2K   \u001b[90m━━━━━━━━━━━━━━━━━━━━━━━━━━━━━━━━━━━━━━━━\u001b[0m \u001b[32m47.7/47.7 kB\u001b[0m \u001b[31m3.2 MB/s\u001b[0m eta \u001b[36m0:00:00\u001b[0m\n",
            "\u001b[?25hInstalling collected packages: pygridsynth\n",
            "Successfully installed pygridsynth-1.1.0\n"
          ]
        }
      ],
      "source": [
        "!pip install pygridsynth numpy scipy matplotlib"
      ]
    },
    {
      "cell_type": "markdown",
      "metadata": {
        "id": "X6h89KT7S4G-"
      },
      "source": [
        "## Part A\n",
        "To approximate an Rz to error $\\epsilon$ (gridsynth uses the operator norm as the error metric, which is very close to the distance metric we used in Q3), we need at least $a\\log_2 \\frac{1}{\\epsilon}+b$ T gates in the typical case, where $a$ and $b$ are two real numbers. In this part, you will use a Python implementation of gridsynth to synthesize random Rz gates at different $\\epsilon$ to fit $a$ and $b$."
      ]
    },
    {
      "cell_type": "code",
      "execution_count": null,
      "metadata": {
        "id": "PDspEs7beXMR"
      },
      "outputs": [],
      "source": [
        "from pygridsynth import gridsynth_gates\n",
        "import numpy as np\n",
        "\n",
        "epsilons = [10**(-i) for i in range(2, 8)]\n",
        "num_angles = 100\n",
        "angles = np.random.default_rng(42).uniform(0, 2 * np.pi, size=num_angles)\n",
        "t_counts = ... # should be of shape num_epsilons * num_angles\n",
        "# todo: fill in the T counts for all epsilon and angle pairs"
      ]
    },
    {
      "cell_type": "code",
      "execution_count": null,
      "metadata": {
        "id": "FmETElaot-yH"
      },
      "outputs": [],
      "source": [
        "import matplotlib.pyplot as plt\n",
        "from scipy.optimize import curve_fit\n",
        "\n",
        "def fitting_func(x, a, b):\n",
        "    # todo\n",
        "\n",
        "# here we fit all data points (instead of the worst points / \"lower bound\") for a more accurate estimation in Part B\n",
        "popt, pcov = curve_fit(fitting_func, np.repeat(epsilons, num_angles), np.array(t_counts).reshape(-1), p0=(1, 0))\n",
        "print(f\"a = {popt[0]}  b = {popt[1]}\")\n",
        "plt.scatter(..., s=1, label=\"data\", c=\"tab:blue\") # todo: scatter plot of T count data points\n",
        "plt.semilogx(..., label=\"fit\", color=\"tab:orange\") # todo: plot the fitted function\n",
        "plt.xlabel(\"Epsilon\")\n",
        "plt.ylabel(\"T Count\")\n",
        "plt.legend()"
      ]
    },
    {
      "cell_type": "markdown",
      "metadata": {
        "id": "xLEEXLtYcqMa"
      },
      "source": [
        "## Part B Overhead of FTQC\n",
        "Now let's estimate the number of T gates needed for executing a QAOA circuit fault-tolerantly. Since the only source of non-Cliffordness in QAOA is the axial rotations, we first count the number of $R_z$ ($R_x = HR_zH$) gates we need to synthesize in a 10-layer QAOA solving a MaxCut problem with a 100-node 3-regular graph. Then we multiply the number of $R_z$ gates by the rough number of $T$ gates we estimated in Part A for a given $\\epsilon$.\n",
        "\n",
        "> Hint: In a 3-regular graph, each node has 3 edges. How many edges are in the graph? How many Pauli ZZ terms are in the Hamiltonian? How many $R_z$ gates are needed for each ZZ term?\n",
        "\n",
        "This is a hand-derivation math problem, but feel free to get inspirations or verify your findings by coding."
      ]
    },
    {
      "cell_type": "markdown",
      "metadata": {
        "id": "WBOhm2n6ZPVf"
      },
      "source": [
        "#### (1) What is the number of $R_z$ gates we need to synthesize in a 10-layer QAOA solving a MaxCut problem with a 100-node 3-regular graph? Remember the $R_x$ gates also need to be transpiled to $R_z$ gates to synthesize."
      ]
    },
    {
      "cell_type": "markdown",
      "metadata": {
        "id": "LPvraQ8TdDcQ"
      },
      "source": [
        "**Solution:**\n",
        "\n",
        "Todo"
      ]
    },
    {
      "cell_type": "markdown",
      "metadata": {
        "id": "w-tZCyMqZoLX"
      },
      "source": [
        "#### (2) To set the synthesis error threshold $\\epsilon$, we use a very naive approach here that simply divides the circuit-level error threshold by the number of gates to be synthesized. For a circuit-level error threshold of 0.01, what is the $\\epsilon$ for each individual $R_z$ gate? What is the corresponding T gate count needed in total?\n",
        "\n",
        "> Remark: In error correction codes, (logical) T gates are typically hundreds of times more costly to implement compared to physical gates. This should give you an idea of the overhead of FTQC."
      ]
    },
    {
      "cell_type": "markdown",
      "metadata": {
        "id": "wafHffsMeAFz"
      },
      "source": [
        "**Solution:**\n",
        "\n",
        "Todo"
      ]
    },
    {
      "cell_type": "code",
      "execution_count": null,
      "metadata": {
        "id": "6LO_bSxseSlC"
      },
      "outputs": [],
      "source": []
    }
  ],
  "metadata": {
    "colab": {
      "provenance": []
    },
    "kernelspec": {
      "display_name": ".venv",
      "language": "python",
      "name": "python3"
    },
    "language_info": {
      "codemirror_mode": {
        "name": "ipython",
        "version": 3
      },
      "file_extension": ".py",
      "mimetype": "text/x-python",
      "name": "python",
      "nbconvert_exporter": "python",
      "pygments_lexer": "ipython3",
      "version": "3.10.12"
    }
  },
  "nbformat": 4,
  "nbformat_minor": 0
}

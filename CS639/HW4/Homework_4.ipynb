{
  "nbformat": 4,
  "nbformat_minor": 0,
  "metadata": {
    "colab": {
      "provenance": []
    },
    "kernelspec": {
      "name": "python3",
      "display_name": "Python 3"
    },
    "language_info": {
      "name": "python"
    }
  },
  "cells": [
    {
      "cell_type": "code",
      "execution_count": null,
      "metadata": {
        "id": "n7tvCX341AxH",
        "colab": {
          "base_uri": "https://localhost:8080/"
        },
        "outputId": "2880a512-e187-40aa-f53e-ebd7f9be05c7",
        "collapsed": true
      },
      "outputs": [
        {
          "output_type": "stream",
          "name": "stdout",
          "text": [
            "Collecting git+https://github.com/jpmorganchase/QOKit.git\n",
            "  Cloning https://github.com/jpmorganchase/QOKit.git to /tmp/pip-req-build-ol6lpif5\n",
            "  Running command git clone --filter=blob:none --quiet https://github.com/jpmorganchase/QOKit.git /tmp/pip-req-build-ol6lpif5\n",
            "  Resolved https://github.com/jpmorganchase/QOKit.git to commit 1cc61ef497d566c40f4b5e0bd0aa1ad0cf880cb4\n",
            "  Installing build dependencies ... \u001b[?25l\u001b[?25hdone\n",
            "  Getting requirements to build wheel ... \u001b[?25l\u001b[?25hdone\n",
            "  Preparing metadata (pyproject.toml) ... \u001b[?25l\u001b[?25hdone\n",
            "Collecting networkx==3.0.0 (from qokit==0.1.4)\n",
            "  Downloading networkx-3.0-py3-none-any.whl.metadata (5.1 kB)\n",
            "Requirement already satisfied: importlib-resources>=5.2.2 in /usr/local/lib/python3.11/dist-packages (from qokit==0.1.4) (6.5.2)\n",
            "Requirement already satisfied: numba<1,>=0.56.4 in /usr/local/lib/python3.11/dist-packages (from qokit==0.1.4) (0.60.0)\n",
            "Requirement already satisfied: pandas>=2.0.1 in /usr/local/lib/python3.11/dist-packages (from qokit==0.1.4) (2.2.2)\n",
            "Collecting pathos>=0.3.0 (from qokit==0.1.4)\n",
            "  Downloading pathos-0.3.3-py3-none-any.whl.metadata (11 kB)\n",
            "Requirement already satisfied: pytest>=7.3.1 in /usr/local/lib/python3.11/dist-packages (from qokit==0.1.4) (8.3.5)\n",
            "Collecting pytket==1.37.0 (from qokit==0.1.4)\n",
            "  Downloading pytket-1.37.0-cp311-cp311-manylinux_2_27_x86_64.manylinux_2_28_x86_64.whl.metadata (4.4 kB)\n",
            "Collecting docplex==2.28.240 (from qokit==0.1.4)\n",
            "  Downloading docplex-2.28.240.tar.gz (643 kB)\n",
            "\u001b[2K     \u001b[90m━━━━━━━━━━━━━━━━━━━━━━━━━━━━━━━━━━━━━━━━\u001b[0m \u001b[32m643.4/643.4 kB\u001b[0m \u001b[31m13.2 MB/s\u001b[0m eta \u001b[36m0:00:00\u001b[0m\n",
            "\u001b[?25h  Installing build dependencies ... \u001b[?25l\u001b[?25hdone\n",
            "  Getting requirements to build wheel ... \u001b[?25l\u001b[?25hdone\n",
            "  Installing backend dependencies ... \u001b[?25l\u001b[?25hdone\n",
            "  Preparing metadata (pyproject.toml) ... \u001b[?25l\u001b[?25hdone\n",
            "Collecting yfinance==0.2.54 (from qokit==0.1.4)\n",
            "  Downloading yfinance-0.2.54-py2.py3-none-any.whl.metadata (5.8 kB)\n",
            "Collecting pytket-qiskit==0.62 (from qokit==0.1.4)\n",
            "  Downloading pytket_qiskit-0.62.0-py3-none-any.whl.metadata (4.6 kB)\n",
            "Collecting pytket-quantinuum==0.42.0 (from qokit==0.1.4)\n",
            "  Downloading pytket_quantinuum-0.42.0-py3-none-any.whl.metadata (5.2 kB)\n",
            "Collecting qiskit==1.3.1 (from qokit==0.1.4)\n",
            "  Downloading qiskit-1.3.1-cp39-abi3-manylinux_2_17_x86_64.manylinux2014_x86_64.whl.metadata (12 kB)\n",
            "Requirement already satisfied: scipy>=1.10.1 in /usr/local/lib/python3.11/dist-packages (from qokit==0.1.4) (1.14.1)\n",
            "Requirement already satisfied: seaborn>=0.12.2 in /usr/local/lib/python3.11/dist-packages (from qokit==0.1.4) (0.13.2)\n",
            "Requirement already satisfied: sympy>=1.12 in /usr/local/lib/python3.11/dist-packages (from qokit==0.1.4) (1.13.1)\n",
            "Requirement already satisfied: tqdm>=4.65.0 in /usr/local/lib/python3.11/dist-packages (from qokit==0.1.4) (4.67.1)\n",
            "Requirement already satisfied: six in /usr/local/lib/python3.11/dist-packages (from docplex==2.28.240->qokit==0.1.4) (1.17.0)\n",
            "Requirement already satisfied: numpy>=1.26.4 in /usr/local/lib/python3.11/dist-packages (from pytket==1.37.0->qokit==0.1.4) (2.0.2)\n",
            "Collecting lark>=1.1.9 (from pytket==1.37.0->qokit==0.1.4)\n",
            "  Downloading lark-1.2.2-py3-none-any.whl.metadata (1.8 kB)\n",
            "Requirement already satisfied: graphviz>=0.20.3 in /usr/local/lib/python3.11/dist-packages (from pytket==1.37.0->qokit==0.1.4) (0.20.3)\n",
            "Requirement already satisfied: jinja2>=3.1.4 in /usr/local/lib/python3.11/dist-packages (from pytket==1.37.0->qokit==0.1.4) (3.1.6)\n",
            "Requirement already satisfied: typing-extensions>=4.12.2 in /usr/local/lib/python3.11/dist-packages (from pytket==1.37.0->qokit==0.1.4) (4.12.2)\n",
            "Collecting qwasm>=1.0.1 (from pytket==1.37.0->qokit==0.1.4)\n",
            "  Downloading qwasm-1.0.1-py3-none-any.whl.metadata (299 bytes)\n",
            "Collecting qiskit-ibm-runtime>=0.30.0 (from pytket-qiskit==0.62->qokit==0.1.4)\n",
            "  Downloading qiskit_ibm_runtime-0.37.0-py3-none-any.whl.metadata (20 kB)\n",
            "Collecting qiskit-aer>=0.15.1 (from pytket-qiskit==0.62->qokit==0.1.4)\n",
            "  Downloading qiskit_aer-0.17.0-cp311-cp311-manylinux_2_17_x86_64.manylinux2014_x86_64.whl.metadata (8.2 kB)\n",
            "Collecting pytket-qir<0.18,>=0.17 (from pytket-quantinuum==0.42.0->qokit==0.1.4)\n",
            "  Downloading pytket_qir-0.17.0-py3-none-any.whl.metadata (5.1 kB)\n",
            "Requirement already satisfied: requests>=2.32.2 in /usr/local/lib/python3.11/dist-packages (from pytket-quantinuum==0.42.0->qokit==0.1.4) (2.32.3)\n",
            "Collecting types-requests (from pytket-quantinuum==0.42.0->qokit==0.1.4)\n",
            "  Downloading types_requests-2.32.0.20250306-py3-none-any.whl.metadata (2.3 kB)\n",
            "Requirement already satisfied: websockets>=13.1 in /usr/local/lib/python3.11/dist-packages (from pytket-quantinuum==0.42.0->qokit==0.1.4) (15.0.1)\n",
            "Requirement already satisfied: nest_asyncio>=1.2 in /usr/local/lib/python3.11/dist-packages (from pytket-quantinuum==0.42.0->qokit==0.1.4) (1.6.0)\n",
            "Requirement already satisfied: pyjwt~=2.4 in /usr/local/lib/python3.11/dist-packages (from pytket-quantinuum==0.42.0->qokit==0.1.4) (2.10.1)\n",
            "Collecting msal~=1.18 (from pytket-quantinuum==0.42.0->qokit==0.1.4)\n",
            "  Downloading msal-1.32.0-py3-none-any.whl.metadata (11 kB)\n",
            "Collecting rustworkx>=0.15.0 (from qiskit==1.3.1->qokit==0.1.4)\n",
            "  Downloading rustworkx-0.16.0-cp39-abi3-manylinux_2_17_x86_64.manylinux2014_x86_64.whl.metadata (10 kB)\n",
            "Collecting dill>=0.3 (from qiskit==1.3.1->qokit==0.1.4)\n",
            "  Downloading dill-0.3.9-py3-none-any.whl.metadata (10 kB)\n",
            "Requirement already satisfied: python-dateutil>=2.8.0 in /usr/local/lib/python3.11/dist-packages (from qiskit==1.3.1->qokit==0.1.4) (2.8.2)\n",
            "Collecting stevedore>=3.0.0 (from qiskit==1.3.1->qokit==0.1.4)\n",
            "  Downloading stevedore-5.4.1-py3-none-any.whl.metadata (2.3 kB)\n",
            "Collecting symengine<0.14,>=0.11 (from qiskit==1.3.1->qokit==0.1.4)\n",
            "  Downloading symengine-0.13.0-cp311-cp311-manylinux_2_17_x86_64.manylinux2014_x86_64.whl.metadata (1.2 kB)\n",
            "Requirement already satisfied: multitasking>=0.0.7 in /usr/local/lib/python3.11/dist-packages (from yfinance==0.2.54->qokit==0.1.4) (0.0.11)\n",
            "Requirement already satisfied: platformdirs>=2.0.0 in /usr/local/lib/python3.11/dist-packages (from yfinance==0.2.54->qokit==0.1.4) (4.3.7)\n",
            "Requirement already satisfied: pytz>=2022.5 in /usr/local/lib/python3.11/dist-packages (from yfinance==0.2.54->qokit==0.1.4) (2025.1)\n",
            "Requirement already satisfied: frozendict>=2.3.4 in /usr/local/lib/python3.11/dist-packages (from yfinance==0.2.54->qokit==0.1.4) (2.4.6)\n",
            "Requirement already satisfied: peewee>=3.16.2 in /usr/local/lib/python3.11/dist-packages (from yfinance==0.2.54->qokit==0.1.4) (3.17.9)\n",
            "Requirement already satisfied: beautifulsoup4>=4.11.1 in /usr/local/lib/python3.11/dist-packages (from yfinance==0.2.54->qokit==0.1.4) (4.13.3)\n",
            "Requirement already satisfied: llvmlite<0.44,>=0.43.0dev0 in /usr/local/lib/python3.11/dist-packages (from numba<1,>=0.56.4->qokit==0.1.4) (0.43.0)\n",
            "Requirement already satisfied: tzdata>=2022.7 in /usr/local/lib/python3.11/dist-packages (from pandas>=2.0.1->qokit==0.1.4) (2025.1)\n",
            "Collecting ppft>=1.7.6.9 (from pathos>=0.3.0->qokit==0.1.4)\n",
            "  Downloading ppft-1.7.6.9-py3-none-any.whl.metadata (12 kB)\n",
            "Collecting pox>=0.3.5 (from pathos>=0.3.0->qokit==0.1.4)\n",
            "  Downloading pox-0.3.5-py3-none-any.whl.metadata (8.0 kB)\n",
            "Collecting multiprocess>=0.70.17 (from pathos>=0.3.0->qokit==0.1.4)\n",
            "  Downloading multiprocess-0.70.17-py311-none-any.whl.metadata (7.2 kB)\n",
            "Requirement already satisfied: iniconfig in /usr/local/lib/python3.11/dist-packages (from pytest>=7.3.1->qokit==0.1.4) (2.1.0)\n",
            "Requirement already satisfied: packaging in /usr/local/lib/python3.11/dist-packages (from pytest>=7.3.1->qokit==0.1.4) (24.2)\n",
            "Requirement already satisfied: pluggy<2,>=1.5 in /usr/local/lib/python3.11/dist-packages (from pytest>=7.3.1->qokit==0.1.4) (1.5.0)\n",
            "Requirement already satisfied: matplotlib!=3.6.1,>=3.4 in /usr/local/lib/python3.11/dist-packages (from seaborn>=0.12.2->qokit==0.1.4) (3.10.0)\n",
            "Requirement already satisfied: mpmath<1.4,>=1.1.0 in /usr/local/lib/python3.11/dist-packages (from sympy>=1.12->qokit==0.1.4) (1.3.0)\n",
            "Requirement already satisfied: soupsieve>1.2 in /usr/local/lib/python3.11/dist-packages (from beautifulsoup4>=4.11.1->yfinance==0.2.54->qokit==0.1.4) (2.6)\n",
            "Requirement already satisfied: MarkupSafe>=2.0 in /usr/local/lib/python3.11/dist-packages (from jinja2>=3.1.4->pytket==1.37.0->qokit==0.1.4) (3.0.2)\n",
            "Requirement already satisfied: contourpy>=1.0.1 in /usr/local/lib/python3.11/dist-packages (from matplotlib!=3.6.1,>=3.4->seaborn>=0.12.2->qokit==0.1.4) (1.3.1)\n",
            "Requirement already satisfied: cycler>=0.10 in /usr/local/lib/python3.11/dist-packages (from matplotlib!=3.6.1,>=3.4->seaborn>=0.12.2->qokit==0.1.4) (0.12.1)\n",
            "Requirement already satisfied: fonttools>=4.22.0 in /usr/local/lib/python3.11/dist-packages (from matplotlib!=3.6.1,>=3.4->seaborn>=0.12.2->qokit==0.1.4) (4.56.0)\n",
            "Requirement already satisfied: kiwisolver>=1.3.1 in /usr/local/lib/python3.11/dist-packages (from matplotlib!=3.6.1,>=3.4->seaborn>=0.12.2->qokit==0.1.4) (1.4.8)\n",
            "Requirement already satisfied: pillow>=8 in /usr/local/lib/python3.11/dist-packages (from matplotlib!=3.6.1,>=3.4->seaborn>=0.12.2->qokit==0.1.4) (11.1.0)\n",
            "Requirement already satisfied: pyparsing>=2.3.1 in /usr/local/lib/python3.11/dist-packages (from matplotlib!=3.6.1,>=3.4->seaborn>=0.12.2->qokit==0.1.4) (3.2.1)\n",
            "Requirement already satisfied: cryptography<47,>=2.5 in /usr/local/lib/python3.11/dist-packages (from msal~=1.18->pytket-quantinuum==0.42.0->qokit==0.1.4) (43.0.3)\n",
            "Collecting pyqir>=0.10.4 (from pytket-qir<0.18,>=0.17->pytket-quantinuum==0.42.0->qokit==0.1.4)\n",
            "  Downloading pyqir-0.10.9-cp38-abi3-manylinux_2_31_x86_64.whl.metadata (4.2 kB)\n",
            "Requirement already satisfied: psutil>=5 in /usr/local/lib/python3.11/dist-packages (from qiskit-aer>=0.15.1->pytket-qiskit==0.62->qokit==0.1.4) (5.9.5)\n",
            "Collecting requests-ntlm>=1.1.0 (from qiskit-ibm-runtime>=0.30.0->pytket-qiskit==0.62->qokit==0.1.4)\n",
            "  Downloading requests_ntlm-1.3.0-py3-none-any.whl.metadata (2.4 kB)\n",
            "Requirement already satisfied: urllib3>=1.21.1 in /usr/local/lib/python3.11/dist-packages (from qiskit-ibm-runtime>=0.30.0->pytket-qiskit==0.62->qokit==0.1.4) (2.3.0)\n",
            "Requirement already satisfied: websocket-client>=1.5.1 in /usr/local/lib/python3.11/dist-packages (from qiskit-ibm-runtime>=0.30.0->pytket-qiskit==0.62->qokit==0.1.4) (1.8.0)\n",
            "Collecting ibm-platform-services>=0.22.6 (from qiskit-ibm-runtime>=0.30.0->pytket-qiskit==0.62->qokit==0.1.4)\n",
            "  Downloading ibm_platform_services-0.63.0-py3-none-any.whl.metadata (9.0 kB)\n",
            "Collecting pydantic<2.10,>=2.5.0 (from qiskit-ibm-runtime>=0.30.0->pytket-qiskit==0.62->qokit==0.1.4)\n",
            "  Downloading pydantic-2.9.2-py3-none-any.whl.metadata (149 kB)\n",
            "\u001b[2K     \u001b[90m━━━━━━━━━━━━━━━━━━━━━━━━━━━━━━━━━━━━━━━━\u001b[0m \u001b[32m149.4/149.4 kB\u001b[0m \u001b[31m14.3 MB/s\u001b[0m eta \u001b[36m0:00:00\u001b[0m\n",
            "\u001b[?25hINFO: pip is looking at multiple versions of qiskit-ibm-runtime to determine which version is compatible with other requirements. This could take a while.\n",
            "Collecting qiskit-ibm-runtime>=0.30.0 (from pytket-qiskit==0.62->qokit==0.1.4)\n",
            "  Downloading qiskit_ibm_runtime-0.36.1-py3-none-any.whl.metadata (20 kB)\n",
            "  Downloading qiskit_ibm_runtime-0.36.0-py3-none-any.whl.metadata (20 kB)\n",
            "  Downloading qiskit_ibm_runtime-0.35.0-py3-none-any.whl.metadata (20 kB)\n",
            "Requirement already satisfied: setuptools in /usr/local/lib/python3.11/dist-packages (from qwasm>=1.0.1->pytket==1.37.0->qokit==0.1.4) (75.1.0)\n",
            "Requirement already satisfied: charset-normalizer<4,>=2 in /usr/local/lib/python3.11/dist-packages (from requests>=2.32.2->pytket-quantinuum==0.42.0->qokit==0.1.4) (3.4.1)\n",
            "Requirement already satisfied: idna<4,>=2.5 in /usr/local/lib/python3.11/dist-packages (from requests>=2.32.2->pytket-quantinuum==0.42.0->qokit==0.1.4) (3.10)\n",
            "Requirement already satisfied: certifi>=2017.4.17 in /usr/local/lib/python3.11/dist-packages (from requests>=2.32.2->pytket-quantinuum==0.42.0->qokit==0.1.4) (2025.1.31)\n",
            "Collecting pbr>=2.0.0 (from stevedore>=3.0.0->qiskit==1.3.1->qokit==0.1.4)\n",
            "  Downloading pbr-6.1.1-py2.py3-none-any.whl.metadata (3.4 kB)\n",
            "Requirement already satisfied: cffi>=1.12 in /usr/local/lib/python3.11/dist-packages (from cryptography<47,>=2.5->msal~=1.18->pytket-quantinuum==0.42.0->qokit==0.1.4) (1.17.1)\n",
            "Collecting ibm_cloud_sdk_core<4.0.0,>=3.22.1 (from ibm-platform-services>=0.22.6->qiskit-ibm-runtime>=0.30.0->pytket-qiskit==0.62->qokit==0.1.4)\n",
            "  Downloading ibm_cloud_sdk_core-3.23.0-py3-none-any.whl.metadata (8.7 kB)\n",
            "Requirement already satisfied: annotated-types>=0.6.0 in /usr/local/lib/python3.11/dist-packages (from pydantic<2.10,>=2.5.0->qiskit-ibm-runtime>=0.30.0->pytket-qiskit==0.62->qokit==0.1.4) (0.7.0)\n",
            "Collecting pydantic-core==2.23.4 (from pydantic<2.10,>=2.5.0->qiskit-ibm-runtime>=0.30.0->pytket-qiskit==0.62->qokit==0.1.4)\n",
            "  Downloading pydantic_core-2.23.4-cp311-cp311-manylinux_2_17_x86_64.manylinux2014_x86_64.whl.metadata (6.6 kB)\n",
            "Collecting pyspnego>=0.4.0 (from requests-ntlm>=1.1.0->qiskit-ibm-runtime>=0.30.0->pytket-qiskit==0.62->qokit==0.1.4)\n",
            "  Downloading pyspnego-0.11.2-py3-none-any.whl.metadata (5.4 kB)\n",
            "Requirement already satisfied: pycparser in /usr/local/lib/python3.11/dist-packages (from cffi>=1.12->cryptography<47,>=2.5->msal~=1.18->pytket-quantinuum==0.42.0->qokit==0.1.4) (2.22)\n",
            "Downloading networkx-3.0-py3-none-any.whl (2.0 MB)\n",
            "\u001b[2K   \u001b[90m━━━━━━━━━━━━━━━━━━━━━━━━━━━━━━━━━━━━━━━━\u001b[0m \u001b[32m2.0/2.0 MB\u001b[0m \u001b[31m47.0 MB/s\u001b[0m eta \u001b[36m0:00:00\u001b[0m\n",
            "\u001b[?25hDownloading pytket-1.37.0-cp311-cp311-manylinux_2_27_x86_64.manylinux_2_28_x86_64.whl (8.3 MB)\n",
            "\u001b[2K   \u001b[90m━━━━━━━━━━━━━━━━━━━━━━━━━━━━━━━━━━━━━━━━\u001b[0m \u001b[32m8.3/8.3 MB\u001b[0m \u001b[31m10.3 MB/s\u001b[0m eta \u001b[36m0:00:00\u001b[0m\n",
            "\u001b[?25hDownloading pytket_qiskit-0.62.0-py3-none-any.whl (54 kB)\n",
            "\u001b[2K   \u001b[90m━━━━━━━━━━━━━━━━━━━━━━━━━━━━━━━━━━━━━━━━\u001b[0m \u001b[32m54.9/54.9 kB\u001b[0m \u001b[31m5.1 MB/s\u001b[0m eta \u001b[36m0:00:00\u001b[0m\n",
            "\u001b[?25hDownloading pytket_quantinuum-0.42.0-py3-none-any.whl (43 kB)\n",
            "\u001b[2K   \u001b[90m━━━━━━━━━━━━━━━━━━━━━━━━━━━━━━━━━━━━━━━━\u001b[0m \u001b[32m43.2/43.2 kB\u001b[0m \u001b[31m3.8 MB/s\u001b[0m eta \u001b[36m0:00:00\u001b[0m\n",
            "\u001b[?25hDownloading qiskit-1.3.1-cp39-abi3-manylinux_2_17_x86_64.manylinux2014_x86_64.whl (6.7 MB)\n",
            "\u001b[2K   \u001b[90m━━━━━━━━━━━━━━━━━━━━━━━━━━━━━━━━━━━━━━━━\u001b[0m \u001b[32m6.7/6.7 MB\u001b[0m \u001b[31m88.4 MB/s\u001b[0m eta \u001b[36m0:00:00\u001b[0m\n",
            "\u001b[?25hDownloading yfinance-0.2.54-py2.py3-none-any.whl (108 kB)\n",
            "\u001b[2K   \u001b[90m━━━━━━━━━━━━━━━━━━━━━━━━━━━━━━━━━━━━━━━━\u001b[0m \u001b[32m108.7/108.7 kB\u001b[0m \u001b[31m10.8 MB/s\u001b[0m eta \u001b[36m0:00:00\u001b[0m\n",
            "\u001b[?25hDownloading pathos-0.3.3-py3-none-any.whl (82 kB)\n",
            "\u001b[2K   \u001b[90m━━━━━━━━━━━━━━━━━━━━━━━━━━━━━━━━━━━━━━━━\u001b[0m \u001b[32m82.1/82.1 kB\u001b[0m \u001b[31m7.3 MB/s\u001b[0m eta \u001b[36m0:00:00\u001b[0m\n",
            "\u001b[?25hDownloading dill-0.3.9-py3-none-any.whl (119 kB)\n",
            "\u001b[2K   \u001b[90m━━━━━━━━━━━━━━━━━━━━━━━━━━━━━━━━━━━━━━━━\u001b[0m \u001b[32m119.4/119.4 kB\u001b[0m \u001b[31m11.4 MB/s\u001b[0m eta \u001b[36m0:00:00\u001b[0m\n",
            "\u001b[?25hDownloading lark-1.2.2-py3-none-any.whl (111 kB)\n",
            "\u001b[2K   \u001b[90m━━━━━━━━━━━━━━━━━━━━━━━━━━━━━━━━━━━━━━━━\u001b[0m \u001b[32m111.0/111.0 kB\u001b[0m \u001b[31m10.8 MB/s\u001b[0m eta \u001b[36m0:00:00\u001b[0m\n",
            "\u001b[?25hDownloading msal-1.32.0-py3-none-any.whl (114 kB)\n",
            "\u001b[2K   \u001b[90m━━━━━━━━━━━━━━━━━━━━━━━━━━━━━━━━━━━━━━━━\u001b[0m \u001b[32m114.7/114.7 kB\u001b[0m \u001b[31m9.8 MB/s\u001b[0m eta \u001b[36m0:00:00\u001b[0m\n",
            "\u001b[?25hDownloading multiprocess-0.70.17-py311-none-any.whl (144 kB)\n",
            "\u001b[2K   \u001b[90m━━━━━━━━━━━━━━━━━━━━━━━━━━━━━━━━━━━━━━━━\u001b[0m \u001b[32m144.3/144.3 kB\u001b[0m \u001b[31m13.1 MB/s\u001b[0m eta \u001b[36m0:00:00\u001b[0m\n",
            "\u001b[?25hDownloading pox-0.3.5-py3-none-any.whl (29 kB)\n",
            "Downloading ppft-1.7.6.9-py3-none-any.whl (56 kB)\n",
            "\u001b[2K   \u001b[90m━━━━━━━━━━━━━━━━━━━━━━━━━━━━━━━━━━━━━━━━\u001b[0m \u001b[32m56.8/56.8 kB\u001b[0m \u001b[31m5.0 MB/s\u001b[0m eta \u001b[36m0:00:00\u001b[0m\n",
            "\u001b[?25hDownloading pytket_qir-0.17.0-py3-none-any.whl (28 kB)\n",
            "Downloading qiskit_aer-0.17.0-cp311-cp311-manylinux_2_17_x86_64.manylinux2014_x86_64.whl (12.4 MB)\n",
            "\u001b[2K   \u001b[90m━━━━━━━━━━━━━━━━━━━━━━━━━━━━━━━━━━━━━━━━\u001b[0m \u001b[32m12.4/12.4 MB\u001b[0m \u001b[31m86.3 MB/s\u001b[0m eta \u001b[36m0:00:00\u001b[0m\n",
            "\u001b[?25hDownloading qiskit_ibm_runtime-0.35.0-py3-none-any.whl (3.2 MB)\n",
            "\u001b[2K   \u001b[90m━━━━━━━━━━━━━━━━━━━━━━━━━━━━━━━━━━━━━━━━\u001b[0m \u001b[32m3.2/3.2 MB\u001b[0m \u001b[31m65.9 MB/s\u001b[0m eta \u001b[36m0:00:00\u001b[0m\n",
            "\u001b[?25hDownloading qwasm-1.0.1-py3-none-any.whl (15 kB)\n",
            "Downloading rustworkx-0.16.0-cp39-abi3-manylinux_2_17_x86_64.manylinux2014_x86_64.whl (2.1 MB)\n",
            "\u001b[2K   \u001b[90m━━━━━━━━━━━━━━━━━━━━━━━━━━━━━━━━━━━━━━━━\u001b[0m \u001b[32m2.1/2.1 MB\u001b[0m \u001b[31m72.1 MB/s\u001b[0m eta \u001b[36m0:00:00\u001b[0m\n",
            "\u001b[?25hDownloading stevedore-5.4.1-py3-none-any.whl (49 kB)\n",
            "\u001b[2K   \u001b[90m━━━━━━━━━━━━━━━━━━━━━━━━━━━━━━━━━━━━━━━━\u001b[0m \u001b[32m49.5/49.5 kB\u001b[0m \u001b[31m4.0 MB/s\u001b[0m eta \u001b[36m0:00:00\u001b[0m\n",
            "\u001b[?25hDownloading symengine-0.13.0-cp311-cp311-manylinux_2_17_x86_64.manylinux2014_x86_64.whl (49.7 MB)\n",
            "\u001b[2K   \u001b[90m━━━━━━━━━━━━━━━━━━━━━━━━━━━━━━━━━━━━━━━━\u001b[0m \u001b[32m49.7/49.7 MB\u001b[0m \u001b[31m10.9 MB/s\u001b[0m eta \u001b[36m0:00:00\u001b[0m\n",
            "\u001b[?25hDownloading types_requests-2.32.0.20250306-py3-none-any.whl (20 kB)\n",
            "Downloading ibm_platform_services-0.63.0-py3-none-any.whl (352 kB)\n",
            "\u001b[2K   \u001b[90m━━━━━━━━━━━━━━━━━━━━━━━━━━━━━━━━━━━━━━━━\u001b[0m \u001b[32m353.0/353.0 kB\u001b[0m \u001b[31m27.2 MB/s\u001b[0m eta \u001b[36m0:00:00\u001b[0m\n",
            "\u001b[?25hDownloading pbr-6.1.1-py2.py3-none-any.whl (108 kB)\n",
            "\u001b[2K   \u001b[90m━━━━━━━━━━━━━━━━━━━━━━━━━━━━━━━━━━━━━━━━\u001b[0m \u001b[32m109.0/109.0 kB\u001b[0m \u001b[31m4.1 MB/s\u001b[0m eta \u001b[36m0:00:00\u001b[0m\n",
            "\u001b[?25hDownloading pydantic-2.9.2-py3-none-any.whl (434 kB)\n",
            "\u001b[2K   \u001b[90m━━━━━━━━━━━━━━━━━━━━━━━━━━━━━━━━━━━━━━━━\u001b[0m \u001b[32m434.9/434.9 kB\u001b[0m \u001b[31m31.8 MB/s\u001b[0m eta \u001b[36m0:00:00\u001b[0m\n",
            "\u001b[?25hDownloading pydantic_core-2.23.4-cp311-cp311-manylinux_2_17_x86_64.manylinux2014_x86_64.whl (2.1 MB)\n",
            "\u001b[2K   \u001b[90m━━━━━━━━━━━━━━━━━━━━━━━━━━━━━━━━━━━━━━━━\u001b[0m \u001b[32m2.1/2.1 MB\u001b[0m \u001b[31m69.9 MB/s\u001b[0m eta \u001b[36m0:00:00\u001b[0m\n",
            "\u001b[?25hDownloading pyqir-0.10.9-cp38-abi3-manylinux_2_31_x86_64.whl (2.3 MB)\n",
            "\u001b[2K   \u001b[90m━━━━━━━━━━━━━━━━━━━━━━━━━━━━━━━━━━━━━━━━\u001b[0m \u001b[32m2.3/2.3 MB\u001b[0m \u001b[31m73.6 MB/s\u001b[0m eta \u001b[36m0:00:00\u001b[0m\n",
            "\u001b[?25hDownloading requests_ntlm-1.3.0-py3-none-any.whl (6.6 kB)\n",
            "Downloading ibm_cloud_sdk_core-3.23.0-py3-none-any.whl (69 kB)\n",
            "\u001b[2K   \u001b[90m━━━━━━━━━━━━━━━━━━━━━━━━━━━━━━━━━━━━━━━━\u001b[0m \u001b[32m69.5/69.5 kB\u001b[0m \u001b[31m6.0 MB/s\u001b[0m eta \u001b[36m0:00:00\u001b[0m\n",
            "\u001b[?25hDownloading pyspnego-0.11.2-py3-none-any.whl (130 kB)\n",
            "\u001b[2K   \u001b[90m━━━━━━━━━━━━━━━━━━━━━━━━━━━━━━━━━━━━━━━━\u001b[0m \u001b[32m130.5/130.5 kB\u001b[0m \u001b[31m10.7 MB/s\u001b[0m eta \u001b[36m0:00:00\u001b[0m\n",
            "\u001b[?25hBuilding wheels for collected packages: qokit, docplex\n",
            "  Building wheel for qokit (pyproject.toml) ... \u001b[?25l\u001b[?25hdone\n",
            "  Created wheel for qokit: filename=qokit-0.1.4-cp311-cp311-linux_x86_64.whl size=12751393 sha256=5993aad783a45d2bb4c235093ae9938fe9c78dee8acc60d2034892aa03100833\n",
            "  Stored in directory: /tmp/pip-ephem-wheel-cache-867bmo9_/wheels/ab/d7/00/955d0b3229902e834c5bbe2cdc14aa0cf57a8b44be54525130\n",
            "  Building wheel for docplex (pyproject.toml) ... \u001b[?25l\u001b[?25hdone\n",
            "  Created wheel for docplex: filename=docplex-2.28.240-py3-none-any.whl size=682833 sha256=f1e399cbf3c4bb912927085f1195d004a094f80d11aaef9e9260eb96e86d2169\n",
            "  Stored in directory: /root/.cache/pip/wheels/ca/09/17/0fd4f150422500b3f4eb8be7413d5b12b3b06c516001f5c51b\n",
            "Successfully built qokit docplex\n",
            "Installing collected packages: types-requests, symengine, rustworkx, qwasm, pyqir, pydantic-core, ppft, pox, pbr, networkx, lark, docplex, dill, stevedore, pytket, pydantic, multiprocess, ibm_cloud_sdk_core, yfinance, qiskit, pytket-qir, pyspnego, pathos, ibm-platform-services, requests-ntlm, qiskit-aer, msal, qiskit-ibm-runtime, pytket-quantinuum, pytket-qiskit, qokit\n",
            "  Attempting uninstall: pydantic-core\n",
            "    Found existing installation: pydantic_core 2.27.2\n",
            "    Uninstalling pydantic_core-2.27.2:\n",
            "      Successfully uninstalled pydantic_core-2.27.2\n",
            "  Attempting uninstall: networkx\n",
            "    Found existing installation: networkx 3.4.2\n",
            "    Uninstalling networkx-3.4.2:\n",
            "      Successfully uninstalled networkx-3.4.2\n",
            "  Attempting uninstall: pydantic\n",
            "    Found existing installation: pydantic 2.10.6\n",
            "    Uninstalling pydantic-2.10.6:\n",
            "      Successfully uninstalled pydantic-2.10.6\n",
            "  Attempting uninstall: yfinance\n",
            "    Found existing installation: yfinance 0.2.55\n",
            "    Uninstalling yfinance-0.2.55:\n",
            "      Successfully uninstalled yfinance-0.2.55\n",
            "\u001b[31mERROR: pip's dependency resolver does not currently take into account all the packages that are installed. This behaviour is the source of the following dependency conflicts.\n",
            "nx-cugraph-cu12 25.2.0 requires networkx>=3.2, but you have networkx 3.0 which is incompatible.\n",
            "torch 2.6.0+cu124 requires nvidia-cublas-cu12==12.4.5.8; platform_system == \"Linux\" and platform_machine == \"x86_64\", but you have nvidia-cublas-cu12 12.5.3.2 which is incompatible.\n",
            "torch 2.6.0+cu124 requires nvidia-cuda-cupti-cu12==12.4.127; platform_system == \"Linux\" and platform_machine == \"x86_64\", but you have nvidia-cuda-cupti-cu12 12.5.82 which is incompatible.\n",
            "torch 2.6.0+cu124 requires nvidia-cuda-nvrtc-cu12==12.4.127; platform_system == \"Linux\" and platform_machine == \"x86_64\", but you have nvidia-cuda-nvrtc-cu12 12.5.82 which is incompatible.\n",
            "torch 2.6.0+cu124 requires nvidia-cuda-runtime-cu12==12.4.127; platform_system == \"Linux\" and platform_machine == \"x86_64\", but you have nvidia-cuda-runtime-cu12 12.5.82 which is incompatible.\n",
            "torch 2.6.0+cu124 requires nvidia-cudnn-cu12==9.1.0.70; platform_system == \"Linux\" and platform_machine == \"x86_64\", but you have nvidia-cudnn-cu12 9.3.0.75 which is incompatible.\n",
            "torch 2.6.0+cu124 requires nvidia-cufft-cu12==11.2.1.3; platform_system == \"Linux\" and platform_machine == \"x86_64\", but you have nvidia-cufft-cu12 11.2.3.61 which is incompatible.\n",
            "torch 2.6.0+cu124 requires nvidia-curand-cu12==10.3.5.147; platform_system == \"Linux\" and platform_machine == \"x86_64\", but you have nvidia-curand-cu12 10.3.6.82 which is incompatible.\n",
            "torch 2.6.0+cu124 requires nvidia-cusolver-cu12==11.6.1.9; platform_system == \"Linux\" and platform_machine == \"x86_64\", but you have nvidia-cusolver-cu12 11.6.3.83 which is incompatible.\n",
            "torch 2.6.0+cu124 requires nvidia-cusparse-cu12==12.3.1.170; platform_system == \"Linux\" and platform_machine == \"x86_64\", but you have nvidia-cusparse-cu12 12.5.1.3 which is incompatible.\n",
            "torch 2.6.0+cu124 requires nvidia-nvjitlink-cu12==12.4.127; platform_system == \"Linux\" and platform_machine == \"x86_64\", but you have nvidia-nvjitlink-cu12 12.5.82 which is incompatible.\u001b[0m\u001b[31m\n",
            "\u001b[0mSuccessfully installed dill-0.3.9 docplex-2.28.240 ibm-platform-services-0.63.0 ibm_cloud_sdk_core-3.23.0 lark-1.2.2 msal-1.32.0 multiprocess-0.70.17 networkx-3.0 pathos-0.3.3 pbr-6.1.1 pox-0.3.5 ppft-1.7.6.9 pydantic-2.9.2 pydantic-core-2.23.4 pyqir-0.10.9 pyspnego-0.11.2 pytket-1.37.0 pytket-qir-0.17.0 pytket-qiskit-0.62.0 pytket-quantinuum-0.42.0 qiskit-1.3.1 qiskit-aer-0.17.0 qiskit-ibm-runtime-0.35.0 qokit-0.1.4 qwasm-1.0.1 requests-ntlm-1.3.0 rustworkx-0.16.0 stevedore-5.4.1 symengine-0.13.0 types-requests-2.32.0.20250306 yfinance-0.2.54\n",
            "Collecting qiskit-optimization\n",
            "  Downloading qiskit_optimization-0.6.1-py3-none-any.whl.metadata (8.6 kB)\n",
            "Requirement already satisfied: qiskit-aer in /usr/local/lib/python3.11/dist-packages (0.17.0)\n",
            "Requirement already satisfied: qiskit[visualization] in /usr/local/lib/python3.11/dist-packages (1.3.1)\n",
            "Requirement already satisfied: rustworkx>=0.15.0 in /usr/local/lib/python3.11/dist-packages (from qiskit[visualization]) (0.16.0)\n",
            "Requirement already satisfied: numpy<3,>=1.17 in /usr/local/lib/python3.11/dist-packages (from qiskit[visualization]) (2.0.2)\n",
            "Requirement already satisfied: scipy>=1.5 in /usr/local/lib/python3.11/dist-packages (from qiskit[visualization]) (1.14.1)\n",
            "Requirement already satisfied: sympy>=1.3 in /usr/local/lib/python3.11/dist-packages (from qiskit[visualization]) (1.13.1)\n",
            "Requirement already satisfied: dill>=0.3 in /usr/local/lib/python3.11/dist-packages (from qiskit[visualization]) (0.3.9)\n",
            "Requirement already satisfied: python-dateutil>=2.8.0 in /usr/local/lib/python3.11/dist-packages (from qiskit[visualization]) (2.8.2)\n",
            "Requirement already satisfied: stevedore>=3.0.0 in /usr/local/lib/python3.11/dist-packages (from qiskit[visualization]) (5.4.1)\n",
            "Requirement already satisfied: typing-extensions in /usr/local/lib/python3.11/dist-packages (from qiskit[visualization]) (4.12.2)\n",
            "Requirement already satisfied: symengine<0.14,>=0.11 in /usr/local/lib/python3.11/dist-packages (from qiskit[visualization]) (0.13.0)\n",
            "Requirement already satisfied: matplotlib>=3.3 in /usr/local/lib/python3.11/dist-packages (from qiskit[visualization]) (3.10.0)\n",
            "Requirement already satisfied: pydot in /usr/local/lib/python3.11/dist-packages (from qiskit[visualization]) (3.0.4)\n",
            "Requirement already satisfied: Pillow>=4.2.1 in /usr/local/lib/python3.11/dist-packages (from qiskit[visualization]) (11.1.0)\n",
            "Collecting pylatexenc>=1.4 (from qiskit[visualization])\n",
            "  Downloading pylatexenc-2.10.tar.gz (162 kB)\n",
            "\u001b[2K     \u001b[90m━━━━━━━━━━━━━━━━━━━━━━━━━━━━━━━━━━━━━━━━\u001b[0m \u001b[32m162.6/162.6 kB\u001b[0m \u001b[31m5.2 MB/s\u001b[0m eta \u001b[36m0:00:00\u001b[0m\n",
            "\u001b[?25h  Preparing metadata (setup.py) ... \u001b[?25l\u001b[?25hdone\n",
            "Requirement already satisfied: seaborn>=0.9.0 in /usr/local/lib/python3.11/dist-packages (from qiskit[visualization]) (0.13.2)\n",
            "Collecting qiskit-algorithms>=0.2.0 (from qiskit-optimization)\n",
            "  Downloading qiskit_algorithms-0.3.1-py3-none-any.whl.metadata (4.2 kB)\n",
            "Requirement already satisfied: docplex!=2.24.231,>=2.21.207 in /usr/local/lib/python3.11/dist-packages (from qiskit-optimization) (2.28.240)\n",
            "Requirement already satisfied: setuptools>=40.1.0 in /usr/local/lib/python3.11/dist-packages (from qiskit-optimization) (75.1.0)\n",
            "Requirement already satisfied: networkx>=2.6.3 in /usr/local/lib/python3.11/dist-packages (from qiskit-optimization) (3.0)\n",
            "Requirement already satisfied: psutil>=5 in /usr/local/lib/python3.11/dist-packages (from qiskit-aer) (5.9.5)\n",
            "Requirement already satisfied: six in /usr/local/lib/python3.11/dist-packages (from docplex!=2.24.231,>=2.21.207->qiskit-optimization) (1.17.0)\n",
            "Requirement already satisfied: contourpy>=1.0.1 in /usr/local/lib/python3.11/dist-packages (from matplotlib>=3.3->qiskit[visualization]) (1.3.1)\n",
            "Requirement already satisfied: cycler>=0.10 in /usr/local/lib/python3.11/dist-packages (from matplotlib>=3.3->qiskit[visualization]) (0.12.1)\n",
            "Requirement already satisfied: fonttools>=4.22.0 in /usr/local/lib/python3.11/dist-packages (from matplotlib>=3.3->qiskit[visualization]) (4.56.0)\n",
            "Requirement already satisfied: kiwisolver>=1.3.1 in /usr/local/lib/python3.11/dist-packages (from matplotlib>=3.3->qiskit[visualization]) (1.4.8)\n",
            "Requirement already satisfied: packaging>=20.0 in /usr/local/lib/python3.11/dist-packages (from matplotlib>=3.3->qiskit[visualization]) (24.2)\n",
            "Requirement already satisfied: pyparsing>=2.3.1 in /usr/local/lib/python3.11/dist-packages (from matplotlib>=3.3->qiskit[visualization]) (3.2.1)\n",
            "Requirement already satisfied: pandas>=1.2 in /usr/local/lib/python3.11/dist-packages (from seaborn>=0.9.0->qiskit[visualization]) (2.2.2)\n",
            "Requirement already satisfied: pbr>=2.0.0 in /usr/local/lib/python3.11/dist-packages (from stevedore>=3.0.0->qiskit[visualization]) (6.1.1)\n",
            "Requirement already satisfied: mpmath<1.4,>=1.1.0 in /usr/local/lib/python3.11/dist-packages (from sympy>=1.3->qiskit[visualization]) (1.3.0)\n",
            "Requirement already satisfied: pytz>=2020.1 in /usr/local/lib/python3.11/dist-packages (from pandas>=1.2->seaborn>=0.9.0->qiskit[visualization]) (2025.1)\n",
            "Requirement already satisfied: tzdata>=2022.7 in /usr/local/lib/python3.11/dist-packages (from pandas>=1.2->seaborn>=0.9.0->qiskit[visualization]) (2025.1)\n",
            "Downloading qiskit_optimization-0.6.1-py3-none-any.whl (167 kB)\n",
            "\u001b[2K   \u001b[90m━━━━━━━━━━━━━━━━━━━━━━━━━━━━━━━━━━━━━━━━\u001b[0m \u001b[32m167.6/167.6 kB\u001b[0m \u001b[31m11.5 MB/s\u001b[0m eta \u001b[36m0:00:00\u001b[0m\n",
            "\u001b[?25hDownloading qiskit_algorithms-0.3.1-py3-none-any.whl (310 kB)\n",
            "\u001b[2K   \u001b[90m━━━━━━━━━━━━━━━━━━━━━━━━━━━━━━━━━━━━━━━━\u001b[0m \u001b[32m310.5/310.5 kB\u001b[0m \u001b[31m22.4 MB/s\u001b[0m eta \u001b[36m0:00:00\u001b[0m\n",
            "\u001b[?25hBuilding wheels for collected packages: pylatexenc\n",
            "  Building wheel for pylatexenc (setup.py) ... \u001b[?25l\u001b[?25hdone\n",
            "  Created wheel for pylatexenc: filename=pylatexenc-2.10-py3-none-any.whl size=136816 sha256=73add210c61a29e10a403479f70c197146621ddd21e0872ad27848e6618dde8a\n",
            "  Stored in directory: /root/.cache/pip/wheels/b1/7a/33/9fdd892f784ed4afda62b685ae3703adf4c91aa0f524c28f03\n",
            "Successfully built pylatexenc\n",
            "Installing collected packages: pylatexenc, qiskit-algorithms, qiskit-optimization\n",
            "Successfully installed pylatexenc-2.10 qiskit-algorithms-0.3.1 qiskit-optimization-0.6.1\n",
            "Collecting qiskit-aer-gpu\n",
            "  Downloading qiskit_aer_gpu-0.15.1-cp311-cp311-manylinux_2_17_x86_64.manylinux2014_x86_64.whl.metadata (8.3 kB)\n",
            "Requirement already satisfied: qiskit>=1.1.0 in /usr/local/lib/python3.11/dist-packages (from qiskit-aer-gpu) (1.3.1)\n",
            "Requirement already satisfied: numpy>=1.16.3 in /usr/local/lib/python3.11/dist-packages (from qiskit-aer-gpu) (2.0.2)\n",
            "Requirement already satisfied: scipy>=1.0 in /usr/local/lib/python3.11/dist-packages (from qiskit-aer-gpu) (1.14.1)\n",
            "Requirement already satisfied: psutil>=5 in /usr/local/lib/python3.11/dist-packages (from qiskit-aer-gpu) (5.9.5)\n",
            "Requirement already satisfied: nvidia-cuda-runtime-cu12>=12.1.105 in /usr/local/lib/python3.11/dist-packages (from qiskit-aer-gpu) (12.5.82)\n",
            "Requirement already satisfied: nvidia-nvjitlink-cu12 in /usr/local/lib/python3.11/dist-packages (from qiskit-aer-gpu) (12.5.82)\n",
            "Requirement already satisfied: nvidia-cublas-cu12>=12.1.3.1 in /usr/local/lib/python3.11/dist-packages (from qiskit-aer-gpu) (12.5.3.2)\n",
            "Requirement already satisfied: nvidia-cusolver-cu12>=11.4.5.107 in /usr/local/lib/python3.11/dist-packages (from qiskit-aer-gpu) (11.6.3.83)\n",
            "Requirement already satisfied: nvidia-cusparse-cu12>=12.1.0.106 in /usr/local/lib/python3.11/dist-packages (from qiskit-aer-gpu) (12.5.1.3)\n",
            "Collecting cuquantum-cu12>=23.3.0 (from qiskit-aer-gpu)\n",
            "  Downloading cuquantum_cu12-25.3.0-py3-none-manylinux2014_x86_64.whl.metadata (3.3 kB)\n",
            "Collecting custatevec-cu12==1.8.0 (from cuquantum-cu12>=23.3.0->qiskit-aer-gpu)\n",
            "  Downloading custatevec_cu12-1.8.0-py3-none-manylinux2014_x86_64.whl.metadata (2.5 kB)\n",
            "Collecting cutensornet-cu12==2.7.0 (from cuquantum-cu12>=23.3.0->qiskit-aer-gpu)\n",
            "  Downloading cutensornet_cu12-2.7.0-py3-none-manylinux2014_x86_64.whl.metadata (2.5 kB)\n",
            "Collecting cudensitymat-cu12==0.1.0 (from cuquantum-cu12>=23.3.0->qiskit-aer-gpu)\n",
            "  Downloading cudensitymat_cu12-0.1.0-py3-none-manylinux2014_x86_64.whl.metadata (2.6 kB)\n",
            "Collecting cutensor-cu12<3,>=2.2 (from cudensitymat-cu12==0.1.0->cuquantum-cu12>=23.3.0->qiskit-aer-gpu)\n",
            "  Downloading cutensor_cu12-2.2.0-py3-none-manylinux2014_x86_64.whl.metadata (2.2 kB)\n",
            "Requirement already satisfied: rustworkx>=0.15.0 in /usr/local/lib/python3.11/dist-packages (from qiskit>=1.1.0->qiskit-aer-gpu) (0.16.0)\n",
            "Requirement already satisfied: sympy>=1.3 in /usr/local/lib/python3.11/dist-packages (from qiskit>=1.1.0->qiskit-aer-gpu) (1.13.1)\n",
            "Requirement already satisfied: dill>=0.3 in /usr/local/lib/python3.11/dist-packages (from qiskit>=1.1.0->qiskit-aer-gpu) (0.3.9)\n",
            "Requirement already satisfied: python-dateutil>=2.8.0 in /usr/local/lib/python3.11/dist-packages (from qiskit>=1.1.0->qiskit-aer-gpu) (2.8.2)\n",
            "Requirement already satisfied: stevedore>=3.0.0 in /usr/local/lib/python3.11/dist-packages (from qiskit>=1.1.0->qiskit-aer-gpu) (5.4.1)\n",
            "Requirement already satisfied: typing-extensions in /usr/local/lib/python3.11/dist-packages (from qiskit>=1.1.0->qiskit-aer-gpu) (4.12.2)\n",
            "Requirement already satisfied: symengine<0.14,>=0.11 in /usr/local/lib/python3.11/dist-packages (from qiskit>=1.1.0->qiskit-aer-gpu) (0.13.0)\n",
            "Requirement already satisfied: six>=1.5 in /usr/local/lib/python3.11/dist-packages (from python-dateutil>=2.8.0->qiskit>=1.1.0->qiskit-aer-gpu) (1.17.0)\n",
            "Requirement already satisfied: pbr>=2.0.0 in /usr/local/lib/python3.11/dist-packages (from stevedore>=3.0.0->qiskit>=1.1.0->qiskit-aer-gpu) (6.1.1)\n",
            "Requirement already satisfied: mpmath<1.4,>=1.1.0 in /usr/local/lib/python3.11/dist-packages (from sympy>=1.3->qiskit>=1.1.0->qiskit-aer-gpu) (1.3.0)\n",
            "Requirement already satisfied: setuptools in /usr/local/lib/python3.11/dist-packages (from pbr>=2.0.0->stevedore>=3.0.0->qiskit>=1.1.0->qiskit-aer-gpu) (75.1.0)\n",
            "Downloading qiskit_aer_gpu-0.15.1-cp311-cp311-manylinux_2_17_x86_64.manylinux2014_x86_64.whl (18.8 MB)\n",
            "\u001b[2K   \u001b[90m━━━━━━━━━━━━━━━━━━━━━━━━━━━━━━━━━━━━━━━━\u001b[0m \u001b[32m18.8/18.8 MB\u001b[0m \u001b[31m57.5 MB/s\u001b[0m eta \u001b[36m0:00:00\u001b[0m\n",
            "\u001b[?25hDownloading cuquantum_cu12-25.3.0-py3-none-manylinux2014_x86_64.whl (7.2 kB)\n",
            "Downloading cudensitymat_cu12-0.1.0-py3-none-manylinux2014_x86_64.whl (4.0 MB)\n",
            "\u001b[2K   \u001b[90m━━━━━━━━━━━━━━━━━━━━━━━━━━━━━━━━━━━━━━━━\u001b[0m \u001b[32m4.0/4.0 MB\u001b[0m \u001b[31m90.7 MB/s\u001b[0m eta \u001b[36m0:00:00\u001b[0m\n",
            "\u001b[?25hDownloading custatevec_cu12-1.8.0-py3-none-manylinux2014_x86_64.whl (44.3 MB)\n",
            "\u001b[2K   \u001b[90m━━━━━━━━━━━━━━━━━━━━━━━━━━━━━━━━━━━━━━━━\u001b[0m \u001b[32m44.3/44.3 MB\u001b[0m \u001b[31m12.4 MB/s\u001b[0m eta \u001b[36m0:00:00\u001b[0m\n",
            "\u001b[?25hDownloading cutensornet_cu12-2.7.0-py3-none-manylinux2014_x86_64.whl (2.6 MB)\n",
            "\u001b[2K   \u001b[90m━━━━━━━━━━━━━━━━━━━━━━━━━━━━━━━━━━━━━━━━\u001b[0m \u001b[32m2.6/2.6 MB\u001b[0m \u001b[31m69.0 MB/s\u001b[0m eta \u001b[36m0:00:00\u001b[0m\n",
            "\u001b[?25hDownloading cutensor_cu12-2.2.0-py3-none-manylinux2014_x86_64.whl (202.3 MB)\n",
            "\u001b[2K   \u001b[90m━━━━━━━━━━━━━━━━━━━━━━━━━━━━━━━━━━━━━━━━\u001b[0m \u001b[32m202.3/202.3 MB\u001b[0m \u001b[31m6.5 MB/s\u001b[0m eta \u001b[36m0:00:00\u001b[0m\n",
            "\u001b[?25hInstalling collected packages: cutensor-cu12, custatevec-cu12, cutensornet-cu12, cudensitymat-cu12, cuquantum-cu12, qiskit-aer-gpu\n",
            "Successfully installed cudensitymat-cu12-0.1.0 cuquantum-cu12-25.3.0 custatevec-cu12-1.8.0 cutensor-cu12-2.2.0 cutensornet-cu12-2.7.0 qiskit-aer-gpu-0.15.1\n",
            "Collecting pennylane\n",
            "  Downloading PennyLane-0.40.0-py3-none-any.whl.metadata (10 kB)\n",
            "Requirement already satisfied: numpy<2.1 in /usr/local/lib/python3.11/dist-packages (from pennylane) (2.0.2)\n",
            "Requirement already satisfied: scipy in /usr/local/lib/python3.11/dist-packages (from pennylane) (1.14.1)\n",
            "Requirement already satisfied: networkx in /usr/local/lib/python3.11/dist-packages (from pennylane) (3.0)\n",
            "Requirement already satisfied: rustworkx>=0.14.0 in /usr/local/lib/python3.11/dist-packages (from pennylane) (0.16.0)\n",
            "Requirement already satisfied: autograd in /usr/local/lib/python3.11/dist-packages (from pennylane) (1.7.0)\n",
            "Collecting tomlkit (from pennylane)\n",
            "  Downloading tomlkit-0.13.2-py3-none-any.whl.metadata (2.7 kB)\n",
            "Collecting appdirs (from pennylane)\n",
            "  Downloading appdirs-1.4.4-py2.py3-none-any.whl.metadata (9.0 kB)\n",
            "Collecting autoray>=0.6.11 (from pennylane)\n",
            "  Downloading autoray-0.7.1-py3-none-any.whl.metadata (5.8 kB)\n",
            "Requirement already satisfied: cachetools in /usr/local/lib/python3.11/dist-packages (from pennylane) (5.5.2)\n",
            "Collecting pennylane-lightning>=0.40 (from pennylane)\n",
            "  Downloading PennyLane_Lightning-0.40.0-cp311-cp311-manylinux_2_28_x86_64.whl.metadata (27 kB)\n",
            "Requirement already satisfied: requests in /usr/local/lib/python3.11/dist-packages (from pennylane) (2.32.3)\n",
            "Requirement already satisfied: typing-extensions in /usr/local/lib/python3.11/dist-packages (from pennylane) (4.12.2)\n",
            "Requirement already satisfied: packaging in /usr/local/lib/python3.11/dist-packages (from pennylane) (24.2)\n",
            "Collecting diastatic-malt (from pennylane)\n",
            "  Downloading diastatic_malt-2.15.2-py3-none-any.whl.metadata (2.6 kB)\n",
            "Collecting scipy-openblas32>=0.3.26 (from pennylane-lightning>=0.40->pennylane)\n",
            "  Downloading scipy_openblas32-0.3.29.0.0-py3-none-manylinux_2_17_x86_64.manylinux2014_x86_64.whl.metadata (56 kB)\n",
            "\u001b[2K     \u001b[90m━━━━━━━━━━━━━━━━━━━━━━━━━━━━━━━━━━━━━━━━\u001b[0m \u001b[32m56.1/56.1 kB\u001b[0m \u001b[31m4.7 MB/s\u001b[0m eta \u001b[36m0:00:00\u001b[0m\n",
            "\u001b[?25hRequirement already satisfied: astunparse in /usr/local/lib/python3.11/dist-packages (from diastatic-malt->pennylane) (1.6.3)\n",
            "Requirement already satisfied: gast in /usr/local/lib/python3.11/dist-packages (from diastatic-malt->pennylane) (0.6.0)\n",
            "Requirement already satisfied: termcolor in /usr/local/lib/python3.11/dist-packages (from diastatic-malt->pennylane) (2.5.0)\n",
            "Requirement already satisfied: charset-normalizer<4,>=2 in /usr/local/lib/python3.11/dist-packages (from requests->pennylane) (3.4.1)\n",
            "Requirement already satisfied: idna<4,>=2.5 in /usr/local/lib/python3.11/dist-packages (from requests->pennylane) (3.10)\n",
            "Requirement already satisfied: urllib3<3,>=1.21.1 in /usr/local/lib/python3.11/dist-packages (from requests->pennylane) (2.3.0)\n",
            "Requirement already satisfied: certifi>=2017.4.17 in /usr/local/lib/python3.11/dist-packages (from requests->pennylane) (2025.1.31)\n",
            "Requirement already satisfied: wheel<1.0,>=0.23.0 in /usr/local/lib/python3.11/dist-packages (from astunparse->diastatic-malt->pennylane) (0.45.1)\n",
            "Requirement already satisfied: six<2.0,>=1.6.1 in /usr/local/lib/python3.11/dist-packages (from astunparse->diastatic-malt->pennylane) (1.17.0)\n",
            "Downloading PennyLane-0.40.0-py3-none-any.whl (2.0 MB)\n",
            "\u001b[2K   \u001b[90m━━━━━━━━━━━━━━━━━━━━━━━━━━━━━━━━━━━━━━━━\u001b[0m \u001b[32m2.0/2.0 MB\u001b[0m \u001b[31m33.9 MB/s\u001b[0m eta \u001b[36m0:00:00\u001b[0m\n",
            "\u001b[?25hDownloading autoray-0.7.1-py3-none-any.whl (930 kB)\n",
            "\u001b[2K   \u001b[90m━━━━━━━━━━━━━━━━━━━━━━━━━━━━━━━━━━━━━━━━\u001b[0m \u001b[32m930.8/930.8 kB\u001b[0m \u001b[31m43.7 MB/s\u001b[0m eta \u001b[36m0:00:00\u001b[0m\n",
            "\u001b[?25hDownloading PennyLane_Lightning-0.40.0-cp311-cp311-manylinux_2_28_x86_64.whl (2.4 MB)\n",
            "\u001b[2K   \u001b[90m━━━━━━━━━━━━━━━━━━━━━━━━━━━━━━━━━━━━━━━━\u001b[0m \u001b[32m2.4/2.4 MB\u001b[0m \u001b[31m65.7 MB/s\u001b[0m eta \u001b[36m0:00:00\u001b[0m\n",
            "\u001b[?25hDownloading appdirs-1.4.4-py2.py3-none-any.whl (9.6 kB)\n",
            "Downloading diastatic_malt-2.15.2-py3-none-any.whl (167 kB)\n",
            "\u001b[2K   \u001b[90m━━━━━━━━━━━━━━━━━━━━━━━━━━━━━━━━━━━━━━━━\u001b[0m \u001b[32m167.9/167.9 kB\u001b[0m \u001b[31m13.4 MB/s\u001b[0m eta \u001b[36m0:00:00\u001b[0m\n",
            "\u001b[?25hDownloading tomlkit-0.13.2-py3-none-any.whl (37 kB)\n",
            "Downloading scipy_openblas32-0.3.29.0.0-py3-none-manylinux_2_17_x86_64.manylinux2014_x86_64.whl (8.6 MB)\n",
            "\u001b[2K   \u001b[90m━━━━━━━━━━━━━━━━━━━━━━━━━━━━━━━━━━━━━━━━\u001b[0m \u001b[32m8.6/8.6 MB\u001b[0m \u001b[31m63.2 MB/s\u001b[0m eta \u001b[36m0:00:00\u001b[0m\n",
            "\u001b[?25hInstalling collected packages: appdirs, tomlkit, scipy-openblas32, autoray, diastatic-malt, pennylane-lightning, pennylane\n",
            "Successfully installed appdirs-1.4.4 autoray-0.7.1 diastatic-malt-2.15.2 pennylane-0.40.0 pennylane-lightning-0.40.0 scipy-openblas32-0.3.29.0.0 tomlkit-0.13.2\n"
          ]
        }
      ],
      "source": [
        "!pip install git+https://github.com/jpmorganchase/QOKit.git\n",
        "!pip install qiskit[visualization] qiskit-optimization qiskit-aer\n",
        "!pip install mqt.bench\n"
      ]
    },
    {
      "cell_type": "markdown",
      "source": [
        "\n",
        "### **Q1: Evaluating the Effectiveness of Native Gate Sets Across Quantum Hardware Platforms  [6 points]**\n",
        "\n",
        "\n",
        "---\n",
        "\n",
        "\n",
        "Consider the following four quantum hardware platforms, each with its own native gate set:\n",
        "\n",
        "1. IBM (Superconducting)\n",
        "2. IonQ (Trapped Ions)\n",
        "3. Quantinuum (Trapped Ions)\n",
        "\n",
        "**(a)** Using a **technology-agnostic benchmarking approach**, identify which platform’s native gate set is **most effective** in minimizing **circuit depth** and **gate count** across a range of quantum algorithms and problem sizes. Please follow, the following steps\n",
        "\n",
        "1. **Generate and compile circuits** for the above benchmarks using the MQT Bench tool:  \n",
        "* https://github.com/cda-tum/mqt-bench\n",
        "   \n",
        "\n",
        "2. **Compile each benchmark circuit** to the native gate set of each platform using MQT bench, use benchmarks with qubits 5,10,15,25, 35, 45.\n",
        "* https://mqt.readthedocs.io/projects/bench/en/latest/Parameter.html\n",
        "\n",
        "\n",
        "\n",
        "\n",
        "**(b)** Estimate the SWAP overhead for each benchmark for IonQ Aria 1 (25 Qubits),\n",
        "Quantinuum H2 (32 Qubits), and  IBM Montreal (27 Qubits). Use the connectivity map in the code window below for the machines.\n",
        "\n",
        "\n",
        "\n",
        "and use the following table to estimate the execution time for benchmarks with qubits 5,10,15,25, 35. Use qiskit's mapping and routing pass. Note use the connectivity specified below, we have altered for pedagogical purposes.\n",
        "\n",
        "| Platform           | Native Gates                   | Connectivity       | 1Q Gate Time | 2Q Gate Time | Coherence Time (T₁/T₂)     | Readout Latency |\n",
        "|--------------------|--------------------------------|--------------------|--------------|--------------|-----------------------------|------------------|\n",
        "| **IonQ Aria 1**    | Arbitrary 1Q, **XX(θ)**         | Somewhat Fully connected    | 10 µs        | 100 µs       | 1,000 ms / 1,000 ms         | 1 ms             |\n",
        "| **Quantinuum H2**  | Arbitrary 1Q, **ZZ(θ)**         | Somewhat Fully connected    | 10 µs        | 150 µs       | 500 ms / 500 ms             | 1 ms             |\n",
        "| **IBM Montreal**   | Rx(π/2), Rz(θ), **CX**          | Heavy-hex (sparse) | 20 ns        | 200 ns       | 100 µs / 100 µs             | 200 µs           |\n",
        "           |"
      ],
      "metadata": {
        "id": "12ieK7nJw2O9"
      }
    },
    {
      "cell_type": "code",
      "source": [
        "\n",
        "Quantinuum_H2_32=[\n",
        " (0, 1), (0, 2), (0, 3), (0, 4), (0, 5), (0, 6), (0, 7),\n",
        " (1, 2), (1, 3), (1, 4), (1, 5), (1, 6), (1, 7),\n",
        " (2, 3), (2, 4), (2, 5), (2, 6), (2, 7),\n",
        " (3, 4), (3, 5), (3, 6), (3, 7),\n",
        " (4, 5), (4, 6), (4, 7),\n",
        " (5, 6), (5, 7),\n",
        " (6, 7),\n",
        " (7, 8),  # inter-group connection\n",
        "\n",
        " (8, 9), (8, 10), (8, 11), (8, 12), (8, 13), (8, 14), (8, 15),\n",
        " (9, 10), (9, 11), (9, 12), (9, 13), (9, 14), (9, 15),\n",
        " (10, 11), (10, 12), (10, 13), (10, 14), (10, 15),\n",
        " (11, 12), (11, 13), (11, 14), (11, 15),\n",
        " (12, 13), (12, 14), (12, 15),\n",
        " (13, 14), (13, 15),\n",
        " (14, 15),\n",
        " (15, 16),  # inter-group connection\n",
        "\n",
        " (16, 17), (16, 18), (16, 19), (16, 20), (16, 21), (16, 22), (16, 23),\n",
        " (17, 18), (17, 19), (17, 20), (17, 21), (17, 22), (17, 23),\n",
        " (18, 19), (18, 20), (18, 21), (18, 22), (18, 23),\n",
        " (19, 20), (19, 21), (19, 22), (19, 23),\n",
        " (20, 21), (20, 22), (20, 23),\n",
        " (21, 22), (21, 23),\n",
        " (22, 23),\n",
        " (23, 24),  # inter-group connection\n",
        "\n",
        " (24, 25), (24, 26), (24, 27), (24, 28), (24, 29), (24, 30), (24, 31),\n",
        " (25, 26), (25, 27), (25, 28), (25, 29), (25, 30), (25, 31),\n",
        " (26, 27), (26, 28), (26, 29), (26, 30), (26, 31),\n",
        " (27, 28), (27, 29), (27, 30), (27, 31),\n",
        " (28, 29), (28, 30), (28, 31),\n",
        " (29, 30), (29, 31),\n",
        " (30, 31)\n",
        "]\n",
        "\n",
        "\n",
        "IonQ_25=[\n",
        " (0, 1), (0, 2), (0, 3), (0, 4),\n",
        " (1, 2), (1, 3), (1, 4),\n",
        " (2, 3), (2, 4),\n",
        " (3, 4),\n",
        " (4, 5),\n",
        "\n",
        " (5, 6), (5, 7), (5, 8), (5, 9),\n",
        " (6, 7), (6, 8), (6, 9),\n",
        " (7, 8), (7, 9),\n",
        " (8, 9),\n",
        " (9, 10),\n",
        "\n",
        " (10, 11), (10, 12), (10, 13), (10, 14),\n",
        " (11, 12), (11, 13), (11, 14),\n",
        " (12, 13), (12, 14),\n",
        " (13, 14),\n",
        " (14, 15),\n",
        "\n",
        " (15, 16), (15, 17), (15, 18), (15, 19),\n",
        " (16, 17), (16, 18), (16, 19),\n",
        " (17, 18), (17, 19),\n",
        " (18, 19),\n",
        " (19, 20),\n",
        "\n",
        " (20, 21), (20, 22), (20, 23), (20, 24),\n",
        " (21, 22), (21, 23), (21, 24),\n",
        " (22, 23), (22, 24),\n",
        " (23, 24)\n",
        "]\n",
        "\n",
        "\n",
        "edges_IBM_27 = [\n",
        "    (0, 1), (1, 2), (2, 3),\n",
        "    (3, 4), (4, 5), (5, 6),\n",
        "    (6, 7), (7, 8), (8, 9),\n",
        "    (1, 10), (3, 11), (5, 12), (7, 13), (9, 14),\n",
        "    (10, 11), (11, 12), (12, 13), (13, 14),\n",
        "    (10, 15), (11, 16), (12, 17), (13, 18), (14, 19),\n",
        "    (15, 16), (16, 17), (17, 18), (18, 19),\n",
        "    (15, 20), (16, 21), (17, 22), (18, 23), (19, 24),\n",
        "    (20, 21), (21, 22), (22, 23), (23, 24),\n",
        "    (21, 25), (23, 26)\n",
        "]\n",
        "\n",
        "\n",
        "\n"
      ],
      "metadata": {
        "id": "BGDu3kcM9X4b"
      },
      "execution_count": null,
      "outputs": []
    },
    {
      "cell_type": "markdown",
      "source": [
        "(c) Estimate the fidelity using noisy simulation for the listed benchmarks for 5- and 10-qubit instances per platform. When estimating the fidelity model idling errors. Use equation (9) and (10) from https://arxiv.org/abs/1404.3747 , assume when gates have no operational dependence we can perform them in parallel and there is no crosstalk. Clearly state **Your conclusion:** Which hardware platform is most effective overall, and why?\n",
        "\n",
        "\n",
        "\n",
        "| Platform           | 1Q Gate Fidelity       | 2Q Gate Fidelity       | Readout Fidelity                                  |\n",
        "|--------------------|------------------------|-------------------------|----------------------------------------|\n",
        "| **IonQ Aria 1**    | 99.9%                | 99%                 |  99.99% |\n",
        "| **Quantinuum H2**  |  99.97%               | 98%                 |    99.99%        |\n",
        "| **IBM Montreal**   |  99.9%                | 98.5%               | 97%\n",
        "\n",
        "\n",
        "---\n",
        "\n",
        "**Benchmarks:**  \n",
        "Use the following **representative quantum applications** for your evaluations:\n",
        "\n",
        "1. Amplitude Estimation (AE)  \n",
        "2. Graph State Preparation (GSP)\n",
        "3. Portfolio Optimization with QAOA (PoQAOA)  \n",
        "4. Portfolio Optimization with VQE  (PoVQE)\n",
        "5. Quantum Approximate Optimization Algorithm (QAOA)  \n",
        "6. Quantum Fourier Transform (QFT)  \n",
        "7. Quantum Neural Network (QNN)  \n",
        "8. Variational Quantum Eigensolver (VQE)  \n",
        "9. W-State Preparation (W-state)\n",
        "\n",
        "---"
      ],
      "metadata": {
        "id": "JmQb2aF8w2fz"
      }
    },
    {
      "cell_type": "code",
      "source": [
        "# check if mqt bench is working\n",
        "from mqt.bench import get_benchmark\n",
        "\n",
        "# get a benchmark circuit on algorithmic level representing the GHZ state with 5 qubits\n",
        "qc_algorithmic_level = get_benchmark(benchmark_name=\"ghz\", level=\"alg\", circuit_size=5)\n",
        "\n",
        "# draw the circuit\n",
        "print(qc_algorithmic_level.draw())"
      ],
      "metadata": {
        "colab": {
          "base_uri": "https://localhost:8080/"
        },
        "id": "x8uzT1JMIPcu",
        "outputId": "2e6c94c7-63e4-46a6-c506-2e6990c64ae1",
        "collapsed": true
      },
      "execution_count": null,
      "outputs": [
        {
          "output_type": "stream",
          "name": "stdout",
          "text": [
            "                            ┌───┐ ░ ┌─┐            \n",
            "   q_0: ────────────────────┤ X ├─░─┤M├────────────\n",
            "                       ┌───┐└─┬─┘ ░ └╥┘┌─┐         \n",
            "   q_1: ───────────────┤ X ├──■───░──╫─┤M├─────────\n",
            "                  ┌───┐└─┬─┘      ░  ║ └╥┘┌─┐      \n",
            "   q_2: ──────────┤ X ├──■────────░──╫──╫─┤M├──────\n",
            "             ┌───┐└─┬─┘           ░  ║  ║ └╥┘┌─┐   \n",
            "   q_3: ─────┤ X ├──■─────────────░──╫──╫──╫─┤M├───\n",
            "        ┌───┐└─┬─┘                ░  ║  ║  ║ └╥┘┌─┐\n",
            "   q_4: ┤ H ├──■──────────────────░──╫──╫──╫──╫─┤M├\n",
            "        └───┘                     ░  ║  ║  ║  ║ └╥┘\n",
            "meas: 5/═════════════════════════════╩══╩══╩══╩══╩═\n",
            "                                     0  1  2  3  4 \n"
          ]
        }
      ]
    },
    {
      "cell_type": "code",
      "source": [
        "# Add your code Q1a"
      ],
      "metadata": {
        "id": "4ux36TO-IwZF"
      },
      "execution_count": null,
      "outputs": []
    },
    {
      "cell_type": "markdown",
      "source": [
        "ToDO: Analysis"
      ],
      "metadata": {
        "id": "nFBeoPVRaqkQ"
      }
    },
    {
      "cell_type": "markdown",
      "source": [
        "# Q2: Zero Noise Extrapolation [4 points + 1 point]\n",
        "\n",
        "\n",
        "(a) Use 8-node QAOA with P=2 example from HW-3 Q2 and show that ZNE can significantly improve expected cost estimate. Use the idetical noise configuration as superconducting hardware described in Q1 and connectivity map to compile your circuit and perform ZNE using folded CX gates (local folding) to modulate noise levels. Make sure the additional \"CX\" gates are introduced after the mapping and routing pass. Use three noise levels -- (1) No gate folding (2) gate folding only on second layer of QAOA (3) gate folding on both layers of QAOA.  \n",
        "\n",
        "\n",
        "\n",
        "(b) You have three options -- (1) use ZNE on fast but noisy IBM machine (2) use slower but more reliable H2 machine without ZNE or (3) Aria IonQ hardware without ZNE, which is the best option? Backup your claim with numerical simulations.    \n",
        "\n",
        "\n",
        "\n",
        "(c) Can you do better than (a) without increasing the total execution time ? [Extra Credit]"
      ],
      "metadata": {
        "id": "f6nE4VIXjP7c"
      }
    },
    {
      "cell_type": "code",
      "source": [
        "# Code for Q2"
      ],
      "metadata": {
        "id": "gQaVeuoUayMk"
      },
      "execution_count": null,
      "outputs": []
    },
    {
      "cell_type": "markdown",
      "source": [
        "TODO Q2"
      ],
      "metadata": {
        "id": "EWXQx_SsjQJi"
      }
    },
    {
      "cell_type": "markdown",
      "source": [
        "# Q3: Unitary Synthesis [3 points]\n",
        "\n",
        "In this problem, you'll implement a brute force, approximate, single-qubit unitary synthesis algorithm using the Clifford + T gate set. It has been broken down into small parts, so don't be intimidated by the number of subquestions."
      ],
      "metadata": {
        "id": "6sDA3PNwBvCl"
      }
    },
    {
      "cell_type": "markdown",
      "source": [
        "## Part A: Hilbert-Schmidt distance\n",
        "\n",
        "Our algorithm should guarantee the output circuit is close to the target unitary. This distance can be quantified using something called the Hilbert-Schmidt distance, where $n$ is the number of qubits:\n",
        "$$HS(U_1, U_2) := \\sqrt{1-\\frac{| Tr(U_1^\\dagger U_2)| ^2}{2^{2n}}}$$\n",
        "\n",
        "This outputs a value between 0 and 1 (inclusive) that indicates how close the two untaries are. 0 means they are equal up to global phase and 1 means they are very not equal.\n",
        "\n",
        "Is this distance function symmetric? i.e. is $HS(U_1, U_2)$ equal to $HS(U_2, U_1)$? Either prove it is symmetric or provide a counterexample."
      ],
      "metadata": {
        "id": "DP09adUmThgU"
      }
    },
    {
      "cell_type": "markdown",
      "source": [
        "Type your answer below:\n",
        "\n",
        "TODO"
      ],
      "metadata": {
        "id": "QEcnmSOoYolX"
      }
    },
    {
      "cell_type": "markdown",
      "source": [
        "## Part B: Implement the Hilbert-Schmidt distance function\n",
        "\n",
        "Fill in the function below to compute the Hilbert-Schmidt (HS) distance."
      ],
      "metadata": {
        "id": "udkWefsIBwxZ"
      }
    },
    {
      "cell_type": "code",
      "source": [
        "import numpy as np\n",
        "from numpy.typing import NDArray\n",
        "from qiskit import QuantumCircuit\n",
        "from qiskit.quantum_info import Operator\n",
        "\n",
        "def get_unitary_from_circuit(circuit: QuantumCircuit):\n",
        "  return Operator(circuit).data\n",
        "\n",
        "def hilbert_schmidt(unitary1: NDArray, unitary2: NDArray) -> float:\n",
        "  pass # TODO: write your code here. You may find some numpy methods to be particularly helpful.\n",
        "\n",
        "# A test. Do not delete anything below this and make sure the output is included in your submission.\n",
        "target_unitary = np.matrix([[-0.63093663-0.52401339j,  0.2720076 +0.50332971j],\n",
        "       [ 0.42561408+0.38233701j,  0.36164925+0.73612559j]])\n",
        "circuit = QuantumCircuit(1)\n",
        "circuit.h(0)\n",
        "circuit.s(0)\n",
        "circuit.t(0)\n",
        "\n",
        "print(hilbert_schmidt(target_unitary, get_unitary_from_circuit(circuit)))"
      ],
      "metadata": {
        "id": "g7IAW4lvRleM"
      },
      "execution_count": null,
      "outputs": []
    },
    {
      "cell_type": "markdown",
      "source": [
        "Is the unitary this circuit implements close to the target unitary?"
      ],
      "metadata": {
        "id": "3tITML5_jV_y"
      }
    },
    {
      "cell_type": "markdown",
      "source": [
        "Type your answer below:\n",
        "\n",
        "TODO"
      ],
      "metadata": {
        "id": "PgjKi2c9jcF2"
      }
    },
    {
      "cell_type": "markdown",
      "source": [
        "## Part C: Implement unitary synthesis\n",
        "\n",
        "Implement a function to synthesize a quantum circuit that is within epsilon of the target unitary, as measured by the HS distance.\n",
        "\n",
        "Fill in the function below."
      ],
      "metadata": {
        "id": "iUNGMP2HSpT3"
      }
    },
    {
      "cell_type": "code",
      "source": [
        "# Your function should return a circuit with only these gates\n",
        "cliffordt_gate_set_1q = [\"h\", \"s\", \"t\"]\n",
        "\n",
        "\"\"\"\n",
        "target_unitary: the unitary to implement\n",
        "epsilon: a float between 0 and 1 (inclusive)\n",
        "\n",
        "Returns a qiskit.QuantumCircuit object such that hilbert_schmidt(target_unitary, get_unitary_from_circuit(synthesize(target_unitary, epsilon))) <= epsilon is True.\n",
        "\"\"\"\n",
        "def synthesize(target_unitary: np.NDArray, epsilon: float) -> QuantumCircuit:\n",
        "  # Hint: brute force search by enumerating circuits starting from the empty circuit, then all circuits with 1 gate, and so on.\n",
        "  pass\n",
        "\n",
        "# A test. Do not delete anything below this and make sure the output is included in your submission.\n",
        "target_unitary = np.matrix([[-0.63093663-0.52401339j,  0.2720076 +0.50332971j],\n",
        "       [ 0.42561408+0.38233701j,  0.36164925+0.73612559j]])\n",
        "synthesized_circuit = synthesize(target_unitary, 0.5)\n",
        "print(synthesized_circuit)\n",
        "print(hilbert_schmidt(target_unitary, get_unitary_from_circuit(synthesized_circuit)) <= 0.5)"
      ],
      "metadata": {
        "id": "toBw5cDtSpvp"
      },
      "execution_count": null,
      "outputs": []
    },
    {
      "cell_type": "markdown",
      "source": [
        "## Part D: Scalability\n",
        "\n",
        "Sweep the following epsilon values and plot the time in seconds it takes to find a solution."
      ],
      "metadata": {
        "id": "a8ARJb7dV2pB"
      }
    },
    {
      "cell_type": "code",
      "source": [
        "target_unitary = np.matrix([[-0.63093663-0.52401339j,  0.2720076 +0.50332971j],\n",
        "       [ 0.42561408+0.38233701j,  0.36164925+0.73612559j]])\n",
        "epsilons = [1, 0.9, 0.8, 0.7, 0.6, 0.5, 0.4, 0.3, 0.2]\n",
        "\n",
        "# TODO: write your code here and make sure the plot is included in the ouput"
      ],
      "metadata": {
        "id": "Bm9VMioeWcCT"
      },
      "execution_count": null,
      "outputs": []
    },
    {
      "cell_type": "markdown",
      "source": [
        "What does the plot tell you about how this algorithm scales?"
      ],
      "metadata": {
        "id": "k6P_YeCJY03t"
      }
    },
    {
      "cell_type": "markdown",
      "source": [
        "Type your answer below:\n",
        "\n",
        "TODO"
      ],
      "metadata": {
        "id": "juHaHOcKY3uv"
      }
    },
    {
      "cell_type": "markdown",
      "source": [
        "## Part E: Why is unitary synthesis important?\n",
        "\n",
        "Why do we even need to solve this problem? What is the significance of the Clifford + T gate set and what type of gate does it fail to support natively?"
      ],
      "metadata": {
        "id": "UHXwX45iZDvc"
      }
    },
    {
      "cell_type": "markdown",
      "source": [
        "Type your answer below:\n",
        "\n",
        "TODO"
      ],
      "metadata": {
        "id": "a0kiMPRbZWSM"
      }
    },
    {
      "cell_type": "code",
      "source": [],
      "metadata": {
        "id": "_IrH2ChbpP5t"
      },
      "execution_count": null,
      "outputs": []
    },
    {
      "cell_type": "markdown",
      "source": [
        "# Q4: Gridsynth [2 Points]\n",
        "Gridsynth is the state-of-the-art (ancilla-free, deterministic) synthesis algorithm to approximate Rz gates with Clifford + T. Gridsynth leverages insights from number theory to achieve optimal or near-optimal approximations for any desired error threshold $\\epsilon$. By optimal, we mean the saturation of the T count lower bound given an $\\epsilon$, which you will explore in Part A."
      ],
      "metadata": {
        "id": "cbweMj1sFrVU"
      }
    },
    {
      "cell_type": "code",
      "source": [
        "!pip install pygridsynth numpy scipy matplotlib"
      ],
      "metadata": {
        "colab": {
          "base_uri": "https://localhost:8080/"
        },
        "id": "otYTB-vuFvnl",
        "outputId": "c9bf5d08-20c4-42ba-d01b-829bf7c95329"
      },
      "execution_count": null,
      "outputs": [
        {
          "output_type": "stream",
          "name": "stdout",
          "text": [
            "Collecting pygridsynth\n",
            "  Downloading pygridsynth-1.1.0-py3-none-any.whl.metadata (45 kB)\n",
            "\u001b[?25l     \u001b[90m━━━━━━━━━━━━━━━━━━━━━━━━━━━━━━━━━━━━━━━━\u001b[0m \u001b[32m0.0/45.6 kB\u001b[0m \u001b[31m?\u001b[0m eta \u001b[36m-:--:--\u001b[0m\r\u001b[2K     \u001b[90m━━━━━━━━━━━━━━━━━━━━━━━━━━━━━━━━━━━━━━━━\u001b[0m \u001b[32m45.6/45.6 kB\u001b[0m \u001b[31m1.8 MB/s\u001b[0m eta \u001b[36m0:00:00\u001b[0m\n",
            "\u001b[?25hRequirement already satisfied: numpy in /usr/local/lib/python3.11/dist-packages (2.0.2)\n",
            "Requirement already satisfied: scipy in /usr/local/lib/python3.11/dist-packages (1.14.1)\n",
            "Requirement already satisfied: matplotlib in /usr/local/lib/python3.11/dist-packages (3.10.0)\n",
            "Requirement already satisfied: mpmath in /usr/local/lib/python3.11/dist-packages (from pygridsynth) (1.3.0)\n",
            "Requirement already satisfied: contourpy>=1.0.1 in /usr/local/lib/python3.11/dist-packages (from matplotlib) (1.3.1)\n",
            "Requirement already satisfied: cycler>=0.10 in /usr/local/lib/python3.11/dist-packages (from matplotlib) (0.12.1)\n",
            "Requirement already satisfied: fonttools>=4.22.0 in /usr/local/lib/python3.11/dist-packages (from matplotlib) (4.56.0)\n",
            "Requirement already satisfied: kiwisolver>=1.3.1 in /usr/local/lib/python3.11/dist-packages (from matplotlib) (1.4.8)\n",
            "Requirement already satisfied: packaging>=20.0 in /usr/local/lib/python3.11/dist-packages (from matplotlib) (24.2)\n",
            "Requirement already satisfied: pillow>=8 in /usr/local/lib/python3.11/dist-packages (from matplotlib) (11.1.0)\n",
            "Requirement already satisfied: pyparsing>=2.3.1 in /usr/local/lib/python3.11/dist-packages (from matplotlib) (3.2.3)\n",
            "Requirement already satisfied: python-dateutil>=2.7 in /usr/local/lib/python3.11/dist-packages (from matplotlib) (2.8.2)\n",
            "Requirement already satisfied: six>=1.5 in /usr/local/lib/python3.11/dist-packages (from python-dateutil>=2.7->matplotlib) (1.17.0)\n",
            "Downloading pygridsynth-1.1.0-py3-none-any.whl (47 kB)\n",
            "\u001b[2K   \u001b[90m━━━━━━━━━━━━━━━━━━━━━━━━━━━━━━━━━━━━━━━━\u001b[0m \u001b[32m47.7/47.7 kB\u001b[0m \u001b[31m3.2 MB/s\u001b[0m eta \u001b[36m0:00:00\u001b[0m\n",
            "\u001b[?25hInstalling collected packages: pygridsynth\n",
            "Successfully installed pygridsynth-1.1.0\n"
          ]
        }
      ]
    },
    {
      "cell_type": "markdown",
      "source": [
        "## Part A\n",
        "To approximate an Rz to error $\\epsilon$ (gridsynth uses the operator norm as the error metric, which is very close to the distance metric we used in Q3), we need at least $a\\log_2 \\frac{1}{\\epsilon}+b$ T gates in the typical case, where $a$ and $b$ are two real numbers. In this part, you will use a Python implementation of gridsynth to synthesize random Rz gates at different $\\epsilon$ to fit $a$ and $b$."
      ],
      "metadata": {
        "id": "X6h89KT7S4G-"
      }
    },
    {
      "cell_type": "code",
      "source": [
        "from pygridsynth import gridsynth_gates\n",
        "import numpy as np\n",
        "\n",
        "epsilons = [10**(-i) for i in range(2, 8)]\n",
        "num_angles = 100\n",
        "angles = np.random.default_rng(42).uniform(0, 2 * np.pi, size=num_angles)\n",
        "t_counts = ... # should be of shape num_epsilons * num_angles\n",
        "# todo: fill in the T counts for all epsilon and angle pairs"
      ],
      "metadata": {
        "id": "PDspEs7beXMR"
      },
      "execution_count": null,
      "outputs": []
    },
    {
      "cell_type": "code",
      "source": [
        "import matplotlib.pyplot as plt\n",
        "from scipy.optimize import curve_fit\n",
        "\n",
        "def fitting_func(x, a, b):\n",
        "    # todo\n",
        "\n",
        "# here we fit all data points (instead of the worst points / \"lower bound\") for a more accurate estimation in Part B\n",
        "popt, pcov = curve_fit(fitting_func, np.repeat(epsilons, num_angles), np.array(t_counts).reshape(-1), p0=(1, 0))\n",
        "print(f\"a = {popt[0]}  b = {popt[1]}\")\n",
        "plt.scatter(..., s=1, label=\"data\", c=\"tab:blue\") # todo: scatter plot of T count data points\n",
        "plt.semilogx(..., label=\"fit\", color=\"tab:orange\") # todo: plot the fitted function\n",
        "plt.xlabel(\"Epsilon\")\n",
        "plt.ylabel(\"T Count\")\n",
        "plt.legend()"
      ],
      "metadata": {
        "id": "FmETElaot-yH"
      },
      "execution_count": null,
      "outputs": []
    },
    {
      "cell_type": "markdown",
      "source": [
        "## Part B Overhead of FTQC\n",
        "Now let's estimate the number of T gates needed for executing a QAOA circuit fault-tolerantly. Since the only source of non-Cliffordness in QAOA is the axial rotations, we first count the number of $R_z$ ($R_x = HR_zH$) gates we need to synthesize in a 10-layer QAOA solving a MaxCut problem with a 100-node 3-regular graph. Then we multiply the number of $R_z$ gates by the rough number of $T$ gates we estimated in Part A for a given $\\epsilon$.\n",
        "\n",
        "> Hint: In a 3-regular graph, each node has 3 edges. How many edges are in the graph? How many Pauli ZZ terms are in the Hamiltonian? How many $R_z$ gates are needed for each ZZ term?\n",
        "\n",
        "This is a hand-derivation math problem, but feel free to get inspirations or verify your findings by coding."
      ],
      "metadata": {
        "id": "xLEEXLtYcqMa"
      }
    },
    {
      "cell_type": "markdown",
      "source": [
        "#### (1) What is the number of $R_z$ gates we need to synthesize in a 10-layer QAOA solving a MaxCut problem with a 100-node 3-regular graph? Remember the $R_x$ gates also need to be transpiled to $R_z$ gates to synthesize."
      ],
      "metadata": {
        "id": "WBOhm2n6ZPVf"
      }
    },
    {
      "cell_type": "markdown",
      "source": [
        "**Solution:**\n",
        "\n",
        "Todo"
      ],
      "metadata": {
        "id": "LPvraQ8TdDcQ"
      }
    },
    {
      "cell_type": "markdown",
      "source": [
        "#### (2) To set the synthesis error threshold $\\epsilon$, we use a very naive approach here that simply divides the circuit-level error threshold by the number of gates to be synthesized. For a circuit-level error threshold of 0.01, what is the $\\epsilon$ for each individual $R_z$ gate? What is the corresponding T gate count needed in total?\n",
        "\n",
        "> Remark: In error correction codes, (logical) T gates are typically hundreds of times more costly to implement compared to physical gates. This should give you an idea of the overhead of FTQC."
      ],
      "metadata": {
        "id": "w-tZCyMqZoLX"
      }
    },
    {
      "cell_type": "markdown",
      "source": [
        "**Solution:**\n",
        "\n",
        "Todo"
      ],
      "metadata": {
        "id": "wafHffsMeAFz"
      }
    },
    {
      "cell_type": "code",
      "source": [],
      "metadata": {
        "id": "6LO_bSxseSlC"
      },
      "execution_count": null,
      "outputs": []
    }
  ]
}
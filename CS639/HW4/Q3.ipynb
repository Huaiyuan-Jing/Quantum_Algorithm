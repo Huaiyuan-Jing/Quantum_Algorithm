{
 "cells": [
  {
   "cell_type": "markdown",
   "id": "57dcd726",
   "metadata": {},
   "source": [
    "# Q3: Unitary Synthesis [3 points]\n",
    "\n",
    "In this problem, you'll implement a brute force, approximate, single-qubit unitary synthesis algorithm using the Clifford + T gate set. It has been broken down into small parts, so don't be intimidated by the number of subquestions."
   ]
  },
  {
   "cell_type": "markdown",
   "id": "abeee4fc",
   "metadata": {},
   "source": [
    "## Part A: Hilbert-Schmidt distance\n",
    "\n",
    "Our algorithm should guarantee the output circuit is close to the target unitary. This distance can be quantified using something called the Hilbert-Schmidt distance, where $n$ is the number of qubits:\n",
    "$$HS(U_1, U_2) := \\sqrt{1-\\frac{| Tr(U_1^\\dagger U_2)| ^2}{2^{2n}}}$$\n",
    "\n",
    "This outputs a value between 0 and 1 (inclusive) that indicates how close the two untaries are. 0 means they are equal up to global phase and 1 means they are very not equal.\n",
    "\n",
    "Is this distance function symmetric? i.e. is $HS(U_1, U_2)$ equal to $HS(U_2, U_1)$? Either prove it is symmetric or provide a counterexample."
   ]
  },
  {
   "cell_type": "markdown",
   "id": "8031a4c4",
   "metadata": {},
   "source": [
    "## Part B: Implement the Hilbert-Schmidt distance function\n",
    "\n",
    "Fill in the function below to compute the Hilbert-Schmidt (HS) distance."
   ]
  },
  {
   "cell_type": "code",
   "execution_count": null,
   "id": "adbf5a4a",
   "metadata": {},
   "outputs": [
    {
     "name": "stdout",
     "output_type": "stream",
     "text": [
      "None\n"
     ]
    }
   ],
   "source": [
    "import numpy as np\n",
    "from numpy.typing import NDArray\n",
    "from qiskit import QuantumCircuit\n",
    "from qiskit.quantum_info import Operator\n",
    "\n",
    "def get_unitary_from_circuit(circuit: QuantumCircuit):\n",
    "  return Operator(circuit).data\n",
    "\n",
    "def hilbert_schmidt(unitary1: NDArray, unitary2: NDArray) -> float:\n",
    "  pass # TODO: write your code here. You may find some numpy methods to be particularly helpful.\n",
    "\n",
    "# A test. Do not delete anything below this and make sure the output is included in your submission.\n",
    "target_unitary = np.matrix([[-0.63093663-0.52401339j,  0.2720076 +0.50332971j],\n",
    "       [ 0.42561408+0.38233701j,  0.36164925+0.73612559j]])\n",
    "circuit = QuantumCircuit(1)\n",
    "circuit.h(0)\n",
    "circuit.s(0)\n",
    "circuit.t(0)\n",
    "\n",
    "print(hilbert_schmidt(target_unitary, get_unitary_from_circuit(circuit)))"
   ]
  },
  {
   "cell_type": "markdown",
   "id": "22cf6dd1",
   "metadata": {},
   "source": [
    "Is the unitary this circuit implements close to the target unitary?"
   ]
  },
  {
   "cell_type": "markdown",
   "id": "7e7d7672",
   "metadata": {},
   "source": [
    "## Part C: Implement unitary synthesis\n",
    "\n",
    "Implement a function to synthesize a quantum circuit that is within epsilon of the target unitary, as measured by the HS distance.\n",
    "\n",
    "Fill in the function below."
   ]
  },
  {
   "cell_type": "code",
   "execution_count": null,
   "id": "2cb35a55",
   "metadata": {},
   "outputs": [
    {
     "ename": "AttributeError",
     "evalue": "module 'numpy' has no attribute 'NDArray'",
     "output_type": "error",
     "traceback": [
      "\u001b[0;31m---------------------------------------------------------------------------\u001b[0m\n",
      "\u001b[0;31mAttributeError\u001b[0m                            Traceback (most recent call last)\n",
      "Cell \u001b[0;32mIn[59], line 10\u001b[0m\n",
      "\u001b[1;32m      2\u001b[0m cliffordt_gate_set_1q \u001b[38;5;241m=\u001b[39m [\u001b[38;5;124m\"\u001b[39m\u001b[38;5;124mh\u001b[39m\u001b[38;5;124m\"\u001b[39m, \u001b[38;5;124m\"\u001b[39m\u001b[38;5;124ms\u001b[39m\u001b[38;5;124m\"\u001b[39m, \u001b[38;5;124m\"\u001b[39m\u001b[38;5;124mt\u001b[39m\u001b[38;5;124m\"\u001b[39m]\n",
      "\u001b[1;32m      4\u001b[0m \u001b[38;5;124;03m\"\"\"\u001b[39;00m\n",
      "\u001b[1;32m      5\u001b[0m \u001b[38;5;124;03mtarget_unitary: the unitary to implement\u001b[39;00m\n",
      "\u001b[1;32m      6\u001b[0m \u001b[38;5;124;03mepsilon: a float between 0 and 1 (inclusive)\u001b[39;00m\n",
      "\u001b[1;32m      7\u001b[0m \n",
      "\u001b[1;32m      8\u001b[0m \u001b[38;5;124;03mReturns a qiskit.QuantumCircuit object such that hilbert_schmidt(target_unitary, get_unitary_from_circuit(synthesize(target_unitary, epsilon))) <= epsilon is True.\u001b[39;00m\n",
      "\u001b[1;32m      9\u001b[0m \u001b[38;5;124;03m\"\"\"\u001b[39;00m\n",
      "\u001b[0;32m---> 10\u001b[0m \u001b[38;5;28;01mdef\u001b[39;00m\u001b[38;5;250m \u001b[39m\u001b[38;5;21msynthesize\u001b[39m(target_unitary: \u001b[43mnp\u001b[49m\u001b[38;5;241;43m.\u001b[39;49m\u001b[43mNDArray\u001b[49m, epsilon: \u001b[38;5;28mfloat\u001b[39m) \u001b[38;5;241m-\u001b[39m\u001b[38;5;241m>\u001b[39m QuantumCircuit:\n",
      "\u001b[1;32m     11\u001b[0m   \u001b[38;5;66;03m# Hint: brute force search by enumerating circuits starting from the empty circuit, then all circuits with 1 gate, and so on.\u001b[39;00m\n",
      "\u001b[1;32m     12\u001b[0m   \u001b[38;5;28;01mpass\u001b[39;00m\n",
      "\u001b[1;32m     14\u001b[0m \u001b[38;5;66;03m# A test. Do not delete anything below this and make sure the output is included in your submission.\u001b[39;00m\n",
      "\n",
      "File \u001b[0;32m~/.local/lib/python3.10/site-packages/numpy/__init__.py:414\u001b[0m, in \u001b[0;36m__getattr__\u001b[0;34m(attr)\u001b[0m\n",
      "\u001b[1;32m    409\u001b[0m         del w\n",
      "\u001b[1;32m    410\u001b[0m del _mac_os_check\n",
      "\u001b[1;32m    412\u001b[0m # We usually use madvise hugepages support, but on some old kernels it\n",
      "\u001b[1;32m    413\u001b[0m # is slow and thus better avoided.\n",
      "\u001b[0;32m--> 414\u001b[0m # Specifically kernel version 4.6 had a bug fix which probably fixed this:\n",
      "\u001b[1;32m    415\u001b[0m # https://github.com/torvalds/linux/commit/7cf91a98e607c2f935dbcc177d70011e95b8faff\n",
      "\u001b[1;32m    416\u001b[0m import os\n",
      "\u001b[1;32m    417\u001b[0m use_hugepage = os.environ.get(\"NUMPY_MADVISE_HUGEPAGE\", None)\n",
      "\n",
      "\u001b[0;31mAttributeError\u001b[0m: module 'numpy' has no attribute 'NDArray'"
     ]
    }
   ],
   "source": [
    "# Your function should return a circuit with only these gates\n",
    "cliffordt_gate_set_1q = [\"h\", \"s\", \"t\"]\n",
    "\n",
    "\"\"\"\n",
    "target_unitary: the unitary to implement\n",
    "epsilon: a float between 0 and 1 (inclusive)\n",
    "\n",
    "Returns a qiskit.QuantumCircuit object such that hilbert_schmidt(target_unitary, get_unitary_from_circuit(synthesize(target_unitary, epsilon))) <= epsilon is True.\n",
    "\"\"\"\n",
    "def synthesize(target_unitary: np.NDArray, epsilon: float) -> QuantumCircuit:\n",
    "  # Hint: brute force search by enumerating circuits starting from the empty circuit, then all circuits with 1 gate, and so on.\n",
    "  pass\n",
    "\n",
    "# A test. Do not delete anything below this and make sure the output is included in your submission.\n",
    "target_unitary = np.matrix([[-0.63093663-0.52401339j,  0.2720076 +0.50332971j],\n",
    "       [ 0.42561408+0.38233701j,  0.36164925+0.73612559j]])\n",
    "synthesized_circuit = synthesize(target_unitary, 0.5)\n",
    "print(synthesized_circuit)\n",
    "print(hilbert_schmidt(target_unitary, get_unitary_from_circuit(synthesized_circuit)) <= 0.5)"
   ]
  },
  {
   "cell_type": "markdown",
   "id": "432a3c78",
   "metadata": {},
   "source": [
    "## Part D: Scalability\n",
    "\n",
    "Sweep the following epsilon values and plot the time in seconds it takes to find a solution."
   ]
  },
  {
   "cell_type": "code",
   "execution_count": null,
   "id": "7492c236",
   "metadata": {},
   "outputs": [],
   "source": [
    "target_unitary = np.matrix([[-0.63093663-0.52401339j,  0.2720076 +0.50332971j],\n",
    "       [ 0.42561408+0.38233701j,  0.36164925+0.73612559j]])\n",
    "epsilons = [1, 0.9, 0.8, 0.7, 0.6, 0.5, 0.4, 0.3, 0.2]\n",
    "\n",
    "# TODO: write your code here and make sure the plot is included in the ouput"
   ]
  },
  {
   "cell_type": "markdown",
   "id": "ba83080e",
   "metadata": {},
   "source": [
    "What does the plot tell you about how this algorithm scales?"
   ]
  },
  {
   "cell_type": "markdown",
   "id": "d967a570",
   "metadata": {},
   "source": [
    "## Part E: Why is unitary synthesis important?\n",
    "\n",
    "Why do we even need to solve this problem? What is the significance of the Clifford + T gate set and what type of gate does it fail to support natively?"
   ]
  }
 ],
 "metadata": {
  "language_info": {
   "name": "python"
  }
 },
 "nbformat": 4,
 "nbformat_minor": 5
}

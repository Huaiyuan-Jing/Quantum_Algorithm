{
 "cells": [
  {
   "cell_type": "markdown",
   "id": "57dcd726",
   "metadata": {},
   "source": [
    "# Q3: Unitary Synthesis [3 points]\n",
    "\n",
    "In this problem, you'll implement a brute force, approximate, single-qubit unitary synthesis algorithm using the Clifford + T gate set. It has been broken down into small parts, so don't be intimidated by the number of subquestions."
   ]
  },
  {
   "cell_type": "markdown",
   "id": "abeee4fc",
   "metadata": {},
   "source": [
    "## Part A: Hilbert-Schmidt distance\n",
    "\n",
    "Our algorithm should guarantee the output circuit is close to the target unitary. This distance can be quantified using something called the Hilbert-Schmidt distance, where $n$ is the number of qubits:\n",
    "$$HS(U_1, U_2) := \\sqrt{1-\\frac{| Tr(U_1^\\dagger U_2)| ^2}{2^{2n}}}$$\n",
    "\n",
    "This outputs a value between 0 and 1 (inclusive) that indicates how close the two untaries are. 0 means they are equal up to global phase and 1 means they are very not equal.\n",
    "\n",
    "Is this distance function symmetric? i.e. is $HS(U_1, U_2)$ equal to $HS(U_2, U_1)$? Either prove it is symmetric or provide a counterexample."
   ]
  },
  {
   "cell_type": "markdown",
   "id": "06da748a",
   "metadata": {},
   "source": [
    "## Part A Answer:\n",
    "\n",
    "The Hilbert-Schmidt distance is symmetric because the trace terms differ only by a complex conjugate, which does not affect their magnitudes. Thus, swapping $U_1$​ and $U_2$​ leaves the distance unchanged:\n",
    "\n",
    "$$\n",
    "Tr((U1^†​U2​)^†)=Tr(U1^†​U2​)^∗, so\n",
    "∣Tr(U2^†U1)∣^2=∣Tr(U1^†U2)∣^2\n",
    "$$"
   ]
  },
  {
   "cell_type": "markdown",
   "id": "8031a4c4",
   "metadata": {},
   "source": [
    "## Part B: Implement the Hilbert-Schmidt distance function\n",
    "\n",
    "Fill in the function below to compute the Hilbert-Schmidt (HS) distance."
   ]
  },
  {
   "cell_type": "code",
   "execution_count": 6,
   "id": "adbf5a4a",
   "metadata": {},
   "outputs": [
    {
     "name": "stdout",
     "output_type": "stream",
     "text": [
      "0.9706897908608413\n"
     ]
    }
   ],
   "source": [
    "import numpy as np\n",
    "from numpy.typing import NDArray\n",
    "from qiskit import QuantumCircuit\n",
    "from qiskit.quantum_info import Operator\n",
    "\n",
    "def get_unitary_from_circuit(circuit: QuantumCircuit):\n",
    "    return Operator(circuit).data\n",
    "\n",
    "def hilbert_schmidt(unitary1: NDArray, unitary2: NDArray) -> float:\n",
    "    unitary1 = np.asarray(unitary1)\n",
    "    unitary2 = np.asarray(unitary2)\n",
    "    matrix_size = unitary1.shape[0]\n",
    "    U1_dagger = unitary1.conj().T\n",
    "    product = U1_dagger @ unitary2\n",
    "    tr = np.trace(product)\n",
    "    abs_sq = np.abs(tr) ** 2\n",
    "    denominator = matrix_size ** 2\n",
    "    hs_squared = 1.0 - (abs_sq / denominator)\n",
    "    hs_squared = max(hs_squared, 0.0)  # Ensure non-negative result\n",
    "    return np.sqrt(hs_squared)\n",
    "\n",
    "# A test. Do not delete anything below this and make sure the output is included in your submission.\n",
    "target_unitary = np.matrix([[-0.63093663-0.52401339j,  0.2720076 +0.50332971j],\n",
    "       [ 0.42561408+0.38233701j,  0.36164925+0.73612559j]])\n",
    "circuit = QuantumCircuit(1)\n",
    "circuit.h(0)\n",
    "circuit.s(0)\n",
    "circuit.t(0)\n",
    "\n",
    "print(hilbert_schmidt(target_unitary, get_unitary_from_circuit(circuit)))"
   ]
  },
  {
   "cell_type": "markdown",
   "id": "22cf6dd1",
   "metadata": {},
   "source": [
    "Is the unitary this circuit implements close to the target unitary?"
   ]
  },
  {
   "cell_type": "markdown",
   "id": "ec38f98c",
   "metadata": {},
   "source": [
    "No"
   ]
  },
  {
   "cell_type": "markdown",
   "id": "7e7d7672",
   "metadata": {},
   "source": [
    "## Part C: Implement unitary synthesis\n",
    "\n",
    "Implement a function to synthesize a quantum circuit that is within epsilon of the target unitary, as measured by the HS distance.\n",
    "\n",
    "Fill in the function below."
   ]
  },
  {
   "cell_type": "code",
   "execution_count": 7,
   "id": "2cb35a55",
   "metadata": {},
   "outputs": [
    {
     "name": "stdout",
     "output_type": "stream",
     "text": [
      "   ┌───┐┌───┐┌───┐┌───┐┌───┐\n",
      "q: ┤ S ├┤ S ├┤ H ├┤ S ├┤ S ├\n",
      "   └───┘└───┘└───┘└───┘└───┘\n",
      "True\n"
     ]
    }
   ],
   "source": [
    "import numpy as np\n",
    "from numpy.typing import NDArray\n",
    "from qiskit import QuantumCircuit\n",
    "from qiskit.quantum_info import Operator\n",
    "# Your function should return a circuit with only these gates\n",
    "cliffordt_gate_set_1q = [\"h\", \"s\", \"t\"]\n",
    "\n",
    "\"\"\"\n",
    "target_unitary: the unitary to implement\n",
    "epsilon: a float between 0 and 1 (inclusive)\n",
    "\n",
    "Returns a qiskit.QuantumCircuit object such that hilbert_schmidt(target_unitary, get_unitary_from_circuit(synthesize(target_unitary, epsilon))) <= epsilon is True.\n",
    "\"\"\"\n",
    "def synthesize(target_unitary, epsilon: float) -> QuantumCircuit:\n",
    "    limit = -1\n",
    "    def synthesize_helper(cur: QuantumCircuit, depth: int) -> QuantumCircuit:\n",
    "        if hilbert_schmidt(target_unitary, get_unitary_from_circuit(cur)) < epsilon:\n",
    "            return cur.copy()\n",
    "        if depth > limit:\n",
    "            return None\n",
    "        initial_length = len(cur.data)\n",
    "        for gate in cliffordt_gate_set_1q:\n",
    "            if gate == \"h\":\n",
    "                cur.h(0)\n",
    "            elif gate == \"s\":\n",
    "                cur.s(0)\n",
    "            else:\n",
    "                cur.t(0)\n",
    "            tmp = synthesize_helper(cur, depth + 1)\n",
    "            cur.data = cur.data[:initial_length]\n",
    "            if tmp != None:\n",
    "                return tmp\n",
    "        return None\n",
    "    ans = None\n",
    "    while ans == None:\n",
    "        limit += 1\n",
    "        ans = synthesize_helper(cur=QuantumCircuit(1), depth=0)\n",
    "    return ans\n",
    "    \n",
    "\n",
    "# A test. Do not delete anything below this and make sure the output is included in your submission.\n",
    "target_unitary = np.matrix([[-0.63093663-0.52401339j,  0.2720076 +0.50332971j],\n",
    "       [ 0.42561408+0.38233701j,  0.36164925+0.73612559j]])\n",
    "synthesized_circuit = synthesize(target_unitary, 0.5)\n",
    "print(synthesized_circuit)\n",
    "print(hilbert_schmidt(target_unitary, get_unitary_from_circuit(synthesized_circuit)) <= 0.5)"
   ]
  },
  {
   "cell_type": "markdown",
   "id": "432a3c78",
   "metadata": {},
   "source": [
    "## Part D: Scalability\n",
    "\n",
    "Sweep the following epsilon values and plot the time in seconds it takes to find a solution."
   ]
  },
  {
   "cell_type": "code",
   "execution_count": null,
   "id": "7492c236",
   "metadata": {},
   "outputs": [
    {
     "name": "stdout",
     "output_type": "stream",
     "text": [
      "ε = 1, time = 0.00 seconds\n",
      "ε = 0.9, time = 0.00 seconds\n",
      "ε = 0.8, time = 0.05 seconds\n",
      "ε = 0.7, time = 0.00 seconds\n",
      "ε = 0.6, time = 0.00 seconds\n",
      "ε = 0.5, time = 0.11 seconds\n",
      "ε = 0.4, time = 0.11 seconds\n",
      "ε = 0.3, time = 0.11 seconds\n",
      "ε = 0.2, time = 14.38 seconds\n"
     ]
    },
    {
     "data": {
      "image/png": "[encoded data removed]",
      "text/plain": [
       "<Figure size 800x500 with 1 Axes>"
      ]
     },
     "metadata": {},
     "output_type": "display_data"
    }
   ],
   "source": [
    "import numpy as np\n",
    "import matplotlib.pyplot as plt\n",
    "import time\n",
    "from qiskit import QuantumCircuit\n",
    "from qiskit.quantum_info import Operator\n",
    "target_unitary = np.matrix([[-0.63093663-0.52401339j,  0.2720076 +0.50332971j],\n",
    "       [ 0.42561408+0.38233701j,  0.36164925+0.73612559j]])\n",
    "epsilons = [1, 0.9, 0.8, 0.7, 0.6, 0.5, 0.4, 0.3, 0.2]\n",
    "\n",
    "times = []\n",
    "\n",
    "for eps in epsilons:\n",
    "    start = time.time()\n",
    "    synthesize(target_unitary, eps)\n",
    "    end = time.time()\n",
    "    times.append(end - start)\n",
    "    print(f\"ε = {eps}, time = {end - start:.2f} seconds\")\n",
    "\n",
    "# Plotting\n",
    "plt.figure(figsize=(8, 5))\n",
    "plt.plot(epsilons, times, marker='o')\n",
    "plt.xlabel(\"Epsilon (ε)\")\n",
    "plt.ylabel(\"Time (s)\")\n",
    "plt.title(\"Synthesis Time vs Epsilon\")\n",
    "plt.grid(True)\n",
    "plt.gca().invert_xaxis()\n",
    "plt.tight_layout()\n",
    "plt.show()"
   ]
  },
  {
   "cell_type": "markdown",
   "id": "ba83080e",
   "metadata": {},
   "source": [
    "What does the plot tell you about how this algorithm scales?"
   ]
  },
  {
   "cell_type": "markdown",
   "id": "1d111d05",
   "metadata": {},
   "source": [
    "The algorithm exhibits exponential time scaling as ε decreases."
   ]
  },
  {
   "cell_type": "markdown",
   "id": "d967a570",
   "metadata": {},
   "source": [
    "## Part E: Why is unitary synthesis important?\n",
    "\n",
    "Why do we even need to solve this problem? What is the significance of the Clifford + T gate set and what type of gate does it fail to support natively?"
   ]
  },
  {
   "cell_type": "markdown",
   "id": "19cd65e8",
   "metadata": {},
   "source": [
    "1. Solving this problem is to turn arbitrary gates into fault-tolerant gate sequences.\n",
    "2. Clifford+T is a universal but hardware-aware gate set. Only Clifford set cannot represent some arbitrary rotations in bloch sphere.\n",
    "3. It can't do arbitrary rotations directly, so it needs to approximate them using a sequence of just H, S, and T gates."
   ]
  }
 ],
 "metadata": {
  "kernelspec": {
   "display_name": "Python 3",
   "language": "python",
   "name": "python3"
  },
  "language_info": {
   "codemirror_mode": {
    "name": "ipython",
    "version": 3
   },
   "file_extension": ".py",
   "mimetype": "text/x-python",
   "name": "python",
   "nbconvert_exporter": "python",
   "pygments_lexer": "ipython3",
   "version": "3.10.12"
  }
 },
 "nbformat": 4,
 "nbformat_minor": 5
}

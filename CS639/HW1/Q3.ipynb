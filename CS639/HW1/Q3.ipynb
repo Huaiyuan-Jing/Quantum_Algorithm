{
 "cells": [
  {
   "cell_type": "markdown",
   "metadata": {},
   "source": [
    "\n",
    "### Part A\n",
    "\n",
    "Why does the sharing of an entangled pair in the beginning play a critical role in this process?\n",
    "\n",
    "### Part A Solution: (TODO)\n",
    "\n",
    "This entanglement ensures that any operation Alice performs on her qubit affects the overall quantum state, which can represent 4 possiblities. This allows Alice to encode 2-bit classical information."
   ]
  },
  {
   "cell_type": "markdown",
   "metadata": {},
   "source": [
    "### Part B\n",
    "\n",
    "Is this communication protocol secure? What if a nefarious agent intercepts the qubit sent by Alice to Bob? Will they be able to determine the encoded information? Answer with Yes/No and give a short one line explanation.\n",
    "\n",
    "### Part B Solution: (TODO)\n",
    "\n",
    "No: An nefarious agent intercepting the single qubit lacks the necessary entangled partner and decoding operations to extract the encoded information."
   ]
  },
  {
   "cell_type": "markdown",
   "metadata": {},
   "source": [
    "### Part C\n",
    "\n",
    "If Alice used an $XZ$ operation instead of the $ZX$ operation to encode the $11$ message, would things still work? Why/why not? What would be the message transmitted by Alice in this case?\n",
    "\n",
    "### Part C Solution: (TODO)\n",
    "\n",
    "Yes – swapping the order to $XZ$ just introduces a harmless global phase, leaving the resulting Bell state essentially unchanged, so Bob still sees “11” on his decoder."
   ]
  },
  {
   "cell_type": "markdown",
   "metadata": {},
   "source": [
    "### Part D\n",
    "\n",
    "Now assume that the final measurements made by Bob are faulty with a probability of 2%. How would this affect the information decoded by Bob? Would the final error probability of decoding be more or less than 2%? Provide mathematical reasoning for your answer.\n",
    "\n",
    "### Part D Solution: (TODO)\n",
    "\n",
    "The final error probability is more than 2%. Since Bob measures two qubits, each with an independent 2% chance of error, the probability that both measurements are correct is  \n",
    "$$\n",
    "(1 - 0.02)^2 = 0.98^2 = 0.9604.\n",
    "$$  \n",
    "Thus, the probability of an error in at least one measurement is  \n",
    "$$\n",
    "1 - 0.9604 = 0.0396 \\quad (\\text{or about } 3.96\\%).\n",
    "$$"
   ]
  }
 ],
 "metadata": {
  "language_info": {
   "name": "python"
  }
 },
 "nbformat": 4,
 "nbformat_minor": 2
}

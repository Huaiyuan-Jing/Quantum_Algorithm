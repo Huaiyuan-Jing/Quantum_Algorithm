{
 "cells": [
  {
   "cell_type": "markdown",
   "metadata": {},
   "source": [
    "### Part A Solution (TODO)\n",
    "<!-- Type your answer in this cell below this comment. -->\n",
    "Yes, Assume there exist such an $U_{clone}$, if we replace $|0⟩_{B}$ with $|Φ⟩_{B}$, we will get\n",
    "\n",
    "$$\n",
    "U(|Ψ⟩ ⊗ |Φ⟩) = |Ψ⟩ ⊗ |Ψ⟩ \\\\\n",
    "U(|Ψ⟩ ⊗ |Φ⟩) = a|00⟩ + b|11⟩\\\\\n",
    "|Ψ⟩ ⊗ |Ψ⟩ = a^2|00⟩ + ab|01⟩ + ba|10⟩ + b^2|11⟩ \\\\\n",
    "So, a = a^2, b = b^2, ab = 0\n",
    "$$\n",
    "\n",
    "which is a contradiction, so the theorem still remains true.\n"
   ]
  },
  {
   "cell_type": "markdown",
   "metadata": {},
   "source": [
    "### Part B Solution (TODO)\n",
    "<!-- Type your answer in this cell below this comment. -->\n",
    "\n",
    "No\n"
   ]
  },
  {
   "cell_type": "markdown",
   "metadata": {},
   "source": [
    "### Part C Solution (TODO)\n",
    "<!-- Type your answer in this cell below this comment. -->\n",
    "\n",
    "Yes, we can clone a base case by\n",
    "\n",
    "![image.png](data:image/png;base64,iVBORw0KGgoAAAANSUhEUgAAALAAAACuCAIAAAAZCRDiAAAAAXNSR0IArs4c6QAADLVJREFUeAHtnX9QVNcVx89uWRmLVCk7CrOoWWGkdECCWxlway3JdCizJdiZyAx1DNV0OtOsQKaGphNr+Cd0hmgmP6Cd4YcaBVNHjGChadKpWkNDBGpXo1nFiIas3RDWaJaFaAR2qz5d332Pve7F5e2+984bZrznnHvvu+d7PrzdvbNywYcXKsBTAHhtbKICPgQCISAUQCAIOdBAIJABQgEEgpADDQQCGSAUQCAIOdBAIJABQgEEgpADDQQCGSAUQCAIOdBAIJABQgEEgpADDQQCGSAUQCAIOdBAIJABQgEEgpADDQQCGSAUQCAIOdBAIJABQgEEgpADDQQCGSAUQCAIOdBAIJABQgEEgpADDQQCGSAUQCAIOdBAIJABQgEEgpADDQQCGSAUQCAIOdBAIJABQgEEgpADDQQCGSAUQCAIOdBAIJABQgEEgpADDQQCGSAUQCAIOdBAIJABQgEEgpADDQQCGSAUQCAIOdBAIJABQgEEgpADDQQCGSAUQCAIOdBAIJABQgEEgpADDQQCGSAUQCAIOdBAIJABQgHZAOFyuSorK5OTk6Ojo5OSksrLy0dHRzdu3AgAtbW1RE4RbDiHx979t6Pt8KWjvc7rN8YjcKXyAMJmsyUkJABATExMVlbWggULAMBiseTm5gJAV1dXBCorWNKxPueTv/3ntx7dARlN3E/8qubKV3oGnR5Bz/CaMgDC5XIlJSUBwObNm0dGRji9ampqACAqKkqj0bjd7vCK+MC7VzfY/BwIGnHmPV0nPn/gDJJ1kAEQJSUlALBp0yaBKJmZmQBgNBoF/kgzX2s+LYBAYMbm7D7V/2WELDvSgbDb7VqtVq/XezzCRyv3BmLNmjV+KS9evFhYWDhnzpx58+atX7/+ypUr/lC4Gq6r12ct3ykgQGw+/qt3wrVCwX0jHYitW7cCQEVFhWDdPp/ParUCQFVVFRcaGRlZvHhxVlZWR0fH/v37H3nkkZycnMnJSfFAKT01O06Jyz+l59zFa1IuLNC9Ih0Is9kMAO3t7eIEioqKAODgwYNcaPv27VFRUYODg5zZ3d0NAG1tbeKBUnrSig5MWX6x84XX+6RcWKB7RToQ3NtJm80mSGB8fFyv1wPAwMAAF/rxnYvfbcmSJRs3buR76G2TyWQI9aVJ/5O49lN6Zi8tC/XN785nMpnoifOjkQ5EXFwcAHR3d/MX7fP5WlpaACA2Ntbr9XKh+fPnW61WfrfCwsKcnBy+h942GAwQ8uv7tVOWfwpn0u09lZm4DAYDPXF+NNKBSEtLA4C6ujr+op1OZ2JiIgCYzWa/X6fTbdmyxW/6fL7S0tKlS5fyPfT2TDwhotL+OEXt721F8ENzUp7CJwS9QLejZWVlALBw4cL+/n6ud29vb2pqqk6nAwD+I+HhgXjwath7bNv1Eb/qlHb/pa/Ypw/9iEh/Qjgcjvj4eG4PKj09PSUlBQAKCgry8/MBoKGhwS/Jw79k+KcKYePKtevRpl0UDrjQT36NHzuDVt1ut1ssljl3ruzs7Pr6eq/XazQab5HR09Pjn2b16tV5eXl+0+fzJScnb9iwge8JS7vuLx/TgZibu+f0edyYeojieDwejUaj1WrHxsb802zbtk2n0zkcDs5z/Phx/odSf7ewNF7eGXA3In5V84cnvwjLqqa8aaS/ZEy5aK7Yqamp/Kjb7V60aNHy5cs7OjpaW1uNRmN2dnbYN6b8K+w+OVTyuyO6rPu7lvNXt7zwet/loVF/n0hoyBKIxsZGACguLhYoeOHCBYvFEhMTM3fu3HXr1g0PDws6hN384srX+lXNkNGkX9V845uJsK9HvABZAlFeXg4A1dXV4nwi32N4/C3IaDI8/lZkLlWWQOTl5QFAZ2dnZGpKXxUCQddHdVEEQnUlpyeMQND1UV0UgVBdyekJIxB0fVQXRSBUV3J6wggEXR/VRREI1ZWcnjACQddHdVEEQnUlpyeMQND1UV0UgVBdyekJIxB0fVQXRSBUV3J6wggEXR/VRREI1ZWcnjACQddHdVEEQnUlpyeMQND1UV0UgVBdyekJIxB0fVQXRSBUV3J6wggEXR/VRREI1ZWcnjACQddHdVEEQnUlpyeMQND1UV0UgVBdyekJIxB0fVQXRSBUV3J6wggEXR/VRREI1ZWcnjACQddHdVEEQnUlpyeMQND1UV0UgVBdyekJIxB0fVQXRSBUV3J6wggEXR9VRCcmJs98cnX3ofPP1nw4+we3/xb67BW7Xqw7cejIp5eHRv1HfkSCFrL8O5WRIFyQaxh0era80Td/dQvl759nrW1revvc2NcRca4rAhFkZZm7XXPfePrF97WZ909upTABGU3zVu758z775OTdA4KY7xeiAQhEiIQkp3nn/c+49wp0CMTRx57+26XLdw+rJaeUyEIgQi/0q3secHKrmAO+J35V838+doV+WcHNiEAEp1PQvR6SBo6MuSv32M6G5xRaBCLoUgfRsfPYIP93/WHaCXl7r1y7HsQ9Q9wFgQiZoFfdNxIfu330Af2n78ywY2i078wwvRtkNP3i+aMhW1zQE8kJCJfLVVlZmZycHB0dnZSUVF5ePjo6yp0AXltbG3TKM9Xxl3849sAaQ0aT484ROo6h0WA6tx2+NFPLDTCvbICw2WwJCQkAEBMTk5WVtWDBAgCwWCy5ubkA0NXVFSBBidwXHSOaZQ94NnAEMAHx6NqDEm9byQMIl8vFnfm8efPmkZG7n8pqamq44xs1Go3b7Zao8gFu8/yrvcH8xrM+ISCjSeIj2uQBRElJCQBs2rRJUI7MzEwAMBqNAr/E5s2bk/of0fYi+awwPSEgo6l0yzEp05EBEHa7XavV6vV6j8cjkIZ7A7FmzRrO73A4rFbrihUrZs2aBSBdav+1u/glp7dZgVicv0+Q9Yya0qk27TS2bt0KABUVFeIZrFbrrcJXVVVxoaNHjyYkJBQWFprNZimBaDxwjg4BP8oKBGQ0ua5K9/lTBkBw1W1vbxcDUVRUxD+t1X9KZ1VVlZRAPPPSB/yS09vTAOK9D+6eTitWIOQeGQDBvZ202WyC5MfHx/V6PQAMDAwIQtMDwmQyGaZ1zV76rBgCbr/BMTQq+BmfmPT5fOMTkwK/3xRvUcQZfzqtdd0dZDKZBPpQTBkAERcXBwDd3d2CNFpaWgAgNjZW/MFsekAYDAaY3rXoGTEQ3JNAsOZgzCm2KOatnN66uFEGgyGY+3J9ZABEWloaANTV1fGzcjqdiYmJAGA2m/l+rj09IB7iCVEhBiKkT4h8fELcr3JZWRkALFy4sL+/n/P29vampqbqdDoAsFqt97vea00PiHujmf+tfKVHDEQgzzTeQ3SfHGJe03QHyOAJ4XA44uPjuT2o9PT0lJQUACgoKMjPzweAhoYGce4SA7Hv7wOByi/2swKhzdwh5ZepZACEz+ez2+0Wi2XOnSs7O7u+vt7r9RqNxltk9PT0hB2ITwbd4sIH8rACkf7zt8UJzpxHHkCI8/d4PBqNRqvVjo2NiaMSPyG8Xm9a0YFABAj8rED8/rVecYIz55ErEMePHweA1NRUgTStd661a9cCANfu6+sT9JkJ8429ZwSFD2QyAaFZ1iTxN+rkCkRjYyMAFBcXC6or/nhWWloq6DMT5lcj38RkvxkIAr6fCQiL9b2ZWC1lTrkCUV5eDgDV1dWU3CQOvbzzFL/wgdrBAzFr+c7T57+UOAu5ApGXlwcAnZ2dEutFud3ExGTOukOBOPD7gweiukG4OUu5e6hCcgUiVPmHdp6zF699J3e3v/ZTNoL8Cp35qY7x8dub3BJfCESIBe868fm3VwT1ZmJKXDhn5pMHr7pvhHhlwU2HQASnE0uv7pND3/1hM6Xe9NDK9X8NFw0+nw+BYCl10H2dw2NPlP2DXnhxVJe186V6282bYXil8GeGQPilCHHD6/Xu7bzwvSdaxYUXezTLmgp+8+5H/VJ/phDnjECINQmlx+v1Hun5X/FzhwP9B/ClP2t9bnvPhc/C/CVhf84IhF+KmW14vV7H56OHjny6s62/vvXsm+3n/9XndHu+mdm7ss+OQLBrpugRCISiy8ueHALBrpmiRyAQii4ve3IIBLtmih6BQCi6vOzJIRDsmil6BAKh6PKyJ4dAsGum6BEIhKLLy54cAsGumaJHIBCKLi97cggEu2aKHoFAKLq87MkhEOyaKXoEAqHo8rInh0Cwa6boEQiEosvLnhwCwa6ZokcgEIouL3tyCAS7ZooegUAourzsySEQ7JopegQCoejysieHQLBrpugRCISiy8ueHALBrpmiRyAQii4ve3IIBLtmih6BQCi6vOzJIRDsmil6BAKh6PKyJ/d/UCcbGBl77n4AAAAASUVORK5CYII=)"
   ]
  },
  {
   "cell_type": "markdown",
   "metadata": {},
   "source": [
    "### Part D Solution (TODO)\n",
    "<!-- Type your answer in this cell below this comment. -->\n",
    "The restriction comes from the linearity of quantum mechanics.\n"
   ]
  }
 ],
 "metadata": {
  "language_info": {
   "name": "python"
  }
 },
 "nbformat": 4,
 "nbformat_minor": 2
}

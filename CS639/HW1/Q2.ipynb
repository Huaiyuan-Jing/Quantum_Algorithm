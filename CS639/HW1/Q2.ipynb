{
 "cells": [
  {
   "cell_type": "markdown",
   "metadata": {},
   "source": [
    "### Part A Solution (TODO)\n",
    "\n",
    "$$\n",
    "|\\psi\\rangle = \\left(\\frac{1}{2}|0\\rangle + \\frac{i}{2}|1\\rangle\\right) \\otimes (|0\\rangle - i|1\\rangle)\n",
    "$$"
   ]
  },
  {
   "cell_type": "markdown",
   "metadata": {},
   "source": [
    "### Part B Solution (TODO)\n",
    "\n",
    "The state is entangled, because the final state is \n",
    "$$\n",
    "|\\phi\\rangle = \\frac{1}{\\sqrt{2}}(|000\\rangle + |101\\rangle)\n",
    "$$\n",
    "\n",
    "In this case, the possibility of the two states are $\\frac{1}{2}$. If the state is separable, there should be 8 possibilities. So the state is entangled."
   ]
  },
  {
   "cell_type": "markdown",
   "metadata": {},
   "source": [
    "### Part C Solution (TODO)\n"
   ]
  },
  {
   "cell_type": "code",
   "execution_count": null,
   "metadata": {},
   "outputs": [
    {
     "data": {
      "image/png": "[encoded data removed]",
      "text/plain": [
       "<Figure size 370.906x200.667 with 1 Axes>"
      ]
     },
     "metadata": {},
     "output_type": "display_data"
    }
   ],
   "source": [
    "from qiskit import QuantumCircuit\n",
    "qc = QuantumCircuit(2)\n",
    "qc.h(0)\n",
    "qc.cx(0, 1)\n",
    "qc.h(0)\n",
    "qc.draw(\"mpl\")"
   ]
  }
 ],
 "metadata": {
  "language_info": {
   "name": "python"
  }
 },
 "nbformat": 4,
 "nbformat_minor": 2
}

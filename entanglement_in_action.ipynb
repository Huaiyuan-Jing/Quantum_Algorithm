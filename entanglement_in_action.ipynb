{
 "cells": [
  {
   "cell_type": "code",
   "execution_count": 1,
   "metadata": {},
   "outputs": [
    {
     "ename": "ModuleNotFoundError",
     "evalue": "No module named 'qiskit_aer'",
     "output_type": "error",
     "traceback": [
      "\u001b[0;31m---------------------------------------------------------------------------\u001b[0m",
      "\u001b[0;31mModuleNotFoundError\u001b[0m                       Traceback (most recent call last)",
      "Cell \u001b[0;32mIn[1], line 4\u001b[0m\n\u001b[1;32m      1\u001b[0m \u001b[38;5;66;03m# Required imports\u001b[39;00m\n\u001b[1;32m      3\u001b[0m \u001b[38;5;28;01mfrom\u001b[39;00m \u001b[38;5;21;01mqiskit\u001b[39;00m \u001b[38;5;28;01mimport\u001b[39;00m QuantumCircuit, QuantumRegister, ClassicalRegister\n\u001b[0;32m----> 4\u001b[0m \u001b[38;5;28;01mfrom\u001b[39;00m \u001b[38;5;21;01mqiskit_aer\u001b[39;00m \u001b[38;5;28;01mimport\u001b[39;00m AerSimulator\n\u001b[1;32m      5\u001b[0m \u001b[38;5;28;01mfrom\u001b[39;00m \u001b[38;5;21;01mqiskit\u001b[39;00m\u001b[38;5;21;01m.\u001b[39;00m\u001b[38;5;21;01mvisualization\u001b[39;00m \u001b[38;5;28;01mimport\u001b[39;00m plot_histogram\n\u001b[1;32m      6\u001b[0m \u001b[38;5;28;01mfrom\u001b[39;00m \u001b[38;5;21;01mqiskit\u001b[39;00m\u001b[38;5;21;01m.\u001b[39;00m\u001b[38;5;21;01mresult\u001b[39;00m \u001b[38;5;28;01mimport\u001b[39;00m marginal_distribution\n",
      "\u001b[0;31mModuleNotFoundError\u001b[0m: No module named 'qiskit_aer'"
     ]
    }
   ],
   "source": [
    "# Required imports\n",
    "\n",
    "from qiskit import QuantumCircuit, QuantumRegister, ClassicalRegister\n",
    "from qiskit_aer import AerSimulator\n",
    "from qiskit.visualization import plot_histogram\n",
    "from qiskit.result import marginal_distribution\n",
    "from qiskit.circuit.library import UGate\n",
    "from numpy import pi, random"
   ]
  },
  {
   "cell_type": "code",
   "execution_count": 2,
   "metadata": {},
   "outputs": [
    {
     "data": {
      "text/html": [
       "<pre style=\"word-wrap: normal;white-space: pre;background: #fff0;line-height: 1.1;font-family: &quot;Courier New&quot;,Courier,monospace\">                ░      ┌───┐ ░    ┌─┐ ░                                     »\n",
       "  Q: ───────────░───■──┤ H ├─░────┤M├─░─────────────────────────────────────»\n",
       "     ┌───┐      ░ ┌─┴─┐└───┘ ░ ┌─┐└╥┘ ░                                     »\n",
       "  A: ┤ H ├──■───░─┤ X ├──────░─┤M├─╫──░─────────────────────────────────────»\n",
       "     └───┘┌─┴─┐ ░ └───┘      ░ └╥┘ ║  ░ ┌────── ┌───┐ ───────┐ ┌────── ┌───┐»\n",
       "  B: ─────┤ X ├─░────────────░──╫──╫──░─┤ If-0  ┤ X ├  End-0 ├─┤ If-0  ┤ Z ├»\n",
       "          └───┘ ░            ░  ║  ║  ░ └──╥─── └───┘ ───────┘ └──╥─── └───┘»\n",
       "                                ║  ║    ┌──╨──┐                   ║         »\n",
       "a: 1/═══════════════════════════╩══╬════╡ 0x1 ╞═══════════════════╬═════════»\n",
       "                                0  ║    └─────┘                ┌──╨──┐      »\n",
       "b: 1/══════════════════════════════╩═══════════════════════════╡ 0x1 ╞══════»\n",
       "                                   0                           └─────┘      »\n",
       "«               \n",
       "«  Q: ──────────\n",
       "«               \n",
       "«  A: ──────────\n",
       "«      ───────┐ \n",
       "«  B:   End-0 ├─\n",
       "«      ───────┘ \n",
       "«a: 1/══════════\n",
       "«               \n",
       "«b: 1/══════════\n",
       "«               </pre>"
      ],
      "text/plain": [
       "                ░      ┌───┐ ░    ┌─┐ ░                                     »\n",
       "  Q: ───────────░───■──┤ H ├─░────┤M├─░─────────────────────────────────────»\n",
       "     ┌───┐      ░ ┌─┴─┐└───┘ ░ ┌─┐└╥┘ ░                                     »\n",
       "  A: ┤ H ├──■───░─┤ X ├──────░─┤M├─╫──░─────────────────────────────────────»\n",
       "     └───┘┌─┴─┐ ░ └───┘      ░ └╥┘ ║  ░ ┌────── ┌───┐ ───────┐ ┌────── ┌───┐»\n",
       "  B: ─────┤ X ├─░────────────░──╫──╫──░─┤ If-0  ┤ X ├  End-0 ├─┤ If-0  ┤ Z ├»\n",
       "          └───┘ ░            ░  ║  ║  ░ └──╥─── └───┘ ───────┘ └──╥─── └───┘»\n",
       "                                ║  ║    ┌──╨──┐                   ║         »\n",
       "a: 1/═══════════════════════════╩══╬════╡ 0x1 ╞═══════════════════╬═════════»\n",
       "                                0  ║    └─────┘                ┌──╨──┐      »\n",
       "b: 1/══════════════════════════════╩═══════════════════════════╡ 0x1 ╞══════»\n",
       "                                   0                           └─────┘      »\n",
       "«               \n",
       "«  Q: ──────────\n",
       "«               \n",
       "«  A: ──────────\n",
       "«      ───────┐ \n",
       "«  B:   End-0 ├─\n",
       "«      ───────┘ \n",
       "«a: 1/══════════\n",
       "«               \n",
       "«b: 1/══════════\n",
       "«               "
      ]
     },
     "metadata": {},
     "output_type": "display_data"
    }
   ],
   "source": [
    "qubit = QuantumRegister(1, \"Q\")\n",
    "ebit0 = QuantumRegister(1, \"A\")\n",
    "ebit1 = QuantumRegister(1, \"B\")\n",
    "a = ClassicalRegister(1, \"a\")\n",
    "b = ClassicalRegister(1, \"b\")\n",
    "\n",
    "protocol = QuantumCircuit(qubit, ebit0, ebit1, a, b)\n",
    "\n",
    "# Prepare ebit used for teleportation\n",
    "protocol.h(ebit0)\n",
    "protocol.cx(ebit0, ebit1)\n",
    "protocol.barrier() \n",
    "\n",
    "# Alice's operations\n",
    "protocol.cx(qubit, ebit0)\n",
    "protocol.h(qubit)\n",
    "protocol.barrier()\n",
    "\n",
    "# Alice measures and sends classical bits to Bob\n",
    "protocol.measure(ebit0, a)\n",
    "protocol.measure(qubit, b)\n",
    "protocol.barrier()\n",
    "\n",
    "# Bob uses the classical bits to conditionally apply gates\n",
    "with protocol.if_test((a, 1)):\n",
    "    protocol.x(ebit1)\n",
    "with protocol.if_test((b, 1)):\n",
    "    protocol.z(ebit1)\n",
    "\n",
    "display(protocol.draw())"
   ]
  },
  {
   "cell_type": "code",
   "execution_count": 3,
   "metadata": {},
   "outputs": [
    {
     "data": {
      "text/plain": [
       "array([[ 0.15240552+0.j        , -0.71554375+0.68174019j],\n",
       "       [-0.86021888+0.48661692j, -0.04427778+0.14583183j]])"
      ]
     },
     "metadata": {},
     "output_type": "display_data"
    }
   ],
   "source": [
    "random_gate = UGate(\n",
    "    theta=random.random() * 2 * pi,\n",
    "    phi=random.random() * 2 * pi,\n",
    "    lam=random.random() * 2 * pi,\n",
    ")\n",
    "\n",
    "display(random_gate.to_matrix())"
   ]
  },
  {
   "cell_type": "code",
   "execution_count": 4,
   "metadata": {},
   "outputs": [
    {
     "data": {
      "text/html": [
       "<pre style=\"word-wrap: normal;white-space: pre;background: #fff0;line-height: 1.1;font-family: &quot;Courier New&quot;,Courier,monospace\">          ┌────────────────────────┐ ░            ░      ┌───┐ ░    ┌─┐ ░ »\n",
       "       Q: ┤ U(2.8356,2.6268,5.522) ├─░────────────░───■──┤ H ├─░────┤M├─░─»\n",
       "          └────────────────────────┘ ░ ┌───┐      ░ ┌─┴─┐└───┘ ░ ┌─┐└╥┘ ░ »\n",
       "       A: ───────────────────────────░─┤ H ├──■───░─┤ X ├──────░─┤M├─╫──░─»\n",
       "                                     ░ └───┘┌─┴─┐ ░ └───┘      ░ └╥┘ ║  ░ »\n",
       "       B: ───────────────────────────░──────┤ X ├─░────────────░──╫──╫──░─»\n",
       "                                     ░      └───┘ ░            ░  ║  ║  ░ »\n",
       "     a: 1/════════════════════════════════════════════════════════╩══╬════»\n",
       "                                                                  0  ║    »\n",
       "     b: 1/═══════════════════════════════════════════════════════════╩════»\n",
       "                                                                     0    »\n",
       "Result: 1/════════════════════════════════════════════════════════════════»\n",
       "                                                                          »\n",
       "«                                                         ░ »\n",
       "«       Q: ───────────────────────────────────────────────░─»\n",
       "«                                                         ░ »\n",
       "«       A: ───────────────────────────────────────────────░─»\n",
       "«          ┌────── ┌───┐ ───────┐ ┌────── ┌───┐ ───────┐  ░ »\n",
       "«       B: ┤ If-0  ┤ X ├  End-0 ├─┤ If-0  ┤ Z ├  End-0 ├──░─»\n",
       "«          └──╥─── └───┘ ───────┘ └──╥─── └───┘ ───────┘  ░ »\n",
       "«          ┌──╨──┐                   ║                      »\n",
       "«     a: 1/╡ 0x1 ╞═══════════════════╬══════════════════════»\n",
       "«          └─────┘                ┌──╨──┐                   »\n",
       "«     b: 1/═══════════════════════╡ 0x1 ╞═══════════════════»\n",
       "«                                 └─────┘                   »\n",
       "«Result: 1/═════════════════════════════════════════════════»\n",
       "«                                                           »\n",
       "«                                          \n",
       "«       Q: ────────────────────────────────\n",
       "«                                          \n",
       "«       A: ────────────────────────────────\n",
       "«          ┌───────────────────────────┐┌─┐\n",
       "«       B: ┤ U(-2.8356,-5.522,-2.6268) ├┤M├\n",
       "«          └───────────────────────────┘└╥┘\n",
       "«     a: 1/══════════════════════════════╬═\n",
       "«                                        ║ \n",
       "«     b: 1/══════════════════════════════╬═\n",
       "«                                        ║ \n",
       "«Result: 1/══════════════════════════════╩═\n",
       "«                                        0 </pre>"
      ],
      "text/plain": [
       "          ┌────────────────────────┐ ░            ░      ┌───┐ ░    ┌─┐ ░ »\n",
       "       Q: ┤ U(2.8356,2.6268,5.522) ├─░────────────░───■──┤ H ├─░────┤M├─░─»\n",
       "          └────────────────────────┘ ░ ┌───┐      ░ ┌─┴─┐└───┘ ░ ┌─┐└╥┘ ░ »\n",
       "       A: ───────────────────────────░─┤ H ├──■───░─┤ X ├──────░─┤M├─╫──░─»\n",
       "                                     ░ └───┘┌─┴─┐ ░ └───┘      ░ └╥┘ ║  ░ »\n",
       "       B: ───────────────────────────░──────┤ X ├─░────────────░──╫──╫──░─»\n",
       "                                     ░      └───┘ ░            ░  ║  ║  ░ »\n",
       "     a: 1/════════════════════════════════════════════════════════╩══╬════»\n",
       "                                                                  0  ║    »\n",
       "     b: 1/═══════════════════════════════════════════════════════════╩════»\n",
       "                                                                     0    »\n",
       "Result: 1/════════════════════════════════════════════════════════════════»\n",
       "                                                                          »\n",
       "«                                                         ░ »\n",
       "«       Q: ───────────────────────────────────────────────░─»\n",
       "«                                                         ░ »\n",
       "«       A: ───────────────────────────────────────────────░─»\n",
       "«          ┌────── ┌───┐ ───────┐ ┌────── ┌───┐ ───────┐  ░ »\n",
       "«       B: ┤ If-0  ┤ X ├  End-0 ├─┤ If-0  ┤ Z ├  End-0 ├──░─»\n",
       "«          └──╥─── └───┘ ───────┘ └──╥─── └───┘ ───────┘  ░ »\n",
       "«          ┌──╨──┐                   ║                      »\n",
       "«     a: 1/╡ 0x1 ╞═══════════════════╬══════════════════════»\n",
       "«          └─────┘                ┌──╨──┐                   »\n",
       "«     b: 1/═══════════════════════╡ 0x1 ╞═══════════════════»\n",
       "«                                 └─────┘                   »\n",
       "«Result: 1/═════════════════════════════════════════════════»\n",
       "«                                                           »\n",
       "«                                          \n",
       "«       Q: ────────────────────────────────\n",
       "«                                          \n",
       "«       A: ────────────────────────────────\n",
       "«          ┌───────────────────────────┐┌─┐\n",
       "«       B: ┤ U(-2.8356,-5.522,-2.6268) ├┤M├\n",
       "«          └───────────────────────────┘└╥┘\n",
       "«     a: 1/══════════════════════════════╬═\n",
       "«                                        ║ \n",
       "«     b: 1/══════════════════════════════╬═\n",
       "«                                        ║ \n",
       "«Result: 1/══════════════════════════════╩═\n",
       "«                                        0 "
      ]
     },
     "metadata": {},
     "output_type": "display_data"
    }
   ],
   "source": [
    "# Create a new circuit including the same bits and qubits used in the\n",
    "# teleportation protocol.\n",
    "\n",
    "test = QuantumCircuit(qubit, ebit0, ebit1, a, b)\n",
    "\n",
    "# Start with the randomly selected gate on Q\n",
    "\n",
    "test.append(random_gate, qubit)\n",
    "test.barrier()\n",
    "\n",
    "# Append the entire teleportation protocol from above.\n",
    "\n",
    "test = test.compose(protocol)\n",
    "test.barrier()\n",
    "\n",
    "# Finally, apply the inverse of the random unitary to B and measure.\n",
    "\n",
    "test.append(random_gate.inverse(), ebit1)\n",
    "\n",
    "result = ClassicalRegister(1, \"Result\")\n",
    "test.add_register(result)\n",
    "test.measure(ebit1, result)\n",
    "\n",
    "display(test.draw())"
   ]
  },
  {
   "cell_type": "code",
   "execution_count": 5,
   "metadata": {},
   "outputs": [
    {
     "data": {
      "image/png": "[encoded data removed]",
      "text/plain": [
       "<Figure size 700x500 with 1 Axes>"
      ]
     },
     "metadata": {},
     "output_type": "display_data"
    }
   ],
   "source": [
    "result = AerSimulator().run(test).result()\n",
    "statistics = result.get_counts()\n",
    "display(plot_histogram(statistics))"
   ]
  },
  {
   "cell_type": "code",
   "execution_count": 6,
   "metadata": {},
   "outputs": [
    {
     "data": {
      "image/png": "[encoded data removed]",
      "text/plain": [
       "<Figure size 700x500 with 1 Axes>"
      ]
     },
     "metadata": {},
     "output_type": "display_data"
    }
   ],
   "source": [
    "filtered_statistics = marginal_distribution(statistics, [2])\n",
    "display(plot_histogram(filtered_statistics))"
   ]
  },
  {
   "cell_type": "code",
   "execution_count": 7,
   "metadata": {},
   "outputs": [],
   "source": [
    "# Required imports\n",
    "\n",
    "from qiskit import QuantumCircuit, QuantumRegister, ClassicalRegister\n",
    "from qiskit_aer.primitives import Sampler\n",
    "from qiskit_aer import AerSimulator\n",
    "from qiskit.visualization import plot_histogram"
   ]
  },
  {
   "cell_type": "code",
   "execution_count": 8,
   "metadata": {},
   "outputs": [
    {
     "data": {
      "text/html": [
       "<pre style=\"word-wrap: normal;white-space: pre;background: #fff0;line-height: 1.1;font-family: &quot;Courier New&quot;,Courier,monospace\">              ┌───┐ ░                  ░                                     »\n",
       "      A: ─────┤ X ├─░──────────────────░─────────────────────────────────────»\n",
       "         ┌───┐└─┬─┘ ░                  ░ ┌────── ┌───┐ ───────┐ ┌────── ┌───┐»\n",
       "      B: ┤ H ├──■───░──────────────────░─┤ If-0  ┤ Z ├  End-0 ├─┤ If-0  ┤ X ├»\n",
       "         └───┘      ░ ┌───┐┌─┐┌───┐┌─┐ ░ └──╥─── └───┘ ───────┘ └──╥─── └───┘»\n",
       " Random: ───────────░─┤ H ├┤M├┤ H ├┤M├─░────╫──────────────────────╫─────────»\n",
       "                    ░ └───┘└╥┘└───┘└╥┘ ░    ║                   ┌──╨──┐      »\n",
       "    c: 1/═══════════════════╩═══════╬═══════╬═══════════════════╡ 0x1 ╞══════»\n",
       "                            0       ║    ┌──╨──┐                └─────┘      »\n",
       "    d: 1/═══════════════════════════╩════╡ 0x1 ╞═════════════════════════════»\n",
       "                                    0    └─────┘                             »\n",
       "res_c: 1/════════════════════════════════════════════════════════════════════»\n",
       "                                                                             »\n",
       "res_d: 1/════════════════════════════════════════════════════════════════════»\n",
       "                                                                             »\n",
       "«                    ░ ┌───┐      ░    ┌─┐\n",
       "«      A: ───────────░─┤ X ├──────░────┤M├\n",
       "«          ───────┐  ░ └─┬─┘┌───┐ ░ ┌─┐└╥┘\n",
       "«      B:   End-0 ├──░───■──┤ H ├─░─┤M├─╫─\n",
       "«          ───────┘  ░      └───┘ ░ └╥┘ ║ \n",
       "« Random: ───────────░────────────░──╫──╫─\n",
       "«                    ░            ░  ║  ║ \n",
       "«    c: 1/═══════════════════════════╬══╬═\n",
       "«                                    ║  ║ \n",
       "«    d: 1/═══════════════════════════╬══╬═\n",
       "«                                    ║  ║ \n",
       "«res_c: 1/═══════════════════════════╬══╩═\n",
       "«                                    ║  0 \n",
       "«res_d: 1/═══════════════════════════╩════\n",
       "«                                    0    </pre>"
      ],
      "text/plain": [
       "              ┌───┐ ░                  ░                                     »\n",
       "      A: ─────┤ X ├─░──────────────────░─────────────────────────────────────»\n",
       "         ┌───┐└─┬─┘ ░                  ░ ┌────── ┌───┐ ───────┐ ┌────── ┌───┐»\n",
       "      B: ┤ H ├──■───░──────────────────░─┤ If-0  ┤ Z ├  End-0 ├─┤ If-0  ┤ X ├»\n",
       "         └───┘      ░ ┌───┐┌─┐┌───┐┌─┐ ░ └──╥─── └───┘ ───────┘ └──╥─── └───┘»\n",
       " Random: ───────────░─┤ H ├┤M├┤ H ├┤M├─░────╫──────────────────────╫─────────»\n",
       "                    ░ └───┘└╥┘└───┘└╥┘ ░    ║                   ┌──╨──┐      »\n",
       "    c: 1/═══════════════════╩═══════╬═══════╬═══════════════════╡ 0x1 ╞══════»\n",
       "                            0       ║    ┌──╨──┐                └─────┘      »\n",
       "    d: 1/═══════════════════════════╩════╡ 0x1 ╞═════════════════════════════»\n",
       "                                    0    └─────┘                             »\n",
       "res_c: 1/════════════════════════════════════════════════════════════════════»\n",
       "                                                                             »\n",
       "res_d: 1/════════════════════════════════════════════════════════════════════»\n",
       "                                                                             »\n",
       "«                    ░ ┌───┐      ░    ┌─┐\n",
       "«      A: ───────────░─┤ X ├──────░────┤M├\n",
       "«          ───────┐  ░ └─┬─┘┌───┐ ░ ┌─┐└╥┘\n",
       "«      B:   End-0 ├──░───■──┤ H ├─░─┤M├─╫─\n",
       "«          ───────┘  ░      └───┘ ░ └╥┘ ║ \n",
       "« Random: ───────────░────────────░──╫──╫─\n",
       "«                    ░            ░  ║  ║ \n",
       "«    c: 1/═══════════════════════════╬══╬═\n",
       "«                                    ║  ║ \n",
       "«    d: 1/═══════════════════════════╬══╬═\n",
       "«                                    ║  ║ \n",
       "«res_c: 1/═══════════════════════════╬══╩═\n",
       "«                                    ║  0 \n",
       "«res_d: 1/═══════════════════════════╩════\n",
       "«                                    0    "
      ]
     },
     "metadata": {},
     "output_type": "display_data"
    }
   ],
   "source": [
    "c = ClassicalRegister(1, \"c\")\n",
    "d = ClassicalRegister(1, \"d\")\n",
    "ebit0 = QuantumRegister(1, \"A\")\n",
    "ebit1 = QuantumRegister(1, \"B\")\n",
    "result_c = ClassicalRegister(1, \"res_c\")\n",
    "result_d = ClassicalRegister(1, \"res_d\")\n",
    "randomizer = QuantumRegister(1, \"Random\")\n",
    "\n",
    "superdense_coding = QuantumCircuit(ebit0, ebit1, c, d, result_c, result_d, randomizer)\n",
    "\n",
    "superdense_coding.h(ebit1)\n",
    "superdense_coding.cx(ebit1, ebit0)\n",
    "superdense_coding.barrier()\n",
    "\n",
    "superdense_coding.h(randomizer)\n",
    "superdense_coding.measure(randomizer, c)\n",
    "superdense_coding.h(randomizer)\n",
    "superdense_coding.measure(randomizer, d)\n",
    "superdense_coding.barrier()\n",
    "\n",
    "with superdense_coding.if_test((d, 1)):\n",
    "    superdense_coding.z(ebit1)\n",
    "with superdense_coding.if_test((c, 1)):\n",
    "    superdense_coding.x(ebit1)\n",
    "superdense_coding.barrier()\n",
    "\n",
    "superdense_coding.cx(ebit1, ebit0)\n",
    "superdense_coding.h(ebit1)\n",
    "superdense_coding.barrier()\n",
    "\n",
    "superdense_coding.measure(ebit1, result_d)\n",
    "superdense_coding.measure(ebit0, result_c)\n",
    "\n",
    "display(superdense_coding.draw())"
   ]
  },
  {
   "cell_type": "code",
   "execution_count": 15,
   "metadata": {},
   "outputs": [
    {
     "data": {
      "image/png": "[encoded data removed]",
      "text/plain": [
       "<Figure size 700x500 with 1 Axes>"
      ]
     },
     "metadata": {},
     "output_type": "display_data"
    },
    {
     "ename": "",
     "evalue": "",
     "output_type": "error",
     "traceback": [
      "\u001b[1;31m在当前单元格或上一个单元格中执行代码时 Kernel 崩溃。\n",
      "\u001b[1;31m请查看单元格中的代码，以确定故障的可能原因。\n",
      "\u001b[1;31m单击<a href='https://aka.ms/vscodeJupyterKernelCrash'>此处</a>了解详细信息。\n",
      "\u001b[1;31m有关更多详细信息，请查看 Jupyter <a href='command:jupyter.viewOutput'>log</a>。"
     ]
    }
   ],
   "source": [
    "result = AerSimulator().run(superdense_coding).result()\n",
    "statistics = result.get_counts()\n",
    "display(plot_histogram(statistics))"
   ]
  }
 ],
 "metadata": {
  "kernelspec": {
   "display_name": ".venv",
   "language": "python",
   "name": "python3"
  },
  "language_info": {
   "codemirror_mode": {
    "name": "ipython",
    "version": 3
   },
   "file_extension": ".py",
   "mimetype": "text/x-python",
   "name": "python",
   "nbconvert_exporter": "python",
   "pygments_lexer": "ipython3",
   "version": "3.10.12"
  }
 },
 "nbformat": 4,
 "nbformat_minor": 2
}

{
 "cells": [
  {
   "cell_type": "code",
   "execution_count": 5,
   "metadata": {},
   "outputs": [
    {
     "data": {
      "text/plain": [
       "<tf.Tensor: shape=(4, 4), dtype=complex64, numpy=\n",
       "array([[0.+0.j, 1.+0.j, 0.+0.j, 0.+0.j],\n",
       "       [1.+0.j, 0.+0.j, 0.+0.j, 0.+0.j],\n",
       "       [0.+0.j, 0.+0.j, 0.+0.j, 1.+0.j],\n",
       "       [0.+0.j, 0.+0.j, 1.+0.j, 0.+0.j]], dtype=complex64)>"
      ]
     },
     "execution_count": 5,
     "metadata": {},
     "output_type": "execute_result"
    }
   ],
   "source": [
    "import tensorcircuit as tc\n",
    "n = 2\n",
    "c = tc.Circuit(n, inputs=tc.backend.eye(2**n))\n",
    "c.X(1)\n",
    "tc.backend.reshapem(c.state())"
   ]
  },
  {
   "cell_type": "code",
   "execution_count": 6,
   "metadata": {},
   "outputs": [
    {
     "data": {
      "image/png": "[encoded data removed]",
      "text/plain": [
       "<Figure size 203.683x200.667 with 1 Axes>"
      ]
     },
     "execution_count": 6,
     "metadata": {},
     "output_type": "execute_result"
    }
   ],
   "source": [
    "c.draw(output='mpl')"
   ]
  },
  {
   "cell_type": "code",
   "execution_count": 7,
   "metadata": {},
   "outputs": [
    {
     "name": "stdout",
     "output_type": "stream",
     "text": [
      "(<tf.Tensor: shape=(), dtype=float32, numpy=0.92371446>, <tf.Tensor: shape=(2, 1), dtype=float32, numpy=\n",
      "array([[-0.38308167],\n",
      "       [ 0.        ]], dtype=float32)>)\n"
     ]
    }
   ],
   "source": [
    "K = tc.set_backend(\"tensorflow\")\n",
    "\n",
    "n = 1\n",
    "\n",
    "\n",
    "def loss(params, n):\n",
    "    c = tc.Circuit(n)\n",
    "    for i in range(n):\n",
    "        c.rx(i, theta=params[0, i])\n",
    "    for i in range(n):\n",
    "        c.rz(i, theta=params[1, i])\n",
    "    loss = 0.0\n",
    "    for i in range(n):\n",
    "        loss += c.expectation([tc.gates.z(), [i]])\n",
    "    return K.real(loss)\n",
    "\n",
    "\n",
    "vgf = K.jit(K.value_and_grad(loss), static_argnums=1)\n",
    "params = K.implicit_randn([2, n])\n",
    "print(vgf(params, n))  # get the quantum loss and the gradient"
   ]
  },
  {
   "cell_type": "code",
   "execution_count": 8,
   "metadata": {},
   "outputs": [
    {
     "name": "stdout",
     "output_type": "stream",
     "text": [
      "(<tf.Tensor: shape=(), dtype=float32, numpy=0.8806624>, <tf.Tensor: shape=(2, 1), dtype=float32, numpy=\n",
      "array([[-0.47374448],\n",
      "       [ 0.        ]], dtype=float32)>)\n"
     ]
    }
   ],
   "source": [
    "import tensorcircuit as tc\n",
    "import tensorflow as tf\n",
    "\n",
    "K = tc.set_backend(\"tensorflow\")\n",
    "\n",
    "n = 1\n",
    "\n",
    "\n",
    "def loss(params, n):\n",
    "    c = tc.Circuit(n)\n",
    "    for i in range(n):\n",
    "        c.rx(i, theta=params[0, i])\n",
    "    for i in range(n):\n",
    "        c.rz(i, theta=params[1, i])\n",
    "    loss = 0.0\n",
    "    for i in range(n):\n",
    "        loss += c.expectation([tc.gates.z(), [i]])\n",
    "    return tf.math.real(loss)\n",
    "\n",
    "def vgf(params, n):\n",
    "    with tf.GradientTape() as tape:\n",
    "        tape.watch(params)\n",
    "        l = loss(params, n)\n",
    "    return l, tape.gradient(l, params)\n",
    "\n",
    "vgf = tf.function(vgf)\n",
    "params = tf.random.normal([2, n])\n",
    "print(vgf(params, n))  # get the quantum loss and the gradient"
   ]
  },
  {
   "cell_type": "code",
   "execution_count": 9,
   "metadata": {},
   "outputs": [],
   "source": [
    "from functools import partial\n",
    "import inspect\n",
    "import sys\n",
    "import numpy as np\n",
    "import tensorflow as tf\n",
    "\n",
    "import tensorcircuit as tc"
   ]
  },
  {
   "cell_type": "code",
   "execution_count": 16,
   "metadata": {},
   "outputs": [
    {
     "data": {
      "image/png": "[encoded data removed]",
      "text/plain": [
       "<Figure size 287.496x869.556 with 1 Axes>"
      ]
     },
     "execution_count": 16,
     "metadata": {},
     "output_type": "execute_result"
    }
   ],
   "source": [
    "def get_circuit(n):\n",
    "    c = tc.Circuit(n)\n",
    "    for i in range(n):\n",
    "        c.H(i)\n",
    "    c.cnot(0, 1)\n",
    "    c.cnot(n - 1, n - 2)\n",
    "    return c\n",
    "\n",
    "c = get_circuit(10)\n",
    "c.draw(output='mpl')"
   ]
  },
  {
   "cell_type": "code",
   "execution_count": 18,
   "metadata": {},
   "outputs": [
    {
     "data": {
      "text/plain": [
       "<tf.Tensor: shape=(1024,), dtype=complex64, numpy=\n",
       "array([0.03124999+0.j, 0.03124999+0.j, 0.03124999+0.j, ...,\n",
       "       0.03124999+0.j, 0.03124999+0.j, 0.03124999+0.j], dtype=complex64)>"
      ]
     },
     "execution_count": 18,
     "metadata": {},
     "output_type": "execute_result"
    }
   ],
   "source": [
    "c.state()"
   ]
  },
  {
   "cell_type": "code",
   "execution_count": 19,
   "metadata": {},
   "outputs": [
    {
     "ename": "AttributeError",
     "evalue": "module 'qiskit' has no attribute 'random_unitary'",
     "output_type": "error",
     "traceback": [
      "\u001b[0;31m---------------------------------------------------------------------------\u001b[0m",
      "\u001b[0;31mAttributeError\u001b[0m                            Traceback (most recent call last)",
      "Cell \u001b[0;32mIn[19], line 3\u001b[0m\n\u001b[1;32m      1\u001b[0m \u001b[38;5;28;01mimport\u001b[39;00m \u001b[38;5;21;01mqiskit\u001b[39;00m\n\u001b[0;32m----> 3\u001b[0m c \u001b[38;5;241m=\u001b[39m \u001b[43mqiskit\u001b[49m\u001b[38;5;241;43m.\u001b[39;49m\u001b[43mrandom_unitary\u001b[49m(\u001b[38;5;241m4\u001b[39m)\n\u001b[1;32m      4\u001b[0m c\n",
      "\u001b[0;31mAttributeError\u001b[0m: module 'qiskit' has no attribute 'random_unitary'"
     ]
    }
   ],
   "source": [
    "import qiskit\n",
    "\n",
    "c = qiskit.random_unitary(4)\n",
    "c"
   ]
  },
  {
   "cell_type": "code",
   "execution_count": 22,
   "metadata": {},
   "outputs": [
    {
     "data": {
      "image/png": "[encoded data removed]",
      "text/plain": [
       "<Figure size 203.683x200.667 with 1 Axes>"
      ]
     },
     "execution_count": 22,
     "metadata": {},
     "output_type": "execute_result"
    }
   ],
   "source": [
    "qc = tc.Circuit(2)\n",
    "qc.cz(0, 1)\n",
    "qc.draw(output = 'mpl')"
   ]
  }
 ],
 "metadata": {
  "kernelspec": {
   "display_name": "Python 3",
   "language": "python",
   "name": "python3"
  },
  "language_info": {
   "codemirror_mode": {
    "name": "ipython",
    "version": 3
   },
   "file_extension": ".py",
   "mimetype": "text/x-python",
   "name": "python",
   "nbconvert_exporter": "python",
   "pygments_lexer": "ipython3",
   "version": "3.10.12"
  }
 },
 "nbformat": 4,
 "nbformat_minor": 2
}

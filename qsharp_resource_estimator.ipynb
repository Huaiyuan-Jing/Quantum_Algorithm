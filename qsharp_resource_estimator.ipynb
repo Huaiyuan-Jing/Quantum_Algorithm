{
 "cells": [
  {
   "cell_type": "code",
   "execution_count": 8,
   "id": "dab86e11",
   "metadata": {},
   "outputs": [],
   "source": [
    "# !pip install --upgrade qsharp qsharp_widgets qiskit"
   ]
  },
  {
   "cell_type": "code",
   "execution_count": 9,
   "id": "2690cbd3",
   "metadata": {},
   "outputs": [],
   "source": [
    "from qiskit.circuit.library import RGQFTMultiplier \n",
    "\n",
    "def create_algorithm(bitwidth):\n",
    "    print(f\"[INFO] Create a QFT-based multiplier with bitwidth {bitwidth}\")\n",
    "\n",
    "    circ = RGQFTMultiplier(num_state_qubits=bitwidth)\n",
    "\n",
    "    return circ"
   ]
  },
  {
   "cell_type": "code",
   "execution_count": 10,
   "id": "ed5487bd",
   "metadata": {},
   "outputs": [
    {
     "name": "stdout",
     "output_type": "stream",
     "text": [
      "[INFO] Create a QFT-based multiplier with bitwidth 4\n",
      "       ┌───────────────────┐\n",
      "  a_0: ┤0                  ├\n",
      "       │                   │\n",
      "  a_1: ┤1                  ├\n",
      "       │                   │\n",
      "  a_2: ┤2                  ├\n",
      "       │                   │\n",
      "  a_3: ┤3                  ├\n",
      "       │                   │\n",
      "  b_0: ┤4                  ├\n",
      "       │                   │\n",
      "  b_1: ┤5                  ├\n",
      "       │                   │\n",
      "  b_2: ┤6                  ├\n",
      "       │                   │\n",
      "  b_3: ┤7                  ├\n",
      "       │   RGQFTMultiplier │\n",
      "out_0: ┤8                  ├\n",
      "       │                   │\n",
      "out_1: ┤9                  ├\n",
      "       │                   │\n",
      "out_2: ┤10                 ├\n",
      "       │                   │\n",
      "out_3: ┤11                 ├\n",
      "       │                   │\n",
      "out_4: ┤12                 ├\n",
      "       │                   │\n",
      "out_5: ┤13                 ├\n",
      "       │                   │\n",
      "out_6: ┤14                 ├\n",
      "       │                   │\n",
      "out_7: ┤15                 ├\n",
      "       └───────────────────┘\n"
     ]
    }
   ],
   "source": [
    "bitwidth = 4\n",
    "\n",
    "circ = create_algorithm(bitwidth)\n",
    "print(circ)"
   ]
  },
  {
   "cell_type": "code",
   "execution_count": 11,
   "id": "739780d8",
   "metadata": {},
   "outputs": [],
   "source": [
    "from qsharp.estimator import EstimatorParams\n",
    "from qsharp.interop.qiskit import estimate\n",
    "\n",
    "params = EstimatorParams()\n",
    "result = estimate(circ, params)"
   ]
  },
  {
   "cell_type": "code",
   "execution_count": 6,
   "id": "227cb015",
   "metadata": {},
   "outputs": [
    {
     "data": {
      "text/plain": [
       "{'physicalQubits': 488250,\n",
       " 'runtime': 112980000,\n",
       " 'rqops': 7500000,\n",
       " 'breakdown': {'algorithmicLogicalQubits': 45,\n",
       "  'algorithmicLogicalDepth': 18830,\n",
       "  'logicalDepth': 18830,\n",
       "  'numTstates': 30984,\n",
       "  'clockFrequency': 166666.66666666666,\n",
       "  'numTfactories': 26,\n",
       "  'numTfactoryRuns': 1192,\n",
       "  'physicalQubitsForTfactories': 468000,\n",
       "  'physicalQubitsForAlgorithm': 20250,\n",
       "  'requiredLogicalQubitErrorRate': 3.933832930115458e-10,\n",
       "  'requiredLogicalTstateErrorRate': 1.0758240812462346e-08,\n",
       "  'numTsPerRotation': 17,\n",
       "  'cliffordErrorRate': 0.001}}"
      ]
     },
     "execution_count": 6,
     "metadata": {},
     "output_type": "execute_result"
    }
   ],
   "source": [
    "from qsharp_widgets import EstimateDetails\n",
    "from qsharp_widgets import SpaceChart\n",
    "\n",
    "result.data()['physicalCounts']"
   ]
  },
  {
   "cell_type": "code",
   "execution_count": 7,
   "id": "d66b3a6b",
   "metadata": {},
   "outputs": [
    {
     "data": {
      "application/vnd.jupyter.widget-view+json": {
       "model_id": "50e0a448b01d41a08fe0a24358771a6c",
       "version_major": 2,
       "version_minor": 1
      },
      "text/plain": [
       "EstimateDetails(estimates={'status': 'success', 'jobParams': {'qecScheme': {'name': 'surface_code', 'errorCorr…"
      ]
     },
     "execution_count": 7,
     "metadata": {},
     "output_type": "execute_result"
    }
   ],
   "source": [
    "from qsharp_widgets import EstimateDetails\n",
    "EstimateDetails(result)"
   ]
  }
 ],
 "metadata": {
  "kernelspec": {
   "display_name": "Python 3",
   "language": "python",
   "name": "python3"
  },
  "language_info": {
   "codemirror_mode": {
    "name": "ipython",
    "version": 3
   },
   "file_extension": ".py",
   "mimetype": "text/x-python",
   "name": "python",
   "nbconvert_exporter": "python",
   "pygments_lexer": "ipython3",
   "version": "3.10.12"
  }
 },
 "nbformat": 4,
 "nbformat_minor": 5
}

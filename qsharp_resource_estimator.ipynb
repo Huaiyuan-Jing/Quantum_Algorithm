{
 "cells": [
  {
   "cell_type": "code",
   "execution_count": 1,
   "id": "dab86e11",
   "metadata": {},
   "outputs": [
    {
     "name": "stdout",
     "output_type": "stream",
     "text": [
      "Defaulting to user installation because normal site-packages is not writeable\n",
      "Collecting qsharp\n",
      "  Downloading qsharp-1.15.0-cp39-abi3-manylinux_2_35_x86_64.whl.metadata (2.6 kB)\n",
      "Collecting qsharp_widgets\n",
      "  Downloading qsharp_widgets-1.15.0-py2.py3-none-any.whl.metadata (1.9 kB)\n",
      "Requirement already satisfied: qiskit in /home/hyjing/.local/lib/python3.10/site-packages (1.3.1)\n",
      "Collecting qiskit\n",
      "  Using cached qiskit-2.0.0-cp39-abi3-manylinux_2_17_x86_64.manylinux2014_x86_64.whl.metadata (12 kB)\n",
      "Collecting anywidget (from qsharp_widgets)\n",
      "  Downloading anywidget-0.9.18-py3-none-any.whl.metadata (8.9 kB)\n",
      "Requirement already satisfied: rustworkx>=0.15.0 in /home/hyjing/.local/lib/python3.10/site-packages (from qiskit) (0.16.0)\n",
      "Requirement already satisfied: numpy<3,>=1.17 in /home/hyjing/.local/lib/python3.10/site-packages (from qiskit) (1.26.4)\n",
      "Requirement already satisfied: scipy>=1.5 in /home/hyjing/.local/lib/python3.10/site-packages (from qiskit) (1.15.2)\n",
      "Requirement already satisfied: sympy>=1.3 in /home/hyjing/.local/lib/python3.10/site-packages (from qiskit) (1.13.3)\n",
      "Requirement already satisfied: dill>=0.3 in /home/hyjing/.local/lib/python3.10/site-packages (from qiskit) (0.3.9)\n",
      "Requirement already satisfied: python-dateutil>=2.8.0 in /home/hyjing/.local/lib/python3.10/site-packages (from qiskit) (2.9.0.post0)\n",
      "Requirement already satisfied: stevedore>=3.0.0 in /home/hyjing/.local/lib/python3.10/site-packages (from qiskit) (5.4.1)\n",
      "Requirement already satisfied: typing-extensions in /home/hyjing/.local/lib/python3.10/site-packages (from qiskit) (4.13.1)\n",
      "Requirement already satisfied: symengine<0.14,>=0.11 in /home/hyjing/.local/lib/python3.10/site-packages (from qiskit) (0.13.0)\n",
      "Requirement already satisfied: six>=1.5 in /usr/lib/python3/dist-packages (from python-dateutil>=2.8.0->qiskit) (1.16.0)\n",
      "Requirement already satisfied: pbr>=2.0.0 in /home/hyjing/.local/lib/python3.10/site-packages (from stevedore>=3.0.0->qiskit) (6.1.1)\n",
      "Requirement already satisfied: mpmath<1.4,>=1.1.0 in /home/hyjing/.local/lib/python3.10/site-packages (from sympy>=1.3->qiskit) (1.3.0)\n",
      "Collecting ipywidgets>=7.6.0 (from anywidget->qsharp_widgets)\n",
      "  Downloading ipywidgets-8.1.6-py3-none-any.whl.metadata (2.4 kB)\n",
      "Collecting psygnal>=0.8.1 (from anywidget->qsharp_widgets)\n",
      "  Downloading psygnal-0.12.0-cp310-cp310-manylinux_2_17_x86_64.manylinux2014_x86_64.whl.metadata (7.7 kB)\n",
      "Requirement already satisfied: comm>=0.1.3 in /home/hyjing/.local/lib/python3.10/site-packages (from ipywidgets>=7.6.0->anywidget->qsharp_widgets) (0.2.2)\n",
      "Requirement already satisfied: ipython>=6.1.0 in /home/hyjing/.local/lib/python3.10/site-packages (from ipywidgets>=7.6.0->anywidget->qsharp_widgets) (8.35.0)\n",
      "Requirement already satisfied: traitlets>=4.3.1 in /home/hyjing/.local/lib/python3.10/site-packages (from ipywidgets>=7.6.0->anywidget->qsharp_widgets) (5.14.3)\n",
      "Collecting widgetsnbextension~=4.0.14 (from ipywidgets>=7.6.0->anywidget->qsharp_widgets)\n",
      "  Downloading widgetsnbextension-4.0.14-py3-none-any.whl.metadata (1.6 kB)\n",
      "Collecting jupyterlab_widgets~=3.0.14 (from ipywidgets>=7.6.0->anywidget->qsharp_widgets)\n",
      "  Downloading jupyterlab_widgets-3.0.14-py3-none-any.whl.metadata (4.1 kB)\n",
      "Requirement already satisfied: setuptools in /usr/lib/python3/dist-packages (from pbr>=2.0.0->stevedore>=3.0.0->qiskit) (59.6.0)\n",
      "Requirement already satisfied: decorator in /home/hyjing/.local/lib/python3.10/site-packages (from ipython>=6.1.0->ipywidgets>=7.6.0->anywidget->qsharp_widgets) (5.1.1)\n",
      "Requirement already satisfied: exceptiongroup in /home/hyjing/.local/lib/python3.10/site-packages (from ipython>=6.1.0->ipywidgets>=7.6.0->anywidget->qsharp_widgets) (1.2.2)\n",
      "Requirement already satisfied: jedi>=0.16 in /home/hyjing/.local/lib/python3.10/site-packages (from ipython>=6.1.0->ipywidgets>=7.6.0->anywidget->qsharp_widgets) (0.19.2)\n",
      "Requirement already satisfied: matplotlib-inline in /home/hyjing/.local/lib/python3.10/site-packages (from ipython>=6.1.0->ipywidgets>=7.6.0->anywidget->qsharp_widgets) (0.1.7)\n",
      "Requirement already satisfied: pexpect>4.3 in /home/hyjing/.local/lib/python3.10/site-packages (from ipython>=6.1.0->ipywidgets>=7.6.0->anywidget->qsharp_widgets) (4.9.0)\n",
      "Requirement already satisfied: prompt_toolkit<3.1.0,>=3.0.41 in /home/hyjing/.local/lib/python3.10/site-packages (from ipython>=6.1.0->ipywidgets>=7.6.0->anywidget->qsharp_widgets) (3.0.50)\n",
      "Requirement already satisfied: pygments>=2.4.0 in /home/hyjing/.local/lib/python3.10/site-packages (from ipython>=6.1.0->ipywidgets>=7.6.0->anywidget->qsharp_widgets) (2.19.1)\n",
      "Requirement already satisfied: stack_data in /home/hyjing/.local/lib/python3.10/site-packages (from ipython>=6.1.0->ipywidgets>=7.6.0->anywidget->qsharp_widgets) (0.6.3)\n",
      "Requirement already satisfied: parso<0.9.0,>=0.8.4 in /home/hyjing/.local/lib/python3.10/site-packages (from jedi>=0.16->ipython>=6.1.0->ipywidgets>=7.6.0->anywidget->qsharp_widgets) (0.8.4)\n",
      "Requirement already satisfied: ptyprocess>=0.5 in /home/hyjing/.local/lib/python3.10/site-packages (from pexpect>4.3->ipython>=6.1.0->ipywidgets>=7.6.0->anywidget->qsharp_widgets) (0.7.0)\n",
      "Requirement already satisfied: wcwidth in /home/hyjing/.local/lib/python3.10/site-packages (from prompt_toolkit<3.1.0,>=3.0.41->ipython>=6.1.0->ipywidgets>=7.6.0->anywidget->qsharp_widgets) (0.2.13)\n",
      "Requirement already satisfied: executing>=1.2.0 in /home/hyjing/.local/lib/python3.10/site-packages (from stack_data->ipython>=6.1.0->ipywidgets>=7.6.0->anywidget->qsharp_widgets) (2.2.0)\n",
      "Requirement already satisfied: asttokens>=2.1.0 in /home/hyjing/.local/lib/python3.10/site-packages (from stack_data->ipython>=6.1.0->ipywidgets>=7.6.0->anywidget->qsharp_widgets) (3.0.0)\n",
      "Requirement already satisfied: pure-eval in /home/hyjing/.local/lib/python3.10/site-packages (from stack_data->ipython>=6.1.0->ipywidgets>=7.6.0->anywidget->qsharp_widgets) (0.2.3)\n",
      "Downloading qsharp-1.15.0-cp39-abi3-manylinux_2_35_x86_64.whl (2.7 MB)\n",
      "\u001b[2K   \u001b[90m━━━━━━━━━━━━━━━━━━━━━━━━━━━━━━━━━━━━━━━━\u001b[0m \u001b[32m2.7/2.7 MB\u001b[0m \u001b[31m24.6 MB/s\u001b[0m eta \u001b[36m0:00:00\u001b[0m\n",
      "\u001b[?25hDownloading qsharp_widgets-1.15.0-py2.py3-none-any.whl (167 kB)\n",
      "Using cached qiskit-2.0.0-cp39-abi3-manylinux_2_17_x86_64.manylinux2014_x86_64.whl (6.5 MB)\n",
      "Downloading anywidget-0.9.18-py3-none-any.whl (220 kB)\n",
      "Downloading ipywidgets-8.1.6-py3-none-any.whl (139 kB)\n",
      "Downloading psygnal-0.12.0-cp310-cp310-manylinux_2_17_x86_64.manylinux2014_x86_64.whl (774 kB)\n",
      "\u001b[2K   \u001b[90m━━━━━━━━━━━━━━━━━━━━━━━━━━━━━━━━━━━━━━━━\u001b[0m \u001b[32m774.9/774.9 kB\u001b[0m \u001b[31m18.5 MB/s\u001b[0m eta \u001b[36m0:00:00\u001b[0m\n",
      "\u001b[?25hDownloading jupyterlab_widgets-3.0.14-py3-none-any.whl (213 kB)\n",
      "Downloading widgetsnbextension-4.0.14-py3-none-any.whl (2.2 MB)\n",
      "\u001b[2K   \u001b[90m━━━━━━━━━━━━━━━━━━━━━━━━━━━━━━━━━━━━━━━━\u001b[0m \u001b[32m2.2/2.2 MB\u001b[0m \u001b[31m24.7 MB/s\u001b[0m eta \u001b[36m0:00:00\u001b[0m\n",
      "\u001b[?25hInstalling collected packages: widgetsnbextension, qsharp, psygnal, jupyterlab_widgets, qiskit, ipywidgets, anywidget, qsharp_widgets\n",
      "  Attempting uninstall: qiskit\n",
      "    Found existing installation: qiskit 1.3.1\n",
      "    Uninstalling qiskit-1.3.1:\n",
      "      Successfully uninstalled qiskit-1.3.1\n",
      "\u001b[31mERROR: pip's dependency resolver does not currently take into account all the packages that are installed. This behaviour is the source of the following dependency conflicts.\n",
      "pytket-qiskit 0.62.0 requires qiskit~=1.3.1, but you have qiskit 2.0.0 which is incompatible.\n",
      "qokit 0.1.4 requires qiskit==1.3.1, but you have qiskit 2.0.0 which is incompatible.\u001b[0m\u001b[31m\n",
      "\u001b[0mSuccessfully installed anywidget-0.9.18 ipywidgets-8.1.6 jupyterlab_widgets-3.0.14 psygnal-0.12.0 qiskit-2.0.0 qsharp-1.15.0 qsharp_widgets-1.15.0 widgetsnbextension-4.0.14\n"
     ]
    }
   ],
   "source": [
    "!pip install --upgrade qsharp qsharp_widgets qiskit"
   ]
  },
  {
   "cell_type": "code",
   "execution_count": 1,
   "id": "2690cbd3",
   "metadata": {},
   "outputs": [],
   "source": [
    "from qiskit.circuit.library import RGQFTMultiplier \n",
    "\n",
    "def create_algorithm(bitwidth):\n",
    "    print(f\"[INFO] Create a QFT-based multiplier with bitwidth {bitwidth}\")\n",
    "\n",
    "    circ = RGQFTMultiplier(num_state_qubits=bitwidth)\n",
    "\n",
    "    return circ"
   ]
  },
  {
   "cell_type": "code",
   "execution_count": 2,
   "id": "ed5487bd",
   "metadata": {},
   "outputs": [
    {
     "name": "stdout",
     "output_type": "stream",
     "text": [
      "[INFO] Create a QFT-based multiplier with bitwidth 4\n",
      "       ┌───────────────────┐\n",
      "  a_0: ┤0                  ├\n",
      "       │                   │\n",
      "  a_1: ┤1                  ├\n",
      "       │                   │\n",
      "  a_2: ┤2                  ├\n",
      "       │                   │\n",
      "  a_3: ┤3                  ├\n",
      "       │                   │\n",
      "  b_0: ┤4                  ├\n",
      "       │                   │\n",
      "  b_1: ┤5                  ├\n",
      "       │                   │\n",
      "  b_2: ┤6                  ├\n",
      "       │                   │\n",
      "  b_3: ┤7                  ├\n",
      "       │   RGQFTMultiplier │\n",
      "out_0: ┤8                  ├\n",
      "       │                   │\n",
      "out_1: ┤9                  ├\n",
      "       │                   │\n",
      "out_2: ┤10                 ├\n",
      "       │                   │\n",
      "out_3: ┤11                 ├\n",
      "       │                   │\n",
      "out_4: ┤12                 ├\n",
      "       │                   │\n",
      "out_5: ┤13                 ├\n",
      "       │                   │\n",
      "out_6: ┤14                 ├\n",
      "       │                   │\n",
      "out_7: ┤15                 ├\n",
      "       └───────────────────┘\n"
     ]
    }
   ],
   "source": [
    "bitwidth = 4\n",
    "\n",
    "circ = create_algorithm(bitwidth)\n",
    "print(circ)"
   ]
  },
  {
   "cell_type": "code",
   "execution_count": 3,
   "id": "739780d8",
   "metadata": {},
   "outputs": [
    {
     "data": {
      "application/javascript": "// Copyright (c) Microsoft Corporation.\n// Licensed under the MIT License.\n\n// This file provides CodeMirror syntax highlighting for Q# magic cells\n// in classic Jupyter Notebooks. It does nothing in other (Jupyter Notebook 7,\n// VS Code, Azure Notebooks, etc.) environments.\n\n// Detect the prerequisites and do nothing if they don't exist.\nif (window.require && window.CodeMirror && window.Jupyter) {\n  // The simple mode plugin for CodeMirror is not loaded by default, so require it.\n  window.require([\"codemirror/addon/mode/simple\"], function defineMode() {\n    let rules = [\n      {\n        token: \"comment\",\n        regex: /(\\/\\/).*/,\n        beginWord: false,\n      },\n      {\n        token: \"string\",\n        regex: String.raw`^\\\"(?:[^\\\"\\\\]|\\\\[\\s\\S])*(?:\\\"|$)`,\n        beginWord: false,\n      },\n      {\n        token: \"keyword\",\n        regex: String.raw`(namespace|open|as|operation|function|body|adjoint|newtype|controlled|internal)\\b`,\n        beginWord: true,\n      },\n      {\n        token: \"keyword\",\n        regex: String.raw`(if|elif|else|repeat|until|fixup|for|in|return|fail|within|apply)\\b`,\n        beginWord: true,\n      },\n      {\n        token: \"keyword\",\n        regex: String.raw`(Adjoint|Controlled|Adj|Ctl|is|self|auto|distribute|invert|intrinsic)\\b`,\n        beginWord: true,\n      },\n      {\n        token: \"keyword\",\n        regex: String.raw`(let|set|use|borrow|mutable)\\b`,\n        beginWord: true,\n      },\n      {\n        token: \"operatorKeyword\",\n        regex: String.raw`(not|and|or)\\b|(w/)`,\n        beginWord: true,\n      },\n      {\n        token: \"operatorKeyword\",\n        regex: String.raw`(=)|(!)|(<)|(>)|(\\+)|(-)|(\\*)|(/)|(\\^)|(%)|(\\|)|(&&&)|(~~~)|(\\.\\.\\.)|(\\.\\.)|(\\?)`,\n        beginWord: false,\n      },\n      {\n        token: \"meta\",\n        regex: String.raw`(Int|BigInt|Double|Bool|Qubit|Pauli|Result|Range|String|Unit)\\b`,\n        beginWord: true,\n      },\n      {\n        token: \"atom\",\n        regex: String.raw`(true|false|Pauli(I|X|Y|Z)|One|Zero)\\b`,\n        beginWord: true,\n      },\n    ];\n    let simpleRules = [];\n    for (let rule of rules) {\n      simpleRules.push({\n        token: rule.token,\n        regex: new RegExp(rule.regex, \"g\"),\n        sol: rule.beginWord,\n      });\n      if (rule.beginWord) {\n        // Need an additional rule due to the fact that CodeMirror simple mode doesn't work with ^ token\n        simpleRules.push({\n          token: rule.token,\n          regex: new RegExp(String.raw`\\W` + rule.regex, \"g\"),\n          sol: false,\n        });\n      }\n    }\n\n    // Register the mode defined above with CodeMirror\n    window.CodeMirror.defineSimpleMode(\"qsharp\", { start: simpleRules });\n    window.CodeMirror.defineMIME(\"text/x-qsharp\", \"qsharp\");\n\n    // Tell Jupyter to associate %%qsharp magic cells with the qsharp mode\n    window.Jupyter.CodeCell.options_default.highlight_modes[\"qsharp\"] = {\n      reg: [/^%%qsharp/],\n    };\n\n    // Force re-highlighting of all cells the first time this code runs\n    for (const cell of window.Jupyter.notebook.get_cells()) {\n      cell.auto_highlight();\n    }\n  });\n}\n",
      "text/plain": []
     },
     "metadata": {},
     "output_type": "display_data"
    }
   ],
   "source": [
    "from qsharp.estimator import EstimatorParams\n",
    "from qsharp.interop.qiskit import estimate\n",
    "\n",
    "params = EstimatorParams()\n",
    "result = estimate(circ, params)"
   ]
  },
  {
   "cell_type": "code",
   "execution_count": 6,
   "id": "227cb015",
   "metadata": {},
   "outputs": [
    {
     "data": {
      "text/plain": [
       "{'physicalQubits': 488250,\n",
       " 'runtime': 112980000,\n",
       " 'rqops': 7500000,\n",
       " 'breakdown': {'algorithmicLogicalQubits': 45,\n",
       "  'algorithmicLogicalDepth': 18830,\n",
       "  'logicalDepth': 18830,\n",
       "  'numTstates': 30984,\n",
       "  'clockFrequency': 166666.66666666666,\n",
       "  'numTfactories': 26,\n",
       "  'numTfactoryRuns': 1192,\n",
       "  'physicalQubitsForTfactories': 468000,\n",
       "  'physicalQubitsForAlgorithm': 20250,\n",
       "  'requiredLogicalQubitErrorRate': 3.933832930115458e-10,\n",
       "  'requiredLogicalTstateErrorRate': 1.0758240812462346e-08,\n",
       "  'numTsPerRotation': 17,\n",
       "  'cliffordErrorRate': 0.001}}"
      ]
     },
     "execution_count": 6,
     "metadata": {},
     "output_type": "execute_result"
    }
   ],
   "source": [
    "from qsharp_widgets import EstimateDetails\n",
    "from qsharp_widgets import SpaceChart\n",
    "\n",
    "result.data()['physicalCounts']"
   ]
  },
  {
   "cell_type": "code",
   "execution_count": 7,
   "id": "d66b3a6b",
   "metadata": {},
   "outputs": [
    {
     "data": {
      "application/vnd.jupyter.widget-view+json": {
       "model_id": "50e0a448b01d41a08fe0a24358771a6c",
       "version_major": 2,
       "version_minor": 1
      },
      "text/plain": [
       "EstimateDetails(estimates={'status': 'success', 'jobParams': {'qecScheme': {'name': 'surface_code', 'errorCorr…"
      ]
     },
     "execution_count": 7,
     "metadata": {},
     "output_type": "execute_result"
    }
   ],
   "source": [
    "from qsharp_widgets import EstimateDetails\n",
    "EstimateDetails(result)"
   ]
  }
 ],
 "metadata": {
  "kernelspec": {
   "display_name": "Python 3",
   "language": "python",
   "name": "python3"
  },
  "language_info": {
   "codemirror_mode": {
    "name": "ipython",
    "version": 3
   },
   "file_extension": ".py",
   "mimetype": "text/x-python",
   "name": "python",
   "nbconvert_exporter": "python",
   "pygments_lexer": "ipython3",
   "version": "3.10.12"
  }
 },
 "nbformat": 4,
 "nbformat_minor": 5
}
